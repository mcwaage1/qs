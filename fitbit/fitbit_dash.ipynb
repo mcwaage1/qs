{
 "cells": [
  {
   "cell_type": "code",
   "execution_count": 179,
   "id": "44bff718-e38b-499f-ae5c-1df771c2db65",
   "metadata": {},
   "outputs": [
    {
     "name": "stdin",
     "output_type": "stream",
     "text": [
      "Once deleted, variables cannot be recovered. Proceed (y/[n])?  y\n"
     ]
    }
   ],
   "source": [
    "%reset"
   ]
  },
  {
   "cell_type": "code",
   "execution_count": 1,
   "id": "d28e3309-809e-4612-bcbb-3fca3ae94f14",
   "metadata": {},
   "outputs": [],
   "source": [
    "# https://github.com/arpanghosh8453/programs/blob/master/Fitbit%20Data%20Analyzer/Fitbit%20HR%20analyzer.ipynb\n",
    "# https://github.com/lkippenb/Machine-Learning-Fitbit-Sleep/blob/master/analysis.ipynb\n",
    "# https://github.com/yashatgit/fitbit-analyzer/blob/master/Fitbit_Data_Analysis.ipynb\n",
    "# https://github.com/yashatgit/fitbit-analyzer/blob/master/Fitbit_Data_Collection.ipynb\n",
    "\n",
    "# https://dev.fitbit.com/\n",
    "# https://dev.fitbit.com/build/reference/web-api/basics/\n",
    "\n",
    "# You need the following modules, if you don't have them, use pip install <module-name>\n",
    "import requests\n",
    "import pandas as pd\n",
    "import datetime\n",
    "import numpy as np\n",
    "import json\n",
    "\n",
    "import dash\n",
    "from dash import dcc\n",
    "from dash import html\n",
    "from dash.dependencies import Input, Output\n",
    "import plotly.express as px\n",
    "import jupyter_dash\n",
    "from dash.dependencies import Input, Output\n",
    "import plotly.graph_objects as go\n",
    "from plotly.subplots import make_subplots\n",
    "\n",
    "external_stylesheets = ['https://codepen.io/chriddyp/pen/bWLwgP.css']"
   ]
  },
  {
   "cell_type": "markdown",
   "id": "34f984b0-70bc-472a-8577-21b7b6bbfba8",
   "metadata": {},
   "source": [
    "# Heartrate"
   ]
  },
  {
   "cell_type": "code",
   "execution_count": 2,
   "id": "5912b8b2-cf4b-46d3-9b45-d522917b694a",
   "metadata": {},
   "outputs": [
    {
     "data": {
      "text/html": [
       "<div>\n",
       "<style scoped>\n",
       "    .dataframe tbody tr th:only-of-type {\n",
       "        vertical-align: middle;\n",
       "    }\n",
       "\n",
       "    .dataframe tbody tr th {\n",
       "        vertical-align: top;\n",
       "    }\n",
       "\n",
       "    .dataframe thead th {\n",
       "        text-align: right;\n",
       "    }\n",
       "</style>\n",
       "<table border=\"1\" class=\"dataframe\">\n",
       "  <thead>\n",
       "    <tr style=\"text-align: right;\">\n",
       "      <th></th>\n",
       "      <th>time</th>\n",
       "      <th>value</th>\n",
       "    </tr>\n",
       "  </thead>\n",
       "  <tbody>\n",
       "    <tr>\n",
       "      <th>0</th>\n",
       "      <td>2021-01-01 00:00:00</td>\n",
       "      <td>59</td>\n",
       "    </tr>\n",
       "    <tr>\n",
       "      <th>1</th>\n",
       "      <td>2021-01-01 00:01:00</td>\n",
       "      <td>62</td>\n",
       "    </tr>\n",
       "    <tr>\n",
       "      <th>2</th>\n",
       "      <td>2021-01-01 00:02:00</td>\n",
       "      <td>59</td>\n",
       "    </tr>\n",
       "    <tr>\n",
       "      <th>3</th>\n",
       "      <td>2021-01-01 00:03:00</td>\n",
       "      <td>60</td>\n",
       "    </tr>\n",
       "    <tr>\n",
       "      <th>4</th>\n",
       "      <td>2021-01-01 00:04:00</td>\n",
       "      <td>59</td>\n",
       "    </tr>\n",
       "    <tr>\n",
       "      <th>...</th>\n",
       "      <td>...</td>\n",
       "      <td>...</td>\n",
       "    </tr>\n",
       "    <tr>\n",
       "      <th>1381</th>\n",
       "      <td>2021-01-01 23:55:00</td>\n",
       "      <td>57</td>\n",
       "    </tr>\n",
       "    <tr>\n",
       "      <th>1382</th>\n",
       "      <td>2021-01-01 23:56:00</td>\n",
       "      <td>61</td>\n",
       "    </tr>\n",
       "    <tr>\n",
       "      <th>1383</th>\n",
       "      <td>2021-01-01 23:57:00</td>\n",
       "      <td>62</td>\n",
       "    </tr>\n",
       "    <tr>\n",
       "      <th>1384</th>\n",
       "      <td>2021-01-01 23:58:00</td>\n",
       "      <td>60</td>\n",
       "    </tr>\n",
       "    <tr>\n",
       "      <th>1385</th>\n",
       "      <td>2021-01-01 23:59:00</td>\n",
       "      <td>61</td>\n",
       "    </tr>\n",
       "  </tbody>\n",
       "</table>\n",
       "<p>1386 rows × 2 columns</p>\n",
       "</div>"
      ],
      "text/plain": [
       "                     time  value\n",
       "0     2021-01-01 00:00:00     59\n",
       "1     2021-01-01 00:01:00     62\n",
       "2     2021-01-01 00:02:00     59\n",
       "3     2021-01-01 00:03:00     60\n",
       "4     2021-01-01 00:04:00     59\n",
       "...                   ...    ...\n",
       "1381  2021-01-01 23:55:00     57\n",
       "1382  2021-01-01 23:56:00     61\n",
       "1383  2021-01-01 23:57:00     62\n",
       "1384  2021-01-01 23:58:00     60\n",
       "1385  2021-01-01 23:59:00     61\n",
       "\n",
       "[1386 rows x 2 columns]"
      ]
     },
     "execution_count": 2,
     "metadata": {},
     "output_type": "execute_result"
    }
   ],
   "source": [
    "hr_df = pd.read_csv('~/qs/fitbit/data/hr.csv')\n",
    "hr_df"
   ]
  },
  {
   "cell_type": "code",
   "execution_count": 8,
   "id": "3b14f2d9-7e46-458d-8e75-494c8b8cf0a7",
   "metadata": {},
   "outputs": [
    {
     "name": "stdout",
     "output_type": "stream",
     "text": [
      "Dash app running on http://127.0.0.1:8040/\n"
     ]
    }
   ],
   "source": [
    "title = 'Fitbit HR Dashboard'\n",
    "\n",
    "df = hr_df\n",
    "mean_hr = round(df['value'].mean(), 1)\n",
    "max_hr = df['value'].max()\n",
    "min_hr = df['value'].min()\n",
    "\n",
    "# rolling=10\n",
    "# rolling_hr = df['value'].rolling(rolling).mean()\n",
    "\n",
    "fig = go.Figure()\n",
    "\n",
    "fig.add_trace(go.Scatter(x=df['time'], y=df['value'], name='Heart Rate', connectgaps=False))\n",
    "#fig.add_trace(go.Scatter(x=df['time'], y=rolling_hr, name=f'{rolling} Minute Rolling Heart Rate'))\n",
    "\n",
    "# fig.add_shape(type=\"line\", x0=min(df['time']), y0=mean_hr, x1=max(df['time']), y1=mean_hr, line_dash=\"dash\")\n",
    "fig.add_hline(y=mean_hr, line_dash=\"dash\",\n",
    "              #annotation_text=f\"Mean HR: {mean_hr}\", \n",
    "              #annotation_position=\"bottom right\"\n",
    "             )\n",
    "# fig.add_vrect(x0=\"2018-09-24\", x1=\"2018-12-18\", \n",
    "#               annotation_text=\"decline\", annotation_position=\"top left\",\n",
    "#               fillcolor=\"green\", opacity=0.25, line_width=0)\n",
    "\n",
    "fig.update_yaxes(title_text=\"Heart Rate\")\n",
    "\n",
    "fig.update_layout(title=dict(text=title, \n",
    "                             yanchor=\"top\",\n",
    "                             y=.95,\n",
    "                             xanchor=\"left\",\n",
    "                             x=.05),\n",
    "                 legend=dict(orientation=\"h\",\n",
    "                             yanchor=\"bottom\",\n",
    "                             y=1.02,\n",
    "                             xanchor=\"right\",\n",
    "                             x=1))\n",
    "\n",
    "fig.update_layout(\n",
    "    hovermode='x unified',\n",
    "    dragmode='pan',\n",
    "    annotations=[\n",
    "        #https://plotly.com/python/text-and-annotations/#adding-annotations-with-xref-and-yref-as-paper\n",
    "        #https://community.plotly.com/t/how-to-add-a-text-area-with-custom-text-as-a-kind-of-legend-in-a-plotly-plot/24349/3\n",
    "        go.layout.Annotation(\n",
    "            text=f'Max HR: {max_hr}<br>Min HR: {min_hr}<br>Mean HR: {mean_hr}',\n",
    "            align='left',\n",
    "            showarrow=False,\n",
    "            xref='paper',\n",
    "            yref='paper',\n",
    "            yanchor=\"bottom\",\n",
    "            y=1.02,\n",
    "            xanchor=\"right\",\n",
    "            x=1,\n",
    "          )],\n",
    "    xaxis=dict(\n",
    "        \n",
    "        #change to set view window\n",
    "        range=[min(df['time']), df['time']],\n",
    "        \n",
    "        rangeselector=dict(\n",
    "            buttons=list([\n",
    "                dict(count=6,\n",
    "                     label=\"6hr\",\n",
    "                     step=\"hour\",\n",
    "                     stepmode=\"backward\"),\n",
    "                dict(count=1,\n",
    "                     label=\"24hr\",\n",
    "                     step=\"day\",\n",
    "                     stepmode=\"backward\"),\n",
    "                dict(count=7,\n",
    "                     label=\"1wk\",\n",
    "                     step=\"day\",\n",
    "                     stepmode=\"backward\"),\n",
    "                dict(step=\"all\"),\n",
    "            ])\n",
    "        ),\n",
    "        rangeslider=dict(visible=True),\n",
    "        type=\"date\",\n",
    "    )\n",
    ")\n",
    "\n",
    "app = jupyter_dash.JupyterDash(__name__,\n",
    "                               external_stylesheets=external_stylesheets,\n",
    "                               title=f\"{title}\")\n",
    "\n",
    "app.layout = html.Div([\n",
    "    dcc.Graph(\n",
    "        figure=fig,\n",
    "        \n",
    "        #https://plotly.com/python/setting-graph-size/\n",
    "        #https://stackoverflow.com/questions/46287189/how-can-i-change-the-size-of-my-dash-graph\n",
    "        style={'height': '95vh'}\n",
    "    ),\n",
    "])\n",
    "\n",
    "if __name__ == '__main__':\n",
    "    app.run_server(mode='external', port=8040, debug=True)"
   ]
  },
  {
   "cell_type": "code",
   "execution_count": 4,
   "id": "c7280e83-0054-48de-bde6-3968af148a6f",
   "metadata": {},
   "outputs": [],
   "source": [
    "# hull moving average?\n",
    "# HMA[i] = MA( (2*MA(input, period/2) – MA(input, period)), SQRT(period)) where MA is a moving average and SQRT is square root."
   ]
  },
  {
   "cell_type": "code",
   "execution_count": 5,
   "id": "442b5cda-95b4-462a-89f7-070ca380b4b2",
   "metadata": {},
   "outputs": [
    {
     "data": {
      "text/plain": [
       "56.0"
      ]
     },
     "execution_count": 5,
     "metadata": {},
     "output_type": "execute_result"
    }
   ],
   "source": [
    "df['value'].quantile(.25)"
   ]
  },
  {
   "cell_type": "code",
   "execution_count": 6,
   "id": "658772c3-2c07-4cf4-a625-2d8ef655a8fa",
   "metadata": {},
   "outputs": [
    {
     "data": {
      "text/plain": [
       "69.0"
      ]
     },
     "execution_count": 6,
     "metadata": {},
     "output_type": "execute_result"
    }
   ],
   "source": [
    "df['value'].quantile(.75)"
   ]
  },
  {
   "cell_type": "markdown",
   "id": "70b8c760-070f-4123-81c3-78c23ab64dc5",
   "metadata": {},
   "source": [
    "# Step Count"
   ]
  },
  {
   "cell_type": "code",
   "execution_count": 7,
   "id": "2c6dea8a-225a-47c5-875d-4734f25481c5",
   "metadata": {},
   "outputs": [
    {
     "data": {
      "text/html": [
       "<div>\n",
       "<style scoped>\n",
       "    .dataframe tbody tr th:only-of-type {\n",
       "        vertical-align: middle;\n",
       "    }\n",
       "\n",
       "    .dataframe tbody tr th {\n",
       "        vertical-align: top;\n",
       "    }\n",
       "\n",
       "    .dataframe thead th {\n",
       "        text-align: right;\n",
       "    }\n",
       "</style>\n",
       "<table border=\"1\" class=\"dataframe\">\n",
       "  <thead>\n",
       "    <tr style=\"text-align: right;\">\n",
       "      <th></th>\n",
       "      <th>time</th>\n",
       "      <th>Step Count</th>\n",
       "    </tr>\n",
       "  </thead>\n",
       "  <tbody>\n",
       "    <tr>\n",
       "      <th>0</th>\n",
       "      <td>2020-01-01</td>\n",
       "      <td>1041</td>\n",
       "    </tr>\n",
       "    <tr>\n",
       "      <th>1</th>\n",
       "      <td>2020-01-02</td>\n",
       "      <td>321</td>\n",
       "    </tr>\n",
       "    <tr>\n",
       "      <th>2</th>\n",
       "      <td>2020-01-03</td>\n",
       "      <td>1659</td>\n",
       "    </tr>\n",
       "    <tr>\n",
       "      <th>3</th>\n",
       "      <td>2020-01-04</td>\n",
       "      <td>8407</td>\n",
       "    </tr>\n",
       "    <tr>\n",
       "      <th>4</th>\n",
       "      <td>2020-01-05</td>\n",
       "      <td>4520</td>\n",
       "    </tr>\n",
       "    <tr>\n",
       "      <th>...</th>\n",
       "      <td>...</td>\n",
       "      <td>...</td>\n",
       "    </tr>\n",
       "    <tr>\n",
       "      <th>361</th>\n",
       "      <td>2020-12-27</td>\n",
       "      <td>4143</td>\n",
       "    </tr>\n",
       "    <tr>\n",
       "      <th>362</th>\n",
       "      <td>2020-12-28</td>\n",
       "      <td>5340</td>\n",
       "    </tr>\n",
       "    <tr>\n",
       "      <th>363</th>\n",
       "      <td>2020-12-29</td>\n",
       "      <td>3503</td>\n",
       "    </tr>\n",
       "    <tr>\n",
       "      <th>364</th>\n",
       "      <td>2020-12-30</td>\n",
       "      <td>6311</td>\n",
       "    </tr>\n",
       "    <tr>\n",
       "      <th>365</th>\n",
       "      <td>2020-12-31</td>\n",
       "      <td>3640</td>\n",
       "    </tr>\n",
       "  </tbody>\n",
       "</table>\n",
       "<p>366 rows × 2 columns</p>\n",
       "</div>"
      ],
      "text/plain": [
       "           time  Step Count\n",
       "0    2020-01-01        1041\n",
       "1    2020-01-02         321\n",
       "2    2020-01-03        1659\n",
       "3    2020-01-04        8407\n",
       "4    2020-01-05        4520\n",
       "..          ...         ...\n",
       "361  2020-12-27        4143\n",
       "362  2020-12-28        5340\n",
       "363  2020-12-29        3503\n",
       "364  2020-12-30        6311\n",
       "365  2020-12-31        3640\n",
       "\n",
       "[366 rows x 2 columns]"
      ]
     },
     "execution_count": 7,
     "metadata": {},
     "output_type": "execute_result"
    }
   ],
   "source": [
    "step_df = pd.read_csv('~/qs/fitbit/data/steps.csv')\n",
    "step_df"
   ]
  },
  {
   "cell_type": "code",
   "execution_count": 64,
   "id": "48ea37e7-fd3a-4778-8cad-2084b6920d81",
   "metadata": {},
   "outputs": [
    {
     "name": "stdout",
     "output_type": "stream",
     "text": [
      "Dash app running on http://127.0.0.1:8080/\n"
     ]
    },
    {
     "name": "stderr",
     "output_type": "stream",
     "text": [
      "/home/mcwaage1/venv/lib/python3.8/site-packages/jupyter_dash/jupyter_app.py:139: UserWarning:\n",
      "\n",
      "The 'environ['werkzeug.server.shutdown']' function is deprecated and will be removed in Werkzeug 2.1.\n",
      "\n"
     ]
    }
   ],
   "source": [
    "title = 'Fitbit Steps Dashboard'\n",
    "\n",
    "df = step_df\n",
    "mean_steps = round(df['Step Count'].mean())\n",
    "max_steps = df['Step Count'].max()\n",
    "min_steps = df['Step Count'].min()\n",
    "\n",
    "rolling=7\n",
    "rolling_steps = round(df['Step Count'].rolling(rolling).mean())\n",
    "\n",
    "fig = go.Figure()\n",
    "\n",
    "fig.add_trace(go.Bar(x=df['time'], y=df['Step Count'], name='Step Count'))\n",
    "fig.add_trace(go.Scatter(x=df['time'], y=rolling_steps, name=f'{rolling} Day Rolling Steps'))\n",
    "\n",
    "fig.add_hline(y=mean_steps, line_dash=\"dash\")\n",
    "\n",
    "fig.update_yaxes(title_text=\"Step Count\")\n",
    "fig.update_xaxes(title_text=\"Date\")\n",
    "fig.update_layout(title=dict(text=title, \n",
    "                             yanchor=\"top\",\n",
    "                             y=.95,\n",
    "                             xanchor=\"left\",\n",
    "                             x=.05),\n",
    "                 legend=dict(orientation=\"h\",\n",
    "                             yanchor=\"bottom\",\n",
    "                             y=1.02,\n",
    "                             xanchor=\"right\",\n",
    "                             x=1))\n",
    "\n",
    "fig.update_layout(\n",
    "    hovermode='x unified',\n",
    "    dragmode='pan',\n",
    "    annotations=[\n",
    "        #https://plotly.com/python/text-and-annotations/#adding-annotations-with-xref-and-yref-as-paper\n",
    "        #https://community.plotly.com/t/how-to-add-a-text-area-with-custom-text-as-a-kind-of-legend-in-a-plotly-plot/24349/3\n",
    "        go.layout.Annotation(\n",
    "            text=f'Max Steps: {max_steps}<br>Min Steps: {min_steps}<br>Mean Steps: {mean_steps}',\n",
    "            align='left',\n",
    "            showarrow=False,\n",
    "            xref='paper',\n",
    "            yref='paper',\n",
    "            yanchor=\"top\",\n",
    "            y=.98,\n",
    "            xanchor=\"right\",\n",
    "            x=1,\n",
    "          )],\n",
    "    xaxis=dict(\n",
    "        \n",
    "        # change to set view window\n",
    "        # range=[min(df['time']), df['time'][60]],\n",
    "        \n",
    "        rangeselector=dict(\n",
    "            buttons=list([\n",
    "                dict(count=7,\n",
    "                     label=\"1wk\",\n",
    "                     step=\"day\",\n",
    "                     stepmode=\"backward\"),\n",
    "                dict(count=1,\n",
    "                     label=\"1MO\",\n",
    "                     step=\"month\",\n",
    "                     stepmode=\"backward\"),\n",
    "                dict(count=6,\n",
    "                     label=\"6MO\",\n",
    "                     step=\"month\",\n",
    "                     stepmode=\"backward\"),\n",
    "                dict(step=\"all\"),\n",
    "            ])\n",
    "        ),\n",
    "        rangeslider=dict(visible=True),\n",
    "        type=\"date\",\n",
    "    )\n",
    ")\n",
    "\n",
    "app = jupyter_dash.JupyterDash(__name__,\n",
    "                               external_stylesheets=external_stylesheets,\n",
    "                               title=f\"{title}\")\n",
    "\n",
    "app.layout = html.Div([\n",
    "    dcc.Graph(\n",
    "        figure=fig,\n",
    "        \n",
    "        #https://plotly.com/python/setting-graph-size/\n",
    "        #https://stackoverflow.com/questions/46287189/how-can-i-change-the-size-of-my-dash-graph\n",
    "        style={'height': '95vh'}\n",
    "    ),\n",
    "])\n",
    "\n",
    "if __name__ == '__main__':\n",
    "    app.run_server(mode='external', port=8080, debug=True)"
   ]
  },
  {
   "cell_type": "markdown",
   "id": "847206e6-aa1a-404c-91e0-5614a65acc5e",
   "metadata": {},
   "source": [
    "# Distance"
   ]
  },
  {
   "cell_type": "code",
   "execution_count": 22,
   "id": "bb0b135b-78de-4409-8713-a847f2031bff",
   "metadata": {},
   "outputs": [
    {
     "data": {
      "text/html": [
       "<div>\n",
       "<style scoped>\n",
       "    .dataframe tbody tr th:only-of-type {\n",
       "        vertical-align: middle;\n",
       "    }\n",
       "\n",
       "    .dataframe tbody tr th {\n",
       "        vertical-align: top;\n",
       "    }\n",
       "\n",
       "    .dataframe thead th {\n",
       "        text-align: right;\n",
       "    }\n",
       "</style>\n",
       "<table border=\"1\" class=\"dataframe\">\n",
       "  <thead>\n",
       "    <tr style=\"text-align: right;\">\n",
       "      <th></th>\n",
       "      <th>time</th>\n",
       "      <th>Distance in KM</th>\n",
       "      <th>Distance in MI</th>\n",
       "    </tr>\n",
       "  </thead>\n",
       "  <tbody>\n",
       "    <tr>\n",
       "      <th>0</th>\n",
       "      <td>2020-01-01</td>\n",
       "      <td>0.82576</td>\n",
       "      <td>0.513102</td>\n",
       "    </tr>\n",
       "    <tr>\n",
       "      <th>1</th>\n",
       "      <td>2020-01-02</td>\n",
       "      <td>0.24246</td>\n",
       "      <td>0.150657</td>\n",
       "    </tr>\n",
       "    <tr>\n",
       "      <th>2</th>\n",
       "      <td>2020-01-03</td>\n",
       "      <td>1.25603</td>\n",
       "      <td>0.780459</td>\n",
       "    </tr>\n",
       "    <tr>\n",
       "      <th>3</th>\n",
       "      <td>2020-01-04</td>\n",
       "      <td>6.37055</td>\n",
       "      <td>3.958469</td>\n",
       "    </tr>\n",
       "    <tr>\n",
       "      <th>4</th>\n",
       "      <td>2020-01-05</td>\n",
       "      <td>3.49040</td>\n",
       "      <td>2.168830</td>\n",
       "    </tr>\n",
       "    <tr>\n",
       "      <th>...</th>\n",
       "      <td>...</td>\n",
       "      <td>...</td>\n",
       "      <td>...</td>\n",
       "    </tr>\n",
       "    <tr>\n",
       "      <th>362</th>\n",
       "      <td>2020-12-28</td>\n",
       "      <td>4.04441</td>\n",
       "      <td>2.513075</td>\n",
       "    </tr>\n",
       "    <tr>\n",
       "      <th>363</th>\n",
       "      <td>2020-12-29</td>\n",
       "      <td>2.68446</td>\n",
       "      <td>1.668043</td>\n",
       "    </tr>\n",
       "    <tr>\n",
       "      <th>364</th>\n",
       "      <td>2020-12-30</td>\n",
       "      <td>4.77629</td>\n",
       "      <td>2.967843</td>\n",
       "    </tr>\n",
       "    <tr>\n",
       "      <th>365</th>\n",
       "      <td>2020-12-31</td>\n",
       "      <td>2.75618</td>\n",
       "      <td>1.712608</td>\n",
       "    </tr>\n",
       "    <tr>\n",
       "      <th>366</th>\n",
       "      <td>2021-01-01</td>\n",
       "      <td>2.43625</td>\n",
       "      <td>1.513813</td>\n",
       "    </tr>\n",
       "  </tbody>\n",
       "</table>\n",
       "<p>367 rows × 3 columns</p>\n",
       "</div>"
      ],
      "text/plain": [
       "           time  Distance in KM  Distance in MI\n",
       "0    2020-01-01         0.82576        0.513102\n",
       "1    2020-01-02         0.24246        0.150657\n",
       "2    2020-01-03         1.25603        0.780459\n",
       "3    2020-01-04         6.37055        3.958469\n",
       "4    2020-01-05         3.49040        2.168830\n",
       "..          ...             ...             ...\n",
       "362  2020-12-28         4.04441        2.513075\n",
       "363  2020-12-29         2.68446        1.668043\n",
       "364  2020-12-30         4.77629        2.967843\n",
       "365  2020-12-31         2.75618        1.712608\n",
       "366  2021-01-01         2.43625        1.513813\n",
       "\n",
       "[367 rows x 3 columns]"
      ]
     },
     "execution_count": 22,
     "metadata": {},
     "output_type": "execute_result"
    }
   ],
   "source": [
    "distance_df = pd.read_csv('~/qs/fitbit/data/distance.csv')\n",
    "distance_df"
   ]
  },
  {
   "cell_type": "code",
   "execution_count": 27,
   "id": "6d6b0957-c5f7-4116-8c2c-691a0a853d0c",
   "metadata": {},
   "outputs": [
    {
     "data": {
      "text/html": [
       "<div>\n",
       "<style scoped>\n",
       "    .dataframe tbody tr th:only-of-type {\n",
       "        vertical-align: middle;\n",
       "    }\n",
       "\n",
       "    .dataframe tbody tr th {\n",
       "        vertical-align: top;\n",
       "    }\n",
       "\n",
       "    .dataframe thead th {\n",
       "        text-align: right;\n",
       "    }\n",
       "</style>\n",
       "<table border=\"1\" class=\"dataframe\">\n",
       "  <thead>\n",
       "    <tr style=\"text-align: right;\">\n",
       "      <th></th>\n",
       "      <th>time</th>\n",
       "      <th>Distance in KM</th>\n",
       "      <th>Distance in MI</th>\n",
       "    </tr>\n",
       "  </thead>\n",
       "  <tbody>\n",
       "    <tr>\n",
       "      <th>0</th>\n",
       "      <td>2020-01-01</td>\n",
       "      <td>0.83</td>\n",
       "      <td>0.51</td>\n",
       "    </tr>\n",
       "    <tr>\n",
       "      <th>1</th>\n",
       "      <td>2020-01-02</td>\n",
       "      <td>0.24</td>\n",
       "      <td>0.15</td>\n",
       "    </tr>\n",
       "    <tr>\n",
       "      <th>2</th>\n",
       "      <td>2020-01-03</td>\n",
       "      <td>1.26</td>\n",
       "      <td>0.78</td>\n",
       "    </tr>\n",
       "    <tr>\n",
       "      <th>3</th>\n",
       "      <td>2020-01-04</td>\n",
       "      <td>6.37</td>\n",
       "      <td>3.96</td>\n",
       "    </tr>\n",
       "    <tr>\n",
       "      <th>4</th>\n",
       "      <td>2020-01-05</td>\n",
       "      <td>3.49</td>\n",
       "      <td>2.17</td>\n",
       "    </tr>\n",
       "    <tr>\n",
       "      <th>...</th>\n",
       "      <td>...</td>\n",
       "      <td>...</td>\n",
       "      <td>...</td>\n",
       "    </tr>\n",
       "    <tr>\n",
       "      <th>362</th>\n",
       "      <td>2020-12-28</td>\n",
       "      <td>4.04</td>\n",
       "      <td>2.51</td>\n",
       "    </tr>\n",
       "    <tr>\n",
       "      <th>363</th>\n",
       "      <td>2020-12-29</td>\n",
       "      <td>2.68</td>\n",
       "      <td>1.67</td>\n",
       "    </tr>\n",
       "    <tr>\n",
       "      <th>364</th>\n",
       "      <td>2020-12-30</td>\n",
       "      <td>4.78</td>\n",
       "      <td>2.97</td>\n",
       "    </tr>\n",
       "    <tr>\n",
       "      <th>365</th>\n",
       "      <td>2020-12-31</td>\n",
       "      <td>2.76</td>\n",
       "      <td>1.71</td>\n",
       "    </tr>\n",
       "    <tr>\n",
       "      <th>366</th>\n",
       "      <td>2021-01-01</td>\n",
       "      <td>2.44</td>\n",
       "      <td>1.51</td>\n",
       "    </tr>\n",
       "  </tbody>\n",
       "</table>\n",
       "<p>367 rows × 3 columns</p>\n",
       "</div>"
      ],
      "text/plain": [
       "           time  Distance in KM  Distance in MI\n",
       "0    2020-01-01            0.83            0.51\n",
       "1    2020-01-02            0.24            0.15\n",
       "2    2020-01-03            1.26            0.78\n",
       "3    2020-01-04            6.37            3.96\n",
       "4    2020-01-05            3.49            2.17\n",
       "..          ...             ...             ...\n",
       "362  2020-12-28            4.04            2.51\n",
       "363  2020-12-29            2.68            1.67\n",
       "364  2020-12-30            4.78            2.97\n",
       "365  2020-12-31            2.76            1.71\n",
       "366  2021-01-01            2.44            1.51\n",
       "\n",
       "[367 rows x 3 columns]"
      ]
     },
     "execution_count": 27,
     "metadata": {},
     "output_type": "execute_result"
    }
   ],
   "source": [
    "distance_df['Distance in KM'] = distance_df['Distance in KM'].apply(lambda x: round(x, 2))\n",
    "distance_df['Distance in MI'] = distance_df['Distance in MI'].apply(lambda x: round(x, 2))\n",
    "distance_df"
   ]
  },
  {
   "cell_type": "code",
   "execution_count": 29,
   "id": "a48545c5-4079-41b7-bfe8-4ed23e4a8177",
   "metadata": {},
   "outputs": [
    {
     "name": "stdout",
     "output_type": "stream",
     "text": [
      "Dash app running on http://127.0.0.1:8090/\n"
     ]
    }
   ],
   "source": [
    "title = 'Fitbit Distance Dashboard'\n",
    "\n",
    "df = distance_df\n",
    "mean_distance = round(df['Distance in MI'].mean(), 2)\n",
    "max_distance = round(df['Distance in MI'].max(), 2)\n",
    "min_distance = round(df['Distance in MI'].min(), 2)\n",
    "\n",
    "rolling=7\n",
    "rolling_distance = round(df['Distance in MI'].rolling(rolling).mean(), 2)\n",
    "\n",
    "fig = go.Figure()\n",
    "\n",
    "fig.add_trace(go.Bar(x=df['time'], y=df['Distance in MI'], name='Distance in MI'))\n",
    "fig.add_trace(go.Scatter(x=df['time'], y=rolling_distance, name=f'{rolling} Day Rolling Distance'))\n",
    "\n",
    "fig.add_hline(y=mean_distance, line_dash=\"dash\")\n",
    "\n",
    "fig.update_yaxes(title_text=\"Distance in MI\")\n",
    "fig.update_xaxes(title_text=\"Date\")\n",
    "fig.update_layout(title=dict(text=title, \n",
    "                             yanchor=\"top\",\n",
    "                             y=.95,\n",
    "                             xanchor=\"left\",\n",
    "                             x=.05),\n",
    "                 legend=dict(orientation=\"h\",\n",
    "                             yanchor=\"bottom\",\n",
    "                             y=1.02,\n",
    "                             xanchor=\"right\",\n",
    "                             x=1))\n",
    "\n",
    "fig.update_layout(\n",
    "    hovermode='x unified',\n",
    "    dragmode='pan',\n",
    "    annotations=[\n",
    "        #https://plotly.com/python/text-and-annotations/#adding-annotations-with-xref-and-yref-as-paper\n",
    "        #https://community.plotly.com/t/how-to-add-a-text-area-with-custom-text-as-a-kind-of-legend-in-a-plotly-plot/24349/3\n",
    "        go.layout.Annotation(\n",
    "            text=f'Max Distance: {max_distance}<br>Min Distance: {min_distance}<br>Mean Distance: {mean_distance}',\n",
    "            align='left',\n",
    "            showarrow=False,\n",
    "            xref='paper',\n",
    "            yref='paper',\n",
    "            yanchor=\"top\",\n",
    "            y=.98,\n",
    "            xanchor=\"right\",\n",
    "            x=1,\n",
    "          )],\n",
    "    xaxis=dict(\n",
    "        \n",
    "        # change to set view window\n",
    "        # range=[min(df['time']), df['time'][60]],\n",
    "        \n",
    "        rangeselector=dict(\n",
    "            buttons=list([\n",
    "                dict(count=7,\n",
    "                     label=\"1wk\",\n",
    "                     step=\"day\",\n",
    "                     stepmode=\"backward\"),\n",
    "                dict(count=1,\n",
    "                     label=\"1MO\",\n",
    "                     step=\"month\",\n",
    "                     stepmode=\"backward\"),\n",
    "                dict(count=6,\n",
    "                     label=\"6MO\",\n",
    "                     step=\"month\",\n",
    "                     stepmode=\"backward\"),\n",
    "                dict(step=\"all\"),\n",
    "            ])\n",
    "        ),\n",
    "        rangeslider=dict(visible=True),\n",
    "        type=\"date\",\n",
    "    )\n",
    ")\n",
    "\n",
    "app = jupyter_dash.JupyterDash(__name__,\n",
    "                               external_stylesheets=external_stylesheets,\n",
    "                               title=f\"{title}\")\n",
    "\n",
    "app.layout = html.Div([\n",
    "    dcc.Graph(\n",
    "        figure=fig,\n",
    "        \n",
    "        #https://plotly.com/python/setting-graph-size/\n",
    "        #https://stackoverflow.com/questions/46287189/how-can-i-change-the-size-of-my-dash-graph\n",
    "        style={'height': '95vh'}\n",
    "    ),\n",
    "])\n",
    "\n",
    "if __name__ == '__main__':\n",
    "    app.run_server(mode='external', port=8090, debug=True)"
   ]
  },
  {
   "cell_type": "code",
   "execution_count": null,
   "id": "6daa527f-0013-4b4b-afe6-2c0ade9dd35d",
   "metadata": {},
   "outputs": [],
   "source": []
  },
  {
   "cell_type": "markdown",
   "id": "bab9738b-128d-41d6-80d9-561dda212fb6",
   "metadata": {},
   "source": [
    "# Elevation"
   ]
  },
  {
   "cell_type": "code",
   "execution_count": 45,
   "id": "e0e75233-f308-4292-8090-e869edf5ff83",
   "metadata": {},
   "outputs": [
    {
     "data": {
      "text/html": [
       "<div>\n",
       "<style scoped>\n",
       "    .dataframe tbody tr th:only-of-type {\n",
       "        vertical-align: middle;\n",
       "    }\n",
       "\n",
       "    .dataframe tbody tr th {\n",
       "        vertical-align: top;\n",
       "    }\n",
       "\n",
       "    .dataframe thead th {\n",
       "        text-align: right;\n",
       "    }\n",
       "</style>\n",
       "<table border=\"1\" class=\"dataframe\">\n",
       "  <thead>\n",
       "    <tr style=\"text-align: right;\">\n",
       "      <th></th>\n",
       "      <th>Date</th>\n",
       "      <th>Elevation in Meters</th>\n",
       "      <th>Elevation in Floors</th>\n",
       "    </tr>\n",
       "  </thead>\n",
       "  <tbody>\n",
       "    <tr>\n",
       "      <th>0</th>\n",
       "      <td>2020-01-01</td>\n",
       "      <td>0.0</td>\n",
       "      <td>0.0</td>\n",
       "    </tr>\n",
       "    <tr>\n",
       "      <th>1</th>\n",
       "      <td>2020-01-02</td>\n",
       "      <td>0.0</td>\n",
       "      <td>0.0</td>\n",
       "    </tr>\n",
       "    <tr>\n",
       "      <th>2</th>\n",
       "      <td>2020-01-03</td>\n",
       "      <td>3.0</td>\n",
       "      <td>1.0</td>\n",
       "    </tr>\n",
       "    <tr>\n",
       "      <th>3</th>\n",
       "      <td>2020-01-04</td>\n",
       "      <td>24.0</td>\n",
       "      <td>8.0</td>\n",
       "    </tr>\n",
       "    <tr>\n",
       "      <th>4</th>\n",
       "      <td>2020-01-05</td>\n",
       "      <td>6.0</td>\n",
       "      <td>2.0</td>\n",
       "    </tr>\n",
       "    <tr>\n",
       "      <th>...</th>\n",
       "      <td>...</td>\n",
       "      <td>...</td>\n",
       "      <td>...</td>\n",
       "    </tr>\n",
       "    <tr>\n",
       "      <th>362</th>\n",
       "      <td>2020-12-28</td>\n",
       "      <td>9.0</td>\n",
       "      <td>3.0</td>\n",
       "    </tr>\n",
       "    <tr>\n",
       "      <th>363</th>\n",
       "      <td>2020-12-29</td>\n",
       "      <td>3.0</td>\n",
       "      <td>1.0</td>\n",
       "    </tr>\n",
       "    <tr>\n",
       "      <th>364</th>\n",
       "      <td>2020-12-30</td>\n",
       "      <td>6.0</td>\n",
       "      <td>2.0</td>\n",
       "    </tr>\n",
       "    <tr>\n",
       "      <th>365</th>\n",
       "      <td>2020-12-31</td>\n",
       "      <td>3.0</td>\n",
       "      <td>1.0</td>\n",
       "    </tr>\n",
       "    <tr>\n",
       "      <th>366</th>\n",
       "      <td>2021-01-01</td>\n",
       "      <td>6.0</td>\n",
       "      <td>2.0</td>\n",
       "    </tr>\n",
       "  </tbody>\n",
       "</table>\n",
       "<p>367 rows × 3 columns</p>\n",
       "</div>"
      ],
      "text/plain": [
       "           Date  Elevation in Meters  Elevation in Floors\n",
       "0    2020-01-01                  0.0                  0.0\n",
       "1    2020-01-02                  0.0                  0.0\n",
       "2    2020-01-03                  3.0                  1.0\n",
       "3    2020-01-04                 24.0                  8.0\n",
       "4    2020-01-05                  6.0                  2.0\n",
       "..          ...                  ...                  ...\n",
       "362  2020-12-28                  9.0                  3.0\n",
       "363  2020-12-29                  3.0                  1.0\n",
       "364  2020-12-30                  6.0                  2.0\n",
       "365  2020-12-31                  3.0                  1.0\n",
       "366  2021-01-01                  6.0                  2.0\n",
       "\n",
       "[367 rows x 3 columns]"
      ]
     },
     "execution_count": 45,
     "metadata": {},
     "output_type": "execute_result"
    }
   ],
   "source": [
    "elevation_df = pd.read_csv('~/qs/fitbit/data/elevation.csv')\n",
    "elevation_df"
   ]
  },
  {
   "cell_type": "code",
   "execution_count": 62,
   "id": "97a9c256-5513-4b9e-b6f0-88cc6d444ba7",
   "metadata": {
    "tags": []
   },
   "outputs": [
    {
     "name": "stdout",
     "output_type": "stream",
     "text": [
      "Dash app running on http://127.0.0.1:9001/\n"
     ]
    },
    {
     "name": "stderr",
     "output_type": "stream",
     "text": [
      "/home/mcwaage1/venv/lib/python3.8/site-packages/jupyter_dash/jupyter_app.py:139: UserWarning:\n",
      "\n",
      "The 'environ['werkzeug.server.shutdown']' function is deprecated and will be removed in Werkzeug 2.1.\n",
      "\n"
     ]
    }
   ],
   "source": [
    "# https://plotly.com/python/dropdowns/#relayout-dropdown\n",
    "# https://dash.plotly.com/dash-core-components/dropdown\n",
    "# add dropdown to update traces between meters and floors\n",
    "\n",
    "\n",
    "df = elevation_df\n",
    "\n",
    "title = 'Fitbit Elevation Dashboard'\n",
    "\n",
    "mean_elevation_meters = round(df['Elevation in Meters'].mean(), 2)\n",
    "max_elevation_meters = round(df['Elevation in Meters'].max(), 2)\n",
    "min_elevation_meters = round(df['Elevation in Meters'].min(), 2)\n",
    "\n",
    "rolling=7\n",
    "rolling_elevation_meters = round(df['Elevation in Meters'].rolling(rolling).mean(), 2)\n",
    "\n",
    "fig = go.Figure()\n",
    "\n",
    "fig.add_trace(go.Bar(x=df['Date'], y=df['Elevation in Meters'], name='Elevation in Meters'))\n",
    "\n",
    "fig.add_trace(go.Scatter(x=df['Date'], y=rolling_elevation_meters, name=f'{rolling} Day Rolling Elevation in Meters'))\n",
    "\n",
    "fig.add_hline(y=mean_elevation_meters, line_dash=\"dash\")\n",
    "\n",
    "fig.update_yaxes(title_text=\"Elevation\")\n",
    "fig.update_xaxes(title_text=\"Date\")\n",
    "fig.update_layout(title=dict(text=title, \n",
    "                             yanchor=\"top\",\n",
    "                             y=.95,\n",
    "                             xanchor=\"left\",\n",
    "                             x=.05),\n",
    "                 legend=dict(orientation=\"h\",\n",
    "                             yanchor=\"bottom\",\n",
    "                             y=1.02,\n",
    "                             xanchor=\"right\",\n",
    "                             x=1))\n",
    "\n",
    "fig.update_layout(\n",
    "    hovermode='x unified',\n",
    "    dragmode='pan',\n",
    "    annotations=[\n",
    "        #https://plotly.com/python/text-and-annotations/#adding-annotations-with-xref-and-yref-as-paper\n",
    "        #https://community.plotly.com/t/how-to-add-a-text-area-with-custom-text-as-a-kind-of-legend-in-a-plotly-plot/24349/3\n",
    "        go.layout.Annotation(\n",
    "            text=f'Max Elevation: {max_elevation}<br>Min Elevation: {min_elevation}<br>Mean Elevation: {mean_elevation}',\n",
    "            align='left',\n",
    "            showarrow=False,\n",
    "            xref='paper',\n",
    "            yref='paper',\n",
    "            yanchor=\"top\",\n",
    "            y=.98,\n",
    "            xanchor=\"right\",\n",
    "            x=1,\n",
    "          )],\n",
    "    xaxis=dict(\n",
    "        \n",
    "        # change to set view window\n",
    "        # range=[min(df['time']), df['time'][60]],\n",
    "        \n",
    "        rangeselector=dict(\n",
    "            buttons=list([\n",
    "                dict(count=7,\n",
    "                     label=\"1wk\",\n",
    "                     step=\"day\",\n",
    "                     stepmode=\"backward\"),\n",
    "                dict(count=1,\n",
    "                     label=\"1MO\",\n",
    "                     step=\"month\",\n",
    "                     stepmode=\"backward\"),\n",
    "                dict(count=6,\n",
    "                     label=\"6MO\",\n",
    "                     step=\"month\",\n",
    "                     stepmode=\"backward\"),\n",
    "                dict(step=\"all\"),\n",
    "            ])\n",
    "        ),\n",
    "        rangeslider=dict(visible=True),\n",
    "        type=\"date\",\n",
    "    )\n",
    ")\n",
    "\n",
    "app = jupyter_dash.JupyterDash(__name__,\n",
    "                               external_stylesheets=external_stylesheets,\n",
    "                               title=f\"{title}\")\n",
    "\n",
    "app.layout = html.Div([\n",
    "    dcc.Graph(\n",
    "        figure=fig,\n",
    "        \n",
    "        #https://plotly.com/python/setting-graph-size/\n",
    "        #https://stackoverflow.com/questions/46287189/how-can-i-change-the-size-of-my-dash-graph\n",
    "        style={'height': '95vh'}\n",
    "    ),\n",
    "])\n",
    "\n",
    "if __name__ == '__main__':\n",
    "    app.run_server(mode='external', port=9001, debug=True)"
   ]
  },
  {
   "cell_type": "code",
   "execution_count": null,
   "id": "84bb6863-2383-4153-9748-e2ae909ad0bc",
   "metadata": {},
   "outputs": [],
   "source": []
  },
  {
   "cell_type": "markdown",
   "id": "1343b9bc-49c2-412f-817a-49dc8953affd",
   "metadata": {},
   "source": [
    "# Floors"
   ]
  },
  {
   "cell_type": "code",
   "execution_count": 59,
   "id": "20ee38a4-94ad-4499-af19-d86b14b12a3d",
   "metadata": {},
   "outputs": [
    {
     "data": {
      "text/html": [
       "<div>\n",
       "<style scoped>\n",
       "    .dataframe tbody tr th:only-of-type {\n",
       "        vertical-align: middle;\n",
       "    }\n",
       "\n",
       "    .dataframe tbody tr th {\n",
       "        vertical-align: top;\n",
       "    }\n",
       "\n",
       "    .dataframe thead th {\n",
       "        text-align: right;\n",
       "    }\n",
       "</style>\n",
       "<table border=\"1\" class=\"dataframe\">\n",
       "  <thead>\n",
       "    <tr style=\"text-align: right;\">\n",
       "      <th></th>\n",
       "      <th>Date</th>\n",
       "      <th>Number of Floors</th>\n",
       "    </tr>\n",
       "  </thead>\n",
       "  <tbody>\n",
       "    <tr>\n",
       "      <th>0</th>\n",
       "      <td>2020-01-01</td>\n",
       "      <td>0</td>\n",
       "    </tr>\n",
       "    <tr>\n",
       "      <th>1</th>\n",
       "      <td>2020-01-02</td>\n",
       "      <td>0</td>\n",
       "    </tr>\n",
       "    <tr>\n",
       "      <th>2</th>\n",
       "      <td>2020-01-03</td>\n",
       "      <td>1</td>\n",
       "    </tr>\n",
       "    <tr>\n",
       "      <th>3</th>\n",
       "      <td>2020-01-04</td>\n",
       "      <td>8</td>\n",
       "    </tr>\n",
       "    <tr>\n",
       "      <th>4</th>\n",
       "      <td>2020-01-05</td>\n",
       "      <td>2</td>\n",
       "    </tr>\n",
       "    <tr>\n",
       "      <th>...</th>\n",
       "      <td>...</td>\n",
       "      <td>...</td>\n",
       "    </tr>\n",
       "    <tr>\n",
       "      <th>362</th>\n",
       "      <td>2020-12-28</td>\n",
       "      <td>3</td>\n",
       "    </tr>\n",
       "    <tr>\n",
       "      <th>363</th>\n",
       "      <td>2020-12-29</td>\n",
       "      <td>1</td>\n",
       "    </tr>\n",
       "    <tr>\n",
       "      <th>364</th>\n",
       "      <td>2020-12-30</td>\n",
       "      <td>2</td>\n",
       "    </tr>\n",
       "    <tr>\n",
       "      <th>365</th>\n",
       "      <td>2020-12-31</td>\n",
       "      <td>1</td>\n",
       "    </tr>\n",
       "    <tr>\n",
       "      <th>366</th>\n",
       "      <td>2021-01-01</td>\n",
       "      <td>2</td>\n",
       "    </tr>\n",
       "  </tbody>\n",
       "</table>\n",
       "<p>367 rows × 2 columns</p>\n",
       "</div>"
      ],
      "text/plain": [
       "           Date  Number of Floors\n",
       "0    2020-01-01                 0\n",
       "1    2020-01-02                 0\n",
       "2    2020-01-03                 1\n",
       "3    2020-01-04                 8\n",
       "4    2020-01-05                 2\n",
       "..          ...               ...\n",
       "362  2020-12-28                 3\n",
       "363  2020-12-29                 1\n",
       "364  2020-12-30                 2\n",
       "365  2020-12-31                 1\n",
       "366  2021-01-01                 2\n",
       "\n",
       "[367 rows x 2 columns]"
      ]
     },
     "execution_count": 59,
     "metadata": {},
     "output_type": "execute_result"
    }
   ],
   "source": [
    "floors_df = pd.read_csv('~/qs/fitbit/data/floors.csv')\n",
    "floors_df"
   ]
  },
  {
   "cell_type": "code",
   "execution_count": 60,
   "id": "66825be3-6773-40c9-a513-1c600275db4a",
   "metadata": {},
   "outputs": [
    {
     "name": "stdout",
     "output_type": "stream",
     "text": [
      "Dash app running on http://127.0.0.1:9020/\n"
     ]
    }
   ],
   "source": [
    "# https://plotly.com/python/dropdowns/#relayout-dropdown\n",
    "# https://dash.plotly.com/dash-core-components/dropdown\n",
    "# add dropdown to update traces between meters and floors\n",
    "\n",
    "\n",
    "df = floors_df\n",
    "\n",
    "title = 'Fitbit Floors Dashboard'\n",
    "\n",
    "mean_elevation_floors = round(df['Number of Floors'].mean(), 2)\n",
    "max_elevation_floors = round(df['Number of Floors'].max(), 2)\n",
    "min_elevation_floors = round(df['Number of Floors'].min(), 2)\n",
    "\n",
    "rolling=7\n",
    "rolling_elevation_floors = round(df['Number of Floors'].rolling(rolling).mean(), 2)\n",
    "\n",
    "\n",
    "fig = go.Figure()\n",
    "\n",
    "fig.add_trace(go.Bar(x=df['Date'], y=df['Number of Floors'], name='Number of Floors'))\n",
    "\n",
    "fig.add_trace(go.Scatter(x=df['Date'], y=rolling_elevation_floors, name=f'{rolling} Day Rolling Number of Floors'))\n",
    "\n",
    "fig.add_hline(y=mean_elevation_floors, line_dash=\"dash\")\n",
    "\n",
    "fig.update_yaxes(title_text=\"Floors\")\n",
    "fig.update_xaxes(title_text=\"Date\")\n",
    "fig.update_layout(title=dict(text=title, \n",
    "                             yanchor=\"top\",\n",
    "                             y=.95,\n",
    "                             xanchor=\"left\",\n",
    "                             x=.05),\n",
    "                 legend=dict(orientation=\"h\",\n",
    "                             yanchor=\"bottom\",\n",
    "                             y=1.02,\n",
    "                             xanchor=\"right\",\n",
    "                             x=1))\n",
    "\n",
    "fig.update_layout(\n",
    "    hovermode='x unified',\n",
    "    dragmode='pan',\n",
    "    annotations=[\n",
    "        #https://plotly.com/python/text-and-annotations/#adding-annotations-with-xref-and-yref-as-paper\n",
    "        #https://community.plotly.com/t/how-to-add-a-text-area-with-custom-text-as-a-kind-of-legend-in-a-plotly-plot/24349/3\n",
    "        go.layout.Annotation(\n",
    "            text=f'Max Floors: {max_elevation_floors}<br>Min Floors: {min_elevation_floors}<br>Mean Floors: {mean_elevation_floors}',\n",
    "            align='left',\n",
    "            showarrow=False,\n",
    "            xref='paper',\n",
    "            yref='paper',\n",
    "            yanchor=\"top\",\n",
    "            y=.98,\n",
    "            xanchor=\"right\",\n",
    "            x=1,\n",
    "          )],\n",
    "    xaxis=dict(\n",
    "        \n",
    "        # change to set view window\n",
    "        # range=[min(df['time']), df['time'][60]],\n",
    "        \n",
    "        rangeselector=dict(\n",
    "            buttons=list([\n",
    "                dict(count=7,\n",
    "                     label=\"1wk\",\n",
    "                     step=\"day\",\n",
    "                     stepmode=\"backward\"),\n",
    "                dict(count=1,\n",
    "                     label=\"1MO\",\n",
    "                     step=\"month\",\n",
    "                     stepmode=\"backward\"),\n",
    "                dict(count=6,\n",
    "                     label=\"6MO\",\n",
    "                     step=\"month\",\n",
    "                     stepmode=\"backward\"),\n",
    "                dict(step=\"all\"),\n",
    "            ])\n",
    "        ),\n",
    "        rangeslider=dict(visible=True),\n",
    "        type=\"date\",\n",
    "    )\n",
    ")\n",
    "\n",
    "app = jupyter_dash.JupyterDash(__name__,\n",
    "                               external_stylesheets=external_stylesheets,\n",
    "                               title=f\"{title}\")\n",
    "\n",
    "app.layout = html.Div([\n",
    "    dcc.Graph(\n",
    "        figure=fig,\n",
    "        \n",
    "        #https://plotly.com/python/setting-graph-size/\n",
    "        #https://stackoverflow.com/questions/46287189/how-can-i-change-the-size-of-my-dash-graph\n",
    "        style={'height': '95vh'}\n",
    "    ),\n",
    "])\n",
    "\n",
    "if __name__ == '__main__':\n",
    "    app.run_server(mode='external', port=9020, debug=True)"
   ]
  },
  {
   "cell_type": "markdown",
   "id": "f62b45bf-fb0b-49db-8ac6-1138a1ff1f66",
   "metadata": {},
   "source": [
    "# Sleep"
   ]
  },
  {
   "cell_type": "code",
   "execution_count": 182,
   "id": "2a7e4e44-ffff-4399-b87f-f5620165f4cb",
   "metadata": {},
   "outputs": [
    {
     "data": {
      "text/html": [
       "<div>\n",
       "<style scoped>\n",
       "    .dataframe tbody tr th:only-of-type {\n",
       "        vertical-align: middle;\n",
       "    }\n",
       "\n",
       "    .dataframe tbody tr th {\n",
       "        vertical-align: top;\n",
       "    }\n",
       "\n",
       "    .dataframe thead th {\n",
       "        text-align: right;\n",
       "    }\n",
       "</style>\n",
       "<table border=\"1\" class=\"dataframe\">\n",
       "  <thead>\n",
       "    <tr style=\"text-align: right;\">\n",
       "      <th></th>\n",
       "      <th>Start</th>\n",
       "      <th>End</th>\n",
       "      <th>Day</th>\n",
       "    </tr>\n",
       "  </thead>\n",
       "  <tbody>\n",
       "    <tr>\n",
       "      <th>0</th>\n",
       "      <td>1970-01-01 23:00:00</td>\n",
       "      <td>1970-01-01 23:59:59</td>\n",
       "      <td>2019-12-31</td>\n",
       "    </tr>\n",
       "    <tr>\n",
       "      <th>1</th>\n",
       "      <td>1970-01-01 00:00:01</td>\n",
       "      <td>1970-01-01 03:58:00</td>\n",
       "      <td>2020-01-01</td>\n",
       "    </tr>\n",
       "    <tr>\n",
       "      <th>2</th>\n",
       "      <td>1970-01-01 20:40:00</td>\n",
       "      <td>1970-01-01 23:59:59</td>\n",
       "      <td>2020-01-01</td>\n",
       "    </tr>\n",
       "    <tr>\n",
       "      <th>3</th>\n",
       "      <td>1970-01-01 00:00:01</td>\n",
       "      <td>1970-01-01 07:12:30</td>\n",
       "      <td>2020-01-02</td>\n",
       "    </tr>\n",
       "    <tr>\n",
       "      <th>4</th>\n",
       "      <td>1970-01-01 15:47:00</td>\n",
       "      <td>1970-01-01 23:59:59</td>\n",
       "      <td>2020-01-02</td>\n",
       "    </tr>\n",
       "    <tr>\n",
       "      <th>...</th>\n",
       "      <td>...</td>\n",
       "      <td>...</td>\n",
       "      <td>...</td>\n",
       "    </tr>\n",
       "    <tr>\n",
       "      <th>466</th>\n",
       "      <td>1970-01-01 10:51:00</td>\n",
       "      <td>1970-01-01 18:29:30</td>\n",
       "      <td>2020-12-28</td>\n",
       "    </tr>\n",
       "    <tr>\n",
       "      <th>467</th>\n",
       "      <td>1970-01-01 16:19:30</td>\n",
       "      <td>1970-01-01 23:59:59</td>\n",
       "      <td>2020-12-29</td>\n",
       "    </tr>\n",
       "    <tr>\n",
       "      <th>468</th>\n",
       "      <td>1970-01-01 00:00:01</td>\n",
       "      <td>1970-01-01 02:30:30</td>\n",
       "      <td>2020-12-30</td>\n",
       "    </tr>\n",
       "    <tr>\n",
       "      <th>469</th>\n",
       "      <td>1970-01-01 09:24:00</td>\n",
       "      <td>1970-01-01 18:09:00</td>\n",
       "      <td>2020-12-31</td>\n",
       "    </tr>\n",
       "    <tr>\n",
       "      <th>470</th>\n",
       "      <td>1970-01-01 12:43:00</td>\n",
       "      <td>1970-01-01 18:30:30</td>\n",
       "      <td>2021-01-01</td>\n",
       "    </tr>\n",
       "  </tbody>\n",
       "</table>\n",
       "<p>471 rows × 3 columns</p>\n",
       "</div>"
      ],
      "text/plain": [
       "                   Start                  End         Day\n",
       "0    1970-01-01 23:00:00  1970-01-01 23:59:59  2019-12-31\n",
       "1    1970-01-01 00:00:01  1970-01-01 03:58:00  2020-01-01\n",
       "2    1970-01-01 20:40:00  1970-01-01 23:59:59  2020-01-01\n",
       "3    1970-01-01 00:00:01  1970-01-01 07:12:30  2020-01-02\n",
       "4    1970-01-01 15:47:00  1970-01-01 23:59:59  2020-01-02\n",
       "..                   ...                  ...         ...\n",
       "466  1970-01-01 10:51:00  1970-01-01 18:29:30  2020-12-28\n",
       "467  1970-01-01 16:19:30  1970-01-01 23:59:59  2020-12-29\n",
       "468  1970-01-01 00:00:01  1970-01-01 02:30:30  2020-12-30\n",
       "469  1970-01-01 09:24:00  1970-01-01 18:09:00  2020-12-31\n",
       "470  1970-01-01 12:43:00  1970-01-01 18:30:30  2021-01-01\n",
       "\n",
       "[471 rows x 3 columns]"
      ]
     },
     "execution_count": 182,
     "metadata": {},
     "output_type": "execute_result"
    }
   ],
   "source": [
    "sleep_df = pd.read_csv('~/qs/fitbit/data/sleep.csv')\n",
    "sleep_df"
   ]
  },
  {
   "cell_type": "code",
   "execution_count": 183,
   "id": "394ea858-cb83-45f0-9cb4-ef07b45841d6",
   "metadata": {},
   "outputs": [
    {
     "data": {
      "text/html": [
       "<div>\n",
       "<style scoped>\n",
       "    .dataframe tbody tr th:only-of-type {\n",
       "        vertical-align: middle;\n",
       "    }\n",
       "\n",
       "    .dataframe tbody tr th {\n",
       "        vertical-align: top;\n",
       "    }\n",
       "\n",
       "    .dataframe thead th {\n",
       "        text-align: right;\n",
       "    }\n",
       "</style>\n",
       "<table border=\"1\" class=\"dataframe\">\n",
       "  <thead>\n",
       "    <tr style=\"text-align: right;\">\n",
       "      <th></th>\n",
       "      <th>Start</th>\n",
       "      <th>End</th>\n",
       "      <th>Day</th>\n",
       "    </tr>\n",
       "  </thead>\n",
       "  <tbody>\n",
       "    <tr>\n",
       "      <th>0</th>\n",
       "      <td>1970-01-01 23:00:00</td>\n",
       "      <td>1970-01-01 23:59:59</td>\n",
       "      <td>2019-12-31</td>\n",
       "    </tr>\n",
       "    <tr>\n",
       "      <th>1</th>\n",
       "      <td>1970-01-01 00:00:01</td>\n",
       "      <td>1970-01-01 03:58:00</td>\n",
       "      <td>2020-01-01</td>\n",
       "    </tr>\n",
       "    <tr>\n",
       "      <th>2</th>\n",
       "      <td>1970-01-01 20:40:00</td>\n",
       "      <td>1970-01-01 23:59:59</td>\n",
       "      <td>2020-01-01</td>\n",
       "    </tr>\n",
       "    <tr>\n",
       "      <th>3</th>\n",
       "      <td>1970-01-01 00:00:01</td>\n",
       "      <td>1970-01-01 07:12:30</td>\n",
       "      <td>2020-01-02</td>\n",
       "    </tr>\n",
       "    <tr>\n",
       "      <th>4</th>\n",
       "      <td>1970-01-01 15:47:00</td>\n",
       "      <td>1970-01-01 23:59:59</td>\n",
       "      <td>2020-01-02</td>\n",
       "    </tr>\n",
       "    <tr>\n",
       "      <th>...</th>\n",
       "      <td>...</td>\n",
       "      <td>...</td>\n",
       "      <td>...</td>\n",
       "    </tr>\n",
       "    <tr>\n",
       "      <th>466</th>\n",
       "      <td>1970-01-01 10:51:00</td>\n",
       "      <td>1970-01-01 18:29:30</td>\n",
       "      <td>2020-12-28</td>\n",
       "    </tr>\n",
       "    <tr>\n",
       "      <th>467</th>\n",
       "      <td>1970-01-01 16:19:30</td>\n",
       "      <td>1970-01-01 23:59:59</td>\n",
       "      <td>2020-12-29</td>\n",
       "    </tr>\n",
       "    <tr>\n",
       "      <th>468</th>\n",
       "      <td>1970-01-01 00:00:01</td>\n",
       "      <td>1970-01-01 02:30:30</td>\n",
       "      <td>2020-12-30</td>\n",
       "    </tr>\n",
       "    <tr>\n",
       "      <th>469</th>\n",
       "      <td>1970-01-01 09:24:00</td>\n",
       "      <td>1970-01-01 18:09:00</td>\n",
       "      <td>2020-12-31</td>\n",
       "    </tr>\n",
       "    <tr>\n",
       "      <th>470</th>\n",
       "      <td>1970-01-01 12:43:00</td>\n",
       "      <td>1970-01-01 18:30:30</td>\n",
       "      <td>2021-01-01</td>\n",
       "    </tr>\n",
       "  </tbody>\n",
       "</table>\n",
       "<p>471 rows × 3 columns</p>\n",
       "</div>"
      ],
      "text/plain": [
       "                  Start                 End         Day\n",
       "0   1970-01-01 23:00:00 1970-01-01 23:59:59  2019-12-31\n",
       "1   1970-01-01 00:00:01 1970-01-01 03:58:00  2020-01-01\n",
       "2   1970-01-01 20:40:00 1970-01-01 23:59:59  2020-01-01\n",
       "3   1970-01-01 00:00:01 1970-01-01 07:12:30  2020-01-02\n",
       "4   1970-01-01 15:47:00 1970-01-01 23:59:59  2020-01-02\n",
       "..                  ...                 ...         ...\n",
       "466 1970-01-01 10:51:00 1970-01-01 18:29:30  2020-12-28\n",
       "467 1970-01-01 16:19:30 1970-01-01 23:59:59  2020-12-29\n",
       "468 1970-01-01 00:00:01 1970-01-01 02:30:30  2020-12-30\n",
       "469 1970-01-01 09:24:00 1970-01-01 18:09:00  2020-12-31\n",
       "470 1970-01-01 12:43:00 1970-01-01 18:30:30  2021-01-01\n",
       "\n",
       "[471 rows x 3 columns]"
      ]
     },
     "execution_count": 183,
     "metadata": {},
     "output_type": "execute_result"
    }
   ],
   "source": [
    "sleep_df['Start'] = pd.to_datetime(sleep_df['Start'])\n",
    "sleep_df['End'] = pd.to_datetime(sleep_df['End'])\n",
    "\n",
    "sleep_df"
   ]
  },
  {
   "cell_type": "code",
   "execution_count": null,
   "id": "f9f5f380-7473-4046-b462-00994a275cb1",
   "metadata": {},
   "outputs": [],
   "source": []
  },
  {
   "cell_type": "code",
   "execution_count": 184,
   "id": "86569899-e2ab-4e3b-9709-40fccce6916d",
   "metadata": {},
   "outputs": [
    {
     "data": {
      "text/html": [
       "<div>\n",
       "<style scoped>\n",
       "    .dataframe tbody tr th:only-of-type {\n",
       "        vertical-align: middle;\n",
       "    }\n",
       "\n",
       "    .dataframe tbody tr th {\n",
       "        vertical-align: top;\n",
       "    }\n",
       "\n",
       "    .dataframe thead th {\n",
       "        text-align: right;\n",
       "    }\n",
       "</style>\n",
       "<table border=\"1\" class=\"dataframe\">\n",
       "  <thead>\n",
       "    <tr style=\"text-align: right;\">\n",
       "      <th></th>\n",
       "      <th>Start</th>\n",
       "      <th>End</th>\n",
       "    </tr>\n",
       "  </thead>\n",
       "  <tbody>\n",
       "    <tr>\n",
       "      <th>count</th>\n",
       "      <td>4.710000e+02</td>\n",
       "      <td>4.710000e+02</td>\n",
       "    </tr>\n",
       "    <tr>\n",
       "      <th>mean</th>\n",
       "      <td>3.500271e+13</td>\n",
       "      <td>5.780404e+13</td>\n",
       "    </tr>\n",
       "    <tr>\n",
       "      <th>std</th>\n",
       "      <td>2.392095e+13</td>\n",
       "      <td>2.283956e+13</td>\n",
       "    </tr>\n",
       "    <tr>\n",
       "      <th>min</th>\n",
       "      <td>1.000000e+09</td>\n",
       "      <td>1.050000e+12</td>\n",
       "    </tr>\n",
       "    <tr>\n",
       "      <th>25%</th>\n",
       "      <td>1.059000e+13</td>\n",
       "      <td>4.213500e+13</td>\n",
       "    </tr>\n",
       "    <tr>\n",
       "      <th>50%</th>\n",
       "      <td>3.900000e+13</td>\n",
       "      <td>6.399000e+13</td>\n",
       "    </tr>\n",
       "    <tr>\n",
       "      <th>75%</th>\n",
       "      <td>4.594500e+13</td>\n",
       "      <td>7.519500e+13</td>\n",
       "    </tr>\n",
       "    <tr>\n",
       "      <th>max</th>\n",
       "      <td>8.634000e+13</td>\n",
       "      <td>8.639900e+13</td>\n",
       "    </tr>\n",
       "  </tbody>\n",
       "</table>\n",
       "</div>"
      ],
      "text/plain": [
       "              Start           End\n",
       "count  4.710000e+02  4.710000e+02\n",
       "mean   3.500271e+13  5.780404e+13\n",
       "std    2.392095e+13  2.283956e+13\n",
       "min    1.000000e+09  1.050000e+12\n",
       "25%    1.059000e+13  4.213500e+13\n",
       "50%    3.900000e+13  6.399000e+13\n",
       "75%    4.594500e+13  7.519500e+13\n",
       "max    8.634000e+13  8.639900e+13"
      ]
     },
     "execution_count": 184,
     "metadata": {},
     "output_type": "execute_result"
    }
   ],
   "source": [
    "# https://stackoverflow.com/questions/52007139/get-the-average-date-from-multiple-dates-pandas\n",
    "average_sleep_df = pd.DataFrame()\n",
    "average_sleep_df['Start'] = [x.value for x in sleep_df['Start']]\n",
    "average_sleep_df['End'] = [x.value for x in sleep_df['End']]\n",
    "\n",
    "average_sleep_df.describe().apply(pd.to_datetime)\n"
   ]
  },
  {
   "cell_type": "code",
   "execution_count": 185,
   "id": "3f3538ed-e81a-44e3-83f8-ae42f4930cec",
   "metadata": {},
   "outputs": [
    {
     "data": {
      "text/plain": [
       "471"
      ]
     },
     "execution_count": 185,
     "metadata": {},
     "output_type": "execute_result"
    }
   ],
   "source": [
    "len(average_sleep_df)"
   ]
  },
  {
   "cell_type": "code",
   "execution_count": 186,
   "id": "11b495c3-76d1-42fc-8b77-c5ce1db3bf40",
   "metadata": {},
   "outputs": [],
   "source": [
    "# # https://stackoverflow.com/questions/52007139/get-the-average-date-from-multiple-dates-pandas\n",
    "# average_sleep_df = pd.DataFrame()\n",
    "# average_sleep_df['Start'] = [x.value for x in sleep_df['Start'] if x.value != 1000000000] # 1 second after midnight\n",
    "# average_sleep_df['End'] = [x.value for x in sleep_df['End'] if x.value != 86399000000000] # 1 second before midnight\n",
    "\n",
    "# average_sleep_df.describe().apply(pd.to_datetime)"
   ]
  },
  {
   "cell_type": "code",
   "execution_count": 187,
   "id": "bd8e00b4-3ee8-44c7-a4a0-01a7cb692a71",
   "metadata": {},
   "outputs": [
    {
     "data": {
      "text/plain": [
       "471"
      ]
     },
     "execution_count": 187,
     "metadata": {},
     "output_type": "execute_result"
    }
   ],
   "source": [
    "len(average_sleep_df)"
   ]
  },
  {
   "cell_type": "code",
   "execution_count": 188,
   "id": "fc92f556-e220-4fdd-84ff-2418b7556d1e",
   "metadata": {},
   "outputs": [
    {
     "data": {
      "text/html": [
       "<div>\n",
       "<style scoped>\n",
       "    .dataframe tbody tr th:only-of-type {\n",
       "        vertical-align: middle;\n",
       "    }\n",
       "\n",
       "    .dataframe tbody tr th {\n",
       "        vertical-align: top;\n",
       "    }\n",
       "\n",
       "    .dataframe thead th {\n",
       "        text-align: right;\n",
       "    }\n",
       "</style>\n",
       "<table border=\"1\" class=\"dataframe\">\n",
       "  <thead>\n",
       "    <tr style=\"text-align: right;\">\n",
       "      <th></th>\n",
       "      <th>Start</th>\n",
       "      <th>End</th>\n",
       "    </tr>\n",
       "  </thead>\n",
       "  <tbody>\n",
       "    <tr>\n",
       "      <th>0</th>\n",
       "      <td>82800000000000</td>\n",
       "      <td>86399000000000</td>\n",
       "    </tr>\n",
       "    <tr>\n",
       "      <th>1</th>\n",
       "      <td>1000000000</td>\n",
       "      <td>14280000000000</td>\n",
       "    </tr>\n",
       "    <tr>\n",
       "      <th>2</th>\n",
       "      <td>74400000000000</td>\n",
       "      <td>86399000000000</td>\n",
       "    </tr>\n",
       "    <tr>\n",
       "      <th>3</th>\n",
       "      <td>1000000000</td>\n",
       "      <td>25950000000000</td>\n",
       "    </tr>\n",
       "    <tr>\n",
       "      <th>4</th>\n",
       "      <td>56820000000000</td>\n",
       "      <td>86399000000000</td>\n",
       "    </tr>\n",
       "    <tr>\n",
       "      <th>...</th>\n",
       "      <td>...</td>\n",
       "      <td>...</td>\n",
       "    </tr>\n",
       "    <tr>\n",
       "      <th>466</th>\n",
       "      <td>39060000000000</td>\n",
       "      <td>66570000000000</td>\n",
       "    </tr>\n",
       "    <tr>\n",
       "      <th>467</th>\n",
       "      <td>58770000000000</td>\n",
       "      <td>86399000000000</td>\n",
       "    </tr>\n",
       "    <tr>\n",
       "      <th>468</th>\n",
       "      <td>1000000000</td>\n",
       "      <td>9030000000000</td>\n",
       "    </tr>\n",
       "    <tr>\n",
       "      <th>469</th>\n",
       "      <td>33840000000000</td>\n",
       "      <td>65340000000000</td>\n",
       "    </tr>\n",
       "    <tr>\n",
       "      <th>470</th>\n",
       "      <td>45780000000000</td>\n",
       "      <td>66630000000000</td>\n",
       "    </tr>\n",
       "  </tbody>\n",
       "</table>\n",
       "<p>471 rows × 2 columns</p>\n",
       "</div>"
      ],
      "text/plain": [
       "              Start             End\n",
       "0    82800000000000  86399000000000\n",
       "1        1000000000  14280000000000\n",
       "2    74400000000000  86399000000000\n",
       "3        1000000000  25950000000000\n",
       "4    56820000000000  86399000000000\n",
       "..              ...             ...\n",
       "466  39060000000000  66570000000000\n",
       "467  58770000000000  86399000000000\n",
       "468      1000000000   9030000000000\n",
       "469  33840000000000  65340000000000\n",
       "470  45780000000000  66630000000000\n",
       "\n",
       "[471 rows x 2 columns]"
      ]
     },
     "execution_count": 188,
     "metadata": {},
     "output_type": "execute_result"
    }
   ],
   "source": [
    "average_sleep_df"
   ]
  },
  {
   "cell_type": "code",
   "execution_count": 189,
   "id": "d04f3b45-13c7-4ff5-bab2-ca78c653e946",
   "metadata": {},
   "outputs": [],
   "source": [
    "# https://stackoverflow.com/questions/19231871/convert-unix-time-to-readable-date-in-pandas-dataframe\n",
    "mean_sleep_start = pd.to_datetime(average_sleep_df['Start'].mean())\n",
    "mean_sleep_end = pd.to_datetime(average_sleep_df['End'].mean())"
   ]
  },
  {
   "cell_type": "code",
   "execution_count": 190,
   "id": "3818fe41-21aa-4ff7-906c-cee680e2dbbf",
   "metadata": {},
   "outputs": [
    {
     "data": {
      "text/plain": [
       "Timestamp('1970-01-01 09:43:22.713375796')"
      ]
     },
     "execution_count": 190,
     "metadata": {},
     "output_type": "execute_result"
    }
   ],
   "source": [
    "mean_sleep_start"
   ]
  },
  {
   "cell_type": "code",
   "execution_count": 191,
   "id": "947a4d2b-d977-4fbb-941b-b511c22206f5",
   "metadata": {},
   "outputs": [],
   "source": [
    "median_sleep_start = pd.to_datetime(average_sleep_df['Start'].median())\n",
    "median_sleep_end = pd.to_datetime(average_sleep_df['End'].median())"
   ]
  },
  {
   "cell_type": "code",
   "execution_count": 192,
   "id": "3af45adc-d85c-4071-9487-4322db355a22",
   "metadata": {},
   "outputs": [
    {
     "data": {
      "text/plain": [
       "Timestamp('1970-01-01 10:50:00')"
      ]
     },
     "execution_count": 192,
     "metadata": {},
     "output_type": "execute_result"
    }
   ],
   "source": [
    "median_sleep_start"
   ]
  },
  {
   "cell_type": "code",
   "execution_count": 193,
   "id": "3e212f41-965f-4371-9c2a-e1ca410f27b4",
   "metadata": {},
   "outputs": [],
   "source": [
    "std_sleep_start = pd.to_datetime(average_sleep_df['Start'].std())\n",
    "std_sleep_end = pd.to_datetime(average_sleep_df['End'].std())"
   ]
  },
  {
   "cell_type": "code",
   "execution_count": 194,
   "id": "743f7b34-bb24-4f2a-9b62-aeacb7399c42",
   "metadata": {},
   "outputs": [
    {
     "data": {
      "text/plain": [
       "Timestamp('1970-01-01 06:38:40.954626324')"
      ]
     },
     "execution_count": 194,
     "metadata": {},
     "output_type": "execute_result"
    }
   ],
   "source": [
    "std_sleep_start"
   ]
  },
  {
   "cell_type": "code",
   "execution_count": 195,
   "id": "25db4157-cd51-469f-8b78-45caf17d5301",
   "metadata": {},
   "outputs": [
    {
     "data": {
      "text/html": [
       "<div>\n",
       "<style scoped>\n",
       "    .dataframe tbody tr th:only-of-type {\n",
       "        vertical-align: middle;\n",
       "    }\n",
       "\n",
       "    .dataframe tbody tr th {\n",
       "        vertical-align: top;\n",
       "    }\n",
       "\n",
       "    .dataframe thead th {\n",
       "        text-align: right;\n",
       "    }\n",
       "</style>\n",
       "<table border=\"1\" class=\"dataframe\">\n",
       "  <thead>\n",
       "    <tr style=\"text-align: right;\">\n",
       "      <th></th>\n",
       "      <th>Start</th>\n",
       "      <th>End</th>\n",
       "    </tr>\n",
       "  </thead>\n",
       "  <tbody>\n",
       "    <tr>\n",
       "      <th>0</th>\n",
       "      <td>NaT</td>\n",
       "      <td>NaT</td>\n",
       "    </tr>\n",
       "    <tr>\n",
       "      <th>1</th>\n",
       "      <td>NaT</td>\n",
       "      <td>NaT</td>\n",
       "    </tr>\n",
       "    <tr>\n",
       "      <th>2</th>\n",
       "      <td>NaT</td>\n",
       "      <td>NaT</td>\n",
       "    </tr>\n",
       "    <tr>\n",
       "      <th>3</th>\n",
       "      <td>NaT</td>\n",
       "      <td>NaT</td>\n",
       "    </tr>\n",
       "    <tr>\n",
       "      <th>4</th>\n",
       "      <td>NaT</td>\n",
       "      <td>NaT</td>\n",
       "    </tr>\n",
       "    <tr>\n",
       "      <th>5</th>\n",
       "      <td>NaT</td>\n",
       "      <td>NaT</td>\n",
       "    </tr>\n",
       "    <tr>\n",
       "      <th>6</th>\n",
       "      <td>1970-01-01 10:20:17.571428571</td>\n",
       "      <td>1970-01-01 15:27:03.857142857</td>\n",
       "    </tr>\n",
       "    <tr>\n",
       "      <th>7</th>\n",
       "      <td>1970-01-01 08:26:04.714285714</td>\n",
       "      <td>1970-01-01 13:59:51.142857142</td>\n",
       "    </tr>\n",
       "    <tr>\n",
       "      <th>8</th>\n",
       "      <td>1970-01-01 09:51:51.714285714</td>\n",
       "      <td>1970-01-01 15:29:25.428571428</td>\n",
       "    </tr>\n",
       "    <tr>\n",
       "      <th>9</th>\n",
       "      <td>1970-01-01 07:08:17.428571428</td>\n",
       "      <td>1970-01-01 13:20:12.714285714</td>\n",
       "    </tr>\n",
       "  </tbody>\n",
       "</table>\n",
       "</div>"
      ],
      "text/plain": [
       "                          Start                           End\n",
       "0                           NaT                           NaT\n",
       "1                           NaT                           NaT\n",
       "2                           NaT                           NaT\n",
       "3                           NaT                           NaT\n",
       "4                           NaT                           NaT\n",
       "5                           NaT                           NaT\n",
       "6 1970-01-01 10:20:17.571428571 1970-01-01 15:27:03.857142857\n",
       "7 1970-01-01 08:26:04.714285714 1970-01-01 13:59:51.142857142\n",
       "8 1970-01-01 09:51:51.714285714 1970-01-01 15:29:25.428571428\n",
       "9 1970-01-01 07:08:17.428571428 1970-01-01 13:20:12.714285714"
      ]
     },
     "execution_count": 195,
     "metadata": {},
     "output_type": "execute_result"
    }
   ],
   "source": [
    "rolling=7\n",
    "rolling_timestamp = average_sleep_df.rolling(rolling).mean()\n",
    "rolling_timestamp['Start'] = rolling_timestamp['Start'].apply(pd.to_datetime)\n",
    "rolling_timestamp['End'] = rolling_timestamp['End'].apply(pd.to_datetime)\n",
    "\n",
    "rolling_timestamp.head(10)"
   ]
  },
  {
   "cell_type": "code",
   "execution_count": 196,
   "id": "5da5aec6-09f1-48f5-9f6f-93d7f07c8d05",
   "metadata": {},
   "outputs": [
    {
     "data": {
      "text/html": [
       "<div>\n",
       "<style scoped>\n",
       "    .dataframe tbody tr th:only-of-type {\n",
       "        vertical-align: middle;\n",
       "    }\n",
       "\n",
       "    .dataframe tbody tr th {\n",
       "        vertical-align: top;\n",
       "    }\n",
       "\n",
       "    .dataframe thead th {\n",
       "        text-align: right;\n",
       "    }\n",
       "</style>\n",
       "<table border=\"1\" class=\"dataframe\">\n",
       "  <thead>\n",
       "    <tr style=\"text-align: right;\">\n",
       "      <th></th>\n",
       "      <th>Start</th>\n",
       "      <th>End</th>\n",
       "      <th>Day</th>\n",
       "      <th>7 Day Rolling Start Time</th>\n",
       "      <th>7 Day Rolling End Time</th>\n",
       "    </tr>\n",
       "  </thead>\n",
       "  <tbody>\n",
       "    <tr>\n",
       "      <th>0</th>\n",
       "      <td>1970-01-01 23:00:00</td>\n",
       "      <td>1970-01-01 23:59:59</td>\n",
       "      <td>2019-12-31</td>\n",
       "      <td>NaT</td>\n",
       "      <td>NaT</td>\n",
       "    </tr>\n",
       "    <tr>\n",
       "      <th>1</th>\n",
       "      <td>1970-01-01 00:00:01</td>\n",
       "      <td>1970-01-01 03:58:00</td>\n",
       "      <td>2020-01-01</td>\n",
       "      <td>NaT</td>\n",
       "      <td>NaT</td>\n",
       "    </tr>\n",
       "    <tr>\n",
       "      <th>2</th>\n",
       "      <td>1970-01-01 20:40:00</td>\n",
       "      <td>1970-01-01 23:59:59</td>\n",
       "      <td>2020-01-01</td>\n",
       "      <td>NaT</td>\n",
       "      <td>NaT</td>\n",
       "    </tr>\n",
       "    <tr>\n",
       "      <th>3</th>\n",
       "      <td>1970-01-01 00:00:01</td>\n",
       "      <td>1970-01-01 07:12:30</td>\n",
       "      <td>2020-01-02</td>\n",
       "      <td>NaT</td>\n",
       "      <td>NaT</td>\n",
       "    </tr>\n",
       "    <tr>\n",
       "      <th>4</th>\n",
       "      <td>1970-01-01 15:47:00</td>\n",
       "      <td>1970-01-01 23:59:59</td>\n",
       "      <td>2020-01-02</td>\n",
       "      <td>NaT</td>\n",
       "      <td>NaT</td>\n",
       "    </tr>\n",
       "    <tr>\n",
       "      <th>...</th>\n",
       "      <td>...</td>\n",
       "      <td>...</td>\n",
       "      <td>...</td>\n",
       "      <td>...</td>\n",
       "      <td>...</td>\n",
       "    </tr>\n",
       "    <tr>\n",
       "      <th>466</th>\n",
       "      <td>1970-01-01 10:51:00</td>\n",
       "      <td>1970-01-01 18:29:30</td>\n",
       "      <td>2020-12-28</td>\n",
       "      <td>1970-01-01 09:37:51.714285714</td>\n",
       "      <td>1970-01-01 15:10:17.000000000</td>\n",
       "    </tr>\n",
       "    <tr>\n",
       "      <th>467</th>\n",
       "      <td>1970-01-01 16:19:30</td>\n",
       "      <td>1970-01-01 23:59:59</td>\n",
       "      <td>2020-12-29</td>\n",
       "      <td>1970-01-01 11:57:47.285714285</td>\n",
       "      <td>1970-01-01 18:33:29.714285714</td>\n",
       "    </tr>\n",
       "    <tr>\n",
       "      <th>468</th>\n",
       "      <td>1970-01-01 00:00:01</td>\n",
       "      <td>1970-01-01 02:30:30</td>\n",
       "      <td>2020-12-30</td>\n",
       "      <td>1970-01-01 10:19:30.285714285</td>\n",
       "      <td>1970-01-01 16:20:38.285714285</td>\n",
       "    </tr>\n",
       "    <tr>\n",
       "      <th>469</th>\n",
       "      <td>1970-01-01 09:24:00</td>\n",
       "      <td>1970-01-01 18:09:00</td>\n",
       "      <td>2020-12-31</td>\n",
       "      <td>1970-01-01 08:42:00.285714285</td>\n",
       "      <td>1970-01-01 15:30:29.857142857</td>\n",
       "    </tr>\n",
       "    <tr>\n",
       "      <th>470</th>\n",
       "      <td>1970-01-01 12:43:00</td>\n",
       "      <td>1970-01-01 18:30:30</td>\n",
       "      <td>2021-01-01</td>\n",
       "      <td>1970-01-01 10:31:00.142857142</td>\n",
       "      <td>1970-01-01 17:11:47.000000000</td>\n",
       "    </tr>\n",
       "  </tbody>\n",
       "</table>\n",
       "<p>471 rows × 5 columns</p>\n",
       "</div>"
      ],
      "text/plain": [
       "                  Start                 End         Day  \\\n",
       "0   1970-01-01 23:00:00 1970-01-01 23:59:59  2019-12-31   \n",
       "1   1970-01-01 00:00:01 1970-01-01 03:58:00  2020-01-01   \n",
       "2   1970-01-01 20:40:00 1970-01-01 23:59:59  2020-01-01   \n",
       "3   1970-01-01 00:00:01 1970-01-01 07:12:30  2020-01-02   \n",
       "4   1970-01-01 15:47:00 1970-01-01 23:59:59  2020-01-02   \n",
       "..                  ...                 ...         ...   \n",
       "466 1970-01-01 10:51:00 1970-01-01 18:29:30  2020-12-28   \n",
       "467 1970-01-01 16:19:30 1970-01-01 23:59:59  2020-12-29   \n",
       "468 1970-01-01 00:00:01 1970-01-01 02:30:30  2020-12-30   \n",
       "469 1970-01-01 09:24:00 1970-01-01 18:09:00  2020-12-31   \n",
       "470 1970-01-01 12:43:00 1970-01-01 18:30:30  2021-01-01   \n",
       "\n",
       "         7 Day Rolling Start Time        7 Day Rolling End Time  \n",
       "0                             NaT                           NaT  \n",
       "1                             NaT                           NaT  \n",
       "2                             NaT                           NaT  \n",
       "3                             NaT                           NaT  \n",
       "4                             NaT                           NaT  \n",
       "..                            ...                           ...  \n",
       "466 1970-01-01 09:37:51.714285714 1970-01-01 15:10:17.000000000  \n",
       "467 1970-01-01 11:57:47.285714285 1970-01-01 18:33:29.714285714  \n",
       "468 1970-01-01 10:19:30.285714285 1970-01-01 16:20:38.285714285  \n",
       "469 1970-01-01 08:42:00.285714285 1970-01-01 15:30:29.857142857  \n",
       "470 1970-01-01 10:31:00.142857142 1970-01-01 17:11:47.000000000  \n",
       "\n",
       "[471 rows x 5 columns]"
      ]
     },
     "execution_count": 196,
     "metadata": {},
     "output_type": "execute_result"
    }
   ],
   "source": [
    "sleep_df['7 Day Rolling Start Time'] = rolling_timestamp['Start']\n",
    "sleep_df['7 Day Rolling End Time'] = rolling_timestamp['End']\n",
    "sleep_df"
   ]
  },
  {
   "cell_type": "code",
   "execution_count": 197,
   "id": "f00fe7e3-93c3-49c2-b516-37b15421ad3e",
   "metadata": {},
   "outputs": [],
   "source": [
    "customdata = ['7 Day Rolling Start Time', '7 Day Rolling End Time']"
   ]
  },
  {
   "cell_type": "code",
   "execution_count": 198,
   "id": "1fbb5963-1b1e-437e-9634-11abb0a1c825",
   "metadata": {},
   "outputs": [
    {
     "name": "stdout",
     "output_type": "stream",
     "text": [
      "Dash app running on http://127.0.0.1:9010/\n"
     ]
    },
    {
     "name": "stderr",
     "output_type": "stream",
     "text": [
      "/home/mcwaage1/venv/lib/python3.8/site-packages/jupyter_dash/jupyter_app.py:139: UserWarning:\n",
      "\n",
      "The 'environ['werkzeug.server.shutdown']' function is deprecated and will be removed in Werkzeug 2.1.\n",
      "\n"
     ]
    }
   ],
   "source": [
    "# https://community.plotly.com/t/how-do-i-change-the-x-axis-representation-of-time-on-the-px-timeline/44834/4\n",
    "# https://stackoverflow.com/questions/67319505/how-to-plot-multiple-timelines-in-one-graph\n",
    "# https://stackoverflow.com/questions/66905297/plotly-is-it-possible-to-add-a-second-y-axis-to-plotly-timeline\n",
    "\n",
    "df = sleep_df\n",
    "\n",
    "title = 'Sleep Timeline Dashboard'\n",
    "\n",
    "fig = go.Figure()\n",
    "fig = px.timeline(df, x_start=\"Start\", x_end=\"End\", y='Day')\n",
    "\n",
    "# # start/end marker traces\n",
    "# # https://plotly.com/python/marker-style/\n",
    "# fig.add_trace(go.Scatter(x=df['Start'], y=df['Day'], name='Starts', mode='markers', marker_color='#00CC96'))\n",
    "# fig.add_trace(go.Scatter(x=df['End'], y=df['Day'], name='Ends', mode='markers', marker_color='#EF553B'))\n",
    "\n",
    "# #rolling\n",
    "# fig.add_trace(go.Scatter(x=df['7 Day Rolling Start Time'], \n",
    "#                          y=df['Day'], \n",
    "#                          name=f'{rolling} Day Rolling Start Time',\n",
    "#                          customdata = customdata, \n",
    "#                          hovertemplate =\n",
    "#                          \"{rolling} Day Rolling Mean Start Time: %{x}<br>\" +\n",
    "#                          \"<extra></extra>\",\n",
    "#                         ))\n",
    "# fig.add_trace(go.Scatter(x=df['7 Day Rolling End Time'], \n",
    "#                          y=df['Day'], \n",
    "#                          name=f'{rolling} Day Rolling End Time',\n",
    "#                          customdata = customdata, \n",
    "#                          hovertemplate =\n",
    "#                          \"{rolling} Day Rolling Mean End Time: %{x}<br>\" +\n",
    "#                          \"<extra></extra>\",\n",
    "#                         ))\n",
    "\n",
    "fig.add_vline(x=median_sleep_start, line_dash=\"dash\", opacity=0.5)\n",
    "fig.add_vline(x=median_sleep_end, line_dash=\"dash\", opacity=0.5)\n",
    "\n",
    "# https://github.com/d3/d3-time-format#locale_format change time format\n",
    "fig.update_layout(xaxis=dict(\n",
    "                      title='Timestamp', \n",
    "                      tickformat = '%H:%M:%S',\n",
    "                      range=['1970-01-01 00:00:00','1970-01-01 23:59:59']\n",
    "                  ),\n",
    "                  yaxis=dict(\n",
    "                      title='Day',\n",
    "                      tickformat = '%b/%d/%Y',\n",
    "                      #dtick=86400000*2\n",
    "                   ),\n",
    "                 showlegend=True)\n",
    "    \n",
    "fig.update_layout(#hovermode='x unified',\n",
    "                  #dragmode='pan',\n",
    "                  title=dict(text=title, \n",
    "                             yanchor=\"top\",\n",
    "                             y=.98,\n",
    "                             xanchor=\"left\",\n",
    "                             x=.05),\n",
    "                 legend=dict(orientation=\"h\",\n",
    "                             yanchor=\"bottom\",\n",
    "                             y=1.02,\n",
    "                             xanchor=\"right\",\n",
    "                             x=1,\n",
    "                             ))\n",
    "\n",
    "fig.update_yaxes(autorange=\"reversed\") # otherwise tasks are listed from the bottom up\n",
    "\n",
    "app = jupyter_dash.JupyterDash(__name__,\n",
    "                               external_stylesheets=external_stylesheets,\n",
    "                               title=f\"{title}\")\n",
    "\n",
    "app.layout = html.Div([\n",
    "    dcc.Graph(\n",
    "        figure=fig,\n",
    "        \n",
    "        #https://plotly.com/python/setting-graph-size/\n",
    "        #https://stackoverflow.com/questions/46287189/how-can-i-change-the-size-of-my-dash-graph\n",
    "        style={'height': '98vh',\n",
    "               #'width': '150vh',\n",
    "              }\n",
    "    ),\n",
    "])\n",
    "\n",
    "if __name__ == '__main__':\n",
    "    app.run_server(mode='external', port=9010, debug=True)"
   ]
  },
  {
   "cell_type": "markdown",
   "id": "78741f2a-2e70-4952-b75f-6f4b45e028d7",
   "metadata": {},
   "source": [
    "# Sleep Start/End Times Histogram"
   ]
  },
  {
   "cell_type": "code",
   "execution_count": 199,
   "id": "b40adb3e-4439-4b65-913e-d6218a80aa09",
   "metadata": {
    "tags": []
   },
   "outputs": [
    {
     "name": "stdout",
     "output_type": "stream",
     "text": [
      "Dash app running on http://127.0.0.1:9020/\n"
     ]
    }
   ],
   "source": [
    "# need to fix start/end times\n",
    "\n",
    "title = \"Sleep Start/End Times Histogram\"\n",
    "\n",
    "df = sleep_df\n",
    "\n",
    "fig = go.Figure()\n",
    "fig.add_trace(go.Histogram(x=df['Start'], name=\"Starts\"))\n",
    "fig.add_trace(go.Histogram(x=df['End'], name='Ends'))\n",
    "\n",
    "# Overlay both histograms\n",
    "fig.update_layout(barmode='overlay')\n",
    "\n",
    "# Reduce opacity to see both histograms\n",
    "fig.update_traces(opacity=0.75, \n",
    "                  # https://plotly.com/python/reference/histogram/#histogram-xbins\n",
    "                  xbins_size=60000*10,\n",
    "                  #xbins_start=60000,\n",
    "                  #xbins_end=86394000,\n",
    "                 )\n",
    "\n",
    "app = jupyter_dash.JupyterDash(__name__,\n",
    "                               external_stylesheets=external_stylesheets,\n",
    "                               title=f\"{title}\")\n",
    "\n",
    "app.layout = html.Div([\n",
    "    dcc.Graph(\n",
    "        figure=fig,\n",
    "        \n",
    "        #https://plotly.com/python/setting-graph-size/\n",
    "        #https://stackoverflow.com/questions/46287189/how-can-i-change-the-size-of-my-dash-graph\n",
    "        style={'height': '98vh',\n",
    "               #'width': '150vh',\n",
    "              }\n",
    "    ),\n",
    "])\n",
    "\n",
    "if __name__ == '__main__':\n",
    "    app.run_server(mode='external', port=9020, debug=True)['sleeping_durations_seconds']"
   ]
  },
  {
   "cell_type": "markdown",
   "id": "8c0d4d8c-1754-4eb4-afe0-1e7343b05498",
   "metadata": {},
   "source": [
    "# Sleep Duration Histogram"
   ]
  },
  {
   "cell_type": "code",
   "execution_count": 200,
   "id": "2670ccdf-d8bb-492f-b8c7-7f1135710c56",
   "metadata": {},
   "outputs": [
    {
     "data": {
      "text/html": [
       "<div>\n",
       "<style scoped>\n",
       "    .dataframe tbody tr th:only-of-type {\n",
       "        vertical-align: middle;\n",
       "    }\n",
       "\n",
       "    .dataframe tbody tr th {\n",
       "        vertical-align: top;\n",
       "    }\n",
       "\n",
       "    .dataframe thead th {\n",
       "        text-align: right;\n",
       "    }\n",
       "</style>\n",
       "<table border=\"1\" class=\"dataframe\">\n",
       "  <thead>\n",
       "    <tr style=\"text-align: right;\">\n",
       "      <th></th>\n",
       "      <th>Start</th>\n",
       "      <th>End</th>\n",
       "      <th>Day</th>\n",
       "      <th>7 Day Rolling Start Time</th>\n",
       "      <th>7 Day Rolling End Time</th>\n",
       "      <th>Activity</th>\n",
       "      <th>Duration in Seconds</th>\n",
       "    </tr>\n",
       "  </thead>\n",
       "  <tbody>\n",
       "    <tr>\n",
       "      <th>0</th>\n",
       "      <td>1970-01-01 23:00:00</td>\n",
       "      <td>1970-01-01 23:59:59</td>\n",
       "      <td>2019-12-31</td>\n",
       "      <td>NaT</td>\n",
       "      <td>NaT</td>\n",
       "      <td>Sleeping</td>\n",
       "      <td>3599.0</td>\n",
       "    </tr>\n",
       "    <tr>\n",
       "      <th>1</th>\n",
       "      <td>1970-01-01 00:00:01</td>\n",
       "      <td>1970-01-01 03:58:00</td>\n",
       "      <td>2020-01-01</td>\n",
       "      <td>NaT</td>\n",
       "      <td>NaT</td>\n",
       "      <td>Sleeping</td>\n",
       "      <td>14279.0</td>\n",
       "    </tr>\n",
       "    <tr>\n",
       "      <th>2</th>\n",
       "      <td>1970-01-01 20:40:00</td>\n",
       "      <td>1970-01-01 23:59:59</td>\n",
       "      <td>2020-01-01</td>\n",
       "      <td>NaT</td>\n",
       "      <td>NaT</td>\n",
       "      <td>Sleeping</td>\n",
       "      <td>11999.0</td>\n",
       "    </tr>\n",
       "    <tr>\n",
       "      <th>3</th>\n",
       "      <td>1970-01-01 00:00:01</td>\n",
       "      <td>1970-01-01 07:12:30</td>\n",
       "      <td>2020-01-02</td>\n",
       "      <td>NaT</td>\n",
       "      <td>NaT</td>\n",
       "      <td>Sleeping</td>\n",
       "      <td>25949.0</td>\n",
       "    </tr>\n",
       "    <tr>\n",
       "      <th>4</th>\n",
       "      <td>1970-01-01 15:47:00</td>\n",
       "      <td>1970-01-01 23:59:59</td>\n",
       "      <td>2020-01-02</td>\n",
       "      <td>NaT</td>\n",
       "      <td>NaT</td>\n",
       "      <td>Sleeping</td>\n",
       "      <td>29579.0</td>\n",
       "    </tr>\n",
       "    <tr>\n",
       "      <th>...</th>\n",
       "      <td>...</td>\n",
       "      <td>...</td>\n",
       "      <td>...</td>\n",
       "      <td>...</td>\n",
       "      <td>...</td>\n",
       "      <td>...</td>\n",
       "      <td>...</td>\n",
       "    </tr>\n",
       "    <tr>\n",
       "      <th>466</th>\n",
       "      <td>1970-01-01 10:51:00</td>\n",
       "      <td>1970-01-01 18:29:30</td>\n",
       "      <td>2020-12-28</td>\n",
       "      <td>1970-01-01 09:37:51.714285714</td>\n",
       "      <td>1970-01-01 15:10:17.000000000</td>\n",
       "      <td>Sleeping</td>\n",
       "      <td>27510.0</td>\n",
       "    </tr>\n",
       "    <tr>\n",
       "      <th>467</th>\n",
       "      <td>1970-01-01 16:19:30</td>\n",
       "      <td>1970-01-01 23:59:59</td>\n",
       "      <td>2020-12-29</td>\n",
       "      <td>1970-01-01 11:57:47.285714285</td>\n",
       "      <td>1970-01-01 18:33:29.714285714</td>\n",
       "      <td>Sleeping</td>\n",
       "      <td>27629.0</td>\n",
       "    </tr>\n",
       "    <tr>\n",
       "      <th>468</th>\n",
       "      <td>1970-01-01 00:00:01</td>\n",
       "      <td>1970-01-01 02:30:30</td>\n",
       "      <td>2020-12-30</td>\n",
       "      <td>1970-01-01 10:19:30.285714285</td>\n",
       "      <td>1970-01-01 16:20:38.285714285</td>\n",
       "      <td>Sleeping</td>\n",
       "      <td>9029.0</td>\n",
       "    </tr>\n",
       "    <tr>\n",
       "      <th>469</th>\n",
       "      <td>1970-01-01 09:24:00</td>\n",
       "      <td>1970-01-01 18:09:00</td>\n",
       "      <td>2020-12-31</td>\n",
       "      <td>1970-01-01 08:42:00.285714285</td>\n",
       "      <td>1970-01-01 15:30:29.857142857</td>\n",
       "      <td>Sleeping</td>\n",
       "      <td>31500.0</td>\n",
       "    </tr>\n",
       "    <tr>\n",
       "      <th>470</th>\n",
       "      <td>1970-01-01 12:43:00</td>\n",
       "      <td>1970-01-01 18:30:30</td>\n",
       "      <td>2021-01-01</td>\n",
       "      <td>1970-01-01 10:31:00.142857142</td>\n",
       "      <td>1970-01-01 17:11:47.000000000</td>\n",
       "      <td>Sleeping</td>\n",
       "      <td>20850.0</td>\n",
       "    </tr>\n",
       "  </tbody>\n",
       "</table>\n",
       "<p>471 rows × 7 columns</p>\n",
       "</div>"
      ],
      "text/plain": [
       "                  Start                 End         Day  \\\n",
       "0   1970-01-01 23:00:00 1970-01-01 23:59:59  2019-12-31   \n",
       "1   1970-01-01 00:00:01 1970-01-01 03:58:00  2020-01-01   \n",
       "2   1970-01-01 20:40:00 1970-01-01 23:59:59  2020-01-01   \n",
       "3   1970-01-01 00:00:01 1970-01-01 07:12:30  2020-01-02   \n",
       "4   1970-01-01 15:47:00 1970-01-01 23:59:59  2020-01-02   \n",
       "..                  ...                 ...         ...   \n",
       "466 1970-01-01 10:51:00 1970-01-01 18:29:30  2020-12-28   \n",
       "467 1970-01-01 16:19:30 1970-01-01 23:59:59  2020-12-29   \n",
       "468 1970-01-01 00:00:01 1970-01-01 02:30:30  2020-12-30   \n",
       "469 1970-01-01 09:24:00 1970-01-01 18:09:00  2020-12-31   \n",
       "470 1970-01-01 12:43:00 1970-01-01 18:30:30  2021-01-01   \n",
       "\n",
       "         7 Day Rolling Start Time        7 Day Rolling End Time  Activity  \\\n",
       "0                             NaT                           NaT  Sleeping   \n",
       "1                             NaT                           NaT  Sleeping   \n",
       "2                             NaT                           NaT  Sleeping   \n",
       "3                             NaT                           NaT  Sleeping   \n",
       "4                             NaT                           NaT  Sleeping   \n",
       "..                            ...                           ...       ...   \n",
       "466 1970-01-01 09:37:51.714285714 1970-01-01 15:10:17.000000000  Sleeping   \n",
       "467 1970-01-01 11:57:47.285714285 1970-01-01 18:33:29.714285714  Sleeping   \n",
       "468 1970-01-01 10:19:30.285714285 1970-01-01 16:20:38.285714285  Sleeping   \n",
       "469 1970-01-01 08:42:00.285714285 1970-01-01 15:30:29.857142857  Sleeping   \n",
       "470 1970-01-01 10:31:00.142857142 1970-01-01 17:11:47.000000000  Sleeping   \n",
       "\n",
       "     Duration in Seconds  \n",
       "0                 3599.0  \n",
       "1                14279.0  \n",
       "2                11999.0  \n",
       "3                25949.0  \n",
       "4                29579.0  \n",
       "..                   ...  \n",
       "466              27510.0  \n",
       "467              27629.0  \n",
       "468               9029.0  \n",
       "469              31500.0  \n",
       "470              20850.0  \n",
       "\n",
       "[471 rows x 7 columns]"
      ]
     },
     "execution_count": 200,
     "metadata": {},
     "output_type": "execute_result"
    }
   ],
   "source": [
    "df['Activity'] = 'Sleeping'\n",
    "df['Duration in Seconds'] = pd.to_timedelta(df['End'] - df['Start']).astype('timedelta64[s]')\n",
    "\n",
    "df"
   ]
  },
  {
   "cell_type": "code",
   "execution_count": 201,
   "id": "d63406a6-c629-4116-926a-8836017da84f",
   "metadata": {},
   "outputs": [],
   "source": [
    "unique_activities_sorted = ['Sleeping']"
   ]
  },
  {
   "cell_type": "code",
   "execution_count": 202,
   "id": "74a39a1d-62e3-4587-8fd1-58007d866cfb",
   "metadata": {},
   "outputs": [
    {
     "name": "stderr",
     "output_type": "stream",
     "text": [
      "<ipython-input-202-feae6b683172>:21: SettingWithCopyWarning:\n",
      "\n",
      "\n",
      "A value is trying to be set on a copy of a slice from a DataFrame\n",
      "\n",
      "See the caveats in the documentation: https://pandas.pydata.org/pandas-docs/stable/user_guide/indexing.html#returning-a-view-versus-a-copy\n",
      "\n",
      "/home/mcwaage1/venv/lib/python3.8/site-packages/pandas/core/indexing.py:1637: SettingWithCopyWarning:\n",
      "\n",
      "\n",
      "A value is trying to be set on a copy of a slice from a DataFrame\n",
      "\n",
      "See the caveats in the documentation: https://pandas.pydata.org/pandas-docs/stable/user_guide/indexing.html#returning-a-view-versus-a-copy\n",
      "\n",
      "<ipython-input-202-feae6b683172>:22: SettingWithCopyWarning:\n",
      "\n",
      "\n",
      "A value is trying to be set on a copy of a slice from a DataFrame\n",
      "\n",
      "See the caveats in the documentation: https://pandas.pydata.org/pandas-docs/stable/user_guide/indexing.html#returning-a-view-versus-a-copy\n",
      "\n"
     ]
    },
    {
     "data": {
      "text/html": [
       "<div>\n",
       "<style scoped>\n",
       "    .dataframe tbody tr th:only-of-type {\n",
       "        vertical-align: middle;\n",
       "    }\n",
       "\n",
       "    .dataframe tbody tr th {\n",
       "        vertical-align: top;\n",
       "    }\n",
       "\n",
       "    .dataframe thead th {\n",
       "        text-align: right;\n",
       "    }\n",
       "</style>\n",
       "<table border=\"1\" class=\"dataframe\">\n",
       "  <thead>\n",
       "    <tr style=\"text-align: right;\">\n",
       "      <th></th>\n",
       "      <th>Day</th>\n",
       "      <th>sleeping_durations_seconds</th>\n",
       "      <th>sleeping_counts</th>\n",
       "      <th>sleeping_durations</th>\n",
       "      <th>sleeping_durations_seconds_7_day_rolling_mean</th>\n",
       "    </tr>\n",
       "  </thead>\n",
       "  <tbody>\n",
       "    <tr>\n",
       "      <th>0</th>\n",
       "      <td>2019-12-31</td>\n",
       "      <td>3599</td>\n",
       "      <td>1</td>\n",
       "      <td>00:59:59</td>\n",
       "      <td>0</td>\n",
       "    </tr>\n",
       "    <tr>\n",
       "      <th>1</th>\n",
       "      <td>2020-01-01</td>\n",
       "      <td>26278</td>\n",
       "      <td>2</td>\n",
       "      <td>07:17:58</td>\n",
       "      <td>0</td>\n",
       "    </tr>\n",
       "    <tr>\n",
       "      <th>2</th>\n",
       "      <td>2020-01-02</td>\n",
       "      <td>55528</td>\n",
       "      <td>2</td>\n",
       "      <td>15:25:28</td>\n",
       "      <td>0</td>\n",
       "    </tr>\n",
       "    <tr>\n",
       "      <th>3</th>\n",
       "      <td>2020-01-03</td>\n",
       "      <td>43439</td>\n",
       "      <td>2</td>\n",
       "      <td>12:03:59</td>\n",
       "      <td>0</td>\n",
       "    </tr>\n",
       "    <tr>\n",
       "      <th>4</th>\n",
       "      <td>2020-01-04</td>\n",
       "      <td>14940</td>\n",
       "      <td>1</td>\n",
       "      <td>04:09:00</td>\n",
       "      <td>0</td>\n",
       "    </tr>\n",
       "    <tr>\n",
       "      <th>...</th>\n",
       "      <td>...</td>\n",
       "      <td>...</td>\n",
       "      <td>...</td>\n",
       "      <td>...</td>\n",
       "      <td>...</td>\n",
       "    </tr>\n",
       "    <tr>\n",
       "      <th>363</th>\n",
       "      <td>2020-12-28</td>\n",
       "      <td>27510</td>\n",
       "      <td>1</td>\n",
       "      <td>07:38:30</td>\n",
       "      <td>30235</td>\n",
       "    </tr>\n",
       "    <tr>\n",
       "      <th>364</th>\n",
       "      <td>2020-12-29</td>\n",
       "      <td>27629</td>\n",
       "      <td>1</td>\n",
       "      <td>07:40:29</td>\n",
       "      <td>28833</td>\n",
       "    </tr>\n",
       "    <tr>\n",
       "      <th>365</th>\n",
       "      <td>2020-12-30</td>\n",
       "      <td>9029</td>\n",
       "      <td>1</td>\n",
       "      <td>02:30:29</td>\n",
       "      <td>25182</td>\n",
       "    </tr>\n",
       "    <tr>\n",
       "      <th>366</th>\n",
       "      <td>2020-12-31</td>\n",
       "      <td>31500</td>\n",
       "      <td>1</td>\n",
       "      <td>08:45:00</td>\n",
       "      <td>26168</td>\n",
       "    </tr>\n",
       "    <tr>\n",
       "      <th>367</th>\n",
       "      <td>2021-01-01</td>\n",
       "      <td>20850</td>\n",
       "      <td>1</td>\n",
       "      <td>05:47:30</td>\n",
       "      <td>27488</td>\n",
       "    </tr>\n",
       "  </tbody>\n",
       "</table>\n",
       "<p>368 rows × 5 columns</p>\n",
       "</div>"
      ],
      "text/plain": [
       "           Day  sleeping_durations_seconds  sleeping_counts  \\\n",
       "0   2019-12-31                        3599                1   \n",
       "1   2020-01-01                       26278                2   \n",
       "2   2020-01-02                       55528                2   \n",
       "3   2020-01-03                       43439                2   \n",
       "4   2020-01-04                       14940                1   \n",
       "..         ...                         ...              ...   \n",
       "363 2020-12-28                       27510                1   \n",
       "364 2020-12-29                       27629                1   \n",
       "365 2020-12-30                        9029                1   \n",
       "366 2020-12-31                       31500                1   \n",
       "367 2021-01-01                       20850                1   \n",
       "\n",
       "    sleeping_durations  sleeping_durations_seconds_7_day_rolling_mean  \n",
       "0             00:59:59                                              0  \n",
       "1             07:17:58                                              0  \n",
       "2             15:25:28                                              0  \n",
       "3             12:03:59                                              0  \n",
       "4             04:09:00                                              0  \n",
       "..                 ...                                            ...  \n",
       "363           07:38:30                                          30235  \n",
       "364           07:40:29                                          28833  \n",
       "365           02:30:29                                          25182  \n",
       "366           08:45:00                                          26168  \n",
       "367           05:47:30                                          27488  \n",
       "\n",
       "[368 rows x 5 columns]"
      ]
     },
     "execution_count": 202,
     "metadata": {},
     "output_type": "execute_result"
    }
   ],
   "source": [
    "merged_df_list = []\n",
    "for activity in unique_activities_sorted:\n",
    "    globals()[f\"{activity}_df\".lower().replace('/', '_').replace(' ', '_')] = pd.DataFrame()\n",
    "    globals()[f\"{activity}_df\".lower().replace('/', '_').replace(' ', '_')]['Day'] = df.loc[df['Activity'].str.contains(f\"{activity}\"), 'Day']\n",
    "    globals()[f\"{activity}_df\".lower().replace('/', '_').replace(' ', '_')][f\"{activity}_durations_seconds\".lower().replace('/', '_').replace(' ', '_')] =  df.loc[df['Activity'].str.contains(f\"{activity}\"), 'Duration in Seconds']       \n",
    "    globals()[f\"{activity}_df\".lower().replace('/', '_').replace(' ', '_')]['Day'] =  [pd.to_datetime(i) for i in globals()[f\"{activity}_df\".lower().replace('/', '_').replace(' ', '_')]['Day']]\n",
    "    globals()[f\"{activity}_df\".lower().replace('/', '_').replace(' ', '_')][f\"{activity}_durations_seconds\".lower().replace('/', '_').replace(' ', '_')] = [int(i) for i in globals()[f\"{activity}_df\".lower().replace('/', '_').replace(' ', '_')][f\"{activity}_durations_seconds\".lower().replace('/', '_').replace(' ', '_')]]\n",
    "    \n",
    "    globals()[f\"grouped_{activity}_df\".lower().replace('/', '_').replace(' ', '_')] = pd.DataFrame(df.loc[df['Activity'].str.contains(f\"{activity}\")].groupby(df['Day']).agg('Duration in Seconds').sum()).reset_index().rename({'Duration in Seconds':f\"{activity}_durations_seconds\".lower().replace('/', '_').replace(' ', '_')}, axis='columns')\n",
    "    globals()[f\"grouped_{activity}_count_df\".lower().replace('/', '_').replace(' ', '_')] = pd.DataFrame(df.loc[df['Activity'].str.contains(f\"{activity}\")].groupby(df['Day']).agg('Duration in Seconds').count()).reset_index().rename({'Duration in Seconds':f\"{activity}_counts\".lower().replace('/', '_').replace(' ', '_')}, axis='columns')\n",
    "    globals()[f\"grouped_{activity}_df\".lower().replace('/', '_').replace(' ', '_')][f\"{activity}_counts\".lower().replace('/', '_').replace(' ', '_')] = globals()[f\"grouped_{activity}_count_df\".lower().replace('/', '_').replace(' ', '_')][f\"{activity}_counts\".lower().replace('/', '_').replace(' ', '_')]\n",
    "    globals()[f\"grouped_{activity}_df\".lower().replace('/', '_').replace(' ', '_')]['Day'] =  [pd.to_datetime(i) for i in globals()[f\"grouped_{activity}_df\".lower().replace('/', '_').replace(' ', '_')]['Day']]\n",
    "    globals()[f\"grouped_{activity}_df\".lower().replace('/', '_').replace(' ', '_')][f\"{activity}_durations_seconds\".lower().replace('/', '_').replace(' ', '_')] = [int(i) for i in globals()[f\"grouped_{activity}_df\".lower().replace('/', '_').replace(' ', '_')][f\"{activity}_durations_seconds\".lower().replace('/', '_').replace(' ', '_')]]\n",
    "\n",
    "    globals()[f\"grouped_{activity}_df\".lower().replace('/', '_').replace(' ', '_')] = globals()[f\"grouped_{activity}_df\".lower().replace('/', '_').replace(' ', '_')].set_index('Day')\n",
    "    globals()[f\"grouped_{activity}_df\".lower().replace('/', '_').replace(' ', '_')] = globals()[f\"grouped_{activity}_df\".lower().replace('/', '_').replace(' ', '_')].asfreq('D', fill_value=0).reset_index()\n",
    "    globals()[f\"grouped_{activity}_df\".lower().replace('/', '_').replace(' ', '_')][f\"{activity}_durations\".lower().replace('/', '_').replace(' ', '_')] = 0\n",
    "    globals()[f\"grouped_{activity}_df\".lower().replace('/', '_').replace(' ', '_')][f\"{activity}_durations_seconds_7_day_rolling_mean\".lower().replace('/', '_').replace(' ', '_')] = 0\n",
    "\n",
    "    for i in globals()[f\"grouped_{activity}_df\".lower().replace('/', '_').replace(' ', '_')][f\"{activity}_durations_seconds\".lower().replace('/', '_').replace(' ', '_')].index:\n",
    "        globals()[f\"grouped_{activity}_df\".lower().replace('/', '_').replace(' ', '_')][f\"{activity}_durations\".lower().replace('/', '_').replace(' ', '_')][i] = str(pd.Timedelta(seconds=globals()[f\"grouped_{activity}_df\".lower().replace('/', '_').replace(' ', '_')][f\"{activity}_durations_seconds\".lower().replace('/', '_').replace(' ', '_')][i]))[-8:]\n",
    "        globals()[f\"grouped_{activity}_df\".lower().replace('/', '_').replace(' ', '_')][f\"{activity}_durations_seconds_7_day_rolling_mean\".lower().replace('/', '_').replace(' ', '_')][i] = np.nan_to_num(globals()[f\"grouped_{activity}_df\".lower().replace('/', '_').replace(' ', '_')][f\"{activity}_durations_seconds\".lower().replace('/', '_').replace(' ', '_')].rolling(7).mean()[i])\n",
    "\n",
    "    merged_df_list.append(globals()[f\"grouped_{activity}_df\".lower().replace('/', '_').replace(' ', '_')])\n",
    "    \n",
    "grouped_sleeping_df"
   ]
  },
  {
   "cell_type": "code",
   "execution_count": 207,
   "id": "450abaf7-26a5-4406-8d83-a8546ad5d97d",
   "metadata": {},
   "outputs": [
    {
     "data": {
      "text/plain": [
       "['sleeping_durations']"
      ]
     },
     "execution_count": 207,
     "metadata": {},
     "output_type": "execute_result"
    }
   ],
   "source": [
    "df = grouped_sleeping_df\n",
    "df_counts = [i for i in df.columns if i.endswith('counts')]\n",
    "df_durations_seconds = [i for i in df.columns if i.endswith('seconds')]\n",
    "df_durations = [i for i in df.columns if i.endswith('durations')]\n",
    "df_durations_seconds_7_day_rolling_mean = [i for i in df.columns if i.endswith('mean')]\n",
    "df_durations"
   ]
  },
  {
   "cell_type": "code",
   "execution_count": 208,
   "id": "c80214b5-b1c8-4a38-8ab6-5020b2419576",
   "metadata": {},
   "outputs": [],
   "source": [
    "customdata = ['sleeping_durations']"
   ]
  },
  {
   "cell_type": "code",
   "execution_count": 209,
   "id": "5dde3c42-2f5d-4674-8292-d797dd8c0757",
   "metadata": {},
   "outputs": [
    {
     "name": "stdout",
     "output_type": "stream",
     "text": [
      "Dash app running on http://127.0.0.1:9030/\n"
     ]
    },
    {
     "name": "stderr",
     "output_type": "stream",
     "text": [
      "/home/mcwaage1/venv/lib/python3.8/site-packages/jupyter_dash/jupyter_app.py:139: UserWarning:\n",
      "\n",
      "The 'environ['werkzeug.server.shutdown']' function is deprecated and will be removed in Werkzeug 2.1.\n",
      "\n"
     ]
    }
   ],
   "source": [
    "# sleep duration histogram\n",
    "title = 'Sleep Duration Histogram'\n",
    "\n",
    "df = grouped_sleeping_df\n",
    "customdata=[df[col] for col in df[df_durations].columns],\n",
    "\n",
    "rolling = 7\n",
    "\n",
    "fig = px.histogram(df, \n",
    "                   #x=df['Day'], \n",
    "                   x=[df[col] for col in df[df_durations_seconds].columns],\n",
    "#                    color_discrete_map=correlation_colors,\n",
    "                   title=title,\n",
    "                   nbins=60,\n",
    "                  )\n",
    "\n",
    "fig.update_traces(customdata=customdata,\n",
    "                  hovertemplate =\n",
    "                  \"Activity: Sleeping<br>\" +\n",
    "                  \"Counts: %{y}<br>\" +\n",
    "                  \"Duration in Seconds: %{x}<br>\" +\n",
    "#                   \"Duration: %{customdata}<br>\" +\n",
    "                  \"<extra></extra>\",\n",
    "                  #width=10,\n",
    "                 )\n",
    "\n",
    "# https://stackoverflow.com/questions/61406968/change-colors-in-python-dash-plotly-theme\n",
    "fig.update_layout(#barmode='stack',\n",
    "                  #lot_bgcolor='#282F44',\n",
    "                  #paper_bgcolor ='#282F44',\n",
    "                  #font_color='#FFF',\n",
    "                  #modebar_add=\"v1hovermode\",#+hoverclosest+hovercompare+togglehover+togglespikelines\",\n",
    "                  #hovermode='x unified',\n",
    "                  \n",
    "                  # https://github.com/d3/d3-time-format#locale_format change time format\n",
    "                  xaxis=dict(title='Sleep Durations with ',\n",
    "                            ),\n",
    "                  yaxis=dict(title='Sleeping Counts Within Specified Bin',\n",
    "#                              fixedrange=True, # for keeping zoom level to entire days\n",
    "                            ),\n",
    "                  #hovermode='x unified',\n",
    "                  #dragmode='pan',\n",
    "                  title=dict(text=title, \n",
    "                             yanchor=\"top\",\n",
    "                             y=.98,\n",
    "                             xanchor=\"left\",\n",
    "                             x=.05),\n",
    "                  legend=dict(title='Activities',\n",
    "                              itemclick='toggle',\n",
    "                              itemdoubleclick='toggleothers',\n",
    "                              # for putting legend below chart \n",
    "#                               orientation=\"h\",\n",
    "#                               yanchor=\"bottom\",\n",
    "#                               y=-.1,\n",
    "#                               xanchor=\"right\",\n",
    "#                               x=1,\n",
    "                             ),\n",
    "                 )\n",
    "\n",
    "app = jupyter_dash.JupyterDash(__name__,\n",
    "                               external_stylesheets=external_stylesheets,\n",
    "                               title=f\"{title}\")\n",
    "              \n",
    "app.layout = html.Div([\n",
    "    dcc.Graph(\n",
    "        figure=fig,\n",
    "        \n",
    "        #https://plotly.com/python/setting-graph-size/\n",
    "        #https://stackoverflow.com/questions/46287189/how-can-i-change-the-size-of-my-dash-graph\n",
    "        style={'height': '98vh',\n",
    "               'width': '98vw',\n",
    "              },\n",
    "        \n",
    "#         style={'height': '950px',\n",
    "#                'width': '1600px',\n",
    "#               },\n",
    "    ),\n",
    "])\n",
    "\n",
    "if __name__ == '__main__':\n",
    "    app.run_server(mode='external', port=9030, debug=True)"
   ]
  },
  {
   "cell_type": "markdown",
   "id": "3267182a-bc91-4b31-81f6-ae194bd5511e",
   "metadata": {},
   "source": [
    "# Sleeping Duration Scatterplot"
   ]
  },
  {
   "cell_type": "code",
   "execution_count": 217,
   "id": "b70a6f75-3073-4a36-90bf-96d5821c5776",
   "metadata": {},
   "outputs": [
    {
     "data": {
      "text/plain": [
       "Day                                              datetime64[ns]\n",
       "sleeping_durations_seconds                                int64\n",
       "sleeping_counts                                           int64\n",
       "sleeping_durations                                       object\n",
       "sleeping_durations_seconds_7_day_rolling_mean             int64\n",
       "dtype: object"
      ]
     },
     "execution_count": 217,
     "metadata": {},
     "output_type": "execute_result"
    }
   ],
   "source": [
    "grouped_sleeping_df.dtypes"
   ]
  },
  {
   "cell_type": "code",
   "execution_count": 220,
   "id": "6edb272b-03f3-4f90-9a4e-730576b50062",
   "metadata": {},
   "outputs": [
    {
     "data": {
      "text/plain": [
       "Day                                              datetime64[ns]\n",
       "sleeping_durations_seconds                       datetime64[ns]\n",
       "sleeping_counts                                           int64\n",
       "sleeping_durations                                       object\n",
       "sleeping_durations_seconds_7_day_rolling_mean             int64\n",
       "dtype: object"
      ]
     },
     "execution_count": 220,
     "metadata": {},
     "output_type": "execute_result"
    }
   ],
   "source": [
    "grouped_sleeping_df['sleeping_durations_seconds'] = pd.to_datetime(grouped_sleeping_df['sleeping_durations_seconds'], unit='s')\n",
    "grouped_sleeping_df.dtypes"
   ]
  },
  {
   "cell_type": "code",
   "execution_count": 222,
   "id": "c345a7a0-7da3-4401-af66-84600fece7a8",
   "metadata": {},
   "outputs": [
    {
     "ename": "UFuncTypeError",
     "evalue": "ufunc 'subtract' cannot use operands with types dtype('<M8[ns]') and dtype('O')",
     "output_type": "error",
     "traceback": [
      "\u001b[0;31m---------------------------------------------------------------------------\u001b[0m",
      "\u001b[0;31mUFuncTypeError\u001b[0m                            Traceback (most recent call last)",
      "\u001b[0;32m<ipython-input-222-1cfb51123241>\u001b[0m in \u001b[0;36m<module>\u001b[0;34m\u001b[0m\n\u001b[1;32m      6\u001b[0m \u001b[0mrolling\u001b[0m \u001b[0;34m=\u001b[0m \u001b[0;36m7\u001b[0m\u001b[0;34m\u001b[0m\u001b[0;34m\u001b[0m\u001b[0m\n\u001b[1;32m      7\u001b[0m \u001b[0;34m\u001b[0m\u001b[0m\n\u001b[0;32m----> 8\u001b[0;31m fig = px.scatter(df, \n\u001b[0m\u001b[1;32m      9\u001b[0m                  \u001b[0mx\u001b[0m\u001b[0;34m=\u001b[0m\u001b[0mdf\u001b[0m\u001b[0;34m[\u001b[0m\u001b[0;34m'Day'\u001b[0m\u001b[0;34m]\u001b[0m\u001b[0;34m,\u001b[0m\u001b[0;34m\u001b[0m\u001b[0;34m\u001b[0m\u001b[0m\n\u001b[1;32m     10\u001b[0m                  \u001b[0my\u001b[0m\u001b[0;34m=\u001b[0m\u001b[0;34m[\u001b[0m\u001b[0mdf\u001b[0m\u001b[0;34m[\u001b[0m\u001b[0mcol\u001b[0m\u001b[0;34m]\u001b[0m \u001b[0;32mfor\u001b[0m \u001b[0mcol\u001b[0m \u001b[0;32min\u001b[0m \u001b[0mdf\u001b[0m\u001b[0;34m[\u001b[0m\u001b[0mdf_durations_seconds\u001b[0m\u001b[0;34m]\u001b[0m\u001b[0;34m.\u001b[0m\u001b[0mcolumns\u001b[0m\u001b[0;34m]\u001b[0m\u001b[0;34m,\u001b[0m\u001b[0;34m\u001b[0m\u001b[0;34m\u001b[0m\u001b[0m\n",
      "\u001b[0;32m~/venv/lib/python3.8/site-packages/plotly/express/_chart_types.py\u001b[0m in \u001b[0;36mscatter\u001b[0;34m(data_frame, x, y, color, symbol, size, hover_name, hover_data, custom_data, text, facet_row, facet_col, facet_col_wrap, facet_row_spacing, facet_col_spacing, error_x, error_x_minus, error_y, error_y_minus, animation_frame, animation_group, category_orders, labels, orientation, color_discrete_sequence, color_discrete_map, color_continuous_scale, range_color, color_continuous_midpoint, symbol_sequence, symbol_map, opacity, size_max, marginal_x, marginal_y, trendline, trendline_color_override, log_x, log_y, range_x, range_y, render_mode, title, template, width, height)\u001b[0m\n\u001b[1;32m     62\u001b[0m     \u001b[0mmark\u001b[0m \u001b[0;32min\u001b[0m \u001b[0;36m2\u001b[0m\u001b[0mD\u001b[0m \u001b[0mspace\u001b[0m\u001b[0;34m.\u001b[0m\u001b[0;34m\u001b[0m\u001b[0;34m\u001b[0m\u001b[0m\n\u001b[1;32m     63\u001b[0m     \"\"\"\n\u001b[0;32m---> 64\u001b[0;31m     \u001b[0;32mreturn\u001b[0m \u001b[0mmake_figure\u001b[0m\u001b[0;34m(\u001b[0m\u001b[0margs\u001b[0m\u001b[0;34m=\u001b[0m\u001b[0mlocals\u001b[0m\u001b[0;34m(\u001b[0m\u001b[0;34m)\u001b[0m\u001b[0;34m,\u001b[0m \u001b[0mconstructor\u001b[0m\u001b[0;34m=\u001b[0m\u001b[0mgo\u001b[0m\u001b[0;34m.\u001b[0m\u001b[0mScatter\u001b[0m\u001b[0;34m)\u001b[0m\u001b[0;34m\u001b[0m\u001b[0;34m\u001b[0m\u001b[0m\n\u001b[0m\u001b[1;32m     65\u001b[0m \u001b[0;34m\u001b[0m\u001b[0m\n\u001b[1;32m     66\u001b[0m \u001b[0;34m\u001b[0m\u001b[0m\n",
      "\u001b[0;32m~/venv/lib/python3.8/site-packages/plotly/express/_core.py\u001b[0m in \u001b[0;36mmake_figure\u001b[0;34m(args, constructor, trace_patch, layout_patch)\u001b[0m\n\u001b[1;32m   2014\u001b[0m                 \u001b[0mtrace\u001b[0m\u001b[0;34m.\u001b[0m\u001b[0mupdate\u001b[0m\u001b[0;34m(\u001b[0m\u001b[0mmarker\u001b[0m\u001b[0;34m=\u001b[0m\u001b[0mdict\u001b[0m\u001b[0;34m(\u001b[0m\u001b[0mcolor\u001b[0m\u001b[0;34m=\u001b[0m\u001b[0mtrace\u001b[0m\u001b[0;34m.\u001b[0m\u001b[0mline\u001b[0m\u001b[0;34m.\u001b[0m\u001b[0mcolor\u001b[0m\u001b[0;34m)\u001b[0m\u001b[0;34m)\u001b[0m\u001b[0;34m\u001b[0m\u001b[0;34m\u001b[0m\u001b[0m\n\u001b[1;32m   2015\u001b[0m \u001b[0;34m\u001b[0m\u001b[0m\n\u001b[0;32m-> 2016\u001b[0;31m             patch, fit_results = make_trace_kwargs(\n\u001b[0m\u001b[1;32m   2017\u001b[0m                 \u001b[0margs\u001b[0m\u001b[0;34m,\u001b[0m \u001b[0mtrace_spec\u001b[0m\u001b[0;34m,\u001b[0m \u001b[0mgroup\u001b[0m\u001b[0;34m,\u001b[0m \u001b[0mmapping_labels\u001b[0m\u001b[0;34m.\u001b[0m\u001b[0mcopy\u001b[0m\u001b[0;34m(\u001b[0m\u001b[0;34m)\u001b[0m\u001b[0;34m,\u001b[0m \u001b[0msizeref\u001b[0m\u001b[0;34m\u001b[0m\u001b[0;34m\u001b[0m\u001b[0m\n\u001b[1;32m   2018\u001b[0m             )\n",
      "\u001b[0;32m~/venv/lib/python3.8/site-packages/plotly/express/_core.py\u001b[0m in \u001b[0;36mmake_trace_kwargs\u001b[0;34m(args, trace_spec, trace_data, mapping_labels, sizeref)\u001b[0m\n\u001b[1;32m    365\u001b[0m                             )\n\u001b[1;32m    366\u001b[0m                         hover_header += (\n\u001b[0;32m--> 367\u001b[0;31m                             \u001b[0;34m\"R<sup>2</sup>=%f<br><br>\"\u001b[0m \u001b[0;34m%\u001b[0m \u001b[0mfit_results\u001b[0m\u001b[0;34m.\u001b[0m\u001b[0mrsquared\u001b[0m\u001b[0;34m\u001b[0m\u001b[0;34m\u001b[0m\u001b[0m\n\u001b[0m\u001b[1;32m    368\u001b[0m                         )\n\u001b[1;32m    369\u001b[0m                     \u001b[0mmapping_labels\u001b[0m\u001b[0;34m[\u001b[0m\u001b[0mget_label\u001b[0m\u001b[0;34m(\u001b[0m\u001b[0margs\u001b[0m\u001b[0;34m,\u001b[0m \u001b[0margs\u001b[0m\u001b[0;34m[\u001b[0m\u001b[0;34m\"x\"\u001b[0m\u001b[0;34m]\u001b[0m\u001b[0;34m)\u001b[0m\u001b[0;34m]\u001b[0m \u001b[0;34m=\u001b[0m \u001b[0;34m\"%{x}\"\u001b[0m\u001b[0;34m\u001b[0m\u001b[0;34m\u001b[0m\u001b[0m\n",
      "\u001b[0;32m~/venv/lib/python3.8/site-packages/statsmodels/base/wrapper.py\u001b[0m in \u001b[0;36m__getattribute__\u001b[0;34m(self, attr)\u001b[0m\n\u001b[1;32m     32\u001b[0m             \u001b[0;32mpass\u001b[0m\u001b[0;34m\u001b[0m\u001b[0;34m\u001b[0m\u001b[0m\n\u001b[1;32m     33\u001b[0m \u001b[0;34m\u001b[0m\u001b[0m\n\u001b[0;32m---> 34\u001b[0;31m         \u001b[0mobj\u001b[0m \u001b[0;34m=\u001b[0m \u001b[0mgetattr\u001b[0m\u001b[0;34m(\u001b[0m\u001b[0mresults\u001b[0m\u001b[0;34m,\u001b[0m \u001b[0mattr\u001b[0m\u001b[0;34m)\u001b[0m\u001b[0;34m\u001b[0m\u001b[0;34m\u001b[0m\u001b[0m\n\u001b[0m\u001b[1;32m     35\u001b[0m         \u001b[0mdata\u001b[0m \u001b[0;34m=\u001b[0m \u001b[0mresults\u001b[0m\u001b[0;34m.\u001b[0m\u001b[0mmodel\u001b[0m\u001b[0;34m.\u001b[0m\u001b[0mdata\u001b[0m\u001b[0;34m\u001b[0m\u001b[0;34m\u001b[0m\u001b[0m\n\u001b[1;32m     36\u001b[0m         \u001b[0mhow\u001b[0m \u001b[0;34m=\u001b[0m \u001b[0mself\u001b[0m\u001b[0;34m.\u001b[0m\u001b[0m_wrap_attrs\u001b[0m\u001b[0;34m.\u001b[0m\u001b[0mget\u001b[0m\u001b[0;34m(\u001b[0m\u001b[0mattr\u001b[0m\u001b[0;34m)\u001b[0m\u001b[0;34m\u001b[0m\u001b[0;34m\u001b[0m\u001b[0m\n",
      "\u001b[0;32mpandas/_libs/properties.pyx\u001b[0m in \u001b[0;36mpandas._libs.properties.CachedProperty.__get__\u001b[0;34m()\u001b[0m\n",
      "\u001b[0;32m~/venv/lib/python3.8/site-packages/statsmodels/regression/linear_model.py\u001b[0m in \u001b[0;36mrsquared\u001b[0;34m(self)\u001b[0m\n\u001b[1;32m   1713\u001b[0m         \"\"\"\n\u001b[1;32m   1714\u001b[0m         \u001b[0;32mif\u001b[0m \u001b[0mself\u001b[0m\u001b[0;34m.\u001b[0m\u001b[0mk_constant\u001b[0m\u001b[0;34m:\u001b[0m\u001b[0;34m\u001b[0m\u001b[0;34m\u001b[0m\u001b[0m\n\u001b[0;32m-> 1715\u001b[0;31m             \u001b[0;32mreturn\u001b[0m \u001b[0;36m1\u001b[0m \u001b[0;34m-\u001b[0m \u001b[0mself\u001b[0m\u001b[0;34m.\u001b[0m\u001b[0mssr\u001b[0m\u001b[0;34m/\u001b[0m\u001b[0mself\u001b[0m\u001b[0;34m.\u001b[0m\u001b[0mcentered_tss\u001b[0m\u001b[0;34m\u001b[0m\u001b[0;34m\u001b[0m\u001b[0m\n\u001b[0m\u001b[1;32m   1716\u001b[0m         \u001b[0;32melse\u001b[0m\u001b[0;34m:\u001b[0m\u001b[0;34m\u001b[0m\u001b[0;34m\u001b[0m\u001b[0m\n\u001b[1;32m   1717\u001b[0m             \u001b[0;32mreturn\u001b[0m \u001b[0;36m1\u001b[0m \u001b[0;34m-\u001b[0m \u001b[0mself\u001b[0m\u001b[0;34m.\u001b[0m\u001b[0mssr\u001b[0m\u001b[0;34m/\u001b[0m\u001b[0mself\u001b[0m\u001b[0;34m.\u001b[0m\u001b[0muncentered_tss\u001b[0m\u001b[0;34m\u001b[0m\u001b[0;34m\u001b[0m\u001b[0m\n",
      "\u001b[0;32mpandas/_libs/properties.pyx\u001b[0m in \u001b[0;36mpandas._libs.properties.CachedProperty.__get__\u001b[0;34m()\u001b[0m\n",
      "\u001b[0;32m~/venv/lib/python3.8/site-packages/statsmodels/regression/linear_model.py\u001b[0m in \u001b[0;36mssr\u001b[0;34m(self)\u001b[0m\n\u001b[1;32m   1653\u001b[0m     \u001b[0;32mdef\u001b[0m \u001b[0mssr\u001b[0m\u001b[0;34m(\u001b[0m\u001b[0mself\u001b[0m\u001b[0;34m)\u001b[0m\u001b[0;34m:\u001b[0m\u001b[0;34m\u001b[0m\u001b[0;34m\u001b[0m\u001b[0m\n\u001b[1;32m   1654\u001b[0m         \u001b[0;34m\"\"\"Sum of squared (whitened) residuals.\"\"\"\u001b[0m\u001b[0;34m\u001b[0m\u001b[0;34m\u001b[0m\u001b[0m\n\u001b[0;32m-> 1655\u001b[0;31m         \u001b[0mwresid\u001b[0m \u001b[0;34m=\u001b[0m \u001b[0mself\u001b[0m\u001b[0;34m.\u001b[0m\u001b[0mwresid\u001b[0m\u001b[0;34m\u001b[0m\u001b[0;34m\u001b[0m\u001b[0m\n\u001b[0m\u001b[1;32m   1656\u001b[0m         \u001b[0;32mreturn\u001b[0m \u001b[0mnp\u001b[0m\u001b[0;34m.\u001b[0m\u001b[0mdot\u001b[0m\u001b[0;34m(\u001b[0m\u001b[0mwresid\u001b[0m\u001b[0;34m,\u001b[0m \u001b[0mwresid\u001b[0m\u001b[0;34m)\u001b[0m\u001b[0;34m\u001b[0m\u001b[0;34m\u001b[0m\u001b[0m\n\u001b[1;32m   1657\u001b[0m \u001b[0;34m\u001b[0m\u001b[0m\n",
      "\u001b[0;32mpandas/_libs/properties.pyx\u001b[0m in \u001b[0;36mpandas._libs.properties.CachedProperty.__get__\u001b[0;34m()\u001b[0m\n",
      "\u001b[0;32m~/venv/lib/python3.8/site-packages/statsmodels/regression/linear_model.py\u001b[0m in \u001b[0;36mwresid\u001b[0;34m(self)\u001b[0m\n\u001b[1;32m   1629\u001b[0m         \u001b[0mThe\u001b[0m \u001b[0mresiduals\u001b[0m \u001b[0mof\u001b[0m \u001b[0mthe\u001b[0m \u001b[0mtransformed\u001b[0m\u001b[0;34m/\u001b[0m\u001b[0mwhitened\u001b[0m \u001b[0mregressand\u001b[0m \u001b[0;32mand\u001b[0m \u001b[0mregressor\u001b[0m\u001b[0;34m(\u001b[0m\u001b[0ms\u001b[0m\u001b[0;34m)\u001b[0m\u001b[0;34m.\u001b[0m\u001b[0;34m\u001b[0m\u001b[0;34m\u001b[0m\u001b[0m\n\u001b[1;32m   1630\u001b[0m         \"\"\"\n\u001b[0;32m-> 1631\u001b[0;31m         return self.model.wendog - self.model.predict(\n\u001b[0m\u001b[1;32m   1632\u001b[0m             self.params, self.model.wexog)\n\u001b[1;32m   1633\u001b[0m \u001b[0;34m\u001b[0m\u001b[0m\n",
      "\u001b[0;31mUFuncTypeError\u001b[0m: ufunc 'subtract' cannot use operands with types dtype('<M8[ns]') and dtype('O')"
     ]
    }
   ],
   "source": [
    "title = 'Sleeping Timeline Scatter Plot'\n",
    "\n",
    "df = grouped_sleeping_df\n",
    "customdata=[df[col] for col in df[df_durations].columns],\n",
    "\n",
    "rolling = 7\n",
    "\n",
    "fig = px.scatter(df, \n",
    "                 x=df['Day'], \n",
    "                 y=[df[col] for col in df[df_durations_seconds].columns],\n",
    "#                  color_discrete_map=correlation_colors,\n",
    "                 title=title,\n",
    "                 # https://plotly.com/python/linear-fits/\n",
    "                 trendline=\"ols\",\n",
    "#                  trendline=\"rolling\",\n",
    "#                  trendline_options=dict(window=rolling),\n",
    "                )\n",
    "\n",
    "fig.update_traces(customdata=customdata,\n",
    "                  hovertemplate =\n",
    "                  \"Activity: Sleeping<br>\" +\n",
    "                  \"Day: %{x}<br>\" +\n",
    "                  \"Duration in Seconds: %{y}<br>\" +\n",
    "                  \"Duration: %{customdata}<br>\" +\n",
    "                  \"<extra></extra>\",\n",
    "                  #width=10,\n",
    "                 ),\n",
    "\n",
    "# https://stackoverflow.com/questions/61406968/change-colors-in-python-dash-plotly-theme\n",
    "# https://github.com/d3/d3-time-format#locale_format change time format\n",
    "fig.update_layout(xaxis=dict(title='Day',\n",
    "                            ),\n",
    "                  yaxis=dict(title='Sleeping Durations',\n",
    "                             tickformat = '%H:%M:%S',\n",
    "                             range=['1970-01-01 00:00:00','1970-01-01 23:59:59'],\n",
    "                            ),\n",
    "                  title=dict(text=title, \n",
    "                             yanchor=\"top\",\n",
    "                             y=.98,\n",
    "                             xanchor=\"left\",\n",
    "                             x=.05),\n",
    "                  legend=dict(title='Activities',\n",
    "                              itemclick='toggle',\n",
    "                              itemdoubleclick='toggleothers',\n",
    "                             ),\n",
    "                    )\n",
    "\n",
    "app = jupyter_dash.JupyterDash(__name__,\n",
    "                               external_stylesheets=external_stylesheets,\n",
    "                               title=f\"{title}\")\n",
    "              \n",
    "app.layout = html.Div([\n",
    "    dcc.Graph(\n",
    "        figure=fig,\n",
    "        \n",
    "        #https://plotly.com/python/setting-graph-size/\n",
    "        #https://stackoverflow.com/questions/46287189/how-can-i-change-the-size-of-my-dash-graph\n",
    "        style={'height': '98vh',\n",
    "               'width': '98vw',\n",
    "              },\n",
    "        \n",
    "#         style={'height': '950px',\n",
    "#                'width': '1600px',\n",
    "#               },\n",
    "    ),\n",
    "])\n",
    "\n",
    "if __name__ == '__main__':\n",
    "    app.run_server(mode='external', port=8090, debug=True)"
   ]
  },
  {
   "cell_type": "code",
   "execution_count": null,
   "id": "44175b85-52c0-4e96-8baf-a1e4d2a1d145",
   "metadata": {},
   "outputs": [],
   "source": []
  },
  {
   "cell_type": "code",
   "execution_count": null,
   "id": "c056bf29-bde7-467b-b29e-ea0082eaf612",
   "metadata": {},
   "outputs": [],
   "source": []
  },
  {
   "cell_type": "code",
   "execution_count": null,
   "id": "9f842346-5890-456e-be4c-678f69fb40a2",
   "metadata": {},
   "outputs": [],
   "source": []
  },
  {
   "cell_type": "code",
   "execution_count": null,
   "id": "e2826b15-8e99-497d-833c-86d90ee8c2ef",
   "metadata": {},
   "outputs": [],
   "source": []
  },
  {
   "cell_type": "code",
   "execution_count": null,
   "id": "79a22fd6-b95c-4e8c-8a2c-28eaf9b13c40",
   "metadata": {},
   "outputs": [],
   "source": []
  },
  {
   "cell_type": "code",
   "execution_count": 165,
   "id": "87033eeb-4c9a-439b-a01f-aad8f8567733",
   "metadata": {},
   "outputs": [],
   "source": [
    "# Example of another histogram\n",
    "\n",
    "# title = f\"Number of Days <br>At Specified {series.name} Level\"\n",
    "\n",
    "# fig = go.Figure(data=[go.Histogram(x=series)])\n",
    "\n",
    "# fig.update_layout(title=dict(text=title,\n",
    "#                              yanchor=\"top\",\n",
    "#                              y=.85,\n",
    "#                              xanchor=\"left\",\n",
    "#                              x=.075),\n",
    "#                   legend=dict(orientation=\"h\",\n",
    "#                               yanchor=\"bottom\",\n",
    "#                               y=1.02,\n",
    "#                               xanchor=\"right\",\n",
    "#                               x=1),\n",
    "#                  bargap=0.1)\n",
    "# fig.update_traces(xbins_start=min(series), xbins_size=bins, selector=dict(type='histogram'))\n",
    "# fig.update_xaxes(tickmode='linear', dtick=bins, tickangle=tickangle)\n",
    "# fig.update_xaxes(title_text=f\"{series.name} Level\")\n",
    "# fig.update_yaxes(title_text=title)\n",
    "# html.Div([\n",
    "#     dcc.Graph(\n",
    "#         figure=fig\n",
    "#     )\n",
    "# ])"
   ]
  },
  {
   "cell_type": "code",
   "execution_count": null,
   "id": "94537f27-7db2-4820-ae45-463d5d6209c4",
   "metadata": {},
   "outputs": [],
   "source": []
  },
  {
   "cell_type": "code",
   "execution_count": null,
   "id": "695f1db4-3bd3-468a-8d28-110c290febc8",
   "metadata": {},
   "outputs": [],
   "source": []
  },
  {
   "cell_type": "code",
   "execution_count": 84,
   "id": "e7bc84e7-0116-4e61-a4ef-7298068665fe",
   "metadata": {},
   "outputs": [
    {
     "name": "stdout",
     "output_type": "stream",
     "text": [
      "['#636EFA', '#EF553B', '#00CC96', '#AB63FA', '#FFA15A', '#19D3F3', '#FF6692', '#B6E880', '#FF97FF', '#FECB52']\n"
     ]
    }
   ],
   "source": [
    "#https://plotly.com/python/discrete-color/\n",
    "print(px.colors.qualitative.Plotly)"
   ]
  },
  {
   "cell_type": "code",
   "execution_count": 90,
   "id": "a61ffe71-e43a-4dc3-89f8-44b7ceba0bd8",
   "metadata": {},
   "outputs": [
    {
     "data": {
      "application/vnd.plotly.v1+json": {
       "config": {
        "plotlyServerURL": "https://plot.ly"
       },
       "data": [
        {
         "customdata": [
          0,
          1,
          2,
          3,
          4,
          5,
          6,
          7,
          8,
          9,
          10
         ],
         "hovertemplate": "%{y}[%{customdata}] = %{marker.color}<extra></extra>",
         "marker": {
          "color": [
           "rgb(229, 134, 6)",
           "rgb(93, 105, 177)",
           "rgb(82, 188, 163)",
           "rgb(153, 201, 69)",
           "rgb(204, 97, 176)",
           "rgb(36, 121, 108)",
           "rgb(218, 165, 27)",
           "rgb(47, 138, 196)",
           "rgb(118, 78, 159)",
           "rgb(237, 100, 90)",
           "rgb(165, 170, 153)"
          ]
         },
         "orientation": "h",
         "type": "bar",
         "x": [
          1,
          1,
          1,
          1,
          1,
          1,
          1,
          1,
          1,
          1,
          1
         ],
         "y": [
          "Vivid",
          "Vivid",
          "Vivid",
          "Vivid",
          "Vivid",
          "Vivid",
          "Vivid",
          "Vivid",
          "Vivid",
          "Vivid",
          "Vivid"
         ]
        },
        {
         "customdata": [
          0,
          1,
          2,
          3,
          4,
          5,
          6,
          7,
          8,
          9,
          10
         ],
         "hovertemplate": "%{y}[%{customdata}] = %{marker.color}<extra></extra>",
         "marker": {
          "color": [
           "rgb(136, 204, 238)",
           "rgb(204, 102, 119)",
           "rgb(221, 204, 119)",
           "rgb(17, 119, 51)",
           "rgb(51, 34, 136)",
           "rgb(170, 68, 153)",
           "rgb(68, 170, 153)",
           "rgb(153, 153, 51)",
           "rgb(136, 34, 85)",
           "rgb(102, 17, 0)",
           "rgb(136, 136, 136)"
          ]
         },
         "orientation": "h",
         "type": "bar",
         "x": [
          1,
          1,
          1,
          1,
          1,
          1,
          1,
          1,
          1,
          1,
          1
         ],
         "y": [
          "Safe",
          "Safe",
          "Safe",
          "Safe",
          "Safe",
          "Safe",
          "Safe",
          "Safe",
          "Safe",
          "Safe",
          "Safe"
         ]
        },
        {
         "customdata": [
          0,
          1,
          2,
          3,
          4,
          5,
          6,
          7,
          8,
          9,
          10
         ],
         "hovertemplate": "%{y}[%{customdata}] = %{marker.color}<extra></extra>",
         "marker": {
          "color": [
           "rgb(95, 70, 144)",
           "rgb(29, 105, 150)",
           "rgb(56, 166, 165)",
           "rgb(15, 133, 84)",
           "rgb(115, 175, 72)",
           "rgb(237, 173, 8)",
           "rgb(225, 124, 5)",
           "rgb(204, 80, 62)",
           "rgb(148, 52, 110)",
           "rgb(111, 64, 112)",
           "rgb(102, 102, 102)"
          ]
         },
         "orientation": "h",
         "type": "bar",
         "x": [
          1,
          1,
          1,
          1,
          1,
          1,
          1,
          1,
          1,
          1,
          1
         ],
         "y": [
          "Prism",
          "Prism",
          "Prism",
          "Prism",
          "Prism",
          "Prism",
          "Prism",
          "Prism",
          "Prism",
          "Prism",
          "Prism"
         ]
        },
        {
         "customdata": [
          0,
          1,
          2,
          3,
          4,
          5,
          6,
          7,
          8,
          9,
          10
         ],
         "hovertemplate": "%{y}[%{customdata}] = %{marker.color}<extra></extra>",
         "marker": {
          "color": [
           "rgb(102, 197, 204)",
           "rgb(246, 207, 113)",
           "rgb(248, 156, 116)",
           "rgb(220, 176, 242)",
           "rgb(135, 197, 95)",
           "rgb(158, 185, 243)",
           "rgb(254, 136, 177)",
           "rgb(201, 219, 116)",
           "rgb(139, 224, 164)",
           "rgb(180, 151, 231)",
           "rgb(179, 179, 179)"
          ]
         },
         "orientation": "h",
         "type": "bar",
         "x": [
          1,
          1,
          1,
          1,
          1,
          1,
          1,
          1,
          1,
          1,
          1
         ],
         "y": [
          "Pastel",
          "Pastel",
          "Pastel",
          "Pastel",
          "Pastel",
          "Pastel",
          "Pastel",
          "Pastel",
          "Pastel",
          "Pastel",
          "Pastel"
         ]
        },
        {
         "customdata": [
          0,
          1,
          2,
          3,
          4,
          5,
          6,
          7,
          8,
          9,
          10
         ],
         "hovertemplate": "%{y}[%{customdata}] = %{marker.color}<extra></extra>",
         "marker": {
          "color": [
           "rgb(127, 60, 141)",
           "rgb(17, 165, 121)",
           "rgb(57, 105, 172)",
           "rgb(242, 183, 1)",
           "rgb(231, 63, 116)",
           "rgb(128, 186, 90)",
           "rgb(230, 131, 16)",
           "rgb(0, 134, 149)",
           "rgb(207, 28, 144)",
           "rgb(249, 123, 114)",
           "rgb(165, 170, 153)"
          ]
         },
         "orientation": "h",
         "type": "bar",
         "x": [
          1,
          1,
          1,
          1,
          1,
          1,
          1,
          1,
          1,
          1,
          1
         ],
         "y": [
          "Bold",
          "Bold",
          "Bold",
          "Bold",
          "Bold",
          "Bold",
          "Bold",
          "Bold",
          "Bold",
          "Bold",
          "Bold"
         ]
        },
        {
         "customdata": [
          0,
          1,
          2,
          3,
          4,
          5,
          6,
          7,
          8,
          9,
          10
         ],
         "hovertemplate": "%{y}[%{customdata}] = %{marker.color}<extra></extra>",
         "marker": {
          "color": [
           "rgb(133, 92, 117)",
           "rgb(217, 175, 107)",
           "rgb(175, 100, 88)",
           "rgb(115, 111, 76)",
           "rgb(82, 106, 131)",
           "rgb(98, 83, 119)",
           "rgb(104, 133, 92)",
           "rgb(156, 156, 94)",
           "rgb(160, 97, 119)",
           "rgb(140, 120, 93)",
           "rgb(124, 124, 124)"
          ]
         },
         "orientation": "h",
         "type": "bar",
         "x": [
          1,
          1,
          1,
          1,
          1,
          1,
          1,
          1,
          1,
          1,
          1
         ],
         "y": [
          "Antique",
          "Antique",
          "Antique",
          "Antique",
          "Antique",
          "Antique",
          "Antique",
          "Antique",
          "Antique",
          "Antique",
          "Antique"
         ]
        },
        {
         "customdata": [
          0,
          1,
          2,
          3,
          4,
          5,
          6,
          7,
          8,
          9,
          10,
          11
         ],
         "hovertemplate": "%{y}[%{customdata}] = %{marker.color}<extra></extra>",
         "marker": {
          "color": [
           "rgb(141,211,199)",
           "rgb(255,255,179)",
           "rgb(190,186,218)",
           "rgb(251,128,114)",
           "rgb(128,177,211)",
           "rgb(253,180,98)",
           "rgb(179,222,105)",
           "rgb(252,205,229)",
           "rgb(217,217,217)",
           "rgb(188,128,189)",
           "rgb(204,235,197)",
           "rgb(255,237,111)"
          ]
         },
         "orientation": "h",
         "type": "bar",
         "x": [
          1,
          1,
          1,
          1,
          1,
          1,
          1,
          1,
          1,
          1,
          1,
          1
         ],
         "y": [
          "Set3",
          "Set3",
          "Set3",
          "Set3",
          "Set3",
          "Set3",
          "Set3",
          "Set3",
          "Set3",
          "Set3",
          "Set3",
          "Set3"
         ]
        },
        {
         "customdata": [
          0,
          1,
          2,
          3,
          4,
          5,
          6,
          7
         ],
         "hovertemplate": "%{y}[%{customdata}] = %{marker.color}<extra></extra>",
         "marker": {
          "color": [
           "rgb(179,226,205)",
           "rgb(253,205,172)",
           "rgb(203,213,232)",
           "rgb(244,202,228)",
           "rgb(230,245,201)",
           "rgb(255,242,174)",
           "rgb(241,226,204)",
           "rgb(204,204,204)"
          ]
         },
         "orientation": "h",
         "type": "bar",
         "x": [
          1,
          1,
          1,
          1,
          1,
          1,
          1,
          1
         ],
         "y": [
          "Pastel2",
          "Pastel2",
          "Pastel2",
          "Pastel2",
          "Pastel2",
          "Pastel2",
          "Pastel2",
          "Pastel2"
         ]
        },
        {
         "customdata": [
          0,
          1,
          2,
          3,
          4,
          5,
          6,
          7
         ],
         "hovertemplate": "%{y}[%{customdata}] = %{marker.color}<extra></extra>",
         "marker": {
          "color": [
           "rgb(102,194,165)",
           "rgb(252,141,98)",
           "rgb(141,160,203)",
           "rgb(231,138,195)",
           "rgb(166,216,84)",
           "rgb(255,217,47)",
           "rgb(229,196,148)",
           "rgb(179,179,179)"
          ]
         },
         "orientation": "h",
         "type": "bar",
         "x": [
          1,
          1,
          1,
          1,
          1,
          1,
          1,
          1
         ],
         "y": [
          "Set2",
          "Set2",
          "Set2",
          "Set2",
          "Set2",
          "Set2",
          "Set2",
          "Set2"
         ]
        },
        {
         "customdata": [
          0,
          1,
          2,
          3,
          4,
          5,
          6,
          7
         ],
         "hovertemplate": "%{y}[%{customdata}] = %{marker.color}<extra></extra>",
         "marker": {
          "color": [
           "rgb(27,158,119)",
           "rgb(217,95,2)",
           "rgb(117,112,179)",
           "rgb(231,41,138)",
           "rgb(102,166,30)",
           "rgb(230,171,2)",
           "rgb(166,118,29)",
           "rgb(102,102,102)"
          ]
         },
         "orientation": "h",
         "type": "bar",
         "x": [
          1,
          1,
          1,
          1,
          1,
          1,
          1,
          1
         ],
         "y": [
          "Dark2",
          "Dark2",
          "Dark2",
          "Dark2",
          "Dark2",
          "Dark2",
          "Dark2",
          "Dark2"
         ]
        },
        {
         "customdata": [
          0,
          1,
          2,
          3,
          4,
          5,
          6,
          7,
          8
         ],
         "hovertemplate": "%{y}[%{customdata}] = %{marker.color}<extra></extra>",
         "marker": {
          "color": [
           "rgb(251,180,174)",
           "rgb(179,205,227)",
           "rgb(204,235,197)",
           "rgb(222,203,228)",
           "rgb(254,217,166)",
           "rgb(255,255,204)",
           "rgb(229,216,189)",
           "rgb(253,218,236)",
           "rgb(242,242,242)"
          ]
         },
         "orientation": "h",
         "type": "bar",
         "x": [
          1,
          1,
          1,
          1,
          1,
          1,
          1,
          1,
          1
         ],
         "y": [
          "Pastel1",
          "Pastel1",
          "Pastel1",
          "Pastel1",
          "Pastel1",
          "Pastel1",
          "Pastel1",
          "Pastel1",
          "Pastel1"
         ]
        },
        {
         "customdata": [
          0,
          1,
          2,
          3,
          4,
          5,
          6,
          7,
          8
         ],
         "hovertemplate": "%{y}[%{customdata}] = %{marker.color}<extra></extra>",
         "marker": {
          "color": [
           "rgb(228,26,28)",
           "rgb(55,126,184)",
           "rgb(77,175,74)",
           "rgb(152,78,163)",
           "rgb(255,127,0)",
           "rgb(255,255,51)",
           "rgb(166,86,40)",
           "rgb(247,129,191)",
           "rgb(153,153,153)"
          ]
         },
         "orientation": "h",
         "type": "bar",
         "x": [
          1,
          1,
          1,
          1,
          1,
          1,
          1,
          1,
          1
         ],
         "y": [
          "Set1",
          "Set1",
          "Set1",
          "Set1",
          "Set1",
          "Set1",
          "Set1",
          "Set1",
          "Set1"
         ]
        },
        {
         "customdata": [
          0,
          1,
          2,
          3,
          4,
          5,
          6,
          7,
          8,
          9,
          10,
          11,
          12,
          13,
          14,
          15,
          16,
          17,
          18,
          19,
          20,
          21,
          22,
          23
         ],
         "hovertemplate": "%{y}[%{customdata}] = %{marker.color}<extra></extra>",
         "marker": {
          "color": [
           "#FD3216",
           "#00FE35",
           "#6A76FC",
           "#FED4C4",
           "#FE00CE",
           "#0DF9FF",
           "#F6F926",
           "#FF9616",
           "#479B55",
           "#EEA6FB",
           "#DC587D",
           "#D626FF",
           "#6E899C",
           "#00B5F7",
           "#B68E00",
           "#C9FBE5",
           "#FF0092",
           "#22FFA7",
           "#E3EE9E",
           "#86CE00",
           "#BC7196",
           "#7E7DCD",
           "#FC6955",
           "#E48F72"
          ]
         },
         "orientation": "h",
         "type": "bar",
         "x": [
          1,
          1,
          1,
          1,
          1,
          1,
          1,
          1,
          1,
          1,
          1,
          1,
          1,
          1,
          1,
          1,
          1,
          1,
          1,
          1,
          1,
          1,
          1,
          1
         ],
         "y": [
          "Light24",
          "Light24",
          "Light24",
          "Light24",
          "Light24",
          "Light24",
          "Light24",
          "Light24",
          "Light24",
          "Light24",
          "Light24",
          "Light24",
          "Light24",
          "Light24",
          "Light24",
          "Light24",
          "Light24",
          "Light24",
          "Light24",
          "Light24",
          "Light24",
          "Light24",
          "Light24",
          "Light24"
         ]
        },
        {
         "customdata": [
          0,
          1,
          2,
          3,
          4,
          5,
          6,
          7,
          8,
          9,
          10,
          11,
          12,
          13,
          14,
          15,
          16,
          17,
          18,
          19,
          20,
          21,
          22,
          23
         ],
         "hovertemplate": "%{y}[%{customdata}] = %{marker.color}<extra></extra>",
         "marker": {
          "color": [
           "#2E91E5",
           "#E15F99",
           "#1CA71C",
           "#FB0D0D",
           "#DA16FF",
           "#222A2A",
           "#B68100",
           "#750D86",
           "#EB663B",
           "#511CFB",
           "#00A08B",
           "#FB00D1",
           "#FC0080",
           "#B2828D",
           "#6C7C32",
           "#778AAE",
           "#862A16",
           "#A777F1",
           "#620042",
           "#1616A7",
           "#DA60CA",
           "#6C4516",
           "#0D2A63",
           "#AF0038"
          ]
         },
         "orientation": "h",
         "type": "bar",
         "x": [
          1,
          1,
          1,
          1,
          1,
          1,
          1,
          1,
          1,
          1,
          1,
          1,
          1,
          1,
          1,
          1,
          1,
          1,
          1,
          1,
          1,
          1,
          1,
          1
         ],
         "y": [
          "Dark24",
          "Dark24",
          "Dark24",
          "Dark24",
          "Dark24",
          "Dark24",
          "Dark24",
          "Dark24",
          "Dark24",
          "Dark24",
          "Dark24",
          "Dark24",
          "Dark24",
          "Dark24",
          "Dark24",
          "Dark24",
          "Dark24",
          "Dark24",
          "Dark24",
          "Dark24",
          "Dark24",
          "Dark24",
          "Dark24",
          "Dark24"
         ]
        },
        {
         "customdata": [
          0,
          1,
          2,
          3,
          4,
          5,
          6,
          7,
          8,
          9,
          10,
          11,
          12,
          13,
          14,
          15,
          16,
          17,
          18,
          19,
          20,
          21,
          22,
          23,
          24,
          25
         ],
         "hovertemplate": "%{y}[%{customdata}] = %{marker.color}<extra></extra>",
         "marker": {
          "color": [
           "#AA0DFE",
           "#3283FE",
           "#85660D",
           "#782AB6",
           "#565656",
           "#1C8356",
           "#16FF32",
           "#F7E1A0",
           "#E2E2E2",
           "#1CBE4F",
           "#C4451C",
           "#DEA0FD",
           "#FE00FA",
           "#325A9B",
           "#FEAF16",
           "#F8A19F",
           "#90AD1C",
           "#F6222E",
           "#1CFFCE",
           "#2ED9FF",
           "#B10DA1",
           "#C075A6",
           "#FC1CBF",
           "#B00068",
           "#FBE426",
           "#FA0087"
          ]
         },
         "orientation": "h",
         "type": "bar",
         "x": [
          1,
          1,
          1,
          1,
          1,
          1,
          1,
          1,
          1,
          1,
          1,
          1,
          1,
          1,
          1,
          1,
          1,
          1,
          1,
          1,
          1,
          1,
          1,
          1,
          1,
          1
         ],
         "y": [
          "Alphabet",
          "Alphabet",
          "Alphabet",
          "Alphabet",
          "Alphabet",
          "Alphabet",
          "Alphabet",
          "Alphabet",
          "Alphabet",
          "Alphabet",
          "Alphabet",
          "Alphabet",
          "Alphabet",
          "Alphabet",
          "Alphabet",
          "Alphabet",
          "Alphabet",
          "Alphabet",
          "Alphabet",
          "Alphabet",
          "Alphabet",
          "Alphabet",
          "Alphabet",
          "Alphabet",
          "Alphabet",
          "Alphabet"
         ]
        },
        {
         "customdata": [
          0,
          1,
          2,
          3,
          4,
          5,
          6,
          7,
          8,
          9
         ],
         "hovertemplate": "%{y}[%{customdata}] = %{marker.color}<extra></extra>",
         "marker": {
          "color": [
           "#4C78A8",
           "#F58518",
           "#E45756",
           "#72B7B2",
           "#54A24B",
           "#EECA3B",
           "#B279A2",
           "#FF9DA6",
           "#9D755D",
           "#BAB0AC"
          ]
         },
         "orientation": "h",
         "type": "bar",
         "x": [
          1,
          1,
          1,
          1,
          1,
          1,
          1,
          1,
          1,
          1
         ],
         "y": [
          "T10",
          "T10",
          "T10",
          "T10",
          "T10",
          "T10",
          "T10",
          "T10",
          "T10",
          "T10"
         ]
        },
        {
         "customdata": [
          0,
          1,
          2,
          3,
          4,
          5,
          6,
          7,
          8,
          9
         ],
         "hovertemplate": "%{y}[%{customdata}] = %{marker.color}<extra></extra>",
         "marker": {
          "color": [
           "#3366CC",
           "#DC3912",
           "#FF9900",
           "#109618",
           "#990099",
           "#0099C6",
           "#DD4477",
           "#66AA00",
           "#B82E2E",
           "#316395"
          ]
         },
         "orientation": "h",
         "type": "bar",
         "x": [
          1,
          1,
          1,
          1,
          1,
          1,
          1,
          1,
          1,
          1
         ],
         "y": [
          "G10",
          "G10",
          "G10",
          "G10",
          "G10",
          "G10",
          "G10",
          "G10",
          "G10",
          "G10"
         ]
        },
        {
         "customdata": [
          0,
          1,
          2,
          3,
          4,
          5,
          6,
          7,
          8,
          9
         ],
         "hovertemplate": "%{y}[%{customdata}] = %{marker.color}<extra></extra>",
         "marker": {
          "color": [
           "#1F77B4",
           "#FF7F0E",
           "#2CA02C",
           "#D62728",
           "#9467BD",
           "#8C564B",
           "#E377C2",
           "#7F7F7F",
           "#BCBD22",
           "#17BECF"
          ]
         },
         "orientation": "h",
         "type": "bar",
         "x": [
          1,
          1,
          1,
          1,
          1,
          1,
          1,
          1,
          1,
          1
         ],
         "y": [
          "D3",
          "D3",
          "D3",
          "D3",
          "D3",
          "D3",
          "D3",
          "D3",
          "D3",
          "D3"
         ]
        },
        {
         "customdata": [
          0,
          1,
          2,
          3,
          4,
          5,
          6,
          7,
          8,
          9
         ],
         "hovertemplate": "%{y}[%{customdata}] = %{marker.color}<extra></extra>",
         "marker": {
          "color": [
           "#636EFA",
           "#EF553B",
           "#00CC96",
           "#AB63FA",
           "#FFA15A",
           "#19D3F3",
           "#FF6692",
           "#B6E880",
           "#FF97FF",
           "#FECB52"
          ]
         },
         "orientation": "h",
         "type": "bar",
         "x": [
          1,
          1,
          1,
          1,
          1,
          1,
          1,
          1,
          1,
          1
         ],
         "y": [
          "Plotly",
          "Plotly",
          "Plotly",
          "Plotly",
          "Plotly",
          "Plotly",
          "Plotly",
          "Plotly",
          "Plotly",
          "Plotly"
         ]
        }
       ],
       "layout": {
        "bargap": 0.5,
        "barmode": "stack",
        "barnorm": "fraction",
        "height": 760,
        "margin": {
         "b": 10
        },
        "showlegend": false,
        "template": {
         "data": {
          "bar": [
           {
            "error_x": {
             "color": "#2a3f5f"
            },
            "error_y": {
             "color": "#2a3f5f"
            },
            "marker": {
             "line": {
              "color": "#E5ECF6",
              "width": 0.5
             }
            },
            "type": "bar"
           }
          ],
          "barpolar": [
           {
            "marker": {
             "line": {
              "color": "#E5ECF6",
              "width": 0.5
             }
            },
            "type": "barpolar"
           }
          ],
          "carpet": [
           {
            "aaxis": {
             "endlinecolor": "#2a3f5f",
             "gridcolor": "white",
             "linecolor": "white",
             "minorgridcolor": "white",
             "startlinecolor": "#2a3f5f"
            },
            "baxis": {
             "endlinecolor": "#2a3f5f",
             "gridcolor": "white",
             "linecolor": "white",
             "minorgridcolor": "white",
             "startlinecolor": "#2a3f5f"
            },
            "type": "carpet"
           }
          ],
          "choropleth": [
           {
            "colorbar": {
             "outlinewidth": 0,
             "ticks": ""
            },
            "type": "choropleth"
           }
          ],
          "contour": [
           {
            "colorbar": {
             "outlinewidth": 0,
             "ticks": ""
            },
            "colorscale": [
             [
              0,
              "#0d0887"
             ],
             [
              0.1111111111111111,
              "#46039f"
             ],
             [
              0.2222222222222222,
              "#7201a8"
             ],
             [
              0.3333333333333333,
              "#9c179e"
             ],
             [
              0.4444444444444444,
              "#bd3786"
             ],
             [
              0.5555555555555556,
              "#d8576b"
             ],
             [
              0.6666666666666666,
              "#ed7953"
             ],
             [
              0.7777777777777778,
              "#fb9f3a"
             ],
             [
              0.8888888888888888,
              "#fdca26"
             ],
             [
              1,
              "#f0f921"
             ]
            ],
            "type": "contour"
           }
          ],
          "contourcarpet": [
           {
            "colorbar": {
             "outlinewidth": 0,
             "ticks": ""
            },
            "type": "contourcarpet"
           }
          ],
          "heatmap": [
           {
            "colorbar": {
             "outlinewidth": 0,
             "ticks": ""
            },
            "colorscale": [
             [
              0,
              "#0d0887"
             ],
             [
              0.1111111111111111,
              "#46039f"
             ],
             [
              0.2222222222222222,
              "#7201a8"
             ],
             [
              0.3333333333333333,
              "#9c179e"
             ],
             [
              0.4444444444444444,
              "#bd3786"
             ],
             [
              0.5555555555555556,
              "#d8576b"
             ],
             [
              0.6666666666666666,
              "#ed7953"
             ],
             [
              0.7777777777777778,
              "#fb9f3a"
             ],
             [
              0.8888888888888888,
              "#fdca26"
             ],
             [
              1,
              "#f0f921"
             ]
            ],
            "type": "heatmap"
           }
          ],
          "heatmapgl": [
           {
            "colorbar": {
             "outlinewidth": 0,
             "ticks": ""
            },
            "colorscale": [
             [
              0,
              "#0d0887"
             ],
             [
              0.1111111111111111,
              "#46039f"
             ],
             [
              0.2222222222222222,
              "#7201a8"
             ],
             [
              0.3333333333333333,
              "#9c179e"
             ],
             [
              0.4444444444444444,
              "#bd3786"
             ],
             [
              0.5555555555555556,
              "#d8576b"
             ],
             [
              0.6666666666666666,
              "#ed7953"
             ],
             [
              0.7777777777777778,
              "#fb9f3a"
             ],
             [
              0.8888888888888888,
              "#fdca26"
             ],
             [
              1,
              "#f0f921"
             ]
            ],
            "type": "heatmapgl"
           }
          ],
          "histogram": [
           {
            "marker": {
             "colorbar": {
              "outlinewidth": 0,
              "ticks": ""
             }
            },
            "type": "histogram"
           }
          ],
          "histogram2d": [
           {
            "colorbar": {
             "outlinewidth": 0,
             "ticks": ""
            },
            "colorscale": [
             [
              0,
              "#0d0887"
             ],
             [
              0.1111111111111111,
              "#46039f"
             ],
             [
              0.2222222222222222,
              "#7201a8"
             ],
             [
              0.3333333333333333,
              "#9c179e"
             ],
             [
              0.4444444444444444,
              "#bd3786"
             ],
             [
              0.5555555555555556,
              "#d8576b"
             ],
             [
              0.6666666666666666,
              "#ed7953"
             ],
             [
              0.7777777777777778,
              "#fb9f3a"
             ],
             [
              0.8888888888888888,
              "#fdca26"
             ],
             [
              1,
              "#f0f921"
             ]
            ],
            "type": "histogram2d"
           }
          ],
          "histogram2dcontour": [
           {
            "colorbar": {
             "outlinewidth": 0,
             "ticks": ""
            },
            "colorscale": [
             [
              0,
              "#0d0887"
             ],
             [
              0.1111111111111111,
              "#46039f"
             ],
             [
              0.2222222222222222,
              "#7201a8"
             ],
             [
              0.3333333333333333,
              "#9c179e"
             ],
             [
              0.4444444444444444,
              "#bd3786"
             ],
             [
              0.5555555555555556,
              "#d8576b"
             ],
             [
              0.6666666666666666,
              "#ed7953"
             ],
             [
              0.7777777777777778,
              "#fb9f3a"
             ],
             [
              0.8888888888888888,
              "#fdca26"
             ],
             [
              1,
              "#f0f921"
             ]
            ],
            "type": "histogram2dcontour"
           }
          ],
          "mesh3d": [
           {
            "colorbar": {
             "outlinewidth": 0,
             "ticks": ""
            },
            "type": "mesh3d"
           }
          ],
          "parcoords": [
           {
            "line": {
             "colorbar": {
              "outlinewidth": 0,
              "ticks": ""
             }
            },
            "type": "parcoords"
           }
          ],
          "pie": [
           {
            "automargin": true,
            "type": "pie"
           }
          ],
          "scatter": [
           {
            "marker": {
             "colorbar": {
              "outlinewidth": 0,
              "ticks": ""
             }
            },
            "type": "scatter"
           }
          ],
          "scatter3d": [
           {
            "line": {
             "colorbar": {
              "outlinewidth": 0,
              "ticks": ""
             }
            },
            "marker": {
             "colorbar": {
              "outlinewidth": 0,
              "ticks": ""
             }
            },
            "type": "scatter3d"
           }
          ],
          "scattercarpet": [
           {
            "marker": {
             "colorbar": {
              "outlinewidth": 0,
              "ticks": ""
             }
            },
            "type": "scattercarpet"
           }
          ],
          "scattergeo": [
           {
            "marker": {
             "colorbar": {
              "outlinewidth": 0,
              "ticks": ""
             }
            },
            "type": "scattergeo"
           }
          ],
          "scattergl": [
           {
            "marker": {
             "colorbar": {
              "outlinewidth": 0,
              "ticks": ""
             }
            },
            "type": "scattergl"
           }
          ],
          "scattermapbox": [
           {
            "marker": {
             "colorbar": {
              "outlinewidth": 0,
              "ticks": ""
             }
            },
            "type": "scattermapbox"
           }
          ],
          "scatterpolar": [
           {
            "marker": {
             "colorbar": {
              "outlinewidth": 0,
              "ticks": ""
             }
            },
            "type": "scatterpolar"
           }
          ],
          "scatterpolargl": [
           {
            "marker": {
             "colorbar": {
              "outlinewidth": 0,
              "ticks": ""
             }
            },
            "type": "scatterpolargl"
           }
          ],
          "scatterternary": [
           {
            "marker": {
             "colorbar": {
              "outlinewidth": 0,
              "ticks": ""
             }
            },
            "type": "scatterternary"
           }
          ],
          "surface": [
           {
            "colorbar": {
             "outlinewidth": 0,
             "ticks": ""
            },
            "colorscale": [
             [
              0,
              "#0d0887"
             ],
             [
              0.1111111111111111,
              "#46039f"
             ],
             [
              0.2222222222222222,
              "#7201a8"
             ],
             [
              0.3333333333333333,
              "#9c179e"
             ],
             [
              0.4444444444444444,
              "#bd3786"
             ],
             [
              0.5555555555555556,
              "#d8576b"
             ],
             [
              0.6666666666666666,
              "#ed7953"
             ],
             [
              0.7777777777777778,
              "#fb9f3a"
             ],
             [
              0.8888888888888888,
              "#fdca26"
             ],
             [
              1,
              "#f0f921"
             ]
            ],
            "type": "surface"
           }
          ],
          "table": [
           {
            "cells": {
             "fill": {
              "color": "#EBF0F8"
             },
             "line": {
              "color": "white"
             }
            },
            "header": {
             "fill": {
              "color": "#C8D4E3"
             },
             "line": {
              "color": "white"
             }
            },
            "type": "table"
           }
          ]
         },
         "layout": {
          "annotationdefaults": {
           "arrowcolor": "#2a3f5f",
           "arrowhead": 0,
           "arrowwidth": 1
          },
          "autotypenumbers": "strict",
          "coloraxis": {
           "colorbar": {
            "outlinewidth": 0,
            "ticks": ""
           }
          },
          "colorscale": {
           "diverging": [
            [
             0,
             "#8e0152"
            ],
            [
             0.1,
             "#c51b7d"
            ],
            [
             0.2,
             "#de77ae"
            ],
            [
             0.3,
             "#f1b6da"
            ],
            [
             0.4,
             "#fde0ef"
            ],
            [
             0.5,
             "#f7f7f7"
            ],
            [
             0.6,
             "#e6f5d0"
            ],
            [
             0.7,
             "#b8e186"
            ],
            [
             0.8,
             "#7fbc41"
            ],
            [
             0.9,
             "#4d9221"
            ],
            [
             1,
             "#276419"
            ]
           ],
           "sequential": [
            [
             0,
             "#0d0887"
            ],
            [
             0.1111111111111111,
             "#46039f"
            ],
            [
             0.2222222222222222,
             "#7201a8"
            ],
            [
             0.3333333333333333,
             "#9c179e"
            ],
            [
             0.4444444444444444,
             "#bd3786"
            ],
            [
             0.5555555555555556,
             "#d8576b"
            ],
            [
             0.6666666666666666,
             "#ed7953"
            ],
            [
             0.7777777777777778,
             "#fb9f3a"
            ],
            [
             0.8888888888888888,
             "#fdca26"
            ],
            [
             1,
             "#f0f921"
            ]
           ],
           "sequentialminus": [
            [
             0,
             "#0d0887"
            ],
            [
             0.1111111111111111,
             "#46039f"
            ],
            [
             0.2222222222222222,
             "#7201a8"
            ],
            [
             0.3333333333333333,
             "#9c179e"
            ],
            [
             0.4444444444444444,
             "#bd3786"
            ],
            [
             0.5555555555555556,
             "#d8576b"
            ],
            [
             0.6666666666666666,
             "#ed7953"
            ],
            [
             0.7777777777777778,
             "#fb9f3a"
            ],
            [
             0.8888888888888888,
             "#fdca26"
            ],
            [
             1,
             "#f0f921"
            ]
           ]
          },
          "colorway": [
           "#636efa",
           "#EF553B",
           "#00cc96",
           "#ab63fa",
           "#FFA15A",
           "#19d3f3",
           "#FF6692",
           "#B6E880",
           "#FF97FF",
           "#FECB52"
          ],
          "font": {
           "color": "#2a3f5f"
          },
          "geo": {
           "bgcolor": "white",
           "lakecolor": "white",
           "landcolor": "#E5ECF6",
           "showlakes": true,
           "showland": true,
           "subunitcolor": "white"
          },
          "hoverlabel": {
           "align": "left"
          },
          "hovermode": "closest",
          "mapbox": {
           "style": "light"
          },
          "paper_bgcolor": "white",
          "plot_bgcolor": "#E5ECF6",
          "polar": {
           "angularaxis": {
            "gridcolor": "white",
            "linecolor": "white",
            "ticks": ""
           },
           "bgcolor": "#E5ECF6",
           "radialaxis": {
            "gridcolor": "white",
            "linecolor": "white",
            "ticks": ""
           }
          },
          "scene": {
           "xaxis": {
            "backgroundcolor": "#E5ECF6",
            "gridcolor": "white",
            "gridwidth": 2,
            "linecolor": "white",
            "showbackground": true,
            "ticks": "",
            "zerolinecolor": "white"
           },
           "yaxis": {
            "backgroundcolor": "#E5ECF6",
            "gridcolor": "white",
            "gridwidth": 2,
            "linecolor": "white",
            "showbackground": true,
            "ticks": "",
            "zerolinecolor": "white"
           },
           "zaxis": {
            "backgroundcolor": "#E5ECF6",
            "gridcolor": "white",
            "gridwidth": 2,
            "linecolor": "white",
            "showbackground": true,
            "ticks": "",
            "zerolinecolor": "white"
           }
          },
          "shapedefaults": {
           "line": {
            "color": "#2a3f5f"
           }
          },
          "ternary": {
           "aaxis": {
            "gridcolor": "white",
            "linecolor": "white",
            "ticks": ""
           },
           "baxis": {
            "gridcolor": "white",
            "linecolor": "white",
            "ticks": ""
           },
           "bgcolor": "#E5ECF6",
           "caxis": {
            "gridcolor": "white",
            "linecolor": "white",
            "ticks": ""
           }
          },
          "title": {
           "x": 0.05
          },
          "xaxis": {
           "automargin": true,
           "gridcolor": "white",
           "linecolor": "white",
           "ticks": "",
           "title": {
            "standoff": 15
           },
           "zerolinecolor": "white",
           "zerolinewidth": 2
          },
          "yaxis": {
           "automargin": true,
           "gridcolor": "white",
           "linecolor": "white",
           "ticks": "",
           "title": {
            "standoff": 15
           },
           "zerolinecolor": "white",
           "zerolinewidth": 2
          }
         }
        },
        "title": {
         "text": "plotly.colors.qualitative"
        },
        "xaxis": {
         "range": [
          -0.02,
          1.02
         ],
         "showgrid": false,
         "showticklabels": false
        }
       }
      },
      "text/html": [
       "<div>                            <div id=\"da8b31aa-50ca-4f18-a27e-1928134ae0f1\" class=\"plotly-graph-div\" style=\"height:760px; width:100%;\"></div>            <script type=\"text/javascript\">                require([\"plotly\"], function(Plotly) {                    window.PLOTLYENV=window.PLOTLYENV || {};                                    if (document.getElementById(\"da8b31aa-50ca-4f18-a27e-1928134ae0f1\")) {                    Plotly.newPlot(                        \"da8b31aa-50ca-4f18-a27e-1928134ae0f1\",                        [{\"customdata\": [0, 1, 2, 3, 4, 5, 6, 7, 8, 9, 10], \"hovertemplate\": \"%{y}[%{customdata}] = %{marker.color}<extra></extra>\", \"marker\": {\"color\": [\"rgb(229, 134, 6)\", \"rgb(93, 105, 177)\", \"rgb(82, 188, 163)\", \"rgb(153, 201, 69)\", \"rgb(204, 97, 176)\", \"rgb(36, 121, 108)\", \"rgb(218, 165, 27)\", \"rgb(47, 138, 196)\", \"rgb(118, 78, 159)\", \"rgb(237, 100, 90)\", \"rgb(165, 170, 153)\"]}, \"orientation\": \"h\", \"type\": \"bar\", \"x\": [1, 1, 1, 1, 1, 1, 1, 1, 1, 1, 1], \"y\": [\"Vivid\", \"Vivid\", \"Vivid\", \"Vivid\", \"Vivid\", \"Vivid\", \"Vivid\", \"Vivid\", \"Vivid\", \"Vivid\", \"Vivid\"]}, {\"customdata\": [0, 1, 2, 3, 4, 5, 6, 7, 8, 9, 10], \"hovertemplate\": \"%{y}[%{customdata}] = %{marker.color}<extra></extra>\", \"marker\": {\"color\": [\"rgb(136, 204, 238)\", \"rgb(204, 102, 119)\", \"rgb(221, 204, 119)\", \"rgb(17, 119, 51)\", \"rgb(51, 34, 136)\", \"rgb(170, 68, 153)\", \"rgb(68, 170, 153)\", \"rgb(153, 153, 51)\", \"rgb(136, 34, 85)\", \"rgb(102, 17, 0)\", \"rgb(136, 136, 136)\"]}, \"orientation\": \"h\", \"type\": \"bar\", \"x\": [1, 1, 1, 1, 1, 1, 1, 1, 1, 1, 1], \"y\": [\"Safe\", \"Safe\", \"Safe\", \"Safe\", \"Safe\", \"Safe\", \"Safe\", \"Safe\", \"Safe\", \"Safe\", \"Safe\"]}, {\"customdata\": [0, 1, 2, 3, 4, 5, 6, 7, 8, 9, 10], \"hovertemplate\": \"%{y}[%{customdata}] = %{marker.color}<extra></extra>\", \"marker\": {\"color\": [\"rgb(95, 70, 144)\", \"rgb(29, 105, 150)\", \"rgb(56, 166, 165)\", \"rgb(15, 133, 84)\", \"rgb(115, 175, 72)\", \"rgb(237, 173, 8)\", \"rgb(225, 124, 5)\", \"rgb(204, 80, 62)\", \"rgb(148, 52, 110)\", \"rgb(111, 64, 112)\", \"rgb(102, 102, 102)\"]}, \"orientation\": \"h\", \"type\": \"bar\", \"x\": [1, 1, 1, 1, 1, 1, 1, 1, 1, 1, 1], \"y\": [\"Prism\", \"Prism\", \"Prism\", \"Prism\", \"Prism\", \"Prism\", \"Prism\", \"Prism\", \"Prism\", \"Prism\", \"Prism\"]}, {\"customdata\": [0, 1, 2, 3, 4, 5, 6, 7, 8, 9, 10], \"hovertemplate\": \"%{y}[%{customdata}] = %{marker.color}<extra></extra>\", \"marker\": {\"color\": [\"rgb(102, 197, 204)\", \"rgb(246, 207, 113)\", \"rgb(248, 156, 116)\", \"rgb(220, 176, 242)\", \"rgb(135, 197, 95)\", \"rgb(158, 185, 243)\", \"rgb(254, 136, 177)\", \"rgb(201, 219, 116)\", \"rgb(139, 224, 164)\", \"rgb(180, 151, 231)\", \"rgb(179, 179, 179)\"]}, \"orientation\": \"h\", \"type\": \"bar\", \"x\": [1, 1, 1, 1, 1, 1, 1, 1, 1, 1, 1], \"y\": [\"Pastel\", \"Pastel\", \"Pastel\", \"Pastel\", \"Pastel\", \"Pastel\", \"Pastel\", \"Pastel\", \"Pastel\", \"Pastel\", \"Pastel\"]}, {\"customdata\": [0, 1, 2, 3, 4, 5, 6, 7, 8, 9, 10], \"hovertemplate\": \"%{y}[%{customdata}] = %{marker.color}<extra></extra>\", \"marker\": {\"color\": [\"rgb(127, 60, 141)\", \"rgb(17, 165, 121)\", \"rgb(57, 105, 172)\", \"rgb(242, 183, 1)\", \"rgb(231, 63, 116)\", \"rgb(128, 186, 90)\", \"rgb(230, 131, 16)\", \"rgb(0, 134, 149)\", \"rgb(207, 28, 144)\", \"rgb(249, 123, 114)\", \"rgb(165, 170, 153)\"]}, \"orientation\": \"h\", \"type\": \"bar\", \"x\": [1, 1, 1, 1, 1, 1, 1, 1, 1, 1, 1], \"y\": [\"Bold\", \"Bold\", \"Bold\", \"Bold\", \"Bold\", \"Bold\", \"Bold\", \"Bold\", \"Bold\", \"Bold\", \"Bold\"]}, {\"customdata\": [0, 1, 2, 3, 4, 5, 6, 7, 8, 9, 10], \"hovertemplate\": \"%{y}[%{customdata}] = %{marker.color}<extra></extra>\", \"marker\": {\"color\": [\"rgb(133, 92, 117)\", \"rgb(217, 175, 107)\", \"rgb(175, 100, 88)\", \"rgb(115, 111, 76)\", \"rgb(82, 106, 131)\", \"rgb(98, 83, 119)\", \"rgb(104, 133, 92)\", \"rgb(156, 156, 94)\", \"rgb(160, 97, 119)\", \"rgb(140, 120, 93)\", \"rgb(124, 124, 124)\"]}, \"orientation\": \"h\", \"type\": \"bar\", \"x\": [1, 1, 1, 1, 1, 1, 1, 1, 1, 1, 1], \"y\": [\"Antique\", \"Antique\", \"Antique\", \"Antique\", \"Antique\", \"Antique\", \"Antique\", \"Antique\", \"Antique\", \"Antique\", \"Antique\"]}, {\"customdata\": [0, 1, 2, 3, 4, 5, 6, 7, 8, 9, 10, 11], \"hovertemplate\": \"%{y}[%{customdata}] = %{marker.color}<extra></extra>\", \"marker\": {\"color\": [\"rgb(141,211,199)\", \"rgb(255,255,179)\", \"rgb(190,186,218)\", \"rgb(251,128,114)\", \"rgb(128,177,211)\", \"rgb(253,180,98)\", \"rgb(179,222,105)\", \"rgb(252,205,229)\", \"rgb(217,217,217)\", \"rgb(188,128,189)\", \"rgb(204,235,197)\", \"rgb(255,237,111)\"]}, \"orientation\": \"h\", \"type\": \"bar\", \"x\": [1, 1, 1, 1, 1, 1, 1, 1, 1, 1, 1, 1], \"y\": [\"Set3\", \"Set3\", \"Set3\", \"Set3\", \"Set3\", \"Set3\", \"Set3\", \"Set3\", \"Set3\", \"Set3\", \"Set3\", \"Set3\"]}, {\"customdata\": [0, 1, 2, 3, 4, 5, 6, 7], \"hovertemplate\": \"%{y}[%{customdata}] = %{marker.color}<extra></extra>\", \"marker\": {\"color\": [\"rgb(179,226,205)\", \"rgb(253,205,172)\", \"rgb(203,213,232)\", \"rgb(244,202,228)\", \"rgb(230,245,201)\", \"rgb(255,242,174)\", \"rgb(241,226,204)\", \"rgb(204,204,204)\"]}, \"orientation\": \"h\", \"type\": \"bar\", \"x\": [1, 1, 1, 1, 1, 1, 1, 1], \"y\": [\"Pastel2\", \"Pastel2\", \"Pastel2\", \"Pastel2\", \"Pastel2\", \"Pastel2\", \"Pastel2\", \"Pastel2\"]}, {\"customdata\": [0, 1, 2, 3, 4, 5, 6, 7], \"hovertemplate\": \"%{y}[%{customdata}] = %{marker.color}<extra></extra>\", \"marker\": {\"color\": [\"rgb(102,194,165)\", \"rgb(252,141,98)\", \"rgb(141,160,203)\", \"rgb(231,138,195)\", \"rgb(166,216,84)\", \"rgb(255,217,47)\", \"rgb(229,196,148)\", \"rgb(179,179,179)\"]}, \"orientation\": \"h\", \"type\": \"bar\", \"x\": [1, 1, 1, 1, 1, 1, 1, 1], \"y\": [\"Set2\", \"Set2\", \"Set2\", \"Set2\", \"Set2\", \"Set2\", \"Set2\", \"Set2\"]}, {\"customdata\": [0, 1, 2, 3, 4, 5, 6, 7], \"hovertemplate\": \"%{y}[%{customdata}] = %{marker.color}<extra></extra>\", \"marker\": {\"color\": [\"rgb(27,158,119)\", \"rgb(217,95,2)\", \"rgb(117,112,179)\", \"rgb(231,41,138)\", \"rgb(102,166,30)\", \"rgb(230,171,2)\", \"rgb(166,118,29)\", \"rgb(102,102,102)\"]}, \"orientation\": \"h\", \"type\": \"bar\", \"x\": [1, 1, 1, 1, 1, 1, 1, 1], \"y\": [\"Dark2\", \"Dark2\", \"Dark2\", \"Dark2\", \"Dark2\", \"Dark2\", \"Dark2\", \"Dark2\"]}, {\"customdata\": [0, 1, 2, 3, 4, 5, 6, 7, 8], \"hovertemplate\": \"%{y}[%{customdata}] = %{marker.color}<extra></extra>\", \"marker\": {\"color\": [\"rgb(251,180,174)\", \"rgb(179,205,227)\", \"rgb(204,235,197)\", \"rgb(222,203,228)\", \"rgb(254,217,166)\", \"rgb(255,255,204)\", \"rgb(229,216,189)\", \"rgb(253,218,236)\", \"rgb(242,242,242)\"]}, \"orientation\": \"h\", \"type\": \"bar\", \"x\": [1, 1, 1, 1, 1, 1, 1, 1, 1], \"y\": [\"Pastel1\", \"Pastel1\", \"Pastel1\", \"Pastel1\", \"Pastel1\", \"Pastel1\", \"Pastel1\", \"Pastel1\", \"Pastel1\"]}, {\"customdata\": [0, 1, 2, 3, 4, 5, 6, 7, 8], \"hovertemplate\": \"%{y}[%{customdata}] = %{marker.color}<extra></extra>\", \"marker\": {\"color\": [\"rgb(228,26,28)\", \"rgb(55,126,184)\", \"rgb(77,175,74)\", \"rgb(152,78,163)\", \"rgb(255,127,0)\", \"rgb(255,255,51)\", \"rgb(166,86,40)\", \"rgb(247,129,191)\", \"rgb(153,153,153)\"]}, \"orientation\": \"h\", \"type\": \"bar\", \"x\": [1, 1, 1, 1, 1, 1, 1, 1, 1], \"y\": [\"Set1\", \"Set1\", \"Set1\", \"Set1\", \"Set1\", \"Set1\", \"Set1\", \"Set1\", \"Set1\"]}, {\"customdata\": [0, 1, 2, 3, 4, 5, 6, 7, 8, 9, 10, 11, 12, 13, 14, 15, 16, 17, 18, 19, 20, 21, 22, 23], \"hovertemplate\": \"%{y}[%{customdata}] = %{marker.color}<extra></extra>\", \"marker\": {\"color\": [\"#FD3216\", \"#00FE35\", \"#6A76FC\", \"#FED4C4\", \"#FE00CE\", \"#0DF9FF\", \"#F6F926\", \"#FF9616\", \"#479B55\", \"#EEA6FB\", \"#DC587D\", \"#D626FF\", \"#6E899C\", \"#00B5F7\", \"#B68E00\", \"#C9FBE5\", \"#FF0092\", \"#22FFA7\", \"#E3EE9E\", \"#86CE00\", \"#BC7196\", \"#7E7DCD\", \"#FC6955\", \"#E48F72\"]}, \"orientation\": \"h\", \"type\": \"bar\", \"x\": [1, 1, 1, 1, 1, 1, 1, 1, 1, 1, 1, 1, 1, 1, 1, 1, 1, 1, 1, 1, 1, 1, 1, 1], \"y\": [\"Light24\", \"Light24\", \"Light24\", \"Light24\", \"Light24\", \"Light24\", \"Light24\", \"Light24\", \"Light24\", \"Light24\", \"Light24\", \"Light24\", \"Light24\", \"Light24\", \"Light24\", \"Light24\", \"Light24\", \"Light24\", \"Light24\", \"Light24\", \"Light24\", \"Light24\", \"Light24\", \"Light24\"]}, {\"customdata\": [0, 1, 2, 3, 4, 5, 6, 7, 8, 9, 10, 11, 12, 13, 14, 15, 16, 17, 18, 19, 20, 21, 22, 23], \"hovertemplate\": \"%{y}[%{customdata}] = %{marker.color}<extra></extra>\", \"marker\": {\"color\": [\"#2E91E5\", \"#E15F99\", \"#1CA71C\", \"#FB0D0D\", \"#DA16FF\", \"#222A2A\", \"#B68100\", \"#750D86\", \"#EB663B\", \"#511CFB\", \"#00A08B\", \"#FB00D1\", \"#FC0080\", \"#B2828D\", \"#6C7C32\", \"#778AAE\", \"#862A16\", \"#A777F1\", \"#620042\", \"#1616A7\", \"#DA60CA\", \"#6C4516\", \"#0D2A63\", \"#AF0038\"]}, \"orientation\": \"h\", \"type\": \"bar\", \"x\": [1, 1, 1, 1, 1, 1, 1, 1, 1, 1, 1, 1, 1, 1, 1, 1, 1, 1, 1, 1, 1, 1, 1, 1], \"y\": [\"Dark24\", \"Dark24\", \"Dark24\", \"Dark24\", \"Dark24\", \"Dark24\", \"Dark24\", \"Dark24\", \"Dark24\", \"Dark24\", \"Dark24\", \"Dark24\", \"Dark24\", \"Dark24\", \"Dark24\", \"Dark24\", \"Dark24\", \"Dark24\", \"Dark24\", \"Dark24\", \"Dark24\", \"Dark24\", \"Dark24\", \"Dark24\"]}, {\"customdata\": [0, 1, 2, 3, 4, 5, 6, 7, 8, 9, 10, 11, 12, 13, 14, 15, 16, 17, 18, 19, 20, 21, 22, 23, 24, 25], \"hovertemplate\": \"%{y}[%{customdata}] = %{marker.color}<extra></extra>\", \"marker\": {\"color\": [\"#AA0DFE\", \"#3283FE\", \"#85660D\", \"#782AB6\", \"#565656\", \"#1C8356\", \"#16FF32\", \"#F7E1A0\", \"#E2E2E2\", \"#1CBE4F\", \"#C4451C\", \"#DEA0FD\", \"#FE00FA\", \"#325A9B\", \"#FEAF16\", \"#F8A19F\", \"#90AD1C\", \"#F6222E\", \"#1CFFCE\", \"#2ED9FF\", \"#B10DA1\", \"#C075A6\", \"#FC1CBF\", \"#B00068\", \"#FBE426\", \"#FA0087\"]}, \"orientation\": \"h\", \"type\": \"bar\", \"x\": [1, 1, 1, 1, 1, 1, 1, 1, 1, 1, 1, 1, 1, 1, 1, 1, 1, 1, 1, 1, 1, 1, 1, 1, 1, 1], \"y\": [\"Alphabet\", \"Alphabet\", \"Alphabet\", \"Alphabet\", \"Alphabet\", \"Alphabet\", \"Alphabet\", \"Alphabet\", \"Alphabet\", \"Alphabet\", \"Alphabet\", \"Alphabet\", \"Alphabet\", \"Alphabet\", \"Alphabet\", \"Alphabet\", \"Alphabet\", \"Alphabet\", \"Alphabet\", \"Alphabet\", \"Alphabet\", \"Alphabet\", \"Alphabet\", \"Alphabet\", \"Alphabet\", \"Alphabet\"]}, {\"customdata\": [0, 1, 2, 3, 4, 5, 6, 7, 8, 9], \"hovertemplate\": \"%{y}[%{customdata}] = %{marker.color}<extra></extra>\", \"marker\": {\"color\": [\"#4C78A8\", \"#F58518\", \"#E45756\", \"#72B7B2\", \"#54A24B\", \"#EECA3B\", \"#B279A2\", \"#FF9DA6\", \"#9D755D\", \"#BAB0AC\"]}, \"orientation\": \"h\", \"type\": \"bar\", \"x\": [1, 1, 1, 1, 1, 1, 1, 1, 1, 1], \"y\": [\"T10\", \"T10\", \"T10\", \"T10\", \"T10\", \"T10\", \"T10\", \"T10\", \"T10\", \"T10\"]}, {\"customdata\": [0, 1, 2, 3, 4, 5, 6, 7, 8, 9], \"hovertemplate\": \"%{y}[%{customdata}] = %{marker.color}<extra></extra>\", \"marker\": {\"color\": [\"#3366CC\", \"#DC3912\", \"#FF9900\", \"#109618\", \"#990099\", \"#0099C6\", \"#DD4477\", \"#66AA00\", \"#B82E2E\", \"#316395\"]}, \"orientation\": \"h\", \"type\": \"bar\", \"x\": [1, 1, 1, 1, 1, 1, 1, 1, 1, 1], \"y\": [\"G10\", \"G10\", \"G10\", \"G10\", \"G10\", \"G10\", \"G10\", \"G10\", \"G10\", \"G10\"]}, {\"customdata\": [0, 1, 2, 3, 4, 5, 6, 7, 8, 9], \"hovertemplate\": \"%{y}[%{customdata}] = %{marker.color}<extra></extra>\", \"marker\": {\"color\": [\"#1F77B4\", \"#FF7F0E\", \"#2CA02C\", \"#D62728\", \"#9467BD\", \"#8C564B\", \"#E377C2\", \"#7F7F7F\", \"#BCBD22\", \"#17BECF\"]}, \"orientation\": \"h\", \"type\": \"bar\", \"x\": [1, 1, 1, 1, 1, 1, 1, 1, 1, 1], \"y\": [\"D3\", \"D3\", \"D3\", \"D3\", \"D3\", \"D3\", \"D3\", \"D3\", \"D3\", \"D3\"]}, {\"customdata\": [0, 1, 2, 3, 4, 5, 6, 7, 8, 9], \"hovertemplate\": \"%{y}[%{customdata}] = %{marker.color}<extra></extra>\", \"marker\": {\"color\": [\"#636EFA\", \"#EF553B\", \"#00CC96\", \"#AB63FA\", \"#FFA15A\", \"#19D3F3\", \"#FF6692\", \"#B6E880\", \"#FF97FF\", \"#FECB52\"]}, \"orientation\": \"h\", \"type\": \"bar\", \"x\": [1, 1, 1, 1, 1, 1, 1, 1, 1, 1], \"y\": [\"Plotly\", \"Plotly\", \"Plotly\", \"Plotly\", \"Plotly\", \"Plotly\", \"Plotly\", \"Plotly\", \"Plotly\", \"Plotly\"]}],                        {\"bargap\": 0.5, \"barmode\": \"stack\", \"barnorm\": \"fraction\", \"height\": 760, \"margin\": {\"b\": 10}, \"showlegend\": false, \"template\": {\"data\": {\"bar\": [{\"error_x\": {\"color\": \"#2a3f5f\"}, \"error_y\": {\"color\": \"#2a3f5f\"}, \"marker\": {\"line\": {\"color\": \"#E5ECF6\", \"width\": 0.5}}, \"type\": \"bar\"}], \"barpolar\": [{\"marker\": {\"line\": {\"color\": \"#E5ECF6\", \"width\": 0.5}}, \"type\": \"barpolar\"}], \"carpet\": [{\"aaxis\": {\"endlinecolor\": \"#2a3f5f\", \"gridcolor\": \"white\", \"linecolor\": \"white\", \"minorgridcolor\": \"white\", \"startlinecolor\": \"#2a3f5f\"}, \"baxis\": {\"endlinecolor\": \"#2a3f5f\", \"gridcolor\": \"white\", \"linecolor\": \"white\", \"minorgridcolor\": \"white\", \"startlinecolor\": \"#2a3f5f\"}, \"type\": \"carpet\"}], \"choropleth\": [{\"colorbar\": {\"outlinewidth\": 0, \"ticks\": \"\"}, \"type\": \"choropleth\"}], \"contour\": [{\"colorbar\": {\"outlinewidth\": 0, \"ticks\": \"\"}, \"colorscale\": [[0.0, \"#0d0887\"], [0.1111111111111111, \"#46039f\"], [0.2222222222222222, \"#7201a8\"], [0.3333333333333333, \"#9c179e\"], [0.4444444444444444, \"#bd3786\"], [0.5555555555555556, \"#d8576b\"], [0.6666666666666666, \"#ed7953\"], [0.7777777777777778, \"#fb9f3a\"], [0.8888888888888888, \"#fdca26\"], [1.0, \"#f0f921\"]], \"type\": \"contour\"}], \"contourcarpet\": [{\"colorbar\": {\"outlinewidth\": 0, \"ticks\": \"\"}, \"type\": \"contourcarpet\"}], \"heatmap\": [{\"colorbar\": {\"outlinewidth\": 0, \"ticks\": \"\"}, \"colorscale\": [[0.0, \"#0d0887\"], [0.1111111111111111, \"#46039f\"], [0.2222222222222222, \"#7201a8\"], [0.3333333333333333, \"#9c179e\"], [0.4444444444444444, \"#bd3786\"], [0.5555555555555556, \"#d8576b\"], [0.6666666666666666, \"#ed7953\"], [0.7777777777777778, \"#fb9f3a\"], [0.8888888888888888, \"#fdca26\"], [1.0, \"#f0f921\"]], \"type\": \"heatmap\"}], \"heatmapgl\": [{\"colorbar\": {\"outlinewidth\": 0, \"ticks\": \"\"}, \"colorscale\": [[0.0, \"#0d0887\"], [0.1111111111111111, \"#46039f\"], [0.2222222222222222, \"#7201a8\"], [0.3333333333333333, \"#9c179e\"], [0.4444444444444444, \"#bd3786\"], [0.5555555555555556, \"#d8576b\"], [0.6666666666666666, \"#ed7953\"], [0.7777777777777778, \"#fb9f3a\"], [0.8888888888888888, \"#fdca26\"], [1.0, \"#f0f921\"]], \"type\": \"heatmapgl\"}], \"histogram\": [{\"marker\": {\"colorbar\": {\"outlinewidth\": 0, \"ticks\": \"\"}}, \"type\": \"histogram\"}], \"histogram2d\": [{\"colorbar\": {\"outlinewidth\": 0, \"ticks\": \"\"}, \"colorscale\": [[0.0, \"#0d0887\"], [0.1111111111111111, \"#46039f\"], [0.2222222222222222, \"#7201a8\"], [0.3333333333333333, \"#9c179e\"], [0.4444444444444444, \"#bd3786\"], [0.5555555555555556, \"#d8576b\"], [0.6666666666666666, \"#ed7953\"], [0.7777777777777778, \"#fb9f3a\"], [0.8888888888888888, \"#fdca26\"], [1.0, \"#f0f921\"]], \"type\": \"histogram2d\"}], \"histogram2dcontour\": [{\"colorbar\": {\"outlinewidth\": 0, \"ticks\": \"\"}, \"colorscale\": [[0.0, \"#0d0887\"], [0.1111111111111111, \"#46039f\"], [0.2222222222222222, \"#7201a8\"], [0.3333333333333333, \"#9c179e\"], [0.4444444444444444, \"#bd3786\"], [0.5555555555555556, \"#d8576b\"], [0.6666666666666666, \"#ed7953\"], [0.7777777777777778, \"#fb9f3a\"], [0.8888888888888888, \"#fdca26\"], [1.0, \"#f0f921\"]], \"type\": \"histogram2dcontour\"}], \"mesh3d\": [{\"colorbar\": {\"outlinewidth\": 0, \"ticks\": \"\"}, \"type\": \"mesh3d\"}], \"parcoords\": [{\"line\": {\"colorbar\": {\"outlinewidth\": 0, \"ticks\": \"\"}}, \"type\": \"parcoords\"}], \"pie\": [{\"automargin\": true, \"type\": \"pie\"}], \"scatter\": [{\"marker\": {\"colorbar\": {\"outlinewidth\": 0, \"ticks\": \"\"}}, \"type\": \"scatter\"}], \"scatter3d\": [{\"line\": {\"colorbar\": {\"outlinewidth\": 0, \"ticks\": \"\"}}, \"marker\": {\"colorbar\": {\"outlinewidth\": 0, \"ticks\": \"\"}}, \"type\": \"scatter3d\"}], \"scattercarpet\": [{\"marker\": {\"colorbar\": {\"outlinewidth\": 0, \"ticks\": \"\"}}, \"type\": \"scattercarpet\"}], \"scattergeo\": [{\"marker\": {\"colorbar\": {\"outlinewidth\": 0, \"ticks\": \"\"}}, \"type\": \"scattergeo\"}], \"scattergl\": [{\"marker\": {\"colorbar\": {\"outlinewidth\": 0, \"ticks\": \"\"}}, \"type\": \"scattergl\"}], \"scattermapbox\": [{\"marker\": {\"colorbar\": {\"outlinewidth\": 0, \"ticks\": \"\"}}, \"type\": \"scattermapbox\"}], \"scatterpolar\": [{\"marker\": {\"colorbar\": {\"outlinewidth\": 0, \"ticks\": \"\"}}, \"type\": \"scatterpolar\"}], \"scatterpolargl\": [{\"marker\": {\"colorbar\": {\"outlinewidth\": 0, \"ticks\": \"\"}}, \"type\": \"scatterpolargl\"}], \"scatterternary\": [{\"marker\": {\"colorbar\": {\"outlinewidth\": 0, \"ticks\": \"\"}}, \"type\": \"scatterternary\"}], \"surface\": [{\"colorbar\": {\"outlinewidth\": 0, \"ticks\": \"\"}, \"colorscale\": [[0.0, \"#0d0887\"], [0.1111111111111111, \"#46039f\"], [0.2222222222222222, \"#7201a8\"], [0.3333333333333333, \"#9c179e\"], [0.4444444444444444, \"#bd3786\"], [0.5555555555555556, \"#d8576b\"], [0.6666666666666666, \"#ed7953\"], [0.7777777777777778, \"#fb9f3a\"], [0.8888888888888888, \"#fdca26\"], [1.0, \"#f0f921\"]], \"type\": \"surface\"}], \"table\": [{\"cells\": {\"fill\": {\"color\": \"#EBF0F8\"}, \"line\": {\"color\": \"white\"}}, \"header\": {\"fill\": {\"color\": \"#C8D4E3\"}, \"line\": {\"color\": \"white\"}}, \"type\": \"table\"}]}, \"layout\": {\"annotationdefaults\": {\"arrowcolor\": \"#2a3f5f\", \"arrowhead\": 0, \"arrowwidth\": 1}, \"autotypenumbers\": \"strict\", \"coloraxis\": {\"colorbar\": {\"outlinewidth\": 0, \"ticks\": \"\"}}, \"colorscale\": {\"diverging\": [[0, \"#8e0152\"], [0.1, \"#c51b7d\"], [0.2, \"#de77ae\"], [0.3, \"#f1b6da\"], [0.4, \"#fde0ef\"], [0.5, \"#f7f7f7\"], [0.6, \"#e6f5d0\"], [0.7, \"#b8e186\"], [0.8, \"#7fbc41\"], [0.9, \"#4d9221\"], [1, \"#276419\"]], \"sequential\": [[0.0, \"#0d0887\"], [0.1111111111111111, \"#46039f\"], [0.2222222222222222, \"#7201a8\"], [0.3333333333333333, \"#9c179e\"], [0.4444444444444444, \"#bd3786\"], [0.5555555555555556, \"#d8576b\"], [0.6666666666666666, \"#ed7953\"], [0.7777777777777778, \"#fb9f3a\"], [0.8888888888888888, \"#fdca26\"], [1.0, \"#f0f921\"]], \"sequentialminus\": [[0.0, \"#0d0887\"], [0.1111111111111111, \"#46039f\"], [0.2222222222222222, \"#7201a8\"], [0.3333333333333333, \"#9c179e\"], [0.4444444444444444, \"#bd3786\"], [0.5555555555555556, \"#d8576b\"], [0.6666666666666666, \"#ed7953\"], [0.7777777777777778, \"#fb9f3a\"], [0.8888888888888888, \"#fdca26\"], [1.0, \"#f0f921\"]]}, \"colorway\": [\"#636efa\", \"#EF553B\", \"#00cc96\", \"#ab63fa\", \"#FFA15A\", \"#19d3f3\", \"#FF6692\", \"#B6E880\", \"#FF97FF\", \"#FECB52\"], \"font\": {\"color\": \"#2a3f5f\"}, \"geo\": {\"bgcolor\": \"white\", \"lakecolor\": \"white\", \"landcolor\": \"#E5ECF6\", \"showlakes\": true, \"showland\": true, \"subunitcolor\": \"white\"}, \"hoverlabel\": {\"align\": \"left\"}, \"hovermode\": \"closest\", \"mapbox\": {\"style\": \"light\"}, \"paper_bgcolor\": \"white\", \"plot_bgcolor\": \"#E5ECF6\", \"polar\": {\"angularaxis\": {\"gridcolor\": \"white\", \"linecolor\": \"white\", \"ticks\": \"\"}, \"bgcolor\": \"#E5ECF6\", \"radialaxis\": {\"gridcolor\": \"white\", \"linecolor\": \"white\", \"ticks\": \"\"}}, \"scene\": {\"xaxis\": {\"backgroundcolor\": \"#E5ECF6\", \"gridcolor\": \"white\", \"gridwidth\": 2, \"linecolor\": \"white\", \"showbackground\": true, \"ticks\": \"\", \"zerolinecolor\": \"white\"}, \"yaxis\": {\"backgroundcolor\": \"#E5ECF6\", \"gridcolor\": \"white\", \"gridwidth\": 2, \"linecolor\": \"white\", \"showbackground\": true, \"ticks\": \"\", \"zerolinecolor\": \"white\"}, \"zaxis\": {\"backgroundcolor\": \"#E5ECF6\", \"gridcolor\": \"white\", \"gridwidth\": 2, \"linecolor\": \"white\", \"showbackground\": true, \"ticks\": \"\", \"zerolinecolor\": \"white\"}}, \"shapedefaults\": {\"line\": {\"color\": \"#2a3f5f\"}}, \"ternary\": {\"aaxis\": {\"gridcolor\": \"white\", \"linecolor\": \"white\", \"ticks\": \"\"}, \"baxis\": {\"gridcolor\": \"white\", \"linecolor\": \"white\", \"ticks\": \"\"}, \"bgcolor\": \"#E5ECF6\", \"caxis\": {\"gridcolor\": \"white\", \"linecolor\": \"white\", \"ticks\": \"\"}}, \"title\": {\"x\": 0.05}, \"xaxis\": {\"automargin\": true, \"gridcolor\": \"white\", \"linecolor\": \"white\", \"ticks\": \"\", \"title\": {\"standoff\": 15}, \"zerolinecolor\": \"white\", \"zerolinewidth\": 2}, \"yaxis\": {\"automargin\": true, \"gridcolor\": \"white\", \"linecolor\": \"white\", \"ticks\": \"\", \"title\": {\"standoff\": 15}, \"zerolinecolor\": \"white\", \"zerolinewidth\": 2}}}, \"title\": {\"text\": \"plotly.colors.qualitative\"}, \"xaxis\": {\"range\": [-0.02, 1.02], \"showgrid\": false, \"showticklabels\": false}},                        {\"responsive\": true}                    ).then(function(){\n",
       "                            \n",
       "var gd = document.getElementById('da8b31aa-50ca-4f18-a27e-1928134ae0f1');\n",
       "var x = new MutationObserver(function (mutations, observer) {{\n",
       "        var display = window.getComputedStyle(gd).display;\n",
       "        if (!display || display === 'none') {{\n",
       "            console.log([gd, 'removed!']);\n",
       "            Plotly.purge(gd);\n",
       "            observer.disconnect();\n",
       "        }}\n",
       "}});\n",
       "\n",
       "// Listen for the removal of the full notebook cells\n",
       "var notebookContainer = gd.closest('#notebook-container');\n",
       "if (notebookContainer) {{\n",
       "    x.observe(notebookContainer, {childList: true});\n",
       "}}\n",
       "\n",
       "// Listen for the clearing of the current output cell\n",
       "var outputEl = gd.closest('.output');\n",
       "if (outputEl) {{\n",
       "    x.observe(outputEl, {childList: true});\n",
       "}}\n",
       "\n",
       "                        })                };                });            </script>        </div>"
      ]
     },
     "metadata": {},
     "output_type": "display_data"
    }
   ],
   "source": [
    "fig = px.colors.qualitative.swatches()\n",
    "fig.show()"
   ]
  },
  {
   "cell_type": "code",
   "execution_count": null,
   "id": "b751e117-31df-42bc-ae98-d32004617b5a",
   "metadata": {},
   "outputs": [],
   "source": []
  }
 ],
 "metadata": {
  "kernelspec": {
   "display_name": "Python 3 (ipykernel)",
   "language": "python",
   "name": "python3"
  },
  "language_info": {
   "codemirror_mode": {
    "name": "ipython",
    "version": 3
   },
   "file_extension": ".py",
   "mimetype": "text/x-python",
   "name": "python",
   "nbconvert_exporter": "python",
   "pygments_lexer": "ipython3",
   "version": "3.9.16"
  }
 },
 "nbformat": 4,
 "nbformat_minor": 5
}
