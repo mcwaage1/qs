{
 "cells": [
  {
   "cell_type": "code",
   "execution_count": 17,
   "metadata": {},
   "outputs": [],
   "source": [
    "# https://dev.fitbit.com/build/reference/web-api/explore/\n",
    "\n",
    "# https://github.com/arpanghosh8453/programs/blob/master/Fitbit%20Data%20Analyzer/Fitbit%20HR%20analyzer.ipynb\n",
    "# https://dev.fitbit.com/\n",
    "# https://dev.fitbit.com/build/reference/web-api/basics/\n",
    "# Implicit Grant Flow\n",
    "# You need the following modules, if you don't have them, use pip install <module-name>\n",
    "\n",
    "import requests\n",
    "import pandas as pd\n",
    "import datetime\n",
    "import numpy as np\n",
    "import json\n",
    "\n",
    "import dash\n",
    "from dash import dcc\n",
    "from dash import html\n",
    "from dash.dependencies import Input, Output\n",
    "import plotly.express as px\n",
    "import jupyter_dash\n",
    "from dash.dependencies import Input, Output\n",
    "import plotly.graph_objects as go\n",
    "from plotly.subplots import make_subplots\n",
    "\n",
    "import time\n",
    "\n",
    "external_stylesheets = ['https://codepen.io/chriddyp/pen/bWLwgP.css']"
   ]
  },
  {
   "cell_type": "code",
   "execution_count": 222,
   "metadata": {},
   "outputs": [],
   "source": [
    "with open(\"data/credentials.json\", \"r\") as file:\n",
    "    credentials = json.load(file)\n",
    "    fitbit_cr = credentials['fitbit_cr']\n",
    "    fitbit_key = fitbit_cr['KEY']\n",
    "    username = fitbit_cr['USERNAME']"
   ]
  },
  {
   "cell_type": "code",
   "execution_count": 11,
   "metadata": {},
   "outputs": [],
   "source": [
    "# day_range_length = 1\n",
    "\n",
    "# start_date = str((datetime.datetime.now() - datetime.timedelta(days=day_range_length)).date())\n",
    "# #start_date = \"2020-01-01\"\n",
    "\n",
    "# end_date = str(datetime.datetime.date(datetime.datetime.now())) \n",
    "# #end_date = \"2020-01-02\""
   ]
  },
  {
   "cell_type": "markdown",
   "metadata": {},
   "source": [
    "# Date range"
   ]
  },
  {
   "cell_type": "code",
   "execution_count": 241,
   "metadata": {},
   "outputs": [
    {
     "name": "stdout",
     "output_type": "stream",
     "text": [
      "2023-01-01 to 2023-04-01\n"
     ]
    }
   ],
   "source": [
    "start_date = '2023-01-01'\n",
    "end_date = '2023-04-01'\n",
    "print(start_date, \"to\", end_date)"
   ]
  },
  {
   "cell_type": "code",
   "execution_count": 242,
   "metadata": {},
   "outputs": [
    {
     "name": "stdout",
     "output_type": "stream",
     "text": [
      "Date Range :  ['2023-01-01', '2023-01-02', '2023-01-03', '2023-01-04', '2023-01-05', '2023-01-06', '2023-01-07', '2023-01-08', '2023-01-09', '2023-01-10', '2023-01-11', '2023-01-12', '2023-01-13', '2023-01-14', '2023-01-15', '2023-01-16', '2023-01-17', '2023-01-18', '2023-01-19', '2023-01-20', '2023-01-21', '2023-01-22', '2023-01-23', '2023-01-24', '2023-01-25', '2023-01-26', '2023-01-27', '2023-01-28', '2023-01-29', '2023-01-30', '2023-01-31', '2023-02-01', '2023-02-02', '2023-02-03', '2023-02-04', '2023-02-05', '2023-02-06', '2023-02-07', '2023-02-08', '2023-02-09', '2023-02-10', '2023-02-11', '2023-02-12', '2023-02-13', '2023-02-14', '2023-02-15', '2023-02-16', '2023-02-17', '2023-02-18', '2023-02-19', '2023-02-20', '2023-02-21', '2023-02-22', '2023-02-23', '2023-02-24', '2023-02-25', '2023-02-26', '2023-02-27', '2023-02-28', '2023-03-01', '2023-03-02', '2023-03-03', '2023-03-04', '2023-03-05', '2023-03-06', '2023-03-07', '2023-03-08', '2023-03-09', '2023-03-10', '2023-03-11', '2023-03-12', '2023-03-13', '2023-03-14', '2023-03-15', '2023-03-16', '2023-03-17', '2023-03-18', '2023-03-19', '2023-03-20', '2023-03-21', '2023-03-22', '2023-03-23', '2023-03-24', '2023-03-25', '2023-03-26', '2023-03-27', '2023-03-28', '2023-03-29', '2023-03-30', '2023-03-31']\n"
     ]
    }
   ],
   "source": [
    "#Update your start and end dates here in yyyy-mm-dd format \n",
    "start = datetime.datetime.strptime(start_date, \"%Y-%m-%d\")\n",
    "end = datetime.datetime.strptime(end_date, \"%Y-%m-%d\")\n",
    "\n",
    "date_array = (start + datetime.timedelta(days=x) for x in range(0, (end-start).days))\n",
    "\n",
    "day_list = []\n",
    "for date_object in date_array:\n",
    "    day_list.append(date_object.strftime(\"%Y-%m-%d\"))\n",
    "    \n",
    "print(\"Date Range : \", day_list)"
   ]
  },
  {
   "cell_type": "code",
   "execution_count": 243,
   "metadata": {},
   "outputs": [
    {
     "data": {
      "text/plain": [
       "90"
      ]
     },
     "execution_count": 243,
     "metadata": {},
     "output_type": "execute_result"
    }
   ],
   "source": [
    "len(day_list)"
   ]
  },
  {
   "cell_type": "code",
   "execution_count": 244,
   "metadata": {},
   "outputs": [],
   "source": [
    "# df_all = pd.DataFrame()"
   ]
  },
  {
   "cell_type": "markdown",
   "metadata": {},
   "source": [
    "# Heart Rate"
   ]
  },
  {
   "cell_type": "code",
   "execution_count": 245,
   "metadata": {},
   "outputs": [
    {
     "data": {
      "text/plain": [
       "200"
      ]
     },
     "execution_count": 245,
     "metadata": {},
     "output_type": "execute_result"
    }
   ],
   "source": [
    "header = {'Authorization': 'Bearer {}'.format(fitbit_key)}\n",
    "\n",
    "for single_day in day_list[0]:\n",
    "    hr_response = requests.get(\"https://api.fitbit.com/1/user/-/activities/heart/date/\"+ single_day +\"/1d/1min/time/00:00/23:59.json\", headers=header).status_code\n",
    "hr_response"
   ]
  },
  {
   "cell_type": "code",
   "execution_count": 246,
   "metadata": {},
   "outputs": [
    {
     "name": "stderr",
     "output_type": "stream",
     "text": [
      "/tmp/ipykernel_18763/2055464256.py:11: FutureWarning: The frame.append method is deprecated and will be removed from pandas in a future version. Use pandas.concat instead.\n",
      "  hr_df = hr_df.append(df, sort=True)\n"
     ]
    },
    {
     "name": "stdout",
     "output_type": "stream",
     "text": [
      "2023-01-01 done\n"
     ]
    },
    {
     "name": "stderr",
     "output_type": "stream",
     "text": [
      "/tmp/ipykernel_18763/2055464256.py:11: FutureWarning: The frame.append method is deprecated and will be removed from pandas in a future version. Use pandas.concat instead.\n",
      "  hr_df = hr_df.append(df, sort=True)\n"
     ]
    },
    {
     "name": "stdout",
     "output_type": "stream",
     "text": [
      "2023-01-02 done\n"
     ]
    },
    {
     "name": "stderr",
     "output_type": "stream",
     "text": [
      "/tmp/ipykernel_18763/2055464256.py:11: FutureWarning: The frame.append method is deprecated and will be removed from pandas in a future version. Use pandas.concat instead.\n",
      "  hr_df = hr_df.append(df, sort=True)\n"
     ]
    },
    {
     "name": "stdout",
     "output_type": "stream",
     "text": [
      "2023-01-03 done\n"
     ]
    },
    {
     "name": "stderr",
     "output_type": "stream",
     "text": [
      "/tmp/ipykernel_18763/2055464256.py:11: FutureWarning: The frame.append method is deprecated and will be removed from pandas in a future version. Use pandas.concat instead.\n",
      "  hr_df = hr_df.append(df, sort=True)\n"
     ]
    },
    {
     "name": "stdout",
     "output_type": "stream",
     "text": [
      "2023-01-04 done\n"
     ]
    },
    {
     "name": "stderr",
     "output_type": "stream",
     "text": [
      "/tmp/ipykernel_18763/2055464256.py:11: FutureWarning: The frame.append method is deprecated and will be removed from pandas in a future version. Use pandas.concat instead.\n",
      "  hr_df = hr_df.append(df, sort=True)\n"
     ]
    },
    {
     "name": "stdout",
     "output_type": "stream",
     "text": [
      "2023-01-05 done\n"
     ]
    },
    {
     "name": "stderr",
     "output_type": "stream",
     "text": [
      "/tmp/ipykernel_18763/2055464256.py:11: FutureWarning: The frame.append method is deprecated and will be removed from pandas in a future version. Use pandas.concat instead.\n",
      "  hr_df = hr_df.append(df, sort=True)\n"
     ]
    },
    {
     "name": "stdout",
     "output_type": "stream",
     "text": [
      "2023-01-06 done\n"
     ]
    },
    {
     "name": "stderr",
     "output_type": "stream",
     "text": [
      "/tmp/ipykernel_18763/2055464256.py:11: FutureWarning: The frame.append method is deprecated and will be removed from pandas in a future version. Use pandas.concat instead.\n",
      "  hr_df = hr_df.append(df, sort=True)\n"
     ]
    },
    {
     "name": "stdout",
     "output_type": "stream",
     "text": [
      "2023-01-07 done\n"
     ]
    },
    {
     "name": "stderr",
     "output_type": "stream",
     "text": [
      "/tmp/ipykernel_18763/2055464256.py:11: FutureWarning: The frame.append method is deprecated and will be removed from pandas in a future version. Use pandas.concat instead.\n",
      "  hr_df = hr_df.append(df, sort=True)\n"
     ]
    },
    {
     "name": "stdout",
     "output_type": "stream",
     "text": [
      "2023-01-08 done\n"
     ]
    },
    {
     "name": "stderr",
     "output_type": "stream",
     "text": [
      "/tmp/ipykernel_18763/2055464256.py:11: FutureWarning: The frame.append method is deprecated and will be removed from pandas in a future version. Use pandas.concat instead.\n",
      "  hr_df = hr_df.append(df, sort=True)\n"
     ]
    },
    {
     "name": "stdout",
     "output_type": "stream",
     "text": [
      "2023-01-09 done\n"
     ]
    },
    {
     "name": "stderr",
     "output_type": "stream",
     "text": [
      "/tmp/ipykernel_18763/2055464256.py:11: FutureWarning: The frame.append method is deprecated and will be removed from pandas in a future version. Use pandas.concat instead.\n",
      "  hr_df = hr_df.append(df, sort=True)\n"
     ]
    },
    {
     "name": "stdout",
     "output_type": "stream",
     "text": [
      "2023-01-10 done\n"
     ]
    },
    {
     "name": "stderr",
     "output_type": "stream",
     "text": [
      "/tmp/ipykernel_18763/2055464256.py:11: FutureWarning: The frame.append method is deprecated and will be removed from pandas in a future version. Use pandas.concat instead.\n",
      "  hr_df = hr_df.append(df, sort=True)\n"
     ]
    },
    {
     "name": "stdout",
     "output_type": "stream",
     "text": [
      "2023-01-11 done\n"
     ]
    },
    {
     "name": "stderr",
     "output_type": "stream",
     "text": [
      "/tmp/ipykernel_18763/2055464256.py:11: FutureWarning: The frame.append method is deprecated and will be removed from pandas in a future version. Use pandas.concat instead.\n",
      "  hr_df = hr_df.append(df, sort=True)\n"
     ]
    },
    {
     "name": "stdout",
     "output_type": "stream",
     "text": [
      "2023-01-12 done\n"
     ]
    },
    {
     "name": "stderr",
     "output_type": "stream",
     "text": [
      "/tmp/ipykernel_18763/2055464256.py:11: FutureWarning: The frame.append method is deprecated and will be removed from pandas in a future version. Use pandas.concat instead.\n",
      "  hr_df = hr_df.append(df, sort=True)\n"
     ]
    },
    {
     "name": "stdout",
     "output_type": "stream",
     "text": [
      "2023-01-13 done\n"
     ]
    },
    {
     "name": "stderr",
     "output_type": "stream",
     "text": [
      "/tmp/ipykernel_18763/2055464256.py:11: FutureWarning: The frame.append method is deprecated and will be removed from pandas in a future version. Use pandas.concat instead.\n",
      "  hr_df = hr_df.append(df, sort=True)\n"
     ]
    },
    {
     "name": "stdout",
     "output_type": "stream",
     "text": [
      "2023-01-14 done\n"
     ]
    },
    {
     "name": "stderr",
     "output_type": "stream",
     "text": [
      "/tmp/ipykernel_18763/2055464256.py:11: FutureWarning: The frame.append method is deprecated and will be removed from pandas in a future version. Use pandas.concat instead.\n",
      "  hr_df = hr_df.append(df, sort=True)\n"
     ]
    },
    {
     "name": "stdout",
     "output_type": "stream",
     "text": [
      "2023-01-15 done\n"
     ]
    },
    {
     "name": "stderr",
     "output_type": "stream",
     "text": [
      "/tmp/ipykernel_18763/2055464256.py:11: FutureWarning: The frame.append method is deprecated and will be removed from pandas in a future version. Use pandas.concat instead.\n",
      "  hr_df = hr_df.append(df, sort=True)\n"
     ]
    },
    {
     "name": "stdout",
     "output_type": "stream",
     "text": [
      "2023-01-16 done\n"
     ]
    },
    {
     "name": "stderr",
     "output_type": "stream",
     "text": [
      "/tmp/ipykernel_18763/2055464256.py:11: FutureWarning: The frame.append method is deprecated and will be removed from pandas in a future version. Use pandas.concat instead.\n",
      "  hr_df = hr_df.append(df, sort=True)\n"
     ]
    },
    {
     "name": "stdout",
     "output_type": "stream",
     "text": [
      "2023-01-17 done\n"
     ]
    },
    {
     "name": "stderr",
     "output_type": "stream",
     "text": [
      "/tmp/ipykernel_18763/2055464256.py:11: FutureWarning: The frame.append method is deprecated and will be removed from pandas in a future version. Use pandas.concat instead.\n",
      "  hr_df = hr_df.append(df, sort=True)\n"
     ]
    },
    {
     "name": "stdout",
     "output_type": "stream",
     "text": [
      "2023-01-18 done\n"
     ]
    },
    {
     "name": "stderr",
     "output_type": "stream",
     "text": [
      "/tmp/ipykernel_18763/2055464256.py:11: FutureWarning: The frame.append method is deprecated and will be removed from pandas in a future version. Use pandas.concat instead.\n",
      "  hr_df = hr_df.append(df, sort=True)\n"
     ]
    },
    {
     "name": "stdout",
     "output_type": "stream",
     "text": [
      "2023-01-19 done\n"
     ]
    },
    {
     "name": "stderr",
     "output_type": "stream",
     "text": [
      "/tmp/ipykernel_18763/2055464256.py:11: FutureWarning: The frame.append method is deprecated and will be removed from pandas in a future version. Use pandas.concat instead.\n",
      "  hr_df = hr_df.append(df, sort=True)\n"
     ]
    },
    {
     "name": "stdout",
     "output_type": "stream",
     "text": [
      "2023-01-20 done\n"
     ]
    },
    {
     "name": "stderr",
     "output_type": "stream",
     "text": [
      "/tmp/ipykernel_18763/2055464256.py:11: FutureWarning: The frame.append method is deprecated and will be removed from pandas in a future version. Use pandas.concat instead.\n",
      "  hr_df = hr_df.append(df, sort=True)\n"
     ]
    },
    {
     "name": "stdout",
     "output_type": "stream",
     "text": [
      "2023-01-21 done\n"
     ]
    },
    {
     "name": "stderr",
     "output_type": "stream",
     "text": [
      "/tmp/ipykernel_18763/2055464256.py:11: FutureWarning: The frame.append method is deprecated and will be removed from pandas in a future version. Use pandas.concat instead.\n",
      "  hr_df = hr_df.append(df, sort=True)\n"
     ]
    },
    {
     "name": "stdout",
     "output_type": "stream",
     "text": [
      "2023-01-22 done\n"
     ]
    },
    {
     "name": "stderr",
     "output_type": "stream",
     "text": [
      "/tmp/ipykernel_18763/2055464256.py:11: FutureWarning: The frame.append method is deprecated and will be removed from pandas in a future version. Use pandas.concat instead.\n",
      "  hr_df = hr_df.append(df, sort=True)\n"
     ]
    },
    {
     "name": "stdout",
     "output_type": "stream",
     "text": [
      "2023-01-23 done\n"
     ]
    },
    {
     "name": "stderr",
     "output_type": "stream",
     "text": [
      "/tmp/ipykernel_18763/2055464256.py:11: FutureWarning: The frame.append method is deprecated and will be removed from pandas in a future version. Use pandas.concat instead.\n",
      "  hr_df = hr_df.append(df, sort=True)\n"
     ]
    },
    {
     "name": "stdout",
     "output_type": "stream",
     "text": [
      "2023-01-24 done\n"
     ]
    },
    {
     "name": "stderr",
     "output_type": "stream",
     "text": [
      "/tmp/ipykernel_18763/2055464256.py:11: FutureWarning: The frame.append method is deprecated and will be removed from pandas in a future version. Use pandas.concat instead.\n",
      "  hr_df = hr_df.append(df, sort=True)\n"
     ]
    },
    {
     "name": "stdout",
     "output_type": "stream",
     "text": [
      "2023-01-25 done\n"
     ]
    },
    {
     "name": "stderr",
     "output_type": "stream",
     "text": [
      "/tmp/ipykernel_18763/2055464256.py:11: FutureWarning: The frame.append method is deprecated and will be removed from pandas in a future version. Use pandas.concat instead.\n",
      "  hr_df = hr_df.append(df, sort=True)\n"
     ]
    },
    {
     "name": "stdout",
     "output_type": "stream",
     "text": [
      "2023-01-26 done\n"
     ]
    },
    {
     "name": "stderr",
     "output_type": "stream",
     "text": [
      "/tmp/ipykernel_18763/2055464256.py:11: FutureWarning: The frame.append method is deprecated and will be removed from pandas in a future version. Use pandas.concat instead.\n",
      "  hr_df = hr_df.append(df, sort=True)\n"
     ]
    },
    {
     "name": "stdout",
     "output_type": "stream",
     "text": [
      "2023-01-27 done\n"
     ]
    },
    {
     "name": "stderr",
     "output_type": "stream",
     "text": [
      "/tmp/ipykernel_18763/2055464256.py:11: FutureWarning: The frame.append method is deprecated and will be removed from pandas in a future version. Use pandas.concat instead.\n",
      "  hr_df = hr_df.append(df, sort=True)\n"
     ]
    },
    {
     "name": "stdout",
     "output_type": "stream",
     "text": [
      "2023-01-28 done\n"
     ]
    },
    {
     "name": "stderr",
     "output_type": "stream",
     "text": [
      "/tmp/ipykernel_18763/2055464256.py:11: FutureWarning: The frame.append method is deprecated and will be removed from pandas in a future version. Use pandas.concat instead.\n",
      "  hr_df = hr_df.append(df, sort=True)\n"
     ]
    },
    {
     "name": "stdout",
     "output_type": "stream",
     "text": [
      "2023-01-29 done\n"
     ]
    },
    {
     "name": "stderr",
     "output_type": "stream",
     "text": [
      "/tmp/ipykernel_18763/2055464256.py:11: FutureWarning: The frame.append method is deprecated and will be removed from pandas in a future version. Use pandas.concat instead.\n",
      "  hr_df = hr_df.append(df, sort=True)\n"
     ]
    },
    {
     "name": "stdout",
     "output_type": "stream",
     "text": [
      "2023-01-30 done\n"
     ]
    },
    {
     "name": "stderr",
     "output_type": "stream",
     "text": [
      "/tmp/ipykernel_18763/2055464256.py:11: FutureWarning: The frame.append method is deprecated and will be removed from pandas in a future version. Use pandas.concat instead.\n",
      "  hr_df = hr_df.append(df, sort=True)\n"
     ]
    },
    {
     "name": "stdout",
     "output_type": "stream",
     "text": [
      "2023-01-31 done\n"
     ]
    },
    {
     "name": "stderr",
     "output_type": "stream",
     "text": [
      "/tmp/ipykernel_18763/2055464256.py:11: FutureWarning: The frame.append method is deprecated and will be removed from pandas in a future version. Use pandas.concat instead.\n",
      "  hr_df = hr_df.append(df, sort=True)\n"
     ]
    },
    {
     "name": "stdout",
     "output_type": "stream",
     "text": [
      "2023-02-01 done\n"
     ]
    },
    {
     "name": "stderr",
     "output_type": "stream",
     "text": [
      "/tmp/ipykernel_18763/2055464256.py:11: FutureWarning: The frame.append method is deprecated and will be removed from pandas in a future version. Use pandas.concat instead.\n",
      "  hr_df = hr_df.append(df, sort=True)\n"
     ]
    },
    {
     "name": "stdout",
     "output_type": "stream",
     "text": [
      "2023-02-02 done\n"
     ]
    },
    {
     "name": "stderr",
     "output_type": "stream",
     "text": [
      "/tmp/ipykernel_18763/2055464256.py:11: FutureWarning: The frame.append method is deprecated and will be removed from pandas in a future version. Use pandas.concat instead.\n",
      "  hr_df = hr_df.append(df, sort=True)\n"
     ]
    },
    {
     "name": "stdout",
     "output_type": "stream",
     "text": [
      "2023-02-03 done\n"
     ]
    },
    {
     "name": "stderr",
     "output_type": "stream",
     "text": [
      "/tmp/ipykernel_18763/2055464256.py:11: FutureWarning: The frame.append method is deprecated and will be removed from pandas in a future version. Use pandas.concat instead.\n",
      "  hr_df = hr_df.append(df, sort=True)\n"
     ]
    },
    {
     "name": "stdout",
     "output_type": "stream",
     "text": [
      "2023-02-04 done\n"
     ]
    },
    {
     "name": "stderr",
     "output_type": "stream",
     "text": [
      "/tmp/ipykernel_18763/2055464256.py:11: FutureWarning: The frame.append method is deprecated and will be removed from pandas in a future version. Use pandas.concat instead.\n",
      "  hr_df = hr_df.append(df, sort=True)\n"
     ]
    },
    {
     "name": "stdout",
     "output_type": "stream",
     "text": [
      "2023-02-05 done\n"
     ]
    },
    {
     "name": "stderr",
     "output_type": "stream",
     "text": [
      "/tmp/ipykernel_18763/2055464256.py:11: FutureWarning: The frame.append method is deprecated and will be removed from pandas in a future version. Use pandas.concat instead.\n",
      "  hr_df = hr_df.append(df, sort=True)\n"
     ]
    },
    {
     "name": "stdout",
     "output_type": "stream",
     "text": [
      "2023-02-06 done\n"
     ]
    },
    {
     "name": "stderr",
     "output_type": "stream",
     "text": [
      "/tmp/ipykernel_18763/2055464256.py:11: FutureWarning: The frame.append method is deprecated and will be removed from pandas in a future version. Use pandas.concat instead.\n",
      "  hr_df = hr_df.append(df, sort=True)\n"
     ]
    },
    {
     "name": "stdout",
     "output_type": "stream",
     "text": [
      "2023-02-07 done\n"
     ]
    },
    {
     "name": "stderr",
     "output_type": "stream",
     "text": [
      "/tmp/ipykernel_18763/2055464256.py:11: FutureWarning: The frame.append method is deprecated and will be removed from pandas in a future version. Use pandas.concat instead.\n",
      "  hr_df = hr_df.append(df, sort=True)\n"
     ]
    },
    {
     "name": "stdout",
     "output_type": "stream",
     "text": [
      "2023-02-08 done\n"
     ]
    },
    {
     "name": "stderr",
     "output_type": "stream",
     "text": [
      "/tmp/ipykernel_18763/2055464256.py:11: FutureWarning: The frame.append method is deprecated and will be removed from pandas in a future version. Use pandas.concat instead.\n",
      "  hr_df = hr_df.append(df, sort=True)\n"
     ]
    },
    {
     "name": "stdout",
     "output_type": "stream",
     "text": [
      "2023-02-09 done\n"
     ]
    },
    {
     "name": "stderr",
     "output_type": "stream",
     "text": [
      "/tmp/ipykernel_18763/2055464256.py:11: FutureWarning: The frame.append method is deprecated and will be removed from pandas in a future version. Use pandas.concat instead.\n",
      "  hr_df = hr_df.append(df, sort=True)\n"
     ]
    },
    {
     "name": "stdout",
     "output_type": "stream",
     "text": [
      "2023-02-10 done\n"
     ]
    },
    {
     "name": "stderr",
     "output_type": "stream",
     "text": [
      "/tmp/ipykernel_18763/2055464256.py:11: FutureWarning: The frame.append method is deprecated and will be removed from pandas in a future version. Use pandas.concat instead.\n",
      "  hr_df = hr_df.append(df, sort=True)\n"
     ]
    },
    {
     "name": "stdout",
     "output_type": "stream",
     "text": [
      "2023-02-11 done\n"
     ]
    },
    {
     "name": "stderr",
     "output_type": "stream",
     "text": [
      "/tmp/ipykernel_18763/2055464256.py:11: FutureWarning: The frame.append method is deprecated and will be removed from pandas in a future version. Use pandas.concat instead.\n",
      "  hr_df = hr_df.append(df, sort=True)\n"
     ]
    },
    {
     "name": "stdout",
     "output_type": "stream",
     "text": [
      "2023-02-12 done\n"
     ]
    },
    {
     "name": "stderr",
     "output_type": "stream",
     "text": [
      "/tmp/ipykernel_18763/2055464256.py:11: FutureWarning: The frame.append method is deprecated and will be removed from pandas in a future version. Use pandas.concat instead.\n",
      "  hr_df = hr_df.append(df, sort=True)\n"
     ]
    },
    {
     "name": "stdout",
     "output_type": "stream",
     "text": [
      "2023-02-13 done\n"
     ]
    },
    {
     "name": "stderr",
     "output_type": "stream",
     "text": [
      "/tmp/ipykernel_18763/2055464256.py:11: FutureWarning: The frame.append method is deprecated and will be removed from pandas in a future version. Use pandas.concat instead.\n",
      "  hr_df = hr_df.append(df, sort=True)\n"
     ]
    },
    {
     "name": "stdout",
     "output_type": "stream",
     "text": [
      "2023-02-14 done\n"
     ]
    },
    {
     "name": "stderr",
     "output_type": "stream",
     "text": [
      "/tmp/ipykernel_18763/2055464256.py:11: FutureWarning: The frame.append method is deprecated and will be removed from pandas in a future version. Use pandas.concat instead.\n",
      "  hr_df = hr_df.append(df, sort=True)\n"
     ]
    },
    {
     "name": "stdout",
     "output_type": "stream",
     "text": [
      "2023-02-15 done\n"
     ]
    },
    {
     "name": "stderr",
     "output_type": "stream",
     "text": [
      "/tmp/ipykernel_18763/2055464256.py:11: FutureWarning: The frame.append method is deprecated and will be removed from pandas in a future version. Use pandas.concat instead.\n",
      "  hr_df = hr_df.append(df, sort=True)\n"
     ]
    },
    {
     "name": "stdout",
     "output_type": "stream",
     "text": [
      "2023-02-16 done\n"
     ]
    },
    {
     "name": "stderr",
     "output_type": "stream",
     "text": [
      "/tmp/ipykernel_18763/2055464256.py:11: FutureWarning: The frame.append method is deprecated and will be removed from pandas in a future version. Use pandas.concat instead.\n",
      "  hr_df = hr_df.append(df, sort=True)\n"
     ]
    },
    {
     "name": "stdout",
     "output_type": "stream",
     "text": [
      "2023-02-17 done\n"
     ]
    },
    {
     "name": "stderr",
     "output_type": "stream",
     "text": [
      "/tmp/ipykernel_18763/2055464256.py:11: FutureWarning: The frame.append method is deprecated and will be removed from pandas in a future version. Use pandas.concat instead.\n",
      "  hr_df = hr_df.append(df, sort=True)\n"
     ]
    },
    {
     "name": "stdout",
     "output_type": "stream",
     "text": [
      "2023-02-18 done\n"
     ]
    },
    {
     "name": "stderr",
     "output_type": "stream",
     "text": [
      "/tmp/ipykernel_18763/2055464256.py:11: FutureWarning: The frame.append method is deprecated and will be removed from pandas in a future version. Use pandas.concat instead.\n",
      "  hr_df = hr_df.append(df, sort=True)\n"
     ]
    },
    {
     "name": "stdout",
     "output_type": "stream",
     "text": [
      "2023-02-19 done\n"
     ]
    },
    {
     "name": "stderr",
     "output_type": "stream",
     "text": [
      "/tmp/ipykernel_18763/2055464256.py:11: FutureWarning: The frame.append method is deprecated and will be removed from pandas in a future version. Use pandas.concat instead.\n",
      "  hr_df = hr_df.append(df, sort=True)\n"
     ]
    },
    {
     "name": "stdout",
     "output_type": "stream",
     "text": [
      "2023-02-20 done\n"
     ]
    },
    {
     "name": "stderr",
     "output_type": "stream",
     "text": [
      "/tmp/ipykernel_18763/2055464256.py:11: FutureWarning: The frame.append method is deprecated and will be removed from pandas in a future version. Use pandas.concat instead.\n",
      "  hr_df = hr_df.append(df, sort=True)\n"
     ]
    },
    {
     "name": "stdout",
     "output_type": "stream",
     "text": [
      "2023-02-21 done\n"
     ]
    },
    {
     "name": "stderr",
     "output_type": "stream",
     "text": [
      "/tmp/ipykernel_18763/2055464256.py:11: FutureWarning: The frame.append method is deprecated and will be removed from pandas in a future version. Use pandas.concat instead.\n",
      "  hr_df = hr_df.append(df, sort=True)\n"
     ]
    },
    {
     "name": "stdout",
     "output_type": "stream",
     "text": [
      "2023-02-22 done\n"
     ]
    },
    {
     "name": "stderr",
     "output_type": "stream",
     "text": [
      "/tmp/ipykernel_18763/2055464256.py:11: FutureWarning: The frame.append method is deprecated and will be removed from pandas in a future version. Use pandas.concat instead.\n",
      "  hr_df = hr_df.append(df, sort=True)\n"
     ]
    },
    {
     "name": "stdout",
     "output_type": "stream",
     "text": [
      "2023-02-23 done\n"
     ]
    },
    {
     "name": "stderr",
     "output_type": "stream",
     "text": [
      "/tmp/ipykernel_18763/2055464256.py:11: FutureWarning: The frame.append method is deprecated and will be removed from pandas in a future version. Use pandas.concat instead.\n",
      "  hr_df = hr_df.append(df, sort=True)\n"
     ]
    },
    {
     "name": "stdout",
     "output_type": "stream",
     "text": [
      "2023-02-24 done\n"
     ]
    },
    {
     "name": "stderr",
     "output_type": "stream",
     "text": [
      "/tmp/ipykernel_18763/2055464256.py:11: FutureWarning: The frame.append method is deprecated and will be removed from pandas in a future version. Use pandas.concat instead.\n",
      "  hr_df = hr_df.append(df, sort=True)\n"
     ]
    },
    {
     "name": "stdout",
     "output_type": "stream",
     "text": [
      "2023-02-25 done\n"
     ]
    },
    {
     "name": "stderr",
     "output_type": "stream",
     "text": [
      "/tmp/ipykernel_18763/2055464256.py:11: FutureWarning: The frame.append method is deprecated and will be removed from pandas in a future version. Use pandas.concat instead.\n",
      "  hr_df = hr_df.append(df, sort=True)\n"
     ]
    },
    {
     "name": "stdout",
     "output_type": "stream",
     "text": [
      "2023-02-26 done\n"
     ]
    },
    {
     "name": "stderr",
     "output_type": "stream",
     "text": [
      "/tmp/ipykernel_18763/2055464256.py:11: FutureWarning: The frame.append method is deprecated and will be removed from pandas in a future version. Use pandas.concat instead.\n",
      "  hr_df = hr_df.append(df, sort=True)\n"
     ]
    },
    {
     "name": "stdout",
     "output_type": "stream",
     "text": [
      "2023-02-27 done\n"
     ]
    },
    {
     "name": "stderr",
     "output_type": "stream",
     "text": [
      "/tmp/ipykernel_18763/2055464256.py:11: FutureWarning: The frame.append method is deprecated and will be removed from pandas in a future version. Use pandas.concat instead.\n",
      "  hr_df = hr_df.append(df, sort=True)\n"
     ]
    },
    {
     "name": "stdout",
     "output_type": "stream",
     "text": [
      "2023-02-28 done\n"
     ]
    },
    {
     "name": "stderr",
     "output_type": "stream",
     "text": [
      "/tmp/ipykernel_18763/2055464256.py:11: FutureWarning: The frame.append method is deprecated and will be removed from pandas in a future version. Use pandas.concat instead.\n",
      "  hr_df = hr_df.append(df, sort=True)\n"
     ]
    },
    {
     "name": "stdout",
     "output_type": "stream",
     "text": [
      "2023-03-01 done\n"
     ]
    },
    {
     "name": "stderr",
     "output_type": "stream",
     "text": [
      "/tmp/ipykernel_18763/2055464256.py:11: FutureWarning: The frame.append method is deprecated and will be removed from pandas in a future version. Use pandas.concat instead.\n",
      "  hr_df = hr_df.append(df, sort=True)\n"
     ]
    },
    {
     "name": "stdout",
     "output_type": "stream",
     "text": [
      "2023-03-02 done\n"
     ]
    },
    {
     "name": "stderr",
     "output_type": "stream",
     "text": [
      "/tmp/ipykernel_18763/2055464256.py:11: FutureWarning: The frame.append method is deprecated and will be removed from pandas in a future version. Use pandas.concat instead.\n",
      "  hr_df = hr_df.append(df, sort=True)\n"
     ]
    },
    {
     "name": "stdout",
     "output_type": "stream",
     "text": [
      "2023-03-03 done\n"
     ]
    },
    {
     "name": "stderr",
     "output_type": "stream",
     "text": [
      "/tmp/ipykernel_18763/2055464256.py:11: FutureWarning: The frame.append method is deprecated and will be removed from pandas in a future version. Use pandas.concat instead.\n",
      "  hr_df = hr_df.append(df, sort=True)\n"
     ]
    },
    {
     "name": "stdout",
     "output_type": "stream",
     "text": [
      "2023-03-04 done\n"
     ]
    },
    {
     "name": "stderr",
     "output_type": "stream",
     "text": [
      "/tmp/ipykernel_18763/2055464256.py:11: FutureWarning: The frame.append method is deprecated and will be removed from pandas in a future version. Use pandas.concat instead.\n",
      "  hr_df = hr_df.append(df, sort=True)\n"
     ]
    },
    {
     "name": "stdout",
     "output_type": "stream",
     "text": [
      "2023-03-05 done\n"
     ]
    },
    {
     "name": "stderr",
     "output_type": "stream",
     "text": [
      "/tmp/ipykernel_18763/2055464256.py:11: FutureWarning: The frame.append method is deprecated and will be removed from pandas in a future version. Use pandas.concat instead.\n",
      "  hr_df = hr_df.append(df, sort=True)\n"
     ]
    },
    {
     "name": "stdout",
     "output_type": "stream",
     "text": [
      "2023-03-06 done\n"
     ]
    },
    {
     "name": "stderr",
     "output_type": "stream",
     "text": [
      "/tmp/ipykernel_18763/2055464256.py:11: FutureWarning: The frame.append method is deprecated and will be removed from pandas in a future version. Use pandas.concat instead.\n",
      "  hr_df = hr_df.append(df, sort=True)\n"
     ]
    },
    {
     "name": "stdout",
     "output_type": "stream",
     "text": [
      "2023-03-07 done\n"
     ]
    },
    {
     "name": "stderr",
     "output_type": "stream",
     "text": [
      "/tmp/ipykernel_18763/2055464256.py:11: FutureWarning: The frame.append method is deprecated and will be removed from pandas in a future version. Use pandas.concat instead.\n",
      "  hr_df = hr_df.append(df, sort=True)\n"
     ]
    },
    {
     "name": "stdout",
     "output_type": "stream",
     "text": [
      "2023-03-08 done\n"
     ]
    },
    {
     "name": "stderr",
     "output_type": "stream",
     "text": [
      "/tmp/ipykernel_18763/2055464256.py:11: FutureWarning: The frame.append method is deprecated and will be removed from pandas in a future version. Use pandas.concat instead.\n",
      "  hr_df = hr_df.append(df, sort=True)\n"
     ]
    },
    {
     "name": "stdout",
     "output_type": "stream",
     "text": [
      "2023-03-09 done\n"
     ]
    },
    {
     "name": "stderr",
     "output_type": "stream",
     "text": [
      "/tmp/ipykernel_18763/2055464256.py:11: FutureWarning: The frame.append method is deprecated and will be removed from pandas in a future version. Use pandas.concat instead.\n",
      "  hr_df = hr_df.append(df, sort=True)\n"
     ]
    },
    {
     "name": "stdout",
     "output_type": "stream",
     "text": [
      "2023-03-10 done\n"
     ]
    },
    {
     "name": "stderr",
     "output_type": "stream",
     "text": [
      "/tmp/ipykernel_18763/2055464256.py:11: FutureWarning: The frame.append method is deprecated and will be removed from pandas in a future version. Use pandas.concat instead.\n",
      "  hr_df = hr_df.append(df, sort=True)\n"
     ]
    },
    {
     "name": "stdout",
     "output_type": "stream",
     "text": [
      "2023-03-11 done\n"
     ]
    },
    {
     "name": "stderr",
     "output_type": "stream",
     "text": [
      "/tmp/ipykernel_18763/2055464256.py:11: FutureWarning: The frame.append method is deprecated and will be removed from pandas in a future version. Use pandas.concat instead.\n",
      "  hr_df = hr_df.append(df, sort=True)\n"
     ]
    },
    {
     "name": "stdout",
     "output_type": "stream",
     "text": [
      "2023-03-12 done\n"
     ]
    },
    {
     "name": "stderr",
     "output_type": "stream",
     "text": [
      "/tmp/ipykernel_18763/2055464256.py:11: FutureWarning: The frame.append method is deprecated and will be removed from pandas in a future version. Use pandas.concat instead.\n",
      "  hr_df = hr_df.append(df, sort=True)\n"
     ]
    },
    {
     "name": "stdout",
     "output_type": "stream",
     "text": [
      "2023-03-13 done\n"
     ]
    },
    {
     "name": "stderr",
     "output_type": "stream",
     "text": [
      "/tmp/ipykernel_18763/2055464256.py:11: FutureWarning: The frame.append method is deprecated and will be removed from pandas in a future version. Use pandas.concat instead.\n",
      "  hr_df = hr_df.append(df, sort=True)\n"
     ]
    },
    {
     "name": "stdout",
     "output_type": "stream",
     "text": [
      "2023-03-14 done\n"
     ]
    },
    {
     "name": "stderr",
     "output_type": "stream",
     "text": [
      "/tmp/ipykernel_18763/2055464256.py:11: FutureWarning: The frame.append method is deprecated and will be removed from pandas in a future version. Use pandas.concat instead.\n",
      "  hr_df = hr_df.append(df, sort=True)\n"
     ]
    },
    {
     "name": "stdout",
     "output_type": "stream",
     "text": [
      "2023-03-15 done\n"
     ]
    },
    {
     "name": "stderr",
     "output_type": "stream",
     "text": [
      "/tmp/ipykernel_18763/2055464256.py:11: FutureWarning: The frame.append method is deprecated and will be removed from pandas in a future version. Use pandas.concat instead.\n",
      "  hr_df = hr_df.append(df, sort=True)\n"
     ]
    },
    {
     "name": "stdout",
     "output_type": "stream",
     "text": [
      "2023-03-16 done\n"
     ]
    },
    {
     "name": "stderr",
     "output_type": "stream",
     "text": [
      "/tmp/ipykernel_18763/2055464256.py:11: FutureWarning: The frame.append method is deprecated and will be removed from pandas in a future version. Use pandas.concat instead.\n",
      "  hr_df = hr_df.append(df, sort=True)\n"
     ]
    },
    {
     "name": "stdout",
     "output_type": "stream",
     "text": [
      "2023-03-17 done\n"
     ]
    },
    {
     "name": "stderr",
     "output_type": "stream",
     "text": [
      "/tmp/ipykernel_18763/2055464256.py:11: FutureWarning: The frame.append method is deprecated and will be removed from pandas in a future version. Use pandas.concat instead.\n",
      "  hr_df = hr_df.append(df, sort=True)\n"
     ]
    },
    {
     "name": "stdout",
     "output_type": "stream",
     "text": [
      "2023-03-18 done\n"
     ]
    },
    {
     "name": "stderr",
     "output_type": "stream",
     "text": [
      "/tmp/ipykernel_18763/2055464256.py:11: FutureWarning: The frame.append method is deprecated and will be removed from pandas in a future version. Use pandas.concat instead.\n",
      "  hr_df = hr_df.append(df, sort=True)\n"
     ]
    },
    {
     "name": "stdout",
     "output_type": "stream",
     "text": [
      "2023-03-19 done\n"
     ]
    },
    {
     "name": "stderr",
     "output_type": "stream",
     "text": [
      "/tmp/ipykernel_18763/2055464256.py:11: FutureWarning: The frame.append method is deprecated and will be removed from pandas in a future version. Use pandas.concat instead.\n",
      "  hr_df = hr_df.append(df, sort=True)\n"
     ]
    },
    {
     "name": "stdout",
     "output_type": "stream",
     "text": [
      "2023-03-20 done\n"
     ]
    },
    {
     "name": "stderr",
     "output_type": "stream",
     "text": [
      "/tmp/ipykernel_18763/2055464256.py:11: FutureWarning: The frame.append method is deprecated and will be removed from pandas in a future version. Use pandas.concat instead.\n",
      "  hr_df = hr_df.append(df, sort=True)\n"
     ]
    },
    {
     "name": "stdout",
     "output_type": "stream",
     "text": [
      "2023-03-21 done\n"
     ]
    },
    {
     "name": "stderr",
     "output_type": "stream",
     "text": [
      "/tmp/ipykernel_18763/2055464256.py:11: FutureWarning: The frame.append method is deprecated and will be removed from pandas in a future version. Use pandas.concat instead.\n",
      "  hr_df = hr_df.append(df, sort=True)\n"
     ]
    },
    {
     "name": "stdout",
     "output_type": "stream",
     "text": [
      "2023-03-22 done\n"
     ]
    },
    {
     "name": "stderr",
     "output_type": "stream",
     "text": [
      "/tmp/ipykernel_18763/2055464256.py:11: FutureWarning: The frame.append method is deprecated and will be removed from pandas in a future version. Use pandas.concat instead.\n",
      "  hr_df = hr_df.append(df, sort=True)\n"
     ]
    },
    {
     "name": "stdout",
     "output_type": "stream",
     "text": [
      "2023-03-23 done\n"
     ]
    },
    {
     "name": "stderr",
     "output_type": "stream",
     "text": [
      "/tmp/ipykernel_18763/2055464256.py:11: FutureWarning: The frame.append method is deprecated and will be removed from pandas in a future version. Use pandas.concat instead.\n",
      "  hr_df = hr_df.append(df, sort=True)\n"
     ]
    },
    {
     "name": "stdout",
     "output_type": "stream",
     "text": [
      "2023-03-24 done\n"
     ]
    },
    {
     "name": "stderr",
     "output_type": "stream",
     "text": [
      "/tmp/ipykernel_18763/2055464256.py:11: FutureWarning: The frame.append method is deprecated and will be removed from pandas in a future version. Use pandas.concat instead.\n",
      "  hr_df = hr_df.append(df, sort=True)\n"
     ]
    },
    {
     "name": "stdout",
     "output_type": "stream",
     "text": [
      "2023-03-25 done\n"
     ]
    },
    {
     "name": "stderr",
     "output_type": "stream",
     "text": [
      "/tmp/ipykernel_18763/2055464256.py:11: FutureWarning: The frame.append method is deprecated and will be removed from pandas in a future version. Use pandas.concat instead.\n",
      "  hr_df = hr_df.append(df, sort=True)\n"
     ]
    },
    {
     "name": "stdout",
     "output_type": "stream",
     "text": [
      "2023-03-26 done\n"
     ]
    },
    {
     "name": "stderr",
     "output_type": "stream",
     "text": [
      "/tmp/ipykernel_18763/2055464256.py:11: FutureWarning: The frame.append method is deprecated and will be removed from pandas in a future version. Use pandas.concat instead.\n",
      "  hr_df = hr_df.append(df, sort=True)\n"
     ]
    },
    {
     "name": "stdout",
     "output_type": "stream",
     "text": [
      "2023-03-27 done\n"
     ]
    },
    {
     "name": "stderr",
     "output_type": "stream",
     "text": [
      "/tmp/ipykernel_18763/2055464256.py:11: FutureWarning: The frame.append method is deprecated and will be removed from pandas in a future version. Use pandas.concat instead.\n",
      "  hr_df = hr_df.append(df, sort=True)\n"
     ]
    },
    {
     "name": "stdout",
     "output_type": "stream",
     "text": [
      "2023-03-28 done\n"
     ]
    },
    {
     "name": "stderr",
     "output_type": "stream",
     "text": [
      "/tmp/ipykernel_18763/2055464256.py:11: FutureWarning: The frame.append method is deprecated and will be removed from pandas in a future version. Use pandas.concat instead.\n",
      "  hr_df = hr_df.append(df, sort=True)\n"
     ]
    },
    {
     "name": "stdout",
     "output_type": "stream",
     "text": [
      "2023-03-29 done\n"
     ]
    },
    {
     "name": "stderr",
     "output_type": "stream",
     "text": [
      "/tmp/ipykernel_18763/2055464256.py:11: FutureWarning: The frame.append method is deprecated and will be removed from pandas in a future version. Use pandas.concat instead.\n",
      "  hr_df = hr_df.append(df, sort=True)\n"
     ]
    },
    {
     "name": "stdout",
     "output_type": "stream",
     "text": [
      "2023-03-30 done\n"
     ]
    },
    {
     "name": "stderr",
     "output_type": "stream",
     "text": [
      "/tmp/ipykernel_18763/2055464256.py:11: FutureWarning: The frame.append method is deprecated and will be removed from pandas in a future version. Use pandas.concat instead.\n",
      "  hr_df = hr_df.append(df, sort=True)\n"
     ]
    },
    {
     "name": "stdout",
     "output_type": "stream",
     "text": [
      "2023-03-31 done\n"
     ]
    },
    {
     "data": {
      "text/html": [
       "<div>\n",
       "<style scoped>\n",
       "    .dataframe tbody tr th:only-of-type {\n",
       "        vertical-align: middle;\n",
       "    }\n",
       "\n",
       "    .dataframe tbody tr th {\n",
       "        vertical-align: top;\n",
       "    }\n",
       "\n",
       "    .dataframe thead th {\n",
       "        text-align: right;\n",
       "    }\n",
       "</style>\n",
       "<table border=\"1\" class=\"dataframe\">\n",
       "  <thead>\n",
       "    <tr style=\"text-align: right;\">\n",
       "      <th></th>\n",
       "      <th>time</th>\n",
       "      <th>value</th>\n",
       "    </tr>\n",
       "    <tr>\n",
       "      <th>time</th>\n",
       "      <th></th>\n",
       "      <th></th>\n",
       "    </tr>\n",
       "  </thead>\n",
       "  <tbody>\n",
       "    <tr>\n",
       "      <th>2023-01-01 00:00:00</th>\n",
       "      <td>00:00:00</td>\n",
       "      <td>102</td>\n",
       "    </tr>\n",
       "    <tr>\n",
       "      <th>2023-01-01 00:01:00</th>\n",
       "      <td>00:01:00</td>\n",
       "      <td>102</td>\n",
       "    </tr>\n",
       "    <tr>\n",
       "      <th>2023-01-01 00:02:00</th>\n",
       "      <td>00:02:00</td>\n",
       "      <td>103</td>\n",
       "    </tr>\n",
       "    <tr>\n",
       "      <th>2023-01-01 00:03:00</th>\n",
       "      <td>00:03:00</td>\n",
       "      <td>99</td>\n",
       "    </tr>\n",
       "    <tr>\n",
       "      <th>2023-01-01 00:04:00</th>\n",
       "      <td>00:04:00</td>\n",
       "      <td>100</td>\n",
       "    </tr>\n",
       "    <tr>\n",
       "      <th>...</th>\n",
       "      <td>...</td>\n",
       "      <td>...</td>\n",
       "    </tr>\n",
       "    <tr>\n",
       "      <th>2023-03-31 23:55:00</th>\n",
       "      <td>23:55:00</td>\n",
       "      <td>67</td>\n",
       "    </tr>\n",
       "    <tr>\n",
       "      <th>2023-03-31 23:56:00</th>\n",
       "      <td>23:56:00</td>\n",
       "      <td>63</td>\n",
       "    </tr>\n",
       "    <tr>\n",
       "      <th>2023-03-31 23:57:00</th>\n",
       "      <td>23:57:00</td>\n",
       "      <td>68</td>\n",
       "    </tr>\n",
       "    <tr>\n",
       "      <th>2023-03-31 23:58:00</th>\n",
       "      <td>23:58:00</td>\n",
       "      <td>61</td>\n",
       "    </tr>\n",
       "    <tr>\n",
       "      <th>2023-03-31 23:59:00</th>\n",
       "      <td>23:59:00</td>\n",
       "      <td>63</td>\n",
       "    </tr>\n",
       "  </tbody>\n",
       "</table>\n",
       "<p>125917 rows × 2 columns</p>\n",
       "</div>"
      ],
      "text/plain": [
       "                         time  value\n",
       "time                                \n",
       "2023-01-01 00:00:00  00:00:00    102\n",
       "2023-01-01 00:01:00  00:01:00    102\n",
       "2023-01-01 00:02:00  00:02:00    103\n",
       "2023-01-01 00:03:00  00:03:00     99\n",
       "2023-01-01 00:04:00  00:04:00    100\n",
       "...                       ...    ...\n",
       "2023-03-31 23:55:00  23:55:00     67\n",
       "2023-03-31 23:56:00  23:56:00     63\n",
       "2023-03-31 23:57:00  23:57:00     68\n",
       "2023-03-31 23:58:00  23:58:00     61\n",
       "2023-03-31 23:59:00  23:59:00     63\n",
       "\n",
       "[125917 rows x 2 columns]"
      ]
     },
     "execution_count": 246,
     "metadata": {},
     "output_type": "execute_result"
    }
   ],
   "source": [
    "header = {'Authorization': 'Bearer {}'.format(fitbit_key)}\n",
    "hr_df = pd.DataFrame()\n",
    "\n",
    "for single_day in day_list:\n",
    "    hr_response = requests.get(\"https://api.fitbit.com/1/user/-/activities/heart/date/\"+ single_day +\"/1d/1min/time/00:00/23:59.json\", headers=header).json()\n",
    "    try:\n",
    "        df = pd.DataFrame(hr_response['activities-heart-intraday']['dataset'])\n",
    "        date = pd.Timestamp(single_day).strftime('%Y-%m-%d')\n",
    "        df = df.set_index(pd.to_datetime(date + ' ' + df['time'].astype(str)))\n",
    "        #print(df)\n",
    "        hr_df = hr_df.append(df, sort=True)\n",
    "    except KeyError as e:\n",
    "        print(\"No data for the given date\", date)\n",
    "\n",
    "    time.sleep(1)\n",
    "    print(f\"{single_day} done\")\n",
    "    \n",
    "# df_all.index.set_names('dateTime', inplace = True)   \n",
    "# del df_all['time']\n",
    "hr_df"
   ]
  },
  {
   "cell_type": "code",
   "execution_count": 247,
   "metadata": {},
   "outputs": [
    {
     "data": {
      "text/html": [
       "<div>\n",
       "<style scoped>\n",
       "    .dataframe tbody tr th:only-of-type {\n",
       "        vertical-align: middle;\n",
       "    }\n",
       "\n",
       "    .dataframe tbody tr th {\n",
       "        vertical-align: top;\n",
       "    }\n",
       "\n",
       "    .dataframe thead th {\n",
       "        text-align: right;\n",
       "    }\n",
       "</style>\n",
       "<table border=\"1\" class=\"dataframe\">\n",
       "  <thead>\n",
       "    <tr style=\"text-align: right;\">\n",
       "      <th></th>\n",
       "      <th>time</th>\n",
       "      <th>value</th>\n",
       "    </tr>\n",
       "  </thead>\n",
       "  <tbody>\n",
       "    <tr>\n",
       "      <th>0</th>\n",
       "      <td>2023-01-01 00:00:00</td>\n",
       "      <td>102</td>\n",
       "    </tr>\n",
       "    <tr>\n",
       "      <th>1</th>\n",
       "      <td>2023-01-01 00:01:00</td>\n",
       "      <td>102</td>\n",
       "    </tr>\n",
       "    <tr>\n",
       "      <th>2</th>\n",
       "      <td>2023-01-01 00:02:00</td>\n",
       "      <td>103</td>\n",
       "    </tr>\n",
       "    <tr>\n",
       "      <th>3</th>\n",
       "      <td>2023-01-01 00:03:00</td>\n",
       "      <td>99</td>\n",
       "    </tr>\n",
       "    <tr>\n",
       "      <th>4</th>\n",
       "      <td>2023-01-01 00:04:00</td>\n",
       "      <td>100</td>\n",
       "    </tr>\n",
       "    <tr>\n",
       "      <th>...</th>\n",
       "      <td>...</td>\n",
       "      <td>...</td>\n",
       "    </tr>\n",
       "    <tr>\n",
       "      <th>125912</th>\n",
       "      <td>2023-03-31 23:55:00</td>\n",
       "      <td>67</td>\n",
       "    </tr>\n",
       "    <tr>\n",
       "      <th>125913</th>\n",
       "      <td>2023-03-31 23:56:00</td>\n",
       "      <td>63</td>\n",
       "    </tr>\n",
       "    <tr>\n",
       "      <th>125914</th>\n",
       "      <td>2023-03-31 23:57:00</td>\n",
       "      <td>68</td>\n",
       "    </tr>\n",
       "    <tr>\n",
       "      <th>125915</th>\n",
       "      <td>2023-03-31 23:58:00</td>\n",
       "      <td>61</td>\n",
       "    </tr>\n",
       "    <tr>\n",
       "      <th>125916</th>\n",
       "      <td>2023-03-31 23:59:00</td>\n",
       "      <td>63</td>\n",
       "    </tr>\n",
       "  </tbody>\n",
       "</table>\n",
       "<p>125917 rows × 2 columns</p>\n",
       "</div>"
      ],
      "text/plain": [
       "                      time  value\n",
       "0      2023-01-01 00:00:00    102\n",
       "1      2023-01-01 00:01:00    102\n",
       "2      2023-01-01 00:02:00    103\n",
       "3      2023-01-01 00:03:00     99\n",
       "4      2023-01-01 00:04:00    100\n",
       "...                    ...    ...\n",
       "125912 2023-03-31 23:55:00     67\n",
       "125913 2023-03-31 23:56:00     63\n",
       "125914 2023-03-31 23:57:00     68\n",
       "125915 2023-03-31 23:58:00     61\n",
       "125916 2023-03-31 23:59:00     63\n",
       "\n",
       "[125917 rows x 2 columns]"
      ]
     },
     "execution_count": 247,
     "metadata": {},
     "output_type": "execute_result"
    }
   ],
   "source": [
    "del hr_df['time']\n",
    "hr_df = hr_df.reset_index()\n",
    "hr_df"
   ]
  },
  {
   "cell_type": "code",
   "execution_count": 248,
   "metadata": {},
   "outputs": [],
   "source": [
    "# be sure to not replace your existing csv\n",
    "\n",
    "hr_df.to_csv('data/hr1.csv', index=None, encoding='utf-8')"
   ]
  },
  {
   "cell_type": "code",
   "execution_count": 103,
   "metadata": {},
   "outputs": [],
   "source": [
    "# #Put the interval you want to take the average of the imported data from fitbit with 2-5 sec interval. Default 10 minute\n",
    "# summary_df = (df_all['value'].resample('10Min').mean())\n",
    "# summary_df"
   ]
  },
  {
   "cell_type": "code",
   "execution_count": 104,
   "metadata": {},
   "outputs": [],
   "source": [
    "# # trying to create empty <None> list so that gaps show up in the heart rate dashboard when I don't have it on\n",
    "# blank_range = pd.DataFrame()\n",
    "# blank_range['time'] = pd.date_range(\"1/1/2020\", \"1/8/2020\", freq=\"T\")\n",
    "# #blank_range['time'].to_string()\n",
    "# blank_range['value'] = None\n",
    "# blank_range"
   ]
  },
  {
   "cell_type": "code",
   "execution_count": 105,
   "metadata": {},
   "outputs": [],
   "source": [
    "# hr_df = pd.read_csv('~/qs/fitbit/data/hr.csv')\n",
    "# hr_df"
   ]
  },
  {
   "cell_type": "code",
   "execution_count": 106,
   "metadata": {},
   "outputs": [],
   "source": [
    "# print(hr_df['time'][0])\n",
    "# type(hr_df['time'][0])"
   ]
  },
  {
   "cell_type": "code",
   "execution_count": 107,
   "metadata": {},
   "outputs": [],
   "source": [
    "# hr_df['time'] = pd.to_datetime(hr_df['time'])\n",
    "# type(hr_df['time'][0])"
   ]
  },
  {
   "cell_type": "code",
   "execution_count": 108,
   "metadata": {},
   "outputs": [],
   "source": [
    "# hr_df = hr_df.set_index('time')\n",
    "# hr_df"
   ]
  },
  {
   "cell_type": "markdown",
   "metadata": {},
   "source": [
    "#### How to set the missing timestamp values as None"
   ]
  },
  {
   "cell_type": "code",
   "execution_count": 25,
   "metadata": {},
   "outputs": [],
   "source": [
    "# # https://stackoverflow.com/questions/51656065/pandas-resampling-typeerror-only-valid-with-datetimeindex-timedeltaindex-or-p\n",
    "# # https://stackoverflow.com/questions/54592536/find-gaps-in-pandas-time-series-dataframe-sampled-at-1-minute-intervals-and-fill\n",
    "# # https://pandas.pydata.org/pandas-docs/stable/reference/api/pandas.DataFrame.resample.html\n",
    "# # https://pandas.pydata.org/pandas-docs/stable/reference/api/pandas.DataFrame.asfreq.html#pandas.DataFrame.asfreq\n",
    "# hr_df = hr_df.resample('T', convention='start').asfreq() # 'T' = seconds, 'D' = days\n",
    "# hr_df"
   ]
  },
  {
   "cell_type": "code",
   "execution_count": 110,
   "metadata": {},
   "outputs": [],
   "source": [
    "# hr_df['time'] = hr_df.index\n",
    "# hr_df"
   ]
  },
  {
   "cell_type": "code",
   "execution_count": 111,
   "metadata": {},
   "outputs": [],
   "source": [
    "# from IPython.display import display\n",
    "# with pd.option_context('display.max_rows', 10500):\n",
    "#     display(df2)"
   ]
  },
  {
   "cell_type": "code",
   "execution_count": 112,
   "metadata": {},
   "outputs": [],
   "source": [
    "# import matplotlib.pyplot as plt\n",
    "\n",
    "# plt.rcParams[\"figure.figsize\"]=20,8\n",
    "\n",
    "# # Heart rate data summary [10min avg] from start date[2021-03-18] to end date[2021-03-21] \n",
    "# #if you are using matplotlib directly in python ( py file ) then use plt.plot(summary_df,kind='area')\n",
    "# summary_df.plot.area(ylim=(40,160))"
   ]
  },
  {
   "cell_type": "code",
   "execution_count": 28,
   "metadata": {},
   "outputs": [],
   "source": [
    "# hr_df"
   ]
  },
  {
   "cell_type": "code",
   "execution_count": 114,
   "metadata": {},
   "outputs": [],
   "source": [
    "# hr_df.to_csv('data/hr.csv', index=None, encoding='utf-8')"
   ]
  },
  {
   "cell_type": "markdown",
   "metadata": {},
   "source": [
    "# Resting Heart Rate"
   ]
  },
  {
   "cell_type": "code",
   "execution_count": 14,
   "metadata": {},
   "outputs": [],
   "source": [
    "header = {'Authorization': 'Bearer {}'.format(fitbit_key)}\n",
    "\n",
    "# resting_hr_response = requests.get(\"https://api.fitbit.com/1/user/-/activities/heart/date/\"+start_date+\"/\"+end_date+\".json\", headers=header).status_code\n",
    "# resting_hr_response"
   ]
  },
  {
   "cell_type": "code",
   "execution_count": 31,
   "metadata": {},
   "outputs": [],
   "source": [
    "resting_hr_response = requests.get(\"https://api.fitbit.com/1/user/-/activities/heart/date/\"+start_date+\"/\"+end_date+\".json\", headers=header).json()"
   ]
  },
  {
   "cell_type": "code",
   "execution_count": 32,
   "metadata": {},
   "outputs": [],
   "source": [
    "# resting_hr_response"
   ]
  },
  {
   "cell_type": "code",
   "execution_count": 33,
   "metadata": {},
   "outputs": [
    {
     "name": "stdout",
     "output_type": "stream",
     "text": [
      "No data for the given date 2020-10-12\n"
     ]
    }
   ],
   "source": [
    "all_resting_HR_list = []\n",
    "for i in resting_hr_response['activities-heart']:\n",
    "    try:\n",
    "        resting_dict = { 'dateTime':i['dateTime'], \"resting_HR\":i['value']['restingHeartRate']}\n",
    "        all_resting_HR_list.append(resting_dict)\n",
    "    except KeyError as e:\n",
    "        print(\"No data for the given date\", i['dateTime'])\n",
    "    \n",
    "resting_hr_df = pd.DataFrame(all_resting_HR_list)\n",
    "resting_hr_df['time'] = resting_hr_df.dateTime.apply(pd.Timestamp)\n",
    " \n",
    "# resting_HR_df.set_index(\"dateTime\", inplace = True)\n",
    "# resting_HR_df['time'] = resting_HR_df.index"
   ]
  },
  {
   "cell_type": "code",
   "execution_count": 34,
   "metadata": {},
   "outputs": [
    {
     "data": {
      "text/html": [
       "<div>\n",
       "<style scoped>\n",
       "    .dataframe tbody tr th:only-of-type {\n",
       "        vertical-align: middle;\n",
       "    }\n",
       "\n",
       "    .dataframe tbody tr th {\n",
       "        vertical-align: top;\n",
       "    }\n",
       "\n",
       "    .dataframe thead th {\n",
       "        text-align: right;\n",
       "    }\n",
       "</style>\n",
       "<table border=\"1\" class=\"dataframe\">\n",
       "  <thead>\n",
       "    <tr style=\"text-align: right;\">\n",
       "      <th></th>\n",
       "      <th>resting_HR</th>\n",
       "      <th>time</th>\n",
       "    </tr>\n",
       "  </thead>\n",
       "  <tbody>\n",
       "    <tr>\n",
       "      <th>0</th>\n",
       "      <td>56</td>\n",
       "      <td>2020-01-01</td>\n",
       "    </tr>\n",
       "    <tr>\n",
       "      <th>1</th>\n",
       "      <td>58</td>\n",
       "      <td>2020-01-02</td>\n",
       "    </tr>\n",
       "    <tr>\n",
       "      <th>2</th>\n",
       "      <td>57</td>\n",
       "      <td>2020-01-03</td>\n",
       "    </tr>\n",
       "    <tr>\n",
       "      <th>3</th>\n",
       "      <td>58</td>\n",
       "      <td>2020-01-04</td>\n",
       "    </tr>\n",
       "    <tr>\n",
       "      <th>4</th>\n",
       "      <td>57</td>\n",
       "      <td>2020-01-05</td>\n",
       "    </tr>\n",
       "    <tr>\n",
       "      <th>...</th>\n",
       "      <td>...</td>\n",
       "      <td>...</td>\n",
       "    </tr>\n",
       "    <tr>\n",
       "      <th>360</th>\n",
       "      <td>56</td>\n",
       "      <td>2020-12-27</td>\n",
       "    </tr>\n",
       "    <tr>\n",
       "      <th>361</th>\n",
       "      <td>56</td>\n",
       "      <td>2020-12-28</td>\n",
       "    </tr>\n",
       "    <tr>\n",
       "      <th>362</th>\n",
       "      <td>57</td>\n",
       "      <td>2020-12-29</td>\n",
       "    </tr>\n",
       "    <tr>\n",
       "      <th>363</th>\n",
       "      <td>58</td>\n",
       "      <td>2020-12-30</td>\n",
       "    </tr>\n",
       "    <tr>\n",
       "      <th>364</th>\n",
       "      <td>56</td>\n",
       "      <td>2020-12-31</td>\n",
       "    </tr>\n",
       "  </tbody>\n",
       "</table>\n",
       "<p>365 rows × 2 columns</p>\n",
       "</div>"
      ],
      "text/plain": [
       "     resting_HR       time\n",
       "0            56 2020-01-01\n",
       "1            58 2020-01-02\n",
       "2            57 2020-01-03\n",
       "3            58 2020-01-04\n",
       "4            57 2020-01-05\n",
       "..          ...        ...\n",
       "360          56 2020-12-27\n",
       "361          56 2020-12-28\n",
       "362          57 2020-12-29\n",
       "363          58 2020-12-30\n",
       "364          56 2020-12-31\n",
       "\n",
       "[365 rows x 2 columns]"
      ]
     },
     "execution_count": 34,
     "metadata": {},
     "output_type": "execute_result"
    }
   ],
   "source": [
    "del resting_hr_df['dateTime']\n",
    "resting_hr_df"
   ]
  },
  {
   "cell_type": "code",
   "execution_count": 35,
   "metadata": {},
   "outputs": [],
   "source": [
    "resting_hr_df.to_csv('data/resting_hr_2020.csv', index=None, encoding='utf-8')"
   ]
  },
  {
   "cell_type": "markdown",
   "metadata": {},
   "source": [
    "# Step Count"
   ]
  },
  {
   "cell_type": "code",
   "execution_count": 20,
   "metadata": {},
   "outputs": [
    {
     "data": {
      "text/plain": [
       "200"
      ]
     },
     "execution_count": 20,
     "metadata": {},
     "output_type": "execute_result"
    }
   ],
   "source": [
    "header = {'Authorization': 'Bearer {}'.format(fitbit_key)}\n",
    "\n",
    "step_response = requests.get(\"https://api.fitbit.com/1/user/-/activities/steps/date/\"+start_date+\"/\"+end_date+\"/1min.json\", headers=header).status_code\n",
    "step_response"
   ]
  },
  {
   "cell_type": "code",
   "execution_count": 21,
   "metadata": {},
   "outputs": [
    {
     "data": {
      "text/plain": [
       "[{'dateTime': '2023-01-01', 'value': '3091'},\n",
       " {'dateTime': '2023-01-02', 'value': '3921'},\n",
       " {'dateTime': '2023-01-03', 'value': '9329'},\n",
       " {'dateTime': '2023-01-04', 'value': '7558'},\n",
       " {'dateTime': '2023-01-05', 'value': '3988'},\n",
       " {'dateTime': '2023-01-06', 'value': '4339'},\n",
       " {'dateTime': '2023-01-07', 'value': '10342'},\n",
       " {'dateTime': '2023-01-08', 'value': '7237'},\n",
       " {'dateTime': '2023-01-09', 'value': '4242'},\n",
       " {'dateTime': '2023-01-10', 'value': '8124'},\n",
       " {'dateTime': '2023-01-11', 'value': '3788'},\n",
       " {'dateTime': '2023-01-12', 'value': '3513'},\n",
       " {'dateTime': '2023-01-13', 'value': '2199'},\n",
       " {'dateTime': '2023-01-14', 'value': '10253'},\n",
       " {'dateTime': '2023-01-15', 'value': '13439'},\n",
       " {'dateTime': '2023-01-16', 'value': '9258'},\n",
       " {'dateTime': '2023-01-17', 'value': '10328'},\n",
       " {'dateTime': '2023-01-18', 'value': '5955'},\n",
       " {'dateTime': '2023-01-19', 'value': '751'},\n",
       " {'dateTime': '2023-01-20', 'value': '4213'},\n",
       " {'dateTime': '2023-01-21', 'value': '7605'},\n",
       " {'dateTime': '2023-01-22', 'value': '6951'},\n",
       " {'dateTime': '2023-01-23', 'value': '3865'},\n",
       " {'dateTime': '2023-01-24', 'value': '6691'},\n",
       " {'dateTime': '2023-01-25', 'value': '865'},\n",
       " {'dateTime': '2023-01-26', 'value': '812'},\n",
       " {'dateTime': '2023-01-27', 'value': '3795'},\n",
       " {'dateTime': '2023-01-28', 'value': '10741'},\n",
       " {'dateTime': '2023-01-29', 'value': '6389'},\n",
       " {'dateTime': '2023-01-30', 'value': '3728'},\n",
       " {'dateTime': '2023-01-31', 'value': '6477'},\n",
       " {'dateTime': '2023-02-01', 'value': '5291'},\n",
       " {'dateTime': '2023-02-02', 'value': '763'},\n",
       " {'dateTime': '2023-02-03', 'value': '4318'},\n",
       " {'dateTime': '2023-02-04', 'value': '6809'},\n",
       " {'dateTime': '2023-02-05', 'value': '8142'},\n",
       " {'dateTime': '2023-02-06', 'value': '3983'},\n",
       " {'dateTime': '2023-02-07', 'value': '5221'},\n",
       " {'dateTime': '2023-02-08', 'value': '595'},\n",
       " {'dateTime': '2023-02-09', 'value': '1390'},\n",
       " {'dateTime': '2023-02-10', 'value': '4720'},\n",
       " {'dateTime': '2023-02-11', 'value': '7396'},\n",
       " {'dateTime': '2023-02-12', 'value': '8667'},\n",
       " {'dateTime': '2023-02-13', 'value': '4933'},\n",
       " {'dateTime': '2023-02-14', 'value': '7488'},\n",
       " {'dateTime': '2023-02-15', 'value': '317'},\n",
       " {'dateTime': '2023-02-16', 'value': '733'},\n",
       " {'dateTime': '2023-02-17', 'value': '4374'},\n",
       " {'dateTime': '2023-02-18', 'value': '7230'},\n",
       " {'dateTime': '2023-02-19', 'value': '11813'},\n",
       " {'dateTime': '2023-02-20', 'value': '4750'},\n",
       " {'dateTime': '2023-02-21', 'value': '5765'},\n",
       " {'dateTime': '2023-02-22', 'value': '3000'},\n",
       " {'dateTime': '2023-02-23', 'value': '1586'},\n",
       " {'dateTime': '2023-02-24', 'value': '3719'},\n",
       " {'dateTime': '2023-02-25', 'value': '5590'},\n",
       " {'dateTime': '2023-02-26', 'value': '10587'},\n",
       " {'dateTime': '2023-02-27', 'value': '3948'},\n",
       " {'dateTime': '2023-02-28', 'value': '8049'},\n",
       " {'dateTime': '2023-03-01', 'value': '2192'},\n",
       " {'dateTime': '2023-03-02', 'value': '831'},\n",
       " {'dateTime': '2023-03-03', 'value': '4043'},\n",
       " {'dateTime': '2023-03-04', 'value': '8175'},\n",
       " {'dateTime': '2023-03-05', 'value': '6979'},\n",
       " {'dateTime': '2023-03-06', 'value': '5008'},\n",
       " {'dateTime': '2023-03-07', 'value': '4960'},\n",
       " {'dateTime': '2023-03-08', 'value': '358'},\n",
       " {'dateTime': '2023-03-09', 'value': '749'},\n",
       " {'dateTime': '2023-03-10', 'value': '3203'},\n",
       " {'dateTime': '2023-03-11', 'value': '8643'},\n",
       " {'dateTime': '2023-03-12', 'value': '471'}]"
      ]
     },
     "execution_count": 21,
     "metadata": {},
     "output_type": "execute_result"
    }
   ],
   "source": [
    "step_response = requests.get(\"https://api.fitbit.com/1/user/-/activities/steps/date/\"+start_date+\"/\"+end_date+\"/1min.json\", headers=header).json()['activities-steps']\n",
    "step_response"
   ]
  },
  {
   "cell_type": "code",
   "execution_count": 22,
   "metadata": {},
   "outputs": [
    {
     "data": {
      "text/html": [
       "<div>\n",
       "<style scoped>\n",
       "    .dataframe tbody tr th:only-of-type {\n",
       "        vertical-align: middle;\n",
       "    }\n",
       "\n",
       "    .dataframe tbody tr th {\n",
       "        vertical-align: top;\n",
       "    }\n",
       "\n",
       "    .dataframe thead th {\n",
       "        text-align: right;\n",
       "    }\n",
       "</style>\n",
       "<table border=\"1\" class=\"dataframe\">\n",
       "  <thead>\n",
       "    <tr style=\"text-align: right;\">\n",
       "      <th></th>\n",
       "      <th>time</th>\n",
       "      <th>Step Count</th>\n",
       "    </tr>\n",
       "  </thead>\n",
       "  <tbody>\n",
       "    <tr>\n",
       "      <th>0</th>\n",
       "      <td>2023-01-01</td>\n",
       "      <td>3091</td>\n",
       "    </tr>\n",
       "    <tr>\n",
       "      <th>1</th>\n",
       "      <td>2023-01-02</td>\n",
       "      <td>3921</td>\n",
       "    </tr>\n",
       "    <tr>\n",
       "      <th>2</th>\n",
       "      <td>2023-01-03</td>\n",
       "      <td>9329</td>\n",
       "    </tr>\n",
       "    <tr>\n",
       "      <th>3</th>\n",
       "      <td>2023-01-04</td>\n",
       "      <td>7558</td>\n",
       "    </tr>\n",
       "    <tr>\n",
       "      <th>4</th>\n",
       "      <td>2023-01-05</td>\n",
       "      <td>3988</td>\n",
       "    </tr>\n",
       "    <tr>\n",
       "      <th>...</th>\n",
       "      <td>...</td>\n",
       "      <td>...</td>\n",
       "    </tr>\n",
       "    <tr>\n",
       "      <th>66</th>\n",
       "      <td>2023-03-08</td>\n",
       "      <td>358</td>\n",
       "    </tr>\n",
       "    <tr>\n",
       "      <th>67</th>\n",
       "      <td>2023-03-09</td>\n",
       "      <td>749</td>\n",
       "    </tr>\n",
       "    <tr>\n",
       "      <th>68</th>\n",
       "      <td>2023-03-10</td>\n",
       "      <td>3203</td>\n",
       "    </tr>\n",
       "    <tr>\n",
       "      <th>69</th>\n",
       "      <td>2023-03-11</td>\n",
       "      <td>8643</td>\n",
       "    </tr>\n",
       "    <tr>\n",
       "      <th>70</th>\n",
       "      <td>2023-03-12</td>\n",
       "      <td>471</td>\n",
       "    </tr>\n",
       "  </tbody>\n",
       "</table>\n",
       "<p>71 rows × 2 columns</p>\n",
       "</div>"
      ],
      "text/plain": [
       "          time  Step Count\n",
       "0   2023-01-01        3091\n",
       "1   2023-01-02        3921\n",
       "2   2023-01-03        9329\n",
       "3   2023-01-04        7558\n",
       "4   2023-01-05        3988\n",
       "..         ...         ...\n",
       "66  2023-03-08         358\n",
       "67  2023-03-09         749\n",
       "68  2023-03-10        3203\n",
       "69  2023-03-11        8643\n",
       "70  2023-03-12         471\n",
       "\n",
       "[71 rows x 2 columns]"
      ]
     },
     "execution_count": 22,
     "metadata": {},
     "output_type": "execute_result"
    }
   ],
   "source": [
    "step_df = pd.DataFrame(step_response)\n",
    "step_df['time'] = pd.to_datetime(step_df['dateTime'].apply(pd.Timestamp)).dt.date\n",
    "del step_df['dateTime']\n",
    "step_df['Step Count'] = step_df['value'].apply(int)\n",
    "del step_df['value']\n",
    "step_df"
   ]
  },
  {
   "cell_type": "code",
   "execution_count": 23,
   "metadata": {},
   "outputs": [],
   "source": [
    "step_df.to_csv('data/steps_2023.csv', index=None, encoding='utf-8')"
   ]
  },
  {
   "cell_type": "markdown",
   "metadata": {},
   "source": [
    "# Distance"
   ]
  },
  {
   "cell_type": "code",
   "execution_count": 981,
   "metadata": {},
   "outputs": [
    {
     "data": {
      "text/plain": [
       "200"
      ]
     },
     "execution_count": 981,
     "metadata": {},
     "output_type": "execute_result"
    }
   ],
   "source": [
    "header = {'Authorization': 'Bearer {}'.format(fitbit_key)}\n",
    "\n",
    "distance_response = requests.get(\"https://api.fitbit.com/1/user/-/activities/distance/date/\"+start_date+\"/\"+end_date+\"/1min.json\", headers=header).status_code\n",
    "distance_response"
   ]
  },
  {
   "cell_type": "code",
   "execution_count": null,
   "metadata": {},
   "outputs": [],
   "source": [
    "distance_response = requests.get(\"https://api.fitbit.com/1/user/-/activities/distance/date/\"+start_date+\"/\"+end_date+\"/1min.json\", headers=header).json()['activities-distance']"
   ]
  },
  {
   "cell_type": "code",
   "execution_count": null,
   "metadata": {},
   "outputs": [],
   "source": [
    "# distance_response"
   ]
  },
  {
   "cell_type": "code",
   "execution_count": 125,
   "metadata": {},
   "outputs": [
    {
     "data": {
      "text/html": [
       "<div>\n",
       "<style scoped>\n",
       "    .dataframe tbody tr th:only-of-type {\n",
       "        vertical-align: middle;\n",
       "    }\n",
       "\n",
       "    .dataframe tbody tr th {\n",
       "        vertical-align: top;\n",
       "    }\n",
       "\n",
       "    .dataframe thead th {\n",
       "        text-align: right;\n",
       "    }\n",
       "</style>\n",
       "<table border=\"1\" class=\"dataframe\">\n",
       "  <thead>\n",
       "    <tr style=\"text-align: right;\">\n",
       "      <th></th>\n",
       "      <th>time</th>\n",
       "      <th>Distance in KM</th>\n",
       "    </tr>\n",
       "  </thead>\n",
       "  <tbody>\n",
       "    <tr>\n",
       "      <th>0</th>\n",
       "      <td>2020-01-01</td>\n",
       "      <td>0.82576</td>\n",
       "    </tr>\n",
       "    <tr>\n",
       "      <th>1</th>\n",
       "      <td>2020-01-02</td>\n",
       "      <td>0.24246</td>\n",
       "    </tr>\n",
       "    <tr>\n",
       "      <th>2</th>\n",
       "      <td>2020-01-03</td>\n",
       "      <td>1.25603</td>\n",
       "    </tr>\n",
       "    <tr>\n",
       "      <th>3</th>\n",
       "      <td>2020-01-04</td>\n",
       "      <td>6.37055</td>\n",
       "    </tr>\n",
       "    <tr>\n",
       "      <th>4</th>\n",
       "      <td>2020-01-05</td>\n",
       "      <td>3.49040</td>\n",
       "    </tr>\n",
       "    <tr>\n",
       "      <th>...</th>\n",
       "      <td>...</td>\n",
       "      <td>...</td>\n",
       "    </tr>\n",
       "    <tr>\n",
       "      <th>362</th>\n",
       "      <td>2020-12-28</td>\n",
       "      <td>4.04441</td>\n",
       "    </tr>\n",
       "    <tr>\n",
       "      <th>363</th>\n",
       "      <td>2020-12-29</td>\n",
       "      <td>2.68446</td>\n",
       "    </tr>\n",
       "    <tr>\n",
       "      <th>364</th>\n",
       "      <td>2020-12-30</td>\n",
       "      <td>4.77629</td>\n",
       "    </tr>\n",
       "    <tr>\n",
       "      <th>365</th>\n",
       "      <td>2020-12-31</td>\n",
       "      <td>2.75618</td>\n",
       "    </tr>\n",
       "    <tr>\n",
       "      <th>366</th>\n",
       "      <td>2021-01-01</td>\n",
       "      <td>2.43625</td>\n",
       "    </tr>\n",
       "  </tbody>\n",
       "</table>\n",
       "<p>367 rows × 2 columns</p>\n",
       "</div>"
      ],
      "text/plain": [
       "           time  Distance in KM\n",
       "0    2020-01-01         0.82576\n",
       "1    2020-01-02         0.24246\n",
       "2    2020-01-03         1.25603\n",
       "3    2020-01-04         6.37055\n",
       "4    2020-01-05         3.49040\n",
       "..          ...             ...\n",
       "362  2020-12-28         4.04441\n",
       "363  2020-12-29         2.68446\n",
       "364  2020-12-30         4.77629\n",
       "365  2020-12-31         2.75618\n",
       "366  2021-01-01         2.43625\n",
       "\n",
       "[367 rows x 2 columns]"
      ]
     },
     "execution_count": 125,
     "metadata": {},
     "output_type": "execute_result"
    }
   ],
   "source": [
    "distance_df = pd.DataFrame(distance_response)\n",
    "distance_df['time'] = pd.to_datetime(distance_df['dateTime'].apply(pd.Timestamp)).dt.date\n",
    "del distance_df['dateTime']\n",
    "distance_df['Distance in KM'] = distance_df['value'].apply(float)\n",
    "del distance_df['value']\n",
    "distance_df"
   ]
  },
  {
   "cell_type": "code",
   "execution_count": 126,
   "metadata": {},
   "outputs": [],
   "source": [
    "distance_df['Distance in MI'] = distance_df['Distance in KM'].apply(lambda x: x * 0.62137)\n",
    "distance_df"
   ]
  },
  {
   "cell_type": "code",
   "execution_count": 128,
   "metadata": {},
   "outputs": [],
   "source": [
    "distance_df.to_csv('data/distance.csv', index=None, encoding='utf-8')"
   ]
  },
  {
   "cell_type": "code",
   "execution_count": null,
   "metadata": {},
   "outputs": [],
   "source": []
  },
  {
   "cell_type": "markdown",
   "metadata": {},
   "source": [
    "# Elevation"
   ]
  },
  {
   "cell_type": "code",
   "execution_count": 969,
   "metadata": {},
   "outputs": [
    {
     "data": {
      "text/plain": [
       "200"
      ]
     },
     "execution_count": 969,
     "metadata": {},
     "output_type": "execute_result"
    }
   ],
   "source": [
    "header = {'Authorization': 'Bearer {}'.format(fitbit_key)}\n",
    "\n",
    "elevation_response = requests.get(\"https://api.fitbit.com/1/user/-/activities/elevation/date/\"+start_date+\"/\"+end_date+\"/1min.json\", headers=header).status_code\n",
    "elevation_response"
   ]
  },
  {
   "cell_type": "code",
   "execution_count": 970,
   "metadata": {},
   "outputs": [],
   "source": [
    "header = {'Authorization': 'Bearer {}'.format(fitbit_key)}\n",
    "\n",
    "elevation_response = requests.get(\"https://api.fitbit.com/1/user/-/activities/elevation/date/\"+start_date+\"/\"+end_date+\"/1min.json\", headers=header).json()['activities-elevation']"
   ]
  },
  {
   "cell_type": "code",
   "execution_count": 971,
   "metadata": {},
   "outputs": [],
   "source": [
    "# elevation_response"
   ]
  },
  {
   "cell_type": "code",
   "execution_count": 975,
   "metadata": {},
   "outputs": [
    {
     "data": {
      "text/html": [
       "<div>\n",
       "<style scoped>\n",
       "    .dataframe tbody tr th:only-of-type {\n",
       "        vertical-align: middle;\n",
       "    }\n",
       "\n",
       "    .dataframe tbody tr th {\n",
       "        vertical-align: top;\n",
       "    }\n",
       "\n",
       "    .dataframe thead th {\n",
       "        text-align: right;\n",
       "    }\n",
       "</style>\n",
       "<table border=\"1\" class=\"dataframe\">\n",
       "  <thead>\n",
       "    <tr style=\"text-align: right;\">\n",
       "      <th></th>\n",
       "      <th>Date</th>\n",
       "      <th>Elevation in Meters</th>\n",
       "    </tr>\n",
       "  </thead>\n",
       "  <tbody>\n",
       "    <tr>\n",
       "      <th>0</th>\n",
       "      <td>2020-01-01</td>\n",
       "      <td>0.0</td>\n",
       "    </tr>\n",
       "    <tr>\n",
       "      <th>1</th>\n",
       "      <td>2020-01-02</td>\n",
       "      <td>0.0</td>\n",
       "    </tr>\n",
       "    <tr>\n",
       "      <th>2</th>\n",
       "      <td>2020-01-03</td>\n",
       "      <td>3.0</td>\n",
       "    </tr>\n",
       "    <tr>\n",
       "      <th>3</th>\n",
       "      <td>2020-01-04</td>\n",
       "      <td>24.0</td>\n",
       "    </tr>\n",
       "    <tr>\n",
       "      <th>4</th>\n",
       "      <td>2020-01-05</td>\n",
       "      <td>6.0</td>\n",
       "    </tr>\n",
       "    <tr>\n",
       "      <th>...</th>\n",
       "      <td>...</td>\n",
       "      <td>...</td>\n",
       "    </tr>\n",
       "    <tr>\n",
       "      <th>362</th>\n",
       "      <td>2020-12-28</td>\n",
       "      <td>9.0</td>\n",
       "    </tr>\n",
       "    <tr>\n",
       "      <th>363</th>\n",
       "      <td>2020-12-29</td>\n",
       "      <td>3.0</td>\n",
       "    </tr>\n",
       "    <tr>\n",
       "      <th>364</th>\n",
       "      <td>2020-12-30</td>\n",
       "      <td>6.0</td>\n",
       "    </tr>\n",
       "    <tr>\n",
       "      <th>365</th>\n",
       "      <td>2020-12-31</td>\n",
       "      <td>3.0</td>\n",
       "    </tr>\n",
       "    <tr>\n",
       "      <th>366</th>\n",
       "      <td>2021-01-01</td>\n",
       "      <td>6.0</td>\n",
       "    </tr>\n",
       "  </tbody>\n",
       "</table>\n",
       "<p>367 rows × 2 columns</p>\n",
       "</div>"
      ],
      "text/plain": [
       "           Date  Elevation in Meters\n",
       "0    2020-01-01                  0.0\n",
       "1    2020-01-02                  0.0\n",
       "2    2020-01-03                  3.0\n",
       "3    2020-01-04                 24.0\n",
       "4    2020-01-05                  6.0\n",
       "..          ...                  ...\n",
       "362  2020-12-28                  9.0\n",
       "363  2020-12-29                  3.0\n",
       "364  2020-12-30                  6.0\n",
       "365  2020-12-31                  3.0\n",
       "366  2021-01-01                  6.0\n",
       "\n",
       "[367 rows x 2 columns]"
      ]
     },
     "execution_count": 975,
     "metadata": {},
     "output_type": "execute_result"
    }
   ],
   "source": [
    "try:\n",
    "    elevation_df = pd.DataFrame(elevation_response)\n",
    "    elevation_df['Date'] = pd.to_datetime(elevation_df['dateTime'].apply(pd.Timestamp)).dt.date\n",
    "    elevation_df['Elevation in Meters'] = elevation_df['value'].apply(float)\n",
    "    del elevation_df['value']\n",
    "    del elevation_df['dateTime']\n",
    "    #elevation_df.set_index('dateTime', inplace = True)\n",
    "except KeyError as e:\n",
    "    print(\"No data for the given date\")\n"
   ]
  },
  {
   "cell_type": "code",
   "execution_count": 978,
   "metadata": {},
   "outputs": [
    {
     "data": {
      "text/html": [
       "<div>\n",
       "<style scoped>\n",
       "    .dataframe tbody tr th:only-of-type {\n",
       "        vertical-align: middle;\n",
       "    }\n",
       "\n",
       "    .dataframe tbody tr th {\n",
       "        vertical-align: top;\n",
       "    }\n",
       "\n",
       "    .dataframe thead th {\n",
       "        text-align: right;\n",
       "    }\n",
       "</style>\n",
       "<table border=\"1\" class=\"dataframe\">\n",
       "  <thead>\n",
       "    <tr style=\"text-align: right;\">\n",
       "      <th></th>\n",
       "      <th>Date</th>\n",
       "      <th>Elevation in Meters</th>\n",
       "      <th>Elevation in Floors</th>\n",
       "    </tr>\n",
       "  </thead>\n",
       "  <tbody>\n",
       "    <tr>\n",
       "      <th>0</th>\n",
       "      <td>2020-01-01</td>\n",
       "      <td>0.0</td>\n",
       "      <td>0.0</td>\n",
       "    </tr>\n",
       "    <tr>\n",
       "      <th>1</th>\n",
       "      <td>2020-01-02</td>\n",
       "      <td>0.0</td>\n",
       "      <td>0.0</td>\n",
       "    </tr>\n",
       "    <tr>\n",
       "      <th>2</th>\n",
       "      <td>2020-01-03</td>\n",
       "      <td>3.0</td>\n",
       "      <td>1.0</td>\n",
       "    </tr>\n",
       "    <tr>\n",
       "      <th>3</th>\n",
       "      <td>2020-01-04</td>\n",
       "      <td>24.0</td>\n",
       "      <td>8.0</td>\n",
       "    </tr>\n",
       "    <tr>\n",
       "      <th>4</th>\n",
       "      <td>2020-01-05</td>\n",
       "      <td>6.0</td>\n",
       "      <td>2.0</td>\n",
       "    </tr>\n",
       "    <tr>\n",
       "      <th>...</th>\n",
       "      <td>...</td>\n",
       "      <td>...</td>\n",
       "      <td>...</td>\n",
       "    </tr>\n",
       "    <tr>\n",
       "      <th>362</th>\n",
       "      <td>2020-12-28</td>\n",
       "      <td>9.0</td>\n",
       "      <td>3.0</td>\n",
       "    </tr>\n",
       "    <tr>\n",
       "      <th>363</th>\n",
       "      <td>2020-12-29</td>\n",
       "      <td>3.0</td>\n",
       "      <td>1.0</td>\n",
       "    </tr>\n",
       "    <tr>\n",
       "      <th>364</th>\n",
       "      <td>2020-12-30</td>\n",
       "      <td>6.0</td>\n",
       "      <td>2.0</td>\n",
       "    </tr>\n",
       "    <tr>\n",
       "      <th>365</th>\n",
       "      <td>2020-12-31</td>\n",
       "      <td>3.0</td>\n",
       "      <td>1.0</td>\n",
       "    </tr>\n",
       "    <tr>\n",
       "      <th>366</th>\n",
       "      <td>2021-01-01</td>\n",
       "      <td>6.0</td>\n",
       "      <td>2.0</td>\n",
       "    </tr>\n",
       "  </tbody>\n",
       "</table>\n",
       "<p>367 rows × 3 columns</p>\n",
       "</div>"
      ],
      "text/plain": [
       "           Date  Elevation in Meters  Elevation in Floors\n",
       "0    2020-01-01                  0.0                  0.0\n",
       "1    2020-01-02                  0.0                  0.0\n",
       "2    2020-01-03                  3.0                  1.0\n",
       "3    2020-01-04                 24.0                  8.0\n",
       "4    2020-01-05                  6.0                  2.0\n",
       "..          ...                  ...                  ...\n",
       "362  2020-12-28                  9.0                  3.0\n",
       "363  2020-12-29                  3.0                  1.0\n",
       "364  2020-12-30                  6.0                  2.0\n",
       "365  2020-12-31                  3.0                  1.0\n",
       "366  2021-01-01                  6.0                  2.0\n",
       "\n",
       "[367 rows x 3 columns]"
      ]
     },
     "execution_count": 978,
     "metadata": {},
     "output_type": "execute_result"
    }
   ],
   "source": [
    "elevation_df['Elevation in Floors'] = elevation_df['Elevation in Meters'] / 3\n",
    "elevation_df"
   ]
  },
  {
   "cell_type": "code",
   "execution_count": 979,
   "metadata": {},
   "outputs": [],
   "source": [
    "elevation_df.to_csv('data/elevation.csv', index=None, encoding='utf-8')"
   ]
  },
  {
   "cell_type": "code",
   "execution_count": null,
   "metadata": {},
   "outputs": [],
   "source": []
  },
  {
   "cell_type": "markdown",
   "metadata": {},
   "source": [
    "# Floors"
   ]
  },
  {
   "cell_type": "code",
   "execution_count": 24,
   "metadata": {},
   "outputs": [
    {
     "data": {
      "text/plain": [
       "200"
      ]
     },
     "execution_count": 24,
     "metadata": {},
     "output_type": "execute_result"
    }
   ],
   "source": [
    "header = {'Authorization': 'Bearer {}'.format(fitbit_key)}\n",
    "\n",
    "floor_response = requests.get(\"https://api.fitbit.com/1/user/-/activities/floors/date/\"+start_date+\"/\"+end_date+\"/1min.json\", headers=header).status_code\n",
    "floor_response"
   ]
  },
  {
   "cell_type": "code",
   "execution_count": 51,
   "metadata": {},
   "outputs": [],
   "source": [
    "floor_response = requests.get(\"https://api.fitbit.com/1/user/-/activities/floors/date/\"+start_date+\"/\"+end_date+\"/1min.json\", headers=header).json()['activities-floors']"
   ]
  },
  {
   "cell_type": "code",
   "execution_count": 52,
   "metadata": {},
   "outputs": [
    {
     "data": {
      "text/html": [
       "<div>\n",
       "<style scoped>\n",
       "    .dataframe tbody tr th:only-of-type {\n",
       "        vertical-align: middle;\n",
       "    }\n",
       "\n",
       "    .dataframe tbody tr th {\n",
       "        vertical-align: top;\n",
       "    }\n",
       "\n",
       "    .dataframe thead th {\n",
       "        text-align: right;\n",
       "    }\n",
       "</style>\n",
       "<table border=\"1\" class=\"dataframe\">\n",
       "  <thead>\n",
       "    <tr style=\"text-align: right;\">\n",
       "      <th></th>\n",
       "      <th>Date</th>\n",
       "      <th>Number of Floors</th>\n",
       "    </tr>\n",
       "  </thead>\n",
       "  <tbody>\n",
       "    <tr>\n",
       "      <th>0</th>\n",
       "      <td>2022-01-01</td>\n",
       "      <td>3</td>\n",
       "    </tr>\n",
       "    <tr>\n",
       "      <th>1</th>\n",
       "      <td>2022-01-02</td>\n",
       "      <td>5</td>\n",
       "    </tr>\n",
       "    <tr>\n",
       "      <th>2</th>\n",
       "      <td>2022-01-03</td>\n",
       "      <td>3</td>\n",
       "    </tr>\n",
       "    <tr>\n",
       "      <th>3</th>\n",
       "      <td>2022-01-04</td>\n",
       "      <td>4</td>\n",
       "    </tr>\n",
       "    <tr>\n",
       "      <th>4</th>\n",
       "      <td>2022-01-05</td>\n",
       "      <td>5</td>\n",
       "    </tr>\n",
       "    <tr>\n",
       "      <th>...</th>\n",
       "      <td>...</td>\n",
       "      <td>...</td>\n",
       "    </tr>\n",
       "    <tr>\n",
       "      <th>360</th>\n",
       "      <td>2022-12-27</td>\n",
       "      <td>0</td>\n",
       "    </tr>\n",
       "    <tr>\n",
       "      <th>361</th>\n",
       "      <td>2022-12-28</td>\n",
       "      <td>4</td>\n",
       "    </tr>\n",
       "    <tr>\n",
       "      <th>362</th>\n",
       "      <td>2022-12-29</td>\n",
       "      <td>2</td>\n",
       "    </tr>\n",
       "    <tr>\n",
       "      <th>363</th>\n",
       "      <td>2022-12-30</td>\n",
       "      <td>4</td>\n",
       "    </tr>\n",
       "    <tr>\n",
       "      <th>364</th>\n",
       "      <td>2022-12-31</td>\n",
       "      <td>19</td>\n",
       "    </tr>\n",
       "  </tbody>\n",
       "</table>\n",
       "<p>365 rows × 2 columns</p>\n",
       "</div>"
      ],
      "text/plain": [
       "           Date  Number of Floors\n",
       "0    2022-01-01                 3\n",
       "1    2022-01-02                 5\n",
       "2    2022-01-03                 3\n",
       "3    2022-01-04                 4\n",
       "4    2022-01-05                 5\n",
       "..          ...               ...\n",
       "360  2022-12-27                 0\n",
       "361  2022-12-28                 4\n",
       "362  2022-12-29                 2\n",
       "363  2022-12-30                 4\n",
       "364  2022-12-31                19\n",
       "\n",
       "[365 rows x 2 columns]"
      ]
     },
     "execution_count": 52,
     "metadata": {},
     "output_type": "execute_result"
    }
   ],
   "source": [
    "floor_df = pd.DataFrame(floor_response)\n",
    "floor_df['Date'] = pd.to_datetime(floor_df['dateTime'].apply(pd.Timestamp)).dt.date\n",
    "floor_df['Number of Floors'] = floor_df['value'].apply(int)\n",
    "del floor_df['value']\n",
    "del floor_df['dateTime']\n",
    "\n",
    "#floor_df.set_index('dateTime', inplace = True)\n",
    "floor_df"
   ]
  },
  {
   "cell_type": "code",
   "execution_count": 53,
   "metadata": {},
   "outputs": [],
   "source": [
    "floor_df.to_csv('data/floors_2022.csv', index=None, encoding='utf-8')"
   ]
  },
  {
   "cell_type": "markdown",
   "metadata": {},
   "source": [
    "# Sleep"
   ]
  },
  {
   "cell_type": "code",
   "execution_count": 1006,
   "metadata": {},
   "outputs": [
    {
     "data": {
      "text/plain": [
       "<Response [200]>"
      ]
     },
     "execution_count": 1006,
     "metadata": {},
     "output_type": "execute_result"
    }
   ],
   "source": [
    "header = {'Authorization': 'Bearer {}'.format(fitbit_key)}\n",
    "\n",
    "sleep_response = requests.get(\"https://api.fitbit.com/1.2/user/-/sleep/date/\"+start_date+\"/\"+end_date+\".json\", headers=header).status_code\n",
    "sleep_response"
   ]
  },
  {
   "cell_type": "code",
   "execution_count": 918,
   "metadata": {},
   "outputs": [],
   "source": [
    "sleep_response = requests.get(\"https://api.fitbit.com/1.2/user/-/sleep/date/\"+start_date+\"/\"+end_date+\".json\", headers=header).json()"
   ]
  },
  {
   "cell_type": "code",
   "execution_count": 952,
   "metadata": {},
   "outputs": [],
   "source": [
    "# sleep_response"
   ]
  },
  {
   "cell_type": "code",
   "execution_count": 920,
   "metadata": {},
   "outputs": [
    {
     "data": {
      "text/html": [
       "<div>\n",
       "<style scoped>\n",
       "    .dataframe tbody tr th:only-of-type {\n",
       "        vertical-align: middle;\n",
       "    }\n",
       "\n",
       "    .dataframe tbody tr th {\n",
       "        vertical-align: top;\n",
       "    }\n",
       "\n",
       "    .dataframe thead th {\n",
       "        text-align: right;\n",
       "    }\n",
       "</style>\n",
       "<table border=\"1\" class=\"dataframe\">\n",
       "  <thead>\n",
       "    <tr style=\"text-align: right;\">\n",
       "      <th></th>\n",
       "      <th>date</th>\n",
       "      <th>start_time</th>\n",
       "      <th>end_time</th>\n",
       "    </tr>\n",
       "  </thead>\n",
       "  <tbody>\n",
       "    <tr>\n",
       "      <th>0</th>\n",
       "      <td>2021-01-01</td>\n",
       "      <td>2021-01-01T12:43:00.000</td>\n",
       "      <td>2021-01-01T18:30:30.000</td>\n",
       "    </tr>\n",
       "    <tr>\n",
       "      <th>1</th>\n",
       "      <td>2020-12-31</td>\n",
       "      <td>2020-12-31T09:24:00.000</td>\n",
       "      <td>2020-12-31T18:09:00.000</td>\n",
       "    </tr>\n",
       "    <tr>\n",
       "      <th>2</th>\n",
       "      <td>2020-12-30</td>\n",
       "      <td>2020-12-29T16:19:30.000</td>\n",
       "      <td>2020-12-30T02:30:30.000</td>\n",
       "    </tr>\n",
       "    <tr>\n",
       "      <th>3</th>\n",
       "      <td>2020-12-28</td>\n",
       "      <td>2020-12-28T10:51:00.000</td>\n",
       "      <td>2020-12-28T18:29:30.000</td>\n",
       "    </tr>\n",
       "    <tr>\n",
       "      <th>4</th>\n",
       "      <td>2020-12-27</td>\n",
       "      <td>2020-12-27T11:35:00.000</td>\n",
       "      <td>2020-12-27T20:13:30.000</td>\n",
       "    </tr>\n",
       "    <tr>\n",
       "      <th>5</th>\n",
       "      <td>2020-12-26</td>\n",
       "      <td>2020-12-26T12:44:30.000</td>\n",
       "      <td>2020-12-26T18:29:30.000</td>\n",
       "    </tr>\n",
       "    <tr>\n",
       "      <th>6</th>\n",
       "      <td>2020-12-26</td>\n",
       "      <td>2020-12-25T20:46:30.000</td>\n",
       "      <td>2020-12-26T06:41:30.000</td>\n",
       "    </tr>\n",
       "    <tr>\n",
       "      <th>7</th>\n",
       "      <td>2020-12-24</td>\n",
       "      <td>2020-12-24T11:28:00.000</td>\n",
       "      <td>2020-12-24T18:00:30.000</td>\n",
       "    </tr>\n",
       "    <tr>\n",
       "      <th>8</th>\n",
       "      <td>2020-12-24</td>\n",
       "      <td>2020-12-23T14:23:30.000</td>\n",
       "      <td>2020-12-24T00:17:30.000</td>\n",
       "    </tr>\n",
       "    <tr>\n",
       "      <th>9</th>\n",
       "      <td>2020-12-22</td>\n",
       "      <td>2020-12-22T11:07:30.000</td>\n",
       "      <td>2020-12-22T21:31:30.000</td>\n",
       "    </tr>\n",
       "    <tr>\n",
       "      <th>10</th>\n",
       "      <td>2020-12-21</td>\n",
       "      <td>2020-12-21T15:59:30.000</td>\n",
       "      <td>2020-12-21T22:57:30.000</td>\n",
       "    </tr>\n",
       "    <tr>\n",
       "      <th>11</th>\n",
       "      <td>2020-12-21</td>\n",
       "      <td>2020-12-21T01:29:30.000</td>\n",
       "      <td>2020-12-21T05:41:30.000</td>\n",
       "    </tr>\n",
       "    <tr>\n",
       "      <th>12</th>\n",
       "      <td>2020-12-20</td>\n",
       "      <td>2020-12-20T11:48:00.000</td>\n",
       "      <td>2020-12-20T16:01:30.000</td>\n",
       "    </tr>\n",
       "    <tr>\n",
       "      <th>13</th>\n",
       "      <td>2020-12-19</td>\n",
       "      <td>2020-12-19T11:19:00.000</td>\n",
       "      <td>2020-12-19T21:28:30.000</td>\n",
       "    </tr>\n",
       "    <tr>\n",
       "      <th>14</th>\n",
       "      <td>2020-12-18</td>\n",
       "      <td>2020-12-18T11:39:00.000</td>\n",
       "      <td>2020-12-18T18:29:30.000</td>\n",
       "    </tr>\n",
       "    <tr>\n",
       "      <th>15</th>\n",
       "      <td>2020-12-17</td>\n",
       "      <td>2020-12-17T10:33:00.000</td>\n",
       "      <td>2020-12-17T17:59:30.000</td>\n",
       "    </tr>\n",
       "    <tr>\n",
       "      <th>16</th>\n",
       "      <td>2020-12-16</td>\n",
       "      <td>2020-12-16T09:36:30.000</td>\n",
       "      <td>2020-12-16T17:59:30.000</td>\n",
       "    </tr>\n",
       "    <tr>\n",
       "      <th>17</th>\n",
       "      <td>2020-12-15</td>\n",
       "      <td>2020-12-15T08:14:00.000</td>\n",
       "      <td>2020-12-15T14:24:30.000</td>\n",
       "    </tr>\n",
       "    <tr>\n",
       "      <th>18</th>\n",
       "      <td>2020-12-14</td>\n",
       "      <td>2020-12-14T04:00:30.000</td>\n",
       "      <td>2020-12-14T15:38:30.000</td>\n",
       "    </tr>\n",
       "    <tr>\n",
       "      <th>19</th>\n",
       "      <td>2020-12-13</td>\n",
       "      <td>2020-12-12T22:39:00.000</td>\n",
       "      <td>2020-12-13T10:53:30.000</td>\n",
       "    </tr>\n",
       "    <tr>\n",
       "      <th>20</th>\n",
       "      <td>2020-12-12</td>\n",
       "      <td>2020-12-12T07:01:00.000</td>\n",
       "      <td>2020-12-12T10:44:30.000</td>\n",
       "    </tr>\n",
       "    <tr>\n",
       "      <th>21</th>\n",
       "      <td>2020-12-11</td>\n",
       "      <td>2020-12-11T11:08:00.000</td>\n",
       "      <td>2020-12-11T19:44:30.000</td>\n",
       "    </tr>\n",
       "    <tr>\n",
       "      <th>22</th>\n",
       "      <td>2020-12-10</td>\n",
       "      <td>2020-12-10T12:08:30.000</td>\n",
       "      <td>2020-12-10T17:25:30.000</td>\n",
       "    </tr>\n",
       "    <tr>\n",
       "      <th>23</th>\n",
       "      <td>2020-12-09</td>\n",
       "      <td>2020-12-09T11:06:00.000</td>\n",
       "      <td>2020-12-09T18:25:30.000</td>\n",
       "    </tr>\n",
       "    <tr>\n",
       "      <th>24</th>\n",
       "      <td>2020-12-08</td>\n",
       "      <td>2020-12-07T23:49:00.000</td>\n",
       "      <td>2020-12-08T12:42:30.000</td>\n",
       "    </tr>\n",
       "    <tr>\n",
       "      <th>25</th>\n",
       "      <td>2020-12-07</td>\n",
       "      <td>2020-12-07T00:20:00.000</td>\n",
       "      <td>2020-12-07T06:26:30.000</td>\n",
       "    </tr>\n",
       "    <tr>\n",
       "      <th>26</th>\n",
       "      <td>2020-12-06</td>\n",
       "      <td>2020-12-06T10:13:00.000</td>\n",
       "      <td>2020-12-06T15:10:30.000</td>\n",
       "    </tr>\n",
       "    <tr>\n",
       "      <th>27</th>\n",
       "      <td>2020-12-05</td>\n",
       "      <td>2020-12-05T11:12:00.000</td>\n",
       "      <td>2020-12-05T15:13:30.000</td>\n",
       "    </tr>\n",
       "    <tr>\n",
       "      <th>28</th>\n",
       "      <td>2020-12-04</td>\n",
       "      <td>2020-12-04T12:13:00.000</td>\n",
       "      <td>2020-12-04T17:59:30.000</td>\n",
       "    </tr>\n",
       "    <tr>\n",
       "      <th>29</th>\n",
       "      <td>2020-12-04</td>\n",
       "      <td>2020-12-03T15:24:00.000</td>\n",
       "      <td>2020-12-04T04:44:00.000</td>\n",
       "    </tr>\n",
       "    <tr>\n",
       "      <th>30</th>\n",
       "      <td>2020-12-03</td>\n",
       "      <td>2020-12-02T22:02:00.000</td>\n",
       "      <td>2020-12-03T08:01:00.000</td>\n",
       "    </tr>\n",
       "    <tr>\n",
       "      <th>31</th>\n",
       "      <td>2020-12-01</td>\n",
       "      <td>2020-12-01T13:58:00.000</td>\n",
       "      <td>2020-12-01T22:10:30.000</td>\n",
       "    </tr>\n",
       "    <tr>\n",
       "      <th>32</th>\n",
       "      <td>2020-12-01</td>\n",
       "      <td>2020-11-30T09:40:00.000</td>\n",
       "      <td>2020-12-01T01:31:30.000</td>\n",
       "    </tr>\n",
       "  </tbody>\n",
       "</table>\n",
       "</div>"
      ],
      "text/plain": [
       "          date               start_time                 end_time\n",
       "0   2021-01-01  2021-01-01T12:43:00.000  2021-01-01T18:30:30.000\n",
       "1   2020-12-31  2020-12-31T09:24:00.000  2020-12-31T18:09:00.000\n",
       "2   2020-12-30  2020-12-29T16:19:30.000  2020-12-30T02:30:30.000\n",
       "3   2020-12-28  2020-12-28T10:51:00.000  2020-12-28T18:29:30.000\n",
       "4   2020-12-27  2020-12-27T11:35:00.000  2020-12-27T20:13:30.000\n",
       "5   2020-12-26  2020-12-26T12:44:30.000  2020-12-26T18:29:30.000\n",
       "6   2020-12-26  2020-12-25T20:46:30.000  2020-12-26T06:41:30.000\n",
       "7   2020-12-24  2020-12-24T11:28:00.000  2020-12-24T18:00:30.000\n",
       "8   2020-12-24  2020-12-23T14:23:30.000  2020-12-24T00:17:30.000\n",
       "9   2020-12-22  2020-12-22T11:07:30.000  2020-12-22T21:31:30.000\n",
       "10  2020-12-21  2020-12-21T15:59:30.000  2020-12-21T22:57:30.000\n",
       "11  2020-12-21  2020-12-21T01:29:30.000  2020-12-21T05:41:30.000\n",
       "12  2020-12-20  2020-12-20T11:48:00.000  2020-12-20T16:01:30.000\n",
       "13  2020-12-19  2020-12-19T11:19:00.000  2020-12-19T21:28:30.000\n",
       "14  2020-12-18  2020-12-18T11:39:00.000  2020-12-18T18:29:30.000\n",
       "15  2020-12-17  2020-12-17T10:33:00.000  2020-12-17T17:59:30.000\n",
       "16  2020-12-16  2020-12-16T09:36:30.000  2020-12-16T17:59:30.000\n",
       "17  2020-12-15  2020-12-15T08:14:00.000  2020-12-15T14:24:30.000\n",
       "18  2020-12-14  2020-12-14T04:00:30.000  2020-12-14T15:38:30.000\n",
       "19  2020-12-13  2020-12-12T22:39:00.000  2020-12-13T10:53:30.000\n",
       "20  2020-12-12  2020-12-12T07:01:00.000  2020-12-12T10:44:30.000\n",
       "21  2020-12-11  2020-12-11T11:08:00.000  2020-12-11T19:44:30.000\n",
       "22  2020-12-10  2020-12-10T12:08:30.000  2020-12-10T17:25:30.000\n",
       "23  2020-12-09  2020-12-09T11:06:00.000  2020-12-09T18:25:30.000\n",
       "24  2020-12-08  2020-12-07T23:49:00.000  2020-12-08T12:42:30.000\n",
       "25  2020-12-07  2020-12-07T00:20:00.000  2020-12-07T06:26:30.000\n",
       "26  2020-12-06  2020-12-06T10:13:00.000  2020-12-06T15:10:30.000\n",
       "27  2020-12-05  2020-12-05T11:12:00.000  2020-12-05T15:13:30.000\n",
       "28  2020-12-04  2020-12-04T12:13:00.000  2020-12-04T17:59:30.000\n",
       "29  2020-12-04  2020-12-03T15:24:00.000  2020-12-04T04:44:00.000\n",
       "30  2020-12-03  2020-12-02T22:02:00.000  2020-12-03T08:01:00.000\n",
       "31  2020-12-01  2020-12-01T13:58:00.000  2020-12-01T22:10:30.000\n",
       "32  2020-12-01  2020-11-30T09:40:00.000  2020-12-01T01:31:30.000"
      ]
     },
     "execution_count": 920,
     "metadata": {},
     "output_type": "execute_result"
    }
   ],
   "source": [
    "# add duration etc.?\n",
    "\n",
    "sleep_duration_list = []\n",
    "for i in sleep_response['sleep']:\n",
    "    sleep_duration_list.append({'date':i['dateOfSleep'], 'start_time':i['startTime'], 'end_time':i['endTime']})\n",
    "    \n",
    "sleep_df = pd.DataFrame(sleep_duration_list)\n",
    "sleep_df"
   ]
  },
  {
   "cell_type": "code",
   "execution_count": 921,
   "metadata": {},
   "outputs": [
    {
     "data": {
      "text/html": [
       "<div>\n",
       "<style scoped>\n",
       "    .dataframe tbody tr th:only-of-type {\n",
       "        vertical-align: middle;\n",
       "    }\n",
       "\n",
       "    .dataframe tbody tr th {\n",
       "        vertical-align: top;\n",
       "    }\n",
       "\n",
       "    .dataframe thead th {\n",
       "        text-align: right;\n",
       "    }\n",
       "</style>\n",
       "<table border=\"1\" class=\"dataframe\">\n",
       "  <thead>\n",
       "    <tr style=\"text-align: right;\">\n",
       "      <th></th>\n",
       "      <th>date</th>\n",
       "      <th>start_time</th>\n",
       "      <th>end_time</th>\n",
       "    </tr>\n",
       "  </thead>\n",
       "  <tbody>\n",
       "    <tr>\n",
       "      <th>0</th>\n",
       "      <td>2021-01-01</td>\n",
       "      <td>2021-01-01T12:43:00.000</td>\n",
       "      <td>2021-01-01T18:30:30.000</td>\n",
       "    </tr>\n",
       "    <tr>\n",
       "      <th>1</th>\n",
       "      <td>2020-12-31</td>\n",
       "      <td>2020-12-31T09:24:00.000</td>\n",
       "      <td>2020-12-31T18:09:00.000</td>\n",
       "    </tr>\n",
       "    <tr>\n",
       "      <th>2</th>\n",
       "      <td>2020-12-30</td>\n",
       "      <td>2020-12-29T16:19:30.000</td>\n",
       "      <td>2020-12-30T02:30:30.000</td>\n",
       "    </tr>\n",
       "    <tr>\n",
       "      <th>3</th>\n",
       "      <td>2020-12-28</td>\n",
       "      <td>2020-12-28T10:51:00.000</td>\n",
       "      <td>2020-12-28T18:29:30.000</td>\n",
       "    </tr>\n",
       "    <tr>\n",
       "      <th>4</th>\n",
       "      <td>2020-12-27</td>\n",
       "      <td>2020-12-27T11:35:00.000</td>\n",
       "      <td>2020-12-27T20:13:30.000</td>\n",
       "    </tr>\n",
       "  </tbody>\n",
       "</table>\n",
       "</div>"
      ],
      "text/plain": [
       "         date               start_time                 end_time\n",
       "0  2021-01-01  2021-01-01T12:43:00.000  2021-01-01T18:30:30.000\n",
       "1  2020-12-31  2020-12-31T09:24:00.000  2020-12-31T18:09:00.000\n",
       "2  2020-12-30  2020-12-29T16:19:30.000  2020-12-30T02:30:30.000\n",
       "3  2020-12-28  2020-12-28T10:51:00.000  2020-12-28T18:29:30.000\n",
       "4  2020-12-27  2020-12-27T11:35:00.000  2020-12-27T20:13:30.000"
      ]
     },
     "execution_count": 921,
     "metadata": {},
     "output_type": "execute_result"
    }
   ],
   "source": [
    "sleep_df.head(5)"
   ]
  },
  {
   "cell_type": "code",
   "execution_count": 922,
   "metadata": {},
   "outputs": [
    {
     "data": {
      "text/plain": [
       "str"
      ]
     },
     "execution_count": 922,
     "metadata": {},
     "output_type": "execute_result"
    }
   ],
   "source": [
    "type(sleep_df['start_time'][0])"
   ]
  },
  {
   "cell_type": "code",
   "execution_count": 923,
   "metadata": {},
   "outputs": [
    {
     "data": {
      "text/html": [
       "<div>\n",
       "<style scoped>\n",
       "    .dataframe tbody tr th:only-of-type {\n",
       "        vertical-align: middle;\n",
       "    }\n",
       "\n",
       "    .dataframe tbody tr th {\n",
       "        vertical-align: top;\n",
       "    }\n",
       "\n",
       "    .dataframe thead th {\n",
       "        text-align: right;\n",
       "    }\n",
       "</style>\n",
       "<table border=\"1\" class=\"dataframe\">\n",
       "  <thead>\n",
       "    <tr style=\"text-align: right;\">\n",
       "      <th></th>\n",
       "      <th>date</th>\n",
       "      <th>start_time</th>\n",
       "      <th>end_time</th>\n",
       "    </tr>\n",
       "  </thead>\n",
       "  <tbody>\n",
       "    <tr>\n",
       "      <th>0</th>\n",
       "      <td>2021-01-01</td>\n",
       "      <td>2021-01-01 12:43:00</td>\n",
       "      <td>2021-01-01 18:30:30</td>\n",
       "    </tr>\n",
       "    <tr>\n",
       "      <th>1</th>\n",
       "      <td>2020-12-31</td>\n",
       "      <td>2020-12-31 09:24:00</td>\n",
       "      <td>2020-12-31 18:09:00</td>\n",
       "    </tr>\n",
       "    <tr>\n",
       "      <th>2</th>\n",
       "      <td>2020-12-30</td>\n",
       "      <td>2020-12-29 16:19:30</td>\n",
       "      <td>2020-12-30 02:30:30</td>\n",
       "    </tr>\n",
       "    <tr>\n",
       "      <th>3</th>\n",
       "      <td>2020-12-28</td>\n",
       "      <td>2020-12-28 10:51:00</td>\n",
       "      <td>2020-12-28 18:29:30</td>\n",
       "    </tr>\n",
       "    <tr>\n",
       "      <th>4</th>\n",
       "      <td>2020-12-27</td>\n",
       "      <td>2020-12-27 11:35:00</td>\n",
       "      <td>2020-12-27 20:13:30</td>\n",
       "    </tr>\n",
       "  </tbody>\n",
       "</table>\n",
       "</div>"
      ],
      "text/plain": [
       "         date          start_time            end_time\n",
       "0  2021-01-01 2021-01-01 12:43:00 2021-01-01 18:30:30\n",
       "1  2020-12-31 2020-12-31 09:24:00 2020-12-31 18:09:00\n",
       "2  2020-12-30 2020-12-29 16:19:30 2020-12-30 02:30:30\n",
       "3  2020-12-28 2020-12-28 10:51:00 2020-12-28 18:29:30\n",
       "4  2020-12-27 2020-12-27 11:35:00 2020-12-27 20:13:30"
      ]
     },
     "execution_count": 923,
     "metadata": {},
     "output_type": "execute_result"
    }
   ],
   "source": [
    "# https://stackoverflow.com/questions/62672427/how-do-i-convert-iso-8601-object-into-datetime-format-in-a-pandas-dataframe\n",
    "sleep_df['start_time'] = pd.to_datetime(sleep_df['start_time'])\n",
    "sleep_df['end_time'] = pd.to_datetime(sleep_df['end_time'])\n",
    "sleep_df.head(5)"
   ]
  },
  {
   "cell_type": "code",
   "execution_count": 924,
   "metadata": {},
   "outputs": [
    {
     "data": {
      "text/html": [
       "<div>\n",
       "<style scoped>\n",
       "    .dataframe tbody tr th:only-of-type {\n",
       "        vertical-align: middle;\n",
       "    }\n",
       "\n",
       "    .dataframe tbody tr th {\n",
       "        vertical-align: top;\n",
       "    }\n",
       "\n",
       "    .dataframe thead th {\n",
       "        text-align: right;\n",
       "    }\n",
       "</style>\n",
       "<table border=\"1\" class=\"dataframe\">\n",
       "  <thead>\n",
       "    <tr style=\"text-align: right;\">\n",
       "      <th></th>\n",
       "      <th>Start</th>\n",
       "      <th>End</th>\n",
       "      <th>Day</th>\n",
       "    </tr>\n",
       "  </thead>\n",
       "  <tbody>\n",
       "    <tr>\n",
       "      <th>0</th>\n",
       "      <td>2021-01-01 12:43:00</td>\n",
       "      <td>2021-01-01 18:30:30</td>\n",
       "      <td>2021-01-01</td>\n",
       "    </tr>\n",
       "    <tr>\n",
       "      <th>1</th>\n",
       "      <td>2020-12-31 09:24:00</td>\n",
       "      <td>2020-12-31 18:09:00</td>\n",
       "      <td>2020-12-31</td>\n",
       "    </tr>\n",
       "    <tr>\n",
       "      <th>2</th>\n",
       "      <td>2020-12-29 16:19:30</td>\n",
       "      <td>2020-12-30 02:30:30</td>\n",
       "      <td>2020-12-30</td>\n",
       "    </tr>\n",
       "    <tr>\n",
       "      <th>3</th>\n",
       "      <td>2020-12-28 10:51:00</td>\n",
       "      <td>2020-12-28 18:29:30</td>\n",
       "      <td>2020-12-28</td>\n",
       "    </tr>\n",
       "    <tr>\n",
       "      <th>4</th>\n",
       "      <td>2020-12-27 11:35:00</td>\n",
       "      <td>2020-12-27 20:13:30</td>\n",
       "      <td>2020-12-27</td>\n",
       "    </tr>\n",
       "  </tbody>\n",
       "</table>\n",
       "</div>"
      ],
      "text/plain": [
       "                Start                 End         Day\n",
       "0 2021-01-01 12:43:00 2021-01-01 18:30:30  2021-01-01\n",
       "1 2020-12-31 09:24:00 2020-12-31 18:09:00  2020-12-31\n",
       "2 2020-12-29 16:19:30 2020-12-30 02:30:30  2020-12-30\n",
       "3 2020-12-28 10:51:00 2020-12-28 18:29:30  2020-12-28\n",
       "4 2020-12-27 11:35:00 2020-12-27 20:13:30  2020-12-27"
      ]
     },
     "execution_count": 924,
     "metadata": {},
     "output_type": "execute_result"
    }
   ],
   "source": [
    "sleep_df['Start'] = sleep_df['start_time']\n",
    "sleep_df['End'] = sleep_df['end_time']\n",
    "sleep_df['Day'] = sleep_df['date']\n",
    "\n",
    "del sleep_df['start_time']\n",
    "del sleep_df['end_time']\n",
    "del sleep_df['date']\n",
    "\n",
    "sleep_df.head(5)"
   ]
  },
  {
   "cell_type": "code",
   "execution_count": 925,
   "metadata": {},
   "outputs": [],
   "source": [
    "# df = sleep_df\n",
    "# df"
   ]
  },
  {
   "cell_type": "code",
   "execution_count": 926,
   "metadata": {},
   "outputs": [],
   "source": [
    "# df['Day'] = pd.to_datetime(df.Day)\n",
    "\n",
    "# # https://pandas.pydata.org/pandas-docs/stable/reference/api/pandas.Series.dt.html\n",
    "# df[\"Day\"] = pd.to_datetime(df[\"Day\"]).dt.dayofyear\n",
    "\n",
    "# day = df['Day']\n",
    "# day"
   ]
  },
  {
   "cell_type": "code",
   "execution_count": 927,
   "metadata": {},
   "outputs": [],
   "source": [
    "# df['Start'] = pd.to_datetime(df.Start)\n",
    "# df[\"Start\"] = df[\"Start\"].apply(lambda x: x.replace(year=1970, month=1, day=1))\n",
    "# df['Start'] = pd.to_datetime(df.Start)"
   ]
  },
  {
   "cell_type": "code",
   "execution_count": 928,
   "metadata": {},
   "outputs": [],
   "source": [
    "# df['End'] = pd.to_datetime(df.End)\n",
    "# df[\"End\"] = df[\"End\"].apply(lambda x: x.replace(year=1970, month=1, day=1))\n",
    "# df['End'] = pd.to_datetime(df.End)\n",
    "# df"
   ]
  },
  {
   "cell_type": "code",
   "execution_count": 929,
   "metadata": {},
   "outputs": [],
   "source": [
    "# type(df[\"End\"][0])"
   ]
  },
  {
   "cell_type": "code",
   "execution_count": 930,
   "metadata": {},
   "outputs": [
    {
     "data": {
      "text/html": [
       "<div>\n",
       "<style scoped>\n",
       "    .dataframe tbody tr th:only-of-type {\n",
       "        vertical-align: middle;\n",
       "    }\n",
       "\n",
       "    .dataframe tbody tr th {\n",
       "        vertical-align: top;\n",
       "    }\n",
       "\n",
       "    .dataframe thead th {\n",
       "        text-align: right;\n",
       "    }\n",
       "</style>\n",
       "<table border=\"1\" class=\"dataframe\">\n",
       "  <thead>\n",
       "    <tr style=\"text-align: right;\">\n",
       "      <th></th>\n",
       "      <th>Start</th>\n",
       "      <th>End</th>\n",
       "    </tr>\n",
       "  </thead>\n",
       "  <tbody>\n",
       "    <tr>\n",
       "      <th>0</th>\n",
       "      <td>2021-01-01 12:43:00</td>\n",
       "      <td>2021-01-01 18:30:30</td>\n",
       "    </tr>\n",
       "    <tr>\n",
       "      <th>1</th>\n",
       "      <td>2020-12-31 09:24:00</td>\n",
       "      <td>2020-12-31 18:09:00</td>\n",
       "    </tr>\n",
       "    <tr>\n",
       "      <th>2</th>\n",
       "      <td>2020-12-29 16:19:30</td>\n",
       "      <td>2020-12-30 02:30:30</td>\n",
       "    </tr>\n",
       "    <tr>\n",
       "      <th>3</th>\n",
       "      <td>2020-12-28 10:51:00</td>\n",
       "      <td>2020-12-28 18:29:30</td>\n",
       "    </tr>\n",
       "    <tr>\n",
       "      <th>4</th>\n",
       "      <td>2020-12-27 11:35:00</td>\n",
       "      <td>2020-12-27 20:13:30</td>\n",
       "    </tr>\n",
       "    <tr>\n",
       "      <th>5</th>\n",
       "      <td>2020-12-26 12:44:30</td>\n",
       "      <td>2020-12-26 18:29:30</td>\n",
       "    </tr>\n",
       "    <tr>\n",
       "      <th>6</th>\n",
       "      <td>2020-12-25 20:46:30</td>\n",
       "      <td>2020-12-26 06:41:30</td>\n",
       "    </tr>\n",
       "    <tr>\n",
       "      <th>7</th>\n",
       "      <td>2020-12-24 11:28:00</td>\n",
       "      <td>2020-12-24 18:00:30</td>\n",
       "    </tr>\n",
       "    <tr>\n",
       "      <th>8</th>\n",
       "      <td>2020-12-23 14:23:30</td>\n",
       "      <td>2020-12-24 00:17:30</td>\n",
       "    </tr>\n",
       "    <tr>\n",
       "      <th>9</th>\n",
       "      <td>2020-12-22 11:07:30</td>\n",
       "      <td>2020-12-22 21:31:30</td>\n",
       "    </tr>\n",
       "    <tr>\n",
       "      <th>10</th>\n",
       "      <td>2020-12-21 15:59:30</td>\n",
       "      <td>2020-12-21 22:57:30</td>\n",
       "    </tr>\n",
       "    <tr>\n",
       "      <th>11</th>\n",
       "      <td>2020-12-21 01:29:30</td>\n",
       "      <td>2020-12-21 05:41:30</td>\n",
       "    </tr>\n",
       "    <tr>\n",
       "      <th>12</th>\n",
       "      <td>2020-12-20 11:48:00</td>\n",
       "      <td>2020-12-20 16:01:30</td>\n",
       "    </tr>\n",
       "    <tr>\n",
       "      <th>13</th>\n",
       "      <td>2020-12-19 11:19:00</td>\n",
       "      <td>2020-12-19 21:28:30</td>\n",
       "    </tr>\n",
       "    <tr>\n",
       "      <th>14</th>\n",
       "      <td>2020-12-18 11:39:00</td>\n",
       "      <td>2020-12-18 18:29:30</td>\n",
       "    </tr>\n",
       "    <tr>\n",
       "      <th>15</th>\n",
       "      <td>2020-12-17 10:33:00</td>\n",
       "      <td>2020-12-17 17:59:30</td>\n",
       "    </tr>\n",
       "    <tr>\n",
       "      <th>16</th>\n",
       "      <td>2020-12-16 09:36:30</td>\n",
       "      <td>2020-12-16 17:59:30</td>\n",
       "    </tr>\n",
       "    <tr>\n",
       "      <th>17</th>\n",
       "      <td>2020-12-15 08:14:00</td>\n",
       "      <td>2020-12-15 14:24:30</td>\n",
       "    </tr>\n",
       "    <tr>\n",
       "      <th>18</th>\n",
       "      <td>2020-12-14 04:00:30</td>\n",
       "      <td>2020-12-14 15:38:30</td>\n",
       "    </tr>\n",
       "    <tr>\n",
       "      <th>19</th>\n",
       "      <td>2020-12-12 22:39:00</td>\n",
       "      <td>2020-12-13 10:53:30</td>\n",
       "    </tr>\n",
       "    <tr>\n",
       "      <th>20</th>\n",
       "      <td>2020-12-12 07:01:00</td>\n",
       "      <td>2020-12-12 10:44:30</td>\n",
       "    </tr>\n",
       "    <tr>\n",
       "      <th>21</th>\n",
       "      <td>2020-12-11 11:08:00</td>\n",
       "      <td>2020-12-11 19:44:30</td>\n",
       "    </tr>\n",
       "    <tr>\n",
       "      <th>22</th>\n",
       "      <td>2020-12-10 12:08:30</td>\n",
       "      <td>2020-12-10 17:25:30</td>\n",
       "    </tr>\n",
       "    <tr>\n",
       "      <th>23</th>\n",
       "      <td>2020-12-09 11:06:00</td>\n",
       "      <td>2020-12-09 18:25:30</td>\n",
       "    </tr>\n",
       "    <tr>\n",
       "      <th>24</th>\n",
       "      <td>2020-12-07 23:49:00</td>\n",
       "      <td>2020-12-08 12:42:30</td>\n",
       "    </tr>\n",
       "    <tr>\n",
       "      <th>25</th>\n",
       "      <td>2020-12-07 00:20:00</td>\n",
       "      <td>2020-12-07 06:26:30</td>\n",
       "    </tr>\n",
       "    <tr>\n",
       "      <th>26</th>\n",
       "      <td>2020-12-06 10:13:00</td>\n",
       "      <td>2020-12-06 15:10:30</td>\n",
       "    </tr>\n",
       "    <tr>\n",
       "      <th>27</th>\n",
       "      <td>2020-12-05 11:12:00</td>\n",
       "      <td>2020-12-05 15:13:30</td>\n",
       "    </tr>\n",
       "    <tr>\n",
       "      <th>28</th>\n",
       "      <td>2020-12-04 12:13:00</td>\n",
       "      <td>2020-12-04 17:59:30</td>\n",
       "    </tr>\n",
       "    <tr>\n",
       "      <th>29</th>\n",
       "      <td>2020-12-03 15:24:00</td>\n",
       "      <td>2020-12-04 04:44:00</td>\n",
       "    </tr>\n",
       "    <tr>\n",
       "      <th>30</th>\n",
       "      <td>2020-12-02 22:02:00</td>\n",
       "      <td>2020-12-03 08:01:00</td>\n",
       "    </tr>\n",
       "    <tr>\n",
       "      <th>31</th>\n",
       "      <td>2020-12-01 13:58:00</td>\n",
       "      <td>2020-12-01 22:10:30</td>\n",
       "    </tr>\n",
       "    <tr>\n",
       "      <th>32</th>\n",
       "      <td>2020-11-30 09:40:00</td>\n",
       "      <td>2020-12-01 01:31:30</td>\n",
       "    </tr>\n",
       "  </tbody>\n",
       "</table>\n",
       "</div>"
      ],
      "text/plain": [
       "                 Start                 End\n",
       "0  2021-01-01 12:43:00 2021-01-01 18:30:30\n",
       "1  2020-12-31 09:24:00 2020-12-31 18:09:00\n",
       "2  2020-12-29 16:19:30 2020-12-30 02:30:30\n",
       "3  2020-12-28 10:51:00 2020-12-28 18:29:30\n",
       "4  2020-12-27 11:35:00 2020-12-27 20:13:30\n",
       "5  2020-12-26 12:44:30 2020-12-26 18:29:30\n",
       "6  2020-12-25 20:46:30 2020-12-26 06:41:30\n",
       "7  2020-12-24 11:28:00 2020-12-24 18:00:30\n",
       "8  2020-12-23 14:23:30 2020-12-24 00:17:30\n",
       "9  2020-12-22 11:07:30 2020-12-22 21:31:30\n",
       "10 2020-12-21 15:59:30 2020-12-21 22:57:30\n",
       "11 2020-12-21 01:29:30 2020-12-21 05:41:30\n",
       "12 2020-12-20 11:48:00 2020-12-20 16:01:30\n",
       "13 2020-12-19 11:19:00 2020-12-19 21:28:30\n",
       "14 2020-12-18 11:39:00 2020-12-18 18:29:30\n",
       "15 2020-12-17 10:33:00 2020-12-17 17:59:30\n",
       "16 2020-12-16 09:36:30 2020-12-16 17:59:30\n",
       "17 2020-12-15 08:14:00 2020-12-15 14:24:30\n",
       "18 2020-12-14 04:00:30 2020-12-14 15:38:30\n",
       "19 2020-12-12 22:39:00 2020-12-13 10:53:30\n",
       "20 2020-12-12 07:01:00 2020-12-12 10:44:30\n",
       "21 2020-12-11 11:08:00 2020-12-11 19:44:30\n",
       "22 2020-12-10 12:08:30 2020-12-10 17:25:30\n",
       "23 2020-12-09 11:06:00 2020-12-09 18:25:30\n",
       "24 2020-12-07 23:49:00 2020-12-08 12:42:30\n",
       "25 2020-12-07 00:20:00 2020-12-07 06:26:30\n",
       "26 2020-12-06 10:13:00 2020-12-06 15:10:30\n",
       "27 2020-12-05 11:12:00 2020-12-05 15:13:30\n",
       "28 2020-12-04 12:13:00 2020-12-04 17:59:30\n",
       "29 2020-12-03 15:24:00 2020-12-04 04:44:00\n",
       "30 2020-12-02 22:02:00 2020-12-03 08:01:00\n",
       "31 2020-12-01 13:58:00 2020-12-01 22:10:30\n",
       "32 2020-11-30 09:40:00 2020-12-01 01:31:30"
      ]
     },
     "execution_count": 930,
     "metadata": {},
     "output_type": "execute_result"
    }
   ],
   "source": [
    "start_end_df = sleep_df[['Start', 'End']]\n",
    "start_end_df"
   ]
  },
  {
   "cell_type": "code",
   "execution_count": 931,
   "metadata": {},
   "outputs": [
    {
     "data": {
      "text/plain": [
       "DatetimeIndex(['2020-11-29', '2020-11-30', '2020-12-01', '2020-12-02',\n",
       "               '2020-12-03', '2020-12-04', '2020-12-05', '2020-12-06',\n",
       "               '2020-12-07', '2020-12-08', '2020-12-09', '2020-12-10',\n",
       "               '2020-12-11', '2020-12-12', '2020-12-13', '2020-12-14',\n",
       "               '2020-12-15', '2020-12-16', '2020-12-17', '2020-12-18',\n",
       "               '2020-12-19', '2020-12-20', '2020-12-21', '2020-12-22',\n",
       "               '2020-12-23', '2020-12-24', '2020-12-25', '2020-12-26',\n",
       "               '2020-12-27', '2020-12-28', '2020-12-29', '2020-12-30',\n",
       "               '2020-12-31', '2021-01-01', '2021-01-02'],\n",
       "              dtype='datetime64[ns]', freq='D')"
      ]
     },
     "execution_count": 931,
     "metadata": {},
     "output_type": "execute_result"
    }
   ],
   "source": [
    "# https://stackoverflow.com/questions/59791843/pandas-splitting-date-ranges-on-specific-day-boundary\n",
    "# https://stackoverflow.com/questions/50336251/split-dataframe-entries-at-midnight\n",
    "edges = pd.date_range(start_end_df.Start.min().normalize() - pd.Timedelta(days=1),\n",
    "                      start_end_df.End.max().normalize() + pd.Timedelta(days=1), freq='D')\n",
    "edges"
   ]
  },
  {
   "cell_type": "code",
   "execution_count": 932,
   "metadata": {},
   "outputs": [
    {
     "name": "stderr",
     "output_type": "stream",
     "text": [
      "/home/mcwaage1/venv/lib/python3.8/site-packages/pandas/core/indexing.py:1637: SettingWithCopyWarning:\n",
      "\n",
      "\n",
      "A value is trying to be set on a copy of a slice from a DataFrame\n",
      "\n",
      "See the caveats in the documentation: https://pandas.pydata.org/pandas-docs/stable/user_guide/indexing.html#returning-a-view-versus-a-copy\n",
      "\n",
      "/home/mcwaage1/venv/lib/python3.8/site-packages/pandas/core/indexing.py:692: SettingWithCopyWarning:\n",
      "\n",
      "\n",
      "A value is trying to be set on a copy of a slice from a DataFrame\n",
      "\n",
      "See the caveats in the documentation: https://pandas.pydata.org/pandas-docs/stable/user_guide/indexing.html#returning-a-view-versus-a-copy\n",
      "\n"
     ]
    },
    {
     "data": {
      "text/html": [
       "<div>\n",
       "<style scoped>\n",
       "    .dataframe tbody tr th:only-of-type {\n",
       "        vertical-align: middle;\n",
       "    }\n",
       "\n",
       "    .dataframe tbody tr th {\n",
       "        vertical-align: top;\n",
       "    }\n",
       "\n",
       "    .dataframe thead th {\n",
       "        text-align: right;\n",
       "    }\n",
       "</style>\n",
       "<table border=\"1\" class=\"dataframe\">\n",
       "  <thead>\n",
       "    <tr style=\"text-align: right;\">\n",
       "      <th></th>\n",
       "      <th>Start</th>\n",
       "      <th>End</th>\n",
       "    </tr>\n",
       "  </thead>\n",
       "  <tbody>\n",
       "    <tr>\n",
       "      <th>0</th>\n",
       "      <td>2020-11-30 09:40:00</td>\n",
       "      <td>2020-12-01 00:00:00</td>\n",
       "    </tr>\n",
       "    <tr>\n",
       "      <th>40</th>\n",
       "      <td>2020-12-01 00:00:00</td>\n",
       "      <td>2020-12-01 01:31:30</td>\n",
       "    </tr>\n",
       "    <tr>\n",
       "      <th>39</th>\n",
       "      <td>2020-12-01 13:58:00</td>\n",
       "      <td>2020-12-01 22:10:30</td>\n",
       "    </tr>\n",
       "    <tr>\n",
       "      <th>1</th>\n",
       "      <td>2020-12-02 22:02:00</td>\n",
       "      <td>2020-12-03 00:00:00</td>\n",
       "    </tr>\n",
       "    <tr>\n",
       "      <th>38</th>\n",
       "      <td>2020-12-03 00:00:00</td>\n",
       "      <td>2020-12-03 08:01:00</td>\n",
       "    </tr>\n",
       "    <tr>\n",
       "      <th>2</th>\n",
       "      <td>2020-12-03 15:24:00</td>\n",
       "      <td>2020-12-04 00:00:00</td>\n",
       "    </tr>\n",
       "    <tr>\n",
       "      <th>37</th>\n",
       "      <td>2020-12-04 00:00:00</td>\n",
       "      <td>2020-12-04 04:44:00</td>\n",
       "    </tr>\n",
       "    <tr>\n",
       "      <th>36</th>\n",
       "      <td>2020-12-04 12:13:00</td>\n",
       "      <td>2020-12-04 17:59:30</td>\n",
       "    </tr>\n",
       "    <tr>\n",
       "      <th>35</th>\n",
       "      <td>2020-12-05 11:12:00</td>\n",
       "      <td>2020-12-05 15:13:30</td>\n",
       "    </tr>\n",
       "    <tr>\n",
       "      <th>34</th>\n",
       "      <td>2020-12-06 10:13:00</td>\n",
       "      <td>2020-12-06 15:10:30</td>\n",
       "    </tr>\n",
       "    <tr>\n",
       "      <th>33</th>\n",
       "      <td>2020-12-07 00:20:00</td>\n",
       "      <td>2020-12-07 06:26:30</td>\n",
       "    </tr>\n",
       "    <tr>\n",
       "      <th>3</th>\n",
       "      <td>2020-12-07 23:49:00</td>\n",
       "      <td>2020-12-08 00:00:00</td>\n",
       "    </tr>\n",
       "    <tr>\n",
       "      <th>32</th>\n",
       "      <td>2020-12-08 00:00:00</td>\n",
       "      <td>2020-12-08 12:42:30</td>\n",
       "    </tr>\n",
       "    <tr>\n",
       "      <th>31</th>\n",
       "      <td>2020-12-09 11:06:00</td>\n",
       "      <td>2020-12-09 18:25:30</td>\n",
       "    </tr>\n",
       "    <tr>\n",
       "      <th>30</th>\n",
       "      <td>2020-12-10 12:08:30</td>\n",
       "      <td>2020-12-10 17:25:30</td>\n",
       "    </tr>\n",
       "    <tr>\n",
       "      <th>29</th>\n",
       "      <td>2020-12-11 11:08:00</td>\n",
       "      <td>2020-12-11 19:44:30</td>\n",
       "    </tr>\n",
       "    <tr>\n",
       "      <th>28</th>\n",
       "      <td>2020-12-12 07:01:00</td>\n",
       "      <td>2020-12-12 10:44:30</td>\n",
       "    </tr>\n",
       "    <tr>\n",
       "      <th>4</th>\n",
       "      <td>2020-12-12 22:39:00</td>\n",
       "      <td>2020-12-13 00:00:00</td>\n",
       "    </tr>\n",
       "    <tr>\n",
       "      <th>27</th>\n",
       "      <td>2020-12-13 00:00:00</td>\n",
       "      <td>2020-12-13 10:53:30</td>\n",
       "    </tr>\n",
       "    <tr>\n",
       "      <th>26</th>\n",
       "      <td>2020-12-14 04:00:30</td>\n",
       "      <td>2020-12-14 15:38:30</td>\n",
       "    </tr>\n",
       "    <tr>\n",
       "      <th>25</th>\n",
       "      <td>2020-12-15 08:14:00</td>\n",
       "      <td>2020-12-15 14:24:30</td>\n",
       "    </tr>\n",
       "    <tr>\n",
       "      <th>24</th>\n",
       "      <td>2020-12-16 09:36:30</td>\n",
       "      <td>2020-12-16 17:59:30</td>\n",
       "    </tr>\n",
       "    <tr>\n",
       "      <th>23</th>\n",
       "      <td>2020-12-17 10:33:00</td>\n",
       "      <td>2020-12-17 17:59:30</td>\n",
       "    </tr>\n",
       "    <tr>\n",
       "      <th>22</th>\n",
       "      <td>2020-12-18 11:39:00</td>\n",
       "      <td>2020-12-18 18:29:30</td>\n",
       "    </tr>\n",
       "    <tr>\n",
       "      <th>21</th>\n",
       "      <td>2020-12-19 11:19:00</td>\n",
       "      <td>2020-12-19 21:28:30</td>\n",
       "    </tr>\n",
       "    <tr>\n",
       "      <th>20</th>\n",
       "      <td>2020-12-20 11:48:00</td>\n",
       "      <td>2020-12-20 16:01:30</td>\n",
       "    </tr>\n",
       "    <tr>\n",
       "      <th>19</th>\n",
       "      <td>2020-12-21 01:29:30</td>\n",
       "      <td>2020-12-21 05:41:30</td>\n",
       "    </tr>\n",
       "    <tr>\n",
       "      <th>18</th>\n",
       "      <td>2020-12-21 15:59:30</td>\n",
       "      <td>2020-12-21 22:57:30</td>\n",
       "    </tr>\n",
       "    <tr>\n",
       "      <th>17</th>\n",
       "      <td>2020-12-22 11:07:30</td>\n",
       "      <td>2020-12-22 21:31:30</td>\n",
       "    </tr>\n",
       "    <tr>\n",
       "      <th>5</th>\n",
       "      <td>2020-12-23 14:23:30</td>\n",
       "      <td>2020-12-24 00:00:00</td>\n",
       "    </tr>\n",
       "    <tr>\n",
       "      <th>16</th>\n",
       "      <td>2020-12-24 00:00:00</td>\n",
       "      <td>2020-12-24 00:17:30</td>\n",
       "    </tr>\n",
       "    <tr>\n",
       "      <th>15</th>\n",
       "      <td>2020-12-24 11:28:00</td>\n",
       "      <td>2020-12-24 18:00:30</td>\n",
       "    </tr>\n",
       "    <tr>\n",
       "      <th>6</th>\n",
       "      <td>2020-12-25 20:46:30</td>\n",
       "      <td>2020-12-26 00:00:00</td>\n",
       "    </tr>\n",
       "    <tr>\n",
       "      <th>14</th>\n",
       "      <td>2020-12-26 00:00:00</td>\n",
       "      <td>2020-12-26 06:41:30</td>\n",
       "    </tr>\n",
       "    <tr>\n",
       "      <th>13</th>\n",
       "      <td>2020-12-26 12:44:30</td>\n",
       "      <td>2020-12-26 18:29:30</td>\n",
       "    </tr>\n",
       "    <tr>\n",
       "      <th>12</th>\n",
       "      <td>2020-12-27 11:35:00</td>\n",
       "      <td>2020-12-27 20:13:30</td>\n",
       "    </tr>\n",
       "    <tr>\n",
       "      <th>11</th>\n",
       "      <td>2020-12-28 10:51:00</td>\n",
       "      <td>2020-12-28 18:29:30</td>\n",
       "    </tr>\n",
       "    <tr>\n",
       "      <th>7</th>\n",
       "      <td>2020-12-29 16:19:30</td>\n",
       "      <td>2020-12-30 00:00:00</td>\n",
       "    </tr>\n",
       "    <tr>\n",
       "      <th>10</th>\n",
       "      <td>2020-12-30 00:00:00</td>\n",
       "      <td>2020-12-30 02:30:30</td>\n",
       "    </tr>\n",
       "    <tr>\n",
       "      <th>9</th>\n",
       "      <td>2020-12-31 09:24:00</td>\n",
       "      <td>2020-12-31 18:09:00</td>\n",
       "    </tr>\n",
       "    <tr>\n",
       "      <th>8</th>\n",
       "      <td>2021-01-01 12:43:00</td>\n",
       "      <td>2021-01-01 18:30:30</td>\n",
       "    </tr>\n",
       "  </tbody>\n",
       "</table>\n",
       "</div>"
      ],
      "text/plain": [
       "                 Start                 End\n",
       "0  2020-11-30 09:40:00 2020-12-01 00:00:00\n",
       "40 2020-12-01 00:00:00 2020-12-01 01:31:30\n",
       "39 2020-12-01 13:58:00 2020-12-01 22:10:30\n",
       "1  2020-12-02 22:02:00 2020-12-03 00:00:00\n",
       "38 2020-12-03 00:00:00 2020-12-03 08:01:00\n",
       "2  2020-12-03 15:24:00 2020-12-04 00:00:00\n",
       "37 2020-12-04 00:00:00 2020-12-04 04:44:00\n",
       "36 2020-12-04 12:13:00 2020-12-04 17:59:30\n",
       "35 2020-12-05 11:12:00 2020-12-05 15:13:30\n",
       "34 2020-12-06 10:13:00 2020-12-06 15:10:30\n",
       "33 2020-12-07 00:20:00 2020-12-07 06:26:30\n",
       "3  2020-12-07 23:49:00 2020-12-08 00:00:00\n",
       "32 2020-12-08 00:00:00 2020-12-08 12:42:30\n",
       "31 2020-12-09 11:06:00 2020-12-09 18:25:30\n",
       "30 2020-12-10 12:08:30 2020-12-10 17:25:30\n",
       "29 2020-12-11 11:08:00 2020-12-11 19:44:30\n",
       "28 2020-12-12 07:01:00 2020-12-12 10:44:30\n",
       "4  2020-12-12 22:39:00 2020-12-13 00:00:00\n",
       "27 2020-12-13 00:00:00 2020-12-13 10:53:30\n",
       "26 2020-12-14 04:00:30 2020-12-14 15:38:30\n",
       "25 2020-12-15 08:14:00 2020-12-15 14:24:30\n",
       "24 2020-12-16 09:36:30 2020-12-16 17:59:30\n",
       "23 2020-12-17 10:33:00 2020-12-17 17:59:30\n",
       "22 2020-12-18 11:39:00 2020-12-18 18:29:30\n",
       "21 2020-12-19 11:19:00 2020-12-19 21:28:30\n",
       "20 2020-12-20 11:48:00 2020-12-20 16:01:30\n",
       "19 2020-12-21 01:29:30 2020-12-21 05:41:30\n",
       "18 2020-12-21 15:59:30 2020-12-21 22:57:30\n",
       "17 2020-12-22 11:07:30 2020-12-22 21:31:30\n",
       "5  2020-12-23 14:23:30 2020-12-24 00:00:00\n",
       "16 2020-12-24 00:00:00 2020-12-24 00:17:30\n",
       "15 2020-12-24 11:28:00 2020-12-24 18:00:30\n",
       "6  2020-12-25 20:46:30 2020-12-26 00:00:00\n",
       "14 2020-12-26 00:00:00 2020-12-26 06:41:30\n",
       "13 2020-12-26 12:44:30 2020-12-26 18:29:30\n",
       "12 2020-12-27 11:35:00 2020-12-27 20:13:30\n",
       "11 2020-12-28 10:51:00 2020-12-28 18:29:30\n",
       "7  2020-12-29 16:19:30 2020-12-30 00:00:00\n",
       "10 2020-12-30 00:00:00 2020-12-30 02:30:30\n",
       "9  2020-12-31 09:24:00 2020-12-31 18:09:00\n",
       "8  2021-01-01 12:43:00 2021-01-01 18:30:30"
      ]
     },
     "execution_count": 932,
     "metadata": {},
     "output_type": "execute_result"
    }
   ],
   "source": [
    "l = []\n",
    "for edge in edges:\n",
    "    m = start_end_df.Start.lt(edge) & start_end_df.End.gt(edge)  # Rows to modify\n",
    "    l.append(start_end_df.loc[m].assign(End=edge))               # Clip end of modified rows\n",
    "    start_end_df.loc[m, 'Start'] = edge                          # Fix start for next edge\n",
    "\n",
    "    \n",
    "# https://pandas.pydata.org/pandas-docs/stable/reference/api/pandas.concat.html\n",
    "start_end_df = pd.concat(l+[start_end_df], ignore_index=True).sort_values('Start')\n",
    "start_end_df"
   ]
  },
  {
   "cell_type": "code",
   "execution_count": 933,
   "metadata": {},
   "outputs": [
    {
     "data": {
      "text/html": [
       "<div>\n",
       "<style scoped>\n",
       "    .dataframe tbody tr th:only-of-type {\n",
       "        vertical-align: middle;\n",
       "    }\n",
       "\n",
       "    .dataframe tbody tr th {\n",
       "        vertical-align: top;\n",
       "    }\n",
       "\n",
       "    .dataframe thead th {\n",
       "        text-align: right;\n",
       "    }\n",
       "</style>\n",
       "<table border=\"1\" class=\"dataframe\">\n",
       "  <thead>\n",
       "    <tr style=\"text-align: right;\">\n",
       "      <th></th>\n",
       "      <th>Start</th>\n",
       "      <th>End</th>\n",
       "      <th>Day</th>\n",
       "    </tr>\n",
       "  </thead>\n",
       "  <tbody>\n",
       "    <tr>\n",
       "      <th>0</th>\n",
       "      <td>2020-11-30 09:40:00</td>\n",
       "      <td>2020-12-01 00:00:00</td>\n",
       "      <td>2020-11-30</td>\n",
       "    </tr>\n",
       "    <tr>\n",
       "      <th>40</th>\n",
       "      <td>2020-12-01 00:00:00</td>\n",
       "      <td>2020-12-01 01:31:30</td>\n",
       "      <td>2020-12-01</td>\n",
       "    </tr>\n",
       "    <tr>\n",
       "      <th>39</th>\n",
       "      <td>2020-12-01 13:58:00</td>\n",
       "      <td>2020-12-01 22:10:30</td>\n",
       "      <td>2020-12-01</td>\n",
       "    </tr>\n",
       "    <tr>\n",
       "      <th>1</th>\n",
       "      <td>2020-12-02 22:02:00</td>\n",
       "      <td>2020-12-03 00:00:00</td>\n",
       "      <td>2020-12-02</td>\n",
       "    </tr>\n",
       "    <tr>\n",
       "      <th>38</th>\n",
       "      <td>2020-12-03 00:00:00</td>\n",
       "      <td>2020-12-03 08:01:00</td>\n",
       "      <td>2020-12-03</td>\n",
       "    </tr>\n",
       "    <tr>\n",
       "      <th>2</th>\n",
       "      <td>2020-12-03 15:24:00</td>\n",
       "      <td>2020-12-04 00:00:00</td>\n",
       "      <td>2020-12-03</td>\n",
       "    </tr>\n",
       "    <tr>\n",
       "      <th>37</th>\n",
       "      <td>2020-12-04 00:00:00</td>\n",
       "      <td>2020-12-04 04:44:00</td>\n",
       "      <td>2020-12-04</td>\n",
       "    </tr>\n",
       "    <tr>\n",
       "      <th>36</th>\n",
       "      <td>2020-12-04 12:13:00</td>\n",
       "      <td>2020-12-04 17:59:30</td>\n",
       "      <td>2020-12-04</td>\n",
       "    </tr>\n",
       "    <tr>\n",
       "      <th>35</th>\n",
       "      <td>2020-12-05 11:12:00</td>\n",
       "      <td>2020-12-05 15:13:30</td>\n",
       "      <td>2020-12-05</td>\n",
       "    </tr>\n",
       "    <tr>\n",
       "      <th>34</th>\n",
       "      <td>2020-12-06 10:13:00</td>\n",
       "      <td>2020-12-06 15:10:30</td>\n",
       "      <td>2020-12-06</td>\n",
       "    </tr>\n",
       "    <tr>\n",
       "      <th>33</th>\n",
       "      <td>2020-12-07 00:20:00</td>\n",
       "      <td>2020-12-07 06:26:30</td>\n",
       "      <td>2020-12-07</td>\n",
       "    </tr>\n",
       "    <tr>\n",
       "      <th>3</th>\n",
       "      <td>2020-12-07 23:49:00</td>\n",
       "      <td>2020-12-08 00:00:00</td>\n",
       "      <td>2020-12-07</td>\n",
       "    </tr>\n",
       "    <tr>\n",
       "      <th>32</th>\n",
       "      <td>2020-12-08 00:00:00</td>\n",
       "      <td>2020-12-08 12:42:30</td>\n",
       "      <td>2020-12-08</td>\n",
       "    </tr>\n",
       "    <tr>\n",
       "      <th>31</th>\n",
       "      <td>2020-12-09 11:06:00</td>\n",
       "      <td>2020-12-09 18:25:30</td>\n",
       "      <td>2020-12-09</td>\n",
       "    </tr>\n",
       "    <tr>\n",
       "      <th>30</th>\n",
       "      <td>2020-12-10 12:08:30</td>\n",
       "      <td>2020-12-10 17:25:30</td>\n",
       "      <td>2020-12-10</td>\n",
       "    </tr>\n",
       "    <tr>\n",
       "      <th>29</th>\n",
       "      <td>2020-12-11 11:08:00</td>\n",
       "      <td>2020-12-11 19:44:30</td>\n",
       "      <td>2020-12-11</td>\n",
       "    </tr>\n",
       "    <tr>\n",
       "      <th>28</th>\n",
       "      <td>2020-12-12 07:01:00</td>\n",
       "      <td>2020-12-12 10:44:30</td>\n",
       "      <td>2020-12-12</td>\n",
       "    </tr>\n",
       "    <tr>\n",
       "      <th>4</th>\n",
       "      <td>2020-12-12 22:39:00</td>\n",
       "      <td>2020-12-13 00:00:00</td>\n",
       "      <td>2020-12-12</td>\n",
       "    </tr>\n",
       "    <tr>\n",
       "      <th>27</th>\n",
       "      <td>2020-12-13 00:00:00</td>\n",
       "      <td>2020-12-13 10:53:30</td>\n",
       "      <td>2020-12-13</td>\n",
       "    </tr>\n",
       "    <tr>\n",
       "      <th>26</th>\n",
       "      <td>2020-12-14 04:00:30</td>\n",
       "      <td>2020-12-14 15:38:30</td>\n",
       "      <td>2020-12-14</td>\n",
       "    </tr>\n",
       "    <tr>\n",
       "      <th>25</th>\n",
       "      <td>2020-12-15 08:14:00</td>\n",
       "      <td>2020-12-15 14:24:30</td>\n",
       "      <td>2020-12-15</td>\n",
       "    </tr>\n",
       "    <tr>\n",
       "      <th>24</th>\n",
       "      <td>2020-12-16 09:36:30</td>\n",
       "      <td>2020-12-16 17:59:30</td>\n",
       "      <td>2020-12-16</td>\n",
       "    </tr>\n",
       "    <tr>\n",
       "      <th>23</th>\n",
       "      <td>2020-12-17 10:33:00</td>\n",
       "      <td>2020-12-17 17:59:30</td>\n",
       "      <td>2020-12-17</td>\n",
       "    </tr>\n",
       "    <tr>\n",
       "      <th>22</th>\n",
       "      <td>2020-12-18 11:39:00</td>\n",
       "      <td>2020-12-18 18:29:30</td>\n",
       "      <td>2020-12-18</td>\n",
       "    </tr>\n",
       "    <tr>\n",
       "      <th>21</th>\n",
       "      <td>2020-12-19 11:19:00</td>\n",
       "      <td>2020-12-19 21:28:30</td>\n",
       "      <td>2020-12-19</td>\n",
       "    </tr>\n",
       "    <tr>\n",
       "      <th>20</th>\n",
       "      <td>2020-12-20 11:48:00</td>\n",
       "      <td>2020-12-20 16:01:30</td>\n",
       "      <td>2020-12-20</td>\n",
       "    </tr>\n",
       "    <tr>\n",
       "      <th>19</th>\n",
       "      <td>2020-12-21 01:29:30</td>\n",
       "      <td>2020-12-21 05:41:30</td>\n",
       "      <td>2020-12-21</td>\n",
       "    </tr>\n",
       "    <tr>\n",
       "      <th>18</th>\n",
       "      <td>2020-12-21 15:59:30</td>\n",
       "      <td>2020-12-21 22:57:30</td>\n",
       "      <td>2020-12-21</td>\n",
       "    </tr>\n",
       "    <tr>\n",
       "      <th>17</th>\n",
       "      <td>2020-12-22 11:07:30</td>\n",
       "      <td>2020-12-22 21:31:30</td>\n",
       "      <td>2020-12-22</td>\n",
       "    </tr>\n",
       "    <tr>\n",
       "      <th>5</th>\n",
       "      <td>2020-12-23 14:23:30</td>\n",
       "      <td>2020-12-24 00:00:00</td>\n",
       "      <td>2020-12-23</td>\n",
       "    </tr>\n",
       "    <tr>\n",
       "      <th>16</th>\n",
       "      <td>2020-12-24 00:00:00</td>\n",
       "      <td>2020-12-24 00:17:30</td>\n",
       "      <td>2020-12-24</td>\n",
       "    </tr>\n",
       "    <tr>\n",
       "      <th>15</th>\n",
       "      <td>2020-12-24 11:28:00</td>\n",
       "      <td>2020-12-24 18:00:30</td>\n",
       "      <td>2020-12-24</td>\n",
       "    </tr>\n",
       "    <tr>\n",
       "      <th>6</th>\n",
       "      <td>2020-12-25 20:46:30</td>\n",
       "      <td>2020-12-26 00:00:00</td>\n",
       "      <td>2020-12-25</td>\n",
       "    </tr>\n",
       "    <tr>\n",
       "      <th>14</th>\n",
       "      <td>2020-12-26 00:00:00</td>\n",
       "      <td>2020-12-26 06:41:30</td>\n",
       "      <td>2020-12-26</td>\n",
       "    </tr>\n",
       "    <tr>\n",
       "      <th>13</th>\n",
       "      <td>2020-12-26 12:44:30</td>\n",
       "      <td>2020-12-26 18:29:30</td>\n",
       "      <td>2020-12-26</td>\n",
       "    </tr>\n",
       "    <tr>\n",
       "      <th>12</th>\n",
       "      <td>2020-12-27 11:35:00</td>\n",
       "      <td>2020-12-27 20:13:30</td>\n",
       "      <td>2020-12-27</td>\n",
       "    </tr>\n",
       "    <tr>\n",
       "      <th>11</th>\n",
       "      <td>2020-12-28 10:51:00</td>\n",
       "      <td>2020-12-28 18:29:30</td>\n",
       "      <td>2020-12-28</td>\n",
       "    </tr>\n",
       "    <tr>\n",
       "      <th>7</th>\n",
       "      <td>2020-12-29 16:19:30</td>\n",
       "      <td>2020-12-30 00:00:00</td>\n",
       "      <td>2020-12-29</td>\n",
       "    </tr>\n",
       "    <tr>\n",
       "      <th>10</th>\n",
       "      <td>2020-12-30 00:00:00</td>\n",
       "      <td>2020-12-30 02:30:30</td>\n",
       "      <td>2020-12-30</td>\n",
       "    </tr>\n",
       "    <tr>\n",
       "      <th>9</th>\n",
       "      <td>2020-12-31 09:24:00</td>\n",
       "      <td>2020-12-31 18:09:00</td>\n",
       "      <td>2020-12-31</td>\n",
       "    </tr>\n",
       "    <tr>\n",
       "      <th>8</th>\n",
       "      <td>2021-01-01 12:43:00</td>\n",
       "      <td>2021-01-01 18:30:30</td>\n",
       "      <td>2021-01-01</td>\n",
       "    </tr>\n",
       "  </tbody>\n",
       "</table>\n",
       "</div>"
      ],
      "text/plain": [
       "                 Start                 End         Day\n",
       "0  2020-11-30 09:40:00 2020-12-01 00:00:00  2020-11-30\n",
       "40 2020-12-01 00:00:00 2020-12-01 01:31:30  2020-12-01\n",
       "39 2020-12-01 13:58:00 2020-12-01 22:10:30  2020-12-01\n",
       "1  2020-12-02 22:02:00 2020-12-03 00:00:00  2020-12-02\n",
       "38 2020-12-03 00:00:00 2020-12-03 08:01:00  2020-12-03\n",
       "2  2020-12-03 15:24:00 2020-12-04 00:00:00  2020-12-03\n",
       "37 2020-12-04 00:00:00 2020-12-04 04:44:00  2020-12-04\n",
       "36 2020-12-04 12:13:00 2020-12-04 17:59:30  2020-12-04\n",
       "35 2020-12-05 11:12:00 2020-12-05 15:13:30  2020-12-05\n",
       "34 2020-12-06 10:13:00 2020-12-06 15:10:30  2020-12-06\n",
       "33 2020-12-07 00:20:00 2020-12-07 06:26:30  2020-12-07\n",
       "3  2020-12-07 23:49:00 2020-12-08 00:00:00  2020-12-07\n",
       "32 2020-12-08 00:00:00 2020-12-08 12:42:30  2020-12-08\n",
       "31 2020-12-09 11:06:00 2020-12-09 18:25:30  2020-12-09\n",
       "30 2020-12-10 12:08:30 2020-12-10 17:25:30  2020-12-10\n",
       "29 2020-12-11 11:08:00 2020-12-11 19:44:30  2020-12-11\n",
       "28 2020-12-12 07:01:00 2020-12-12 10:44:30  2020-12-12\n",
       "4  2020-12-12 22:39:00 2020-12-13 00:00:00  2020-12-12\n",
       "27 2020-12-13 00:00:00 2020-12-13 10:53:30  2020-12-13\n",
       "26 2020-12-14 04:00:30 2020-12-14 15:38:30  2020-12-14\n",
       "25 2020-12-15 08:14:00 2020-12-15 14:24:30  2020-12-15\n",
       "24 2020-12-16 09:36:30 2020-12-16 17:59:30  2020-12-16\n",
       "23 2020-12-17 10:33:00 2020-12-17 17:59:30  2020-12-17\n",
       "22 2020-12-18 11:39:00 2020-12-18 18:29:30  2020-12-18\n",
       "21 2020-12-19 11:19:00 2020-12-19 21:28:30  2020-12-19\n",
       "20 2020-12-20 11:48:00 2020-12-20 16:01:30  2020-12-20\n",
       "19 2020-12-21 01:29:30 2020-12-21 05:41:30  2020-12-21\n",
       "18 2020-12-21 15:59:30 2020-12-21 22:57:30  2020-12-21\n",
       "17 2020-12-22 11:07:30 2020-12-22 21:31:30  2020-12-22\n",
       "5  2020-12-23 14:23:30 2020-12-24 00:00:00  2020-12-23\n",
       "16 2020-12-24 00:00:00 2020-12-24 00:17:30  2020-12-24\n",
       "15 2020-12-24 11:28:00 2020-12-24 18:00:30  2020-12-24\n",
       "6  2020-12-25 20:46:30 2020-12-26 00:00:00  2020-12-25\n",
       "14 2020-12-26 00:00:00 2020-12-26 06:41:30  2020-12-26\n",
       "13 2020-12-26 12:44:30 2020-12-26 18:29:30  2020-12-26\n",
       "12 2020-12-27 11:35:00 2020-12-27 20:13:30  2020-12-27\n",
       "11 2020-12-28 10:51:00 2020-12-28 18:29:30  2020-12-28\n",
       "7  2020-12-29 16:19:30 2020-12-30 00:00:00  2020-12-29\n",
       "10 2020-12-30 00:00:00 2020-12-30 02:30:30  2020-12-30\n",
       "9  2020-12-31 09:24:00 2020-12-31 18:09:00  2020-12-31\n",
       "8  2021-01-01 12:43:00 2021-01-01 18:30:30  2021-01-01"
      ]
     },
     "execution_count": 933,
     "metadata": {},
     "output_type": "execute_result"
    }
   ],
   "source": [
    "start_end_df['Day'] = start_end_df['Start'].dt.date\n",
    "start_end_df"
   ]
  },
  {
   "cell_type": "code",
   "execution_count": 934,
   "metadata": {},
   "outputs": [
    {
     "data": {
      "text/html": [
       "<div>\n",
       "<style scoped>\n",
       "    .dataframe tbody tr th:only-of-type {\n",
       "        vertical-align: middle;\n",
       "    }\n",
       "\n",
       "    .dataframe tbody tr th {\n",
       "        vertical-align: top;\n",
       "    }\n",
       "\n",
       "    .dataframe thead th {\n",
       "        text-align: right;\n",
       "    }\n",
       "</style>\n",
       "<table border=\"1\" class=\"dataframe\">\n",
       "  <thead>\n",
       "    <tr style=\"text-align: right;\">\n",
       "      <th></th>\n",
       "      <th>Start</th>\n",
       "      <th>End</th>\n",
       "      <th>Day</th>\n",
       "    </tr>\n",
       "  </thead>\n",
       "  <tbody>\n",
       "    <tr>\n",
       "      <th>0</th>\n",
       "      <td>1970-01-01 09:40:00</td>\n",
       "      <td>1970-01-01 00:00:00</td>\n",
       "      <td>2020-11-30</td>\n",
       "    </tr>\n",
       "    <tr>\n",
       "      <th>40</th>\n",
       "      <td>1970-01-01 00:00:00</td>\n",
       "      <td>1970-01-01 01:31:30</td>\n",
       "      <td>2020-12-01</td>\n",
       "    </tr>\n",
       "    <tr>\n",
       "      <th>39</th>\n",
       "      <td>1970-01-01 13:58:00</td>\n",
       "      <td>1970-01-01 22:10:30</td>\n",
       "      <td>2020-12-01</td>\n",
       "    </tr>\n",
       "    <tr>\n",
       "      <th>1</th>\n",
       "      <td>1970-01-01 22:02:00</td>\n",
       "      <td>1970-01-01 00:00:00</td>\n",
       "      <td>2020-12-02</td>\n",
       "    </tr>\n",
       "    <tr>\n",
       "      <th>38</th>\n",
       "      <td>1970-01-01 00:00:00</td>\n",
       "      <td>1970-01-01 08:01:00</td>\n",
       "      <td>2020-12-03</td>\n",
       "    </tr>\n",
       "    <tr>\n",
       "      <th>2</th>\n",
       "      <td>1970-01-01 15:24:00</td>\n",
       "      <td>1970-01-01 00:00:00</td>\n",
       "      <td>2020-12-03</td>\n",
       "    </tr>\n",
       "    <tr>\n",
       "      <th>37</th>\n",
       "      <td>1970-01-01 00:00:00</td>\n",
       "      <td>1970-01-01 04:44:00</td>\n",
       "      <td>2020-12-04</td>\n",
       "    </tr>\n",
       "    <tr>\n",
       "      <th>36</th>\n",
       "      <td>1970-01-01 12:13:00</td>\n",
       "      <td>1970-01-01 17:59:30</td>\n",
       "      <td>2020-12-04</td>\n",
       "    </tr>\n",
       "    <tr>\n",
       "      <th>35</th>\n",
       "      <td>1970-01-01 11:12:00</td>\n",
       "      <td>1970-01-01 15:13:30</td>\n",
       "      <td>2020-12-05</td>\n",
       "    </tr>\n",
       "    <tr>\n",
       "      <th>34</th>\n",
       "      <td>1970-01-01 10:13:00</td>\n",
       "      <td>1970-01-01 15:10:30</td>\n",
       "      <td>2020-12-06</td>\n",
       "    </tr>\n",
       "    <tr>\n",
       "      <th>33</th>\n",
       "      <td>1970-01-01 00:20:00</td>\n",
       "      <td>1970-01-01 06:26:30</td>\n",
       "      <td>2020-12-07</td>\n",
       "    </tr>\n",
       "    <tr>\n",
       "      <th>3</th>\n",
       "      <td>1970-01-01 23:49:00</td>\n",
       "      <td>1970-01-01 00:00:00</td>\n",
       "      <td>2020-12-07</td>\n",
       "    </tr>\n",
       "    <tr>\n",
       "      <th>32</th>\n",
       "      <td>1970-01-01 00:00:00</td>\n",
       "      <td>1970-01-01 12:42:30</td>\n",
       "      <td>2020-12-08</td>\n",
       "    </tr>\n",
       "    <tr>\n",
       "      <th>31</th>\n",
       "      <td>1970-01-01 11:06:00</td>\n",
       "      <td>1970-01-01 18:25:30</td>\n",
       "      <td>2020-12-09</td>\n",
       "    </tr>\n",
       "    <tr>\n",
       "      <th>30</th>\n",
       "      <td>1970-01-01 12:08:30</td>\n",
       "      <td>1970-01-01 17:25:30</td>\n",
       "      <td>2020-12-10</td>\n",
       "    </tr>\n",
       "    <tr>\n",
       "      <th>29</th>\n",
       "      <td>1970-01-01 11:08:00</td>\n",
       "      <td>1970-01-01 19:44:30</td>\n",
       "      <td>2020-12-11</td>\n",
       "    </tr>\n",
       "    <tr>\n",
       "      <th>28</th>\n",
       "      <td>1970-01-01 07:01:00</td>\n",
       "      <td>1970-01-01 10:44:30</td>\n",
       "      <td>2020-12-12</td>\n",
       "    </tr>\n",
       "    <tr>\n",
       "      <th>4</th>\n",
       "      <td>1970-01-01 22:39:00</td>\n",
       "      <td>1970-01-01 00:00:00</td>\n",
       "      <td>2020-12-12</td>\n",
       "    </tr>\n",
       "    <tr>\n",
       "      <th>27</th>\n",
       "      <td>1970-01-01 00:00:00</td>\n",
       "      <td>1970-01-01 10:53:30</td>\n",
       "      <td>2020-12-13</td>\n",
       "    </tr>\n",
       "    <tr>\n",
       "      <th>26</th>\n",
       "      <td>1970-01-01 04:00:30</td>\n",
       "      <td>1970-01-01 15:38:30</td>\n",
       "      <td>2020-12-14</td>\n",
       "    </tr>\n",
       "    <tr>\n",
       "      <th>25</th>\n",
       "      <td>1970-01-01 08:14:00</td>\n",
       "      <td>1970-01-01 14:24:30</td>\n",
       "      <td>2020-12-15</td>\n",
       "    </tr>\n",
       "    <tr>\n",
       "      <th>24</th>\n",
       "      <td>1970-01-01 09:36:30</td>\n",
       "      <td>1970-01-01 17:59:30</td>\n",
       "      <td>2020-12-16</td>\n",
       "    </tr>\n",
       "    <tr>\n",
       "      <th>23</th>\n",
       "      <td>1970-01-01 10:33:00</td>\n",
       "      <td>1970-01-01 17:59:30</td>\n",
       "      <td>2020-12-17</td>\n",
       "    </tr>\n",
       "    <tr>\n",
       "      <th>22</th>\n",
       "      <td>1970-01-01 11:39:00</td>\n",
       "      <td>1970-01-01 18:29:30</td>\n",
       "      <td>2020-12-18</td>\n",
       "    </tr>\n",
       "    <tr>\n",
       "      <th>21</th>\n",
       "      <td>1970-01-01 11:19:00</td>\n",
       "      <td>1970-01-01 21:28:30</td>\n",
       "      <td>2020-12-19</td>\n",
       "    </tr>\n",
       "    <tr>\n",
       "      <th>20</th>\n",
       "      <td>1970-01-01 11:48:00</td>\n",
       "      <td>1970-01-01 16:01:30</td>\n",
       "      <td>2020-12-20</td>\n",
       "    </tr>\n",
       "    <tr>\n",
       "      <th>19</th>\n",
       "      <td>1970-01-01 01:29:30</td>\n",
       "      <td>1970-01-01 05:41:30</td>\n",
       "      <td>2020-12-21</td>\n",
       "    </tr>\n",
       "    <tr>\n",
       "      <th>18</th>\n",
       "      <td>1970-01-01 15:59:30</td>\n",
       "      <td>1970-01-01 22:57:30</td>\n",
       "      <td>2020-12-21</td>\n",
       "    </tr>\n",
       "    <tr>\n",
       "      <th>17</th>\n",
       "      <td>1970-01-01 11:07:30</td>\n",
       "      <td>1970-01-01 21:31:30</td>\n",
       "      <td>2020-12-22</td>\n",
       "    </tr>\n",
       "    <tr>\n",
       "      <th>5</th>\n",
       "      <td>1970-01-01 14:23:30</td>\n",
       "      <td>1970-01-01 00:00:00</td>\n",
       "      <td>2020-12-23</td>\n",
       "    </tr>\n",
       "    <tr>\n",
       "      <th>16</th>\n",
       "      <td>1970-01-01 00:00:00</td>\n",
       "      <td>1970-01-01 00:17:30</td>\n",
       "      <td>2020-12-24</td>\n",
       "    </tr>\n",
       "    <tr>\n",
       "      <th>15</th>\n",
       "      <td>1970-01-01 11:28:00</td>\n",
       "      <td>1970-01-01 18:00:30</td>\n",
       "      <td>2020-12-24</td>\n",
       "    </tr>\n",
       "    <tr>\n",
       "      <th>6</th>\n",
       "      <td>1970-01-01 20:46:30</td>\n",
       "      <td>1970-01-01 00:00:00</td>\n",
       "      <td>2020-12-25</td>\n",
       "    </tr>\n",
       "    <tr>\n",
       "      <th>14</th>\n",
       "      <td>1970-01-01 00:00:00</td>\n",
       "      <td>1970-01-01 06:41:30</td>\n",
       "      <td>2020-12-26</td>\n",
       "    </tr>\n",
       "    <tr>\n",
       "      <th>13</th>\n",
       "      <td>1970-01-01 12:44:30</td>\n",
       "      <td>1970-01-01 18:29:30</td>\n",
       "      <td>2020-12-26</td>\n",
       "    </tr>\n",
       "    <tr>\n",
       "      <th>12</th>\n",
       "      <td>1970-01-01 11:35:00</td>\n",
       "      <td>1970-01-01 20:13:30</td>\n",
       "      <td>2020-12-27</td>\n",
       "    </tr>\n",
       "    <tr>\n",
       "      <th>11</th>\n",
       "      <td>1970-01-01 10:51:00</td>\n",
       "      <td>1970-01-01 18:29:30</td>\n",
       "      <td>2020-12-28</td>\n",
       "    </tr>\n",
       "    <tr>\n",
       "      <th>7</th>\n",
       "      <td>1970-01-01 16:19:30</td>\n",
       "      <td>1970-01-01 00:00:00</td>\n",
       "      <td>2020-12-29</td>\n",
       "    </tr>\n",
       "    <tr>\n",
       "      <th>10</th>\n",
       "      <td>1970-01-01 00:00:00</td>\n",
       "      <td>1970-01-01 02:30:30</td>\n",
       "      <td>2020-12-30</td>\n",
       "    </tr>\n",
       "    <tr>\n",
       "      <th>9</th>\n",
       "      <td>1970-01-01 09:24:00</td>\n",
       "      <td>1970-01-01 18:09:00</td>\n",
       "      <td>2020-12-31</td>\n",
       "    </tr>\n",
       "    <tr>\n",
       "      <th>8</th>\n",
       "      <td>1970-01-01 12:43:00</td>\n",
       "      <td>1970-01-01 18:30:30</td>\n",
       "      <td>2021-01-01</td>\n",
       "    </tr>\n",
       "  </tbody>\n",
       "</table>\n",
       "</div>"
      ],
      "text/plain": [
       "                 Start                 End         Day\n",
       "0  1970-01-01 09:40:00 1970-01-01 00:00:00  2020-11-30\n",
       "40 1970-01-01 00:00:00 1970-01-01 01:31:30  2020-12-01\n",
       "39 1970-01-01 13:58:00 1970-01-01 22:10:30  2020-12-01\n",
       "1  1970-01-01 22:02:00 1970-01-01 00:00:00  2020-12-02\n",
       "38 1970-01-01 00:00:00 1970-01-01 08:01:00  2020-12-03\n",
       "2  1970-01-01 15:24:00 1970-01-01 00:00:00  2020-12-03\n",
       "37 1970-01-01 00:00:00 1970-01-01 04:44:00  2020-12-04\n",
       "36 1970-01-01 12:13:00 1970-01-01 17:59:30  2020-12-04\n",
       "35 1970-01-01 11:12:00 1970-01-01 15:13:30  2020-12-05\n",
       "34 1970-01-01 10:13:00 1970-01-01 15:10:30  2020-12-06\n",
       "33 1970-01-01 00:20:00 1970-01-01 06:26:30  2020-12-07\n",
       "3  1970-01-01 23:49:00 1970-01-01 00:00:00  2020-12-07\n",
       "32 1970-01-01 00:00:00 1970-01-01 12:42:30  2020-12-08\n",
       "31 1970-01-01 11:06:00 1970-01-01 18:25:30  2020-12-09\n",
       "30 1970-01-01 12:08:30 1970-01-01 17:25:30  2020-12-10\n",
       "29 1970-01-01 11:08:00 1970-01-01 19:44:30  2020-12-11\n",
       "28 1970-01-01 07:01:00 1970-01-01 10:44:30  2020-12-12\n",
       "4  1970-01-01 22:39:00 1970-01-01 00:00:00  2020-12-12\n",
       "27 1970-01-01 00:00:00 1970-01-01 10:53:30  2020-12-13\n",
       "26 1970-01-01 04:00:30 1970-01-01 15:38:30  2020-12-14\n",
       "25 1970-01-01 08:14:00 1970-01-01 14:24:30  2020-12-15\n",
       "24 1970-01-01 09:36:30 1970-01-01 17:59:30  2020-12-16\n",
       "23 1970-01-01 10:33:00 1970-01-01 17:59:30  2020-12-17\n",
       "22 1970-01-01 11:39:00 1970-01-01 18:29:30  2020-12-18\n",
       "21 1970-01-01 11:19:00 1970-01-01 21:28:30  2020-12-19\n",
       "20 1970-01-01 11:48:00 1970-01-01 16:01:30  2020-12-20\n",
       "19 1970-01-01 01:29:30 1970-01-01 05:41:30  2020-12-21\n",
       "18 1970-01-01 15:59:30 1970-01-01 22:57:30  2020-12-21\n",
       "17 1970-01-01 11:07:30 1970-01-01 21:31:30  2020-12-22\n",
       "5  1970-01-01 14:23:30 1970-01-01 00:00:00  2020-12-23\n",
       "16 1970-01-01 00:00:00 1970-01-01 00:17:30  2020-12-24\n",
       "15 1970-01-01 11:28:00 1970-01-01 18:00:30  2020-12-24\n",
       "6  1970-01-01 20:46:30 1970-01-01 00:00:00  2020-12-25\n",
       "14 1970-01-01 00:00:00 1970-01-01 06:41:30  2020-12-26\n",
       "13 1970-01-01 12:44:30 1970-01-01 18:29:30  2020-12-26\n",
       "12 1970-01-01 11:35:00 1970-01-01 20:13:30  2020-12-27\n",
       "11 1970-01-01 10:51:00 1970-01-01 18:29:30  2020-12-28\n",
       "7  1970-01-01 16:19:30 1970-01-01 00:00:00  2020-12-29\n",
       "10 1970-01-01 00:00:00 1970-01-01 02:30:30  2020-12-30\n",
       "9  1970-01-01 09:24:00 1970-01-01 18:09:00  2020-12-31\n",
       "8  1970-01-01 12:43:00 1970-01-01 18:30:30  2021-01-01"
      ]
     },
     "execution_count": 934,
     "metadata": {},
     "output_type": "execute_result"
    }
   ],
   "source": [
    "# https://stackoverflow.com/questions/28888730/pandas-change-day\n",
    "# https://stackoverflow.com/questions/26882499/reset-time-part-of-a-pandas-timestamp\n",
    "# https://pandas.pydata.org/docs/reference/api/pandas.Timestamp.replace.html\n",
    "\n",
    "# https://stackoverflow.com/questions/100210/what-is-the-standard-way-to-add-n-seconds-to-datetime-time-in-python/100345\n",
    "\n",
    "start_end_df['Start'] = pd.to_datetime(start_end_df.Start)\n",
    "start_end_df[\"Start\"] = start_end_df[\"Start\"].apply(lambda x: x.replace(year=1970, month=1, day=1))\n",
    "start_end_df['Start'] = pd.to_datetime(start_end_df.Start)\n",
    "\n",
    "start_end_df['End'] = pd.to_datetime(start_end_df.End)\n",
    "start_end_df[\"End\"] = start_end_df[\"End\"].apply(lambda x: x.replace(year=1970, month=1, day=1))\n",
    "start_end_df['End'] = pd.to_datetime(start_end_df.End)\n",
    "\n",
    "start_end_df"
   ]
  },
  {
   "cell_type": "code",
   "execution_count": 935,
   "metadata": {},
   "outputs": [],
   "source": [
    "from datetime import datetime, date, time, timedelta"
   ]
  },
  {
   "cell_type": "code",
   "execution_count": 936,
   "metadata": {},
   "outputs": [],
   "source": [
    "# to add a second (or whatever time amount) to an entire series\n",
    "\n",
    "# start_end_df.Start = start_end_df.Start.apply(lambda x: pd.to_datetime(x) v+ pd.Timedelta(seconds=1))"
   ]
  },
  {
   "cell_type": "code",
   "execution_count": 937,
   "metadata": {},
   "outputs": [],
   "source": [
    "# https://pandas.pydata.org/docs/reference/api/pandas.DataFrame.mask.html\n",
    "\n",
    "m = datetime(year=1970, month=1, day=1, hour=0, minute=0, second=0)\n",
    "new = datetime(year=1970, month=1, day=1, hour=0, minute=0, second=1)\n",
    "\n",
    "start_end_df['Start'] = start_end_df['Start'].mask(start_end_df['Start'] == m, new)"
   ]
  },
  {
   "cell_type": "code",
   "execution_count": 938,
   "metadata": {},
   "outputs": [
    {
     "data": {
      "text/html": [
       "<div>\n",
       "<style scoped>\n",
       "    .dataframe tbody tr th:only-of-type {\n",
       "        vertical-align: middle;\n",
       "    }\n",
       "\n",
       "    .dataframe tbody tr th {\n",
       "        vertical-align: top;\n",
       "    }\n",
       "\n",
       "    .dataframe thead th {\n",
       "        text-align: right;\n",
       "    }\n",
       "</style>\n",
       "<table border=\"1\" class=\"dataframe\">\n",
       "  <thead>\n",
       "    <tr style=\"text-align: right;\">\n",
       "      <th></th>\n",
       "      <th>Start</th>\n",
       "      <th>End</th>\n",
       "      <th>Day</th>\n",
       "    </tr>\n",
       "  </thead>\n",
       "  <tbody>\n",
       "    <tr>\n",
       "      <th>0</th>\n",
       "      <td>1970-01-01 09:40:00</td>\n",
       "      <td>1970-01-01 23:59:59</td>\n",
       "      <td>2020-11-30</td>\n",
       "    </tr>\n",
       "    <tr>\n",
       "      <th>40</th>\n",
       "      <td>1970-01-01 00:00:01</td>\n",
       "      <td>1970-01-01 01:31:30</td>\n",
       "      <td>2020-12-01</td>\n",
       "    </tr>\n",
       "    <tr>\n",
       "      <th>39</th>\n",
       "      <td>1970-01-01 13:58:00</td>\n",
       "      <td>1970-01-01 22:10:30</td>\n",
       "      <td>2020-12-01</td>\n",
       "    </tr>\n",
       "    <tr>\n",
       "      <th>1</th>\n",
       "      <td>1970-01-01 22:02:00</td>\n",
       "      <td>1970-01-01 23:59:59</td>\n",
       "      <td>2020-12-02</td>\n",
       "    </tr>\n",
       "    <tr>\n",
       "      <th>38</th>\n",
       "      <td>1970-01-01 00:00:01</td>\n",
       "      <td>1970-01-01 08:01:00</td>\n",
       "      <td>2020-12-03</td>\n",
       "    </tr>\n",
       "    <tr>\n",
       "      <th>2</th>\n",
       "      <td>1970-01-01 15:24:00</td>\n",
       "      <td>1970-01-01 23:59:59</td>\n",
       "      <td>2020-12-03</td>\n",
       "    </tr>\n",
       "    <tr>\n",
       "      <th>37</th>\n",
       "      <td>1970-01-01 00:00:01</td>\n",
       "      <td>1970-01-01 04:44:00</td>\n",
       "      <td>2020-12-04</td>\n",
       "    </tr>\n",
       "    <tr>\n",
       "      <th>36</th>\n",
       "      <td>1970-01-01 12:13:00</td>\n",
       "      <td>1970-01-01 17:59:30</td>\n",
       "      <td>2020-12-04</td>\n",
       "    </tr>\n",
       "    <tr>\n",
       "      <th>35</th>\n",
       "      <td>1970-01-01 11:12:00</td>\n",
       "      <td>1970-01-01 15:13:30</td>\n",
       "      <td>2020-12-05</td>\n",
       "    </tr>\n",
       "    <tr>\n",
       "      <th>34</th>\n",
       "      <td>1970-01-01 10:13:00</td>\n",
       "      <td>1970-01-01 15:10:30</td>\n",
       "      <td>2020-12-06</td>\n",
       "    </tr>\n",
       "    <tr>\n",
       "      <th>33</th>\n",
       "      <td>1970-01-01 00:20:00</td>\n",
       "      <td>1970-01-01 06:26:30</td>\n",
       "      <td>2020-12-07</td>\n",
       "    </tr>\n",
       "    <tr>\n",
       "      <th>3</th>\n",
       "      <td>1970-01-01 23:49:00</td>\n",
       "      <td>1970-01-01 23:59:59</td>\n",
       "      <td>2020-12-07</td>\n",
       "    </tr>\n",
       "    <tr>\n",
       "      <th>32</th>\n",
       "      <td>1970-01-01 00:00:01</td>\n",
       "      <td>1970-01-01 12:42:30</td>\n",
       "      <td>2020-12-08</td>\n",
       "    </tr>\n",
       "    <tr>\n",
       "      <th>31</th>\n",
       "      <td>1970-01-01 11:06:00</td>\n",
       "      <td>1970-01-01 18:25:30</td>\n",
       "      <td>2020-12-09</td>\n",
       "    </tr>\n",
       "    <tr>\n",
       "      <th>30</th>\n",
       "      <td>1970-01-01 12:08:30</td>\n",
       "      <td>1970-01-01 17:25:30</td>\n",
       "      <td>2020-12-10</td>\n",
       "    </tr>\n",
       "    <tr>\n",
       "      <th>29</th>\n",
       "      <td>1970-01-01 11:08:00</td>\n",
       "      <td>1970-01-01 19:44:30</td>\n",
       "      <td>2020-12-11</td>\n",
       "    </tr>\n",
       "    <tr>\n",
       "      <th>28</th>\n",
       "      <td>1970-01-01 07:01:00</td>\n",
       "      <td>1970-01-01 10:44:30</td>\n",
       "      <td>2020-12-12</td>\n",
       "    </tr>\n",
       "    <tr>\n",
       "      <th>4</th>\n",
       "      <td>1970-01-01 22:39:00</td>\n",
       "      <td>1970-01-01 23:59:59</td>\n",
       "      <td>2020-12-12</td>\n",
       "    </tr>\n",
       "    <tr>\n",
       "      <th>27</th>\n",
       "      <td>1970-01-01 00:00:01</td>\n",
       "      <td>1970-01-01 10:53:30</td>\n",
       "      <td>2020-12-13</td>\n",
       "    </tr>\n",
       "    <tr>\n",
       "      <th>26</th>\n",
       "      <td>1970-01-01 04:00:30</td>\n",
       "      <td>1970-01-01 15:38:30</td>\n",
       "      <td>2020-12-14</td>\n",
       "    </tr>\n",
       "    <tr>\n",
       "      <th>25</th>\n",
       "      <td>1970-01-01 08:14:00</td>\n",
       "      <td>1970-01-01 14:24:30</td>\n",
       "      <td>2020-12-15</td>\n",
       "    </tr>\n",
       "    <tr>\n",
       "      <th>24</th>\n",
       "      <td>1970-01-01 09:36:30</td>\n",
       "      <td>1970-01-01 17:59:30</td>\n",
       "      <td>2020-12-16</td>\n",
       "    </tr>\n",
       "    <tr>\n",
       "      <th>23</th>\n",
       "      <td>1970-01-01 10:33:00</td>\n",
       "      <td>1970-01-01 17:59:30</td>\n",
       "      <td>2020-12-17</td>\n",
       "    </tr>\n",
       "    <tr>\n",
       "      <th>22</th>\n",
       "      <td>1970-01-01 11:39:00</td>\n",
       "      <td>1970-01-01 18:29:30</td>\n",
       "      <td>2020-12-18</td>\n",
       "    </tr>\n",
       "    <tr>\n",
       "      <th>21</th>\n",
       "      <td>1970-01-01 11:19:00</td>\n",
       "      <td>1970-01-01 21:28:30</td>\n",
       "      <td>2020-12-19</td>\n",
       "    </tr>\n",
       "    <tr>\n",
       "      <th>20</th>\n",
       "      <td>1970-01-01 11:48:00</td>\n",
       "      <td>1970-01-01 16:01:30</td>\n",
       "      <td>2020-12-20</td>\n",
       "    </tr>\n",
       "    <tr>\n",
       "      <th>19</th>\n",
       "      <td>1970-01-01 01:29:30</td>\n",
       "      <td>1970-01-01 05:41:30</td>\n",
       "      <td>2020-12-21</td>\n",
       "    </tr>\n",
       "    <tr>\n",
       "      <th>18</th>\n",
       "      <td>1970-01-01 15:59:30</td>\n",
       "      <td>1970-01-01 22:57:30</td>\n",
       "      <td>2020-12-21</td>\n",
       "    </tr>\n",
       "    <tr>\n",
       "      <th>17</th>\n",
       "      <td>1970-01-01 11:07:30</td>\n",
       "      <td>1970-01-01 21:31:30</td>\n",
       "      <td>2020-12-22</td>\n",
       "    </tr>\n",
       "    <tr>\n",
       "      <th>5</th>\n",
       "      <td>1970-01-01 14:23:30</td>\n",
       "      <td>1970-01-01 23:59:59</td>\n",
       "      <td>2020-12-23</td>\n",
       "    </tr>\n",
       "    <tr>\n",
       "      <th>16</th>\n",
       "      <td>1970-01-01 00:00:01</td>\n",
       "      <td>1970-01-01 00:17:30</td>\n",
       "      <td>2020-12-24</td>\n",
       "    </tr>\n",
       "    <tr>\n",
       "      <th>15</th>\n",
       "      <td>1970-01-01 11:28:00</td>\n",
       "      <td>1970-01-01 18:00:30</td>\n",
       "      <td>2020-12-24</td>\n",
       "    </tr>\n",
       "    <tr>\n",
       "      <th>6</th>\n",
       "      <td>1970-01-01 20:46:30</td>\n",
       "      <td>1970-01-01 23:59:59</td>\n",
       "      <td>2020-12-25</td>\n",
       "    </tr>\n",
       "    <tr>\n",
       "      <th>14</th>\n",
       "      <td>1970-01-01 00:00:01</td>\n",
       "      <td>1970-01-01 06:41:30</td>\n",
       "      <td>2020-12-26</td>\n",
       "    </tr>\n",
       "    <tr>\n",
       "      <th>13</th>\n",
       "      <td>1970-01-01 12:44:30</td>\n",
       "      <td>1970-01-01 18:29:30</td>\n",
       "      <td>2020-12-26</td>\n",
       "    </tr>\n",
       "    <tr>\n",
       "      <th>12</th>\n",
       "      <td>1970-01-01 11:35:00</td>\n",
       "      <td>1970-01-01 20:13:30</td>\n",
       "      <td>2020-12-27</td>\n",
       "    </tr>\n",
       "    <tr>\n",
       "      <th>11</th>\n",
       "      <td>1970-01-01 10:51:00</td>\n",
       "      <td>1970-01-01 18:29:30</td>\n",
       "      <td>2020-12-28</td>\n",
       "    </tr>\n",
       "    <tr>\n",
       "      <th>7</th>\n",
       "      <td>1970-01-01 16:19:30</td>\n",
       "      <td>1970-01-01 23:59:59</td>\n",
       "      <td>2020-12-29</td>\n",
       "    </tr>\n",
       "    <tr>\n",
       "      <th>10</th>\n",
       "      <td>1970-01-01 00:00:01</td>\n",
       "      <td>1970-01-01 02:30:30</td>\n",
       "      <td>2020-12-30</td>\n",
       "    </tr>\n",
       "    <tr>\n",
       "      <th>9</th>\n",
       "      <td>1970-01-01 09:24:00</td>\n",
       "      <td>1970-01-01 18:09:00</td>\n",
       "      <td>2020-12-31</td>\n",
       "    </tr>\n",
       "    <tr>\n",
       "      <th>8</th>\n",
       "      <td>1970-01-01 12:43:00</td>\n",
       "      <td>1970-01-01 18:30:30</td>\n",
       "      <td>2021-01-01</td>\n",
       "    </tr>\n",
       "  </tbody>\n",
       "</table>\n",
       "</div>"
      ],
      "text/plain": [
       "                 Start                 End         Day\n",
       "0  1970-01-01 09:40:00 1970-01-01 23:59:59  2020-11-30\n",
       "40 1970-01-01 00:00:01 1970-01-01 01:31:30  2020-12-01\n",
       "39 1970-01-01 13:58:00 1970-01-01 22:10:30  2020-12-01\n",
       "1  1970-01-01 22:02:00 1970-01-01 23:59:59  2020-12-02\n",
       "38 1970-01-01 00:00:01 1970-01-01 08:01:00  2020-12-03\n",
       "2  1970-01-01 15:24:00 1970-01-01 23:59:59  2020-12-03\n",
       "37 1970-01-01 00:00:01 1970-01-01 04:44:00  2020-12-04\n",
       "36 1970-01-01 12:13:00 1970-01-01 17:59:30  2020-12-04\n",
       "35 1970-01-01 11:12:00 1970-01-01 15:13:30  2020-12-05\n",
       "34 1970-01-01 10:13:00 1970-01-01 15:10:30  2020-12-06\n",
       "33 1970-01-01 00:20:00 1970-01-01 06:26:30  2020-12-07\n",
       "3  1970-01-01 23:49:00 1970-01-01 23:59:59  2020-12-07\n",
       "32 1970-01-01 00:00:01 1970-01-01 12:42:30  2020-12-08\n",
       "31 1970-01-01 11:06:00 1970-01-01 18:25:30  2020-12-09\n",
       "30 1970-01-01 12:08:30 1970-01-01 17:25:30  2020-12-10\n",
       "29 1970-01-01 11:08:00 1970-01-01 19:44:30  2020-12-11\n",
       "28 1970-01-01 07:01:00 1970-01-01 10:44:30  2020-12-12\n",
       "4  1970-01-01 22:39:00 1970-01-01 23:59:59  2020-12-12\n",
       "27 1970-01-01 00:00:01 1970-01-01 10:53:30  2020-12-13\n",
       "26 1970-01-01 04:00:30 1970-01-01 15:38:30  2020-12-14\n",
       "25 1970-01-01 08:14:00 1970-01-01 14:24:30  2020-12-15\n",
       "24 1970-01-01 09:36:30 1970-01-01 17:59:30  2020-12-16\n",
       "23 1970-01-01 10:33:00 1970-01-01 17:59:30  2020-12-17\n",
       "22 1970-01-01 11:39:00 1970-01-01 18:29:30  2020-12-18\n",
       "21 1970-01-01 11:19:00 1970-01-01 21:28:30  2020-12-19\n",
       "20 1970-01-01 11:48:00 1970-01-01 16:01:30  2020-12-20\n",
       "19 1970-01-01 01:29:30 1970-01-01 05:41:30  2020-12-21\n",
       "18 1970-01-01 15:59:30 1970-01-01 22:57:30  2020-12-21\n",
       "17 1970-01-01 11:07:30 1970-01-01 21:31:30  2020-12-22\n",
       "5  1970-01-01 14:23:30 1970-01-01 23:59:59  2020-12-23\n",
       "16 1970-01-01 00:00:01 1970-01-01 00:17:30  2020-12-24\n",
       "15 1970-01-01 11:28:00 1970-01-01 18:00:30  2020-12-24\n",
       "6  1970-01-01 20:46:30 1970-01-01 23:59:59  2020-12-25\n",
       "14 1970-01-01 00:00:01 1970-01-01 06:41:30  2020-12-26\n",
       "13 1970-01-01 12:44:30 1970-01-01 18:29:30  2020-12-26\n",
       "12 1970-01-01 11:35:00 1970-01-01 20:13:30  2020-12-27\n",
       "11 1970-01-01 10:51:00 1970-01-01 18:29:30  2020-12-28\n",
       "7  1970-01-01 16:19:30 1970-01-01 23:59:59  2020-12-29\n",
       "10 1970-01-01 00:00:01 1970-01-01 02:30:30  2020-12-30\n",
       "9  1970-01-01 09:24:00 1970-01-01 18:09:00  2020-12-31\n",
       "8  1970-01-01 12:43:00 1970-01-01 18:30:30  2021-01-01"
      ]
     },
     "execution_count": 938,
     "metadata": {},
     "output_type": "execute_result"
    }
   ],
   "source": [
    "m = datetime(year=1970, month=1, day=1, hour=0, minute=0, second=0)\n",
    "new = datetime(year=1970, month=1, day=1, hour=23, minute=59, second=59)\n",
    "\n",
    "start_end_df['End'] = start_end_df['End'].mask(start_end_df['End'] == m, new)\n",
    "start_end_df"
   ]
  },
  {
   "cell_type": "code",
   "execution_count": 939,
   "metadata": {},
   "outputs": [],
   "source": [
    "#https://stackoverflow.com/questions/50336251/split-dataframe-entries-at-midnight\n",
    "# splits = start_end_df[start_end_df.End.dt.date > start_end_df.Start.dt.date].copy()\n",
    "# splits"
   ]
  },
  {
   "cell_type": "code",
   "execution_count": 940,
   "metadata": {},
   "outputs": [],
   "source": [
    "# pd.concat([\n",
    "#     start_end_df,\n",
    "#     pd.DataFrame({\n",
    "#         'Start': list(splits.Start) + list(splits.End.dt.floor(freq='1D')),\n",
    "#         'End': list(splits.Start.dt.ceil(freq='1D')) + list(splits.End)})\n",
    "# ]).drop(splits.index).sort_values(by='Start')\n",
    "\n",
    "# start_end_df"
   ]
  },
  {
   "cell_type": "markdown",
   "metadata": {},
   "source": [
    "### Start of very inefficient dataframe generation"
   ]
  },
  {
   "cell_type": "code",
   "execution_count": 941,
   "metadata": {},
   "outputs": [],
   "source": [
    "# def create_dict(df):\n",
    "#     dictionary = []\n",
    "#     for row in df.index:\n",
    "#         start = str(f\"'{df.loc[row].at['Start']}'\")\n",
    "#         end = str(f\"'{df.loc[row].at['End']}'\")\n",
    "#         day = str(f\"'{df.loc[row].at['Day']}'\")\n",
    "#         #activity = str(f\"'{df.loc[row].at['Activity type']}'\")\n",
    "#         dictionary.append(f'dict(Start={start}, End={end}, Day={day}),')\n",
    "#     return dictionary"
   ]
  },
  {
   "cell_type": "code",
   "execution_count": 942,
   "metadata": {},
   "outputs": [],
   "source": [
    "# new_df = create_dict(start_end_df)\n",
    "# def new_dictionary(new_df):\n",
    "#     dictionary = []\n",
    "#     for row in new_df:\n",
    "#         dictionary = print(row)\n",
    "#     return dictionary"
   ]
  },
  {
   "cell_type": "code",
   "execution_count": 1,
   "metadata": {},
   "outputs": [],
   "source": [
    "# new_dictionary(new_df)"
   ]
  },
  {
   "cell_type": "code",
   "execution_count": 2,
   "metadata": {},
   "outputs": [],
   "source": [
    "# # https://pandas.pydata.org/pandas-docs/stable/user_guide/merging.html\n",
    "\n",
    "# df = pd.DataFrame([\n",
    "#     dict(Start='1970-01-01 23:00:00', End='1970-01-01 23:59:59', Day='2019-12-31'),\n",
    "# dict(Start='1970-01-01 00:00:01', End='1970-01-01 03:58:00', Day='2020-01-01'),\n",
    "# dict(Start='1970-01-01 20:40:00', End='1970-01-01 23:59:59', Day='2020-01-01'),\n",
    "# dict(Start='1970-01-01 00:00:01', End='1970-01-01 07:12:30', Day='2020-01-02'),\n",
    "# dict(Start='1970-01-01 15:47:00', End='1970-01-01 23:59:59', Day='2020-01-02'),\n",
    "# dict(Start='1970-01-01 00:00:01', End='1970-01-01 03:55:30', Day='2020-01-03'),\n",
    "# dict(Start='1970-01-01 12:55:00', End='1970-01-01 21:03:30', Day='2020-01-03'),\n",
    "# dict(Start='1970-01-01 09:40:30', End='1970-01-01 13:49:30', Day='2020-01-04'),\n",
    "# dict(Start='1970-01-01 10:00:30', End='1970-01-01 14:25:00', Day='2020-01-05'),\n",
    "# dict(Start='1970-01-01 01:35:00', End='1970-01-01 08:55:30', Day='2020-01-06'),\n",
    "# dict(Start='1970-01-01 19:44:00', End='1970-01-01 23:59:59', Day='2020-01-06'),\n",
    "# dict(Start='1970-01-01 00:00:01', End='1970-01-01 07:06:30', Day='2020-01-07'),\n",
    "# dict(Start='1970-01-01 05:23:00', End='1970-01-01 16:04:00', Day='2020-01-08'),\n",
    "# dict(Start='1970-01-01 11:16:00', End='1970-01-01 16:24:00', Day='2020-01-09'),\n",
    "# dict(Start='1970-01-01 10:00:00', End='1970-01-01 16:03:30', Day='2020-01-10'),\n",
    "# dict(Start='1970-01-01 02:48:00', End='1970-01-01 12:04:00', Day='2020-01-11'),\n",
    "# dict(Start='1970-01-01 00:46:00', End='1970-01-01 10:56:30', Day='2020-01-12'),\n",
    "# dict(Start='1970-01-01 07:32:00', End='1970-01-01 15:25:30', Day='2020-01-13'),\n",
    "# dict(Start='1970-01-01 09:22:30', End='1970-01-01 17:44:30', Day='2020-01-14'),\n",
    "# dict(Start='1970-01-01 10:05:30', End='1970-01-01 19:05:30', Day='2020-01-15'),\n",
    "# dict(Start='1970-01-01 07:43:00', End='1970-01-01 18:05:30', Day='2020-01-16'),\n",
    "# dict(Start='1970-01-01 11:12:00', End='1970-01-01 18:33:30', Day='2020-01-17'),\n",
    "# dict(Start='1970-01-01 09:44:00', End='1970-01-01 18:11:30', Day='2020-01-18'),\n",
    "# dict(Start='1970-01-01 07:12:00', End='1970-01-01 16:04:30', Day='2020-01-19'),\n",
    "# dict(Start='1970-01-01 09:18:30', End='1970-01-01 18:37:30', Day='2020-01-20'),\n",
    "# dict(Start='1970-01-01 02:18:30', End='1970-01-01 16:38:30', Day='2020-01-21'),\n",
    "# dict(Start='1970-01-01 12:17:30', End='1970-01-01 21:17:30', Day='2020-01-22'),\n",
    "# dict(Start='1970-01-01 11:50:30', End='1970-01-01 17:59:00', Day='2020-01-23'),\n",
    "# dict(Start='1970-01-01 20:08:00', End='1970-01-01 23:59:59', Day='2020-01-24'),\n",
    "# dict(Start='1970-01-01 00:00:01', End='1970-01-01 03:35:00', Day='2020-01-25'),\n",
    "# dict(Start='1970-01-01 21:44:00', End='1970-01-01 23:59:59', Day='2020-01-25'),\n",
    "# dict(Start='1970-01-01 00:00:01', End='1970-01-01 07:49:30', Day='2020-01-26'),\n",
    "# dict(Start='1970-01-01 14:07:00', End='1970-01-01 18:30:30', Day='2020-01-26'),\n",
    "# dict(Start='1970-01-01 10:24:30', End='1970-01-01 18:06:30', Day='2020-01-27'),\n",
    "# dict(Start='1970-01-01 10:18:00', End='1970-01-01 18:01:30', Day='2020-01-28'),\n",
    "# dict(Start='1970-01-01 12:59:00', End='1970-01-01 23:59:59', Day='2020-01-29'),\n",
    "# dict(Start='1970-01-01 00:00:01', End='1970-01-01 03:08:00', Day='2020-01-30'),\n",
    "# dict(Start='1970-01-01 20:55:00', End='1970-01-01 23:59:59', Day='2020-01-30'),\n",
    "# dict(Start='1970-01-01 00:00:01', End='1970-01-01 04:53:00', Day='2020-01-31'),\n",
    "# dict(Start='1970-01-01 11:24:00', End='1970-01-01 18:07:30', Day='2020-01-31'),\n",
    "# dict(Start='1970-01-01 11:40:00', End='1970-01-01 14:47:30', Day='2020-02-01'),\n",
    "# dict(Start='1970-01-01 09:06:00', End='1970-01-01 16:11:30', Day='2020-02-02'),\n",
    "# dict(Start='1970-01-01 11:44:00', End='1970-01-01 19:04:00', Day='2020-02-03'),\n",
    "# dict(Start='1970-01-01 01:55:00', End='1970-01-01 06:58:30', Day='2020-02-04'),\n",
    "# dict(Start='1970-01-01 22:52:00', End='1970-01-01 23:59:59', Day='2020-02-04'),\n",
    "# dict(Start='1970-01-01 00:00:01', End='1970-01-01 09:25:30', Day='2020-02-05'),\n",
    "# dict(Start='1970-01-01 01:18:00', End='1970-01-01 10:55:30', Day='2020-02-06'),\n",
    "# dict(Start='1970-01-01 01:31:00', End='1970-01-01 07:42:00', Day='2020-02-07'),\n",
    "# dict(Start='1970-01-01 12:04:00', End='1970-01-01 17:23:30', Day='2020-02-07'),\n",
    "# dict(Start='1970-01-01 10:56:00', End='1970-01-01 16:10:30', Day='2020-02-08'),\n",
    "# dict(Start='1970-01-01 02:54:00', End='1970-01-01 10:25:30', Day='2020-02-09'),\n",
    "# dict(Start='1970-01-01 10:52:00', End='1970-01-01 16:54:30', Day='2020-02-10'),\n",
    "# dict(Start='1970-01-01 12:51:00', End='1970-01-01 20:07:30', Day='2020-02-11'),\n",
    "# dict(Start='1970-01-01 01:05:00', End='1970-01-01 10:37:30', Day='2020-02-12'),\n",
    "# dict(Start='1970-01-01 03:28:00', End='1970-01-01 13:41:00', Day='2020-02-13'),\n",
    "# dict(Start='1970-01-01 10:37:00', End='1970-01-01 17:15:30', Day='2020-02-14'),\n",
    "# dict(Start='1970-01-01 09:05:00', End='1970-01-01 14:37:30', Day='2020-02-15'),\n",
    "# dict(Start='1970-01-01 10:28:00', End='1970-01-01 16:12:30', Day='2020-02-16'),\n",
    "# dict(Start='1970-01-01 07:24:30', End='1970-01-01 18:35:00', Day='2020-02-17'),\n",
    "# dict(Start='1970-01-01 13:03:00', End='1970-01-01 22:58:00', Day='2020-02-18'),\n",
    "# dict(Start='1970-01-01 12:11:00', End='1970-01-01 18:17:30', Day='2020-02-19'),\n",
    "# dict(Start='1970-01-01 10:44:30', End='1970-01-01 18:12:00', Day='2020-02-20'),\n",
    "# dict(Start='1970-01-01 15:30:30', End='1970-01-01 23:44:00', Day='2020-02-21'),\n",
    "# dict(Start='1970-01-01 20:57:30', End='1970-01-01 23:59:59', Day='2020-02-22'),\n",
    "# dict(Start='1970-01-01 00:00:01', End='1970-01-01 04:31:30', Day='2020-02-23'),\n",
    "# dict(Start='1970-01-01 05:02:00', End='1970-01-01 12:34:30', Day='2020-02-24'),\n",
    "# dict(Start='1970-01-01 08:40:00', End='1970-01-01 18:14:30', Day='2020-02-25'),\n",
    "# dict(Start='1970-01-01 10:55:00', End='1970-01-01 18:14:30', Day='2020-02-26'),\n",
    "# dict(Start='1970-01-01 12:18:00', End='1970-01-01 18:30:30', Day='2020-02-27'),\n",
    "# dict(Start='1970-01-01 10:36:30', End='1970-01-01 18:10:30', Day='2020-02-28'),\n",
    "# dict(Start='1970-01-01 21:32:00', End='1970-01-01 23:59:59', Day='2020-02-29'),\n",
    "\n",
    "# dict(Start='1970-01-01 00:00:01', End='1970-01-01 05:43:30', Day='2020-03-01'),\n",
    "# dict(Start='1970-01-01 07:14:00', End='1970-01-01 18:13:30', Day='2020-03-02'),\n",
    "# dict(Start='1970-01-01 12:35:30', End='1970-01-01 22:33:30', Day='2020-03-03'),\n",
    "# dict(Start='1970-01-01 11:19:30', End='1970-01-01 18:25:00', Day='2020-03-04'),\n",
    "# dict(Start='1970-01-01 12:27:00', End='1970-01-01 18:33:30', Day='2020-03-05'),\n",
    "# dict(Start='1970-01-01 18:10:00', End='1970-01-01 23:59:59', Day='2020-03-06'),\n",
    "# dict(Start='1970-01-01 00:00:01', End='1970-01-01 04:40:30', Day='2020-03-07'),\n",
    "# dict(Start='1970-01-01 20:53:00', End='1970-01-01 23:59:59', Day='2020-03-07'),\n",
    "# dict(Start='1970-01-01 00:00:01', End='1970-01-01 04:40:00', Day='2020-03-08'),\n",
    "# dict(Start='1970-01-01 09:57:00', End='1970-01-01 15:31:00', Day='2020-03-08'),\n",
    "# dict(Start='1970-01-01 02:12:00', End='1970-01-01 07:28:30', Day='2020-03-09'),\n",
    "# dict(Start='1970-01-01 13:32:00', End='1970-01-01 16:53:30', Day='2020-03-09'),\n",
    "# dict(Start='1970-01-01 01:26:00', End='1970-01-01 08:12:00', Day='2020-03-10'),\n",
    "# dict(Start='1970-01-01 23:28:00', End='1970-01-01 23:59:59', Day='2020-03-10'),\n",
    "# dict(Start='1970-01-01 00:00:01', End='1970-01-01 07:51:30', Day='2020-03-11'),\n",
    "# dict(Start='1970-01-01 00:51:00', End='1970-01-01 07:52:30', Day='2020-03-12'),\n",
    "# dict(Start='1970-01-01 13:30:00', End='1970-01-01 18:32:30', Day='2020-03-12'),\n",
    "# dict(Start='1970-01-01 12:01:30', End='1970-01-01 16:56:30', Day='2020-03-13'),\n",
    "# dict(Start='1970-01-01 11:38:00', End='1970-01-01 18:16:00', Day='2020-03-14'),\n",
    "# dict(Start='1970-01-01 10:04:00', End='1970-01-01 15:37:00', Day='2020-03-15'),\n",
    "# dict(Start='1970-01-01 10:44:30', End='1970-01-01 16:59:00', Day='2020-03-16'),\n",
    "# dict(Start='1970-01-01 00:18:30', End='1970-01-01 09:02:00', Day='2020-03-17'),\n",
    "# dict(Start='1970-01-01 20:46:00', End='1970-01-01 23:59:59', Day='2020-03-17'),\n",
    "# dict(Start='1970-01-01 00:00:01', End='1970-01-01 08:56:00', Day='2020-03-18'),\n",
    "# dict(Start='1970-01-01 13:21:30', End='1970-01-01 17:46:30', Day='2020-03-18'),\n",
    "# dict(Start='1970-01-01 09:41:00', End='1970-01-01 17:57:30', Day='2020-03-19'),\n",
    "# dict(Start='1970-01-01 10:51:00', End='1970-01-01 16:51:00', Day='2020-03-20'),\n",
    "# dict(Start='1970-01-01 09:10:30', End='1970-01-01 16:16:30', Day='2020-03-21'),\n",
    "# dict(Start='1970-01-01 00:29:00', End='1970-01-01 10:24:30', Day='2020-03-22'),\n",
    "# dict(Start='1970-01-01 15:51:00', End='1970-01-01 19:50:30', Day='2020-03-22'),\n",
    "# dict(Start='1970-01-01 09:38:00', End='1970-01-01 16:16:30', Day='2020-03-23'),\n",
    "# dict(Start='1970-01-01 09:53:00', End='1970-01-01 17:08:30', Day='2020-03-24'),\n",
    "# dict(Start='1970-01-01 10:08:30', End='1970-01-01 16:54:30', Day='2020-03-25'),\n",
    "# dict(Start='1970-01-01 21:20:30', End='1970-01-01 23:59:59', Day='2020-03-25'),\n",
    "# dict(Start='1970-01-01 00:00:01', End='1970-01-01 05:25:00', Day='2020-03-26'),\n",
    "# dict(Start='1970-01-01 12:35:00', End='1970-01-01 18:07:30', Day='2020-03-26'),\n",
    "# dict(Start='1970-01-01 10:02:30', End='1970-01-01 18:06:30', Day='2020-03-27'),\n",
    "# dict(Start='1970-01-01 10:50:00', End='1970-01-01 18:10:30', Day='2020-03-28'),\n",
    "# dict(Start='1970-01-01 11:12:00', End='1970-01-01 18:35:00', Day='2020-03-29'),\n",
    "# dict(Start='1970-01-01 10:29:00', End='1970-01-01 17:54:30', Day='2020-03-30'),\n",
    "# dict(Start='1970-01-01 15:28:30', End='1970-01-01 23:23:00', Day='2020-03-31'),\n",
    "# dict(Start='1970-01-01 12:30:00', End='1970-01-01 23:01:30', Day='2020-04-01'),\n",
    "# dict(Start='1970-01-01 14:40:30', End='1970-01-01 22:51:00', Day='2020-04-02'),\n",
    "# dict(Start='1970-01-01 12:17:30', End='1970-01-01 17:43:00', Day='2020-04-03'),\n",
    "# dict(Start='1970-01-01 12:46:00', End='1970-01-01 23:59:59', Day='2020-04-04'),\n",
    "# dict(Start='1970-01-01 00:00:01', End='1970-01-01 00:40:00', Day='2020-04-05'),\n",
    "# dict(Start='1970-01-01 12:26:30', End='1970-01-01 18:29:30', Day='2020-04-05'),\n",
    "# dict(Start='1970-01-01 09:37:00', End='1970-01-01 11:50:30', Day='2020-04-06'),\n",
    "# dict(Start='1970-01-01 21:05:00', End='1970-01-01 23:59:59', Day='2020-04-06'),\n",
    "# dict(Start='1970-01-01 00:00:01', End='1970-01-01 04:26:30', Day='2020-04-07'),\n",
    "# dict(Start='1970-01-01 12:20:30', End='1970-01-01 18:35:30', Day='2020-04-07'),\n",
    "# dict(Start='1970-01-01 14:04:30', End='1970-01-01 22:05:30', Day='2020-04-08'),\n",
    "# dict(Start='1970-01-01 10:42:30', End='1970-01-01 14:57:30', Day='2020-04-09'),\n",
    "# dict(Start='1970-01-01 02:20:30', End='1970-01-01 08:04:30', Day='2020-04-10'),\n",
    "# dict(Start='1970-01-01 17:39:30', End='1970-01-01 23:59:59', Day='2020-04-10'),\n",
    "# dict(Start='1970-01-01 00:00:01', End='1970-01-01 03:33:00', Day='2020-04-11'),\n",
    "# dict(Start='1970-01-01 11:31:00', End='1970-01-01 18:05:30', Day='2020-04-11'),\n",
    "# dict(Start='1970-01-01 11:33:00', End='1970-01-01 15:35:00', Day='2020-04-12'),\n",
    "# dict(Start='1970-01-01 09:42:30', End='1970-01-01 23:11:30', Day='2020-04-13'),\n",
    "# dict(Start='1970-01-01 07:28:00', End='1970-01-01 09:33:30', Day='2020-04-14'),\n",
    "# dict(Start='1970-01-01 21:10:30', End='1970-01-01 23:59:59', Day='2020-04-14'),\n",
    "# dict(Start='1970-01-01 00:00:01', End='1970-01-01 06:33:00', Day='2020-04-15'),\n",
    "# dict(Start='1970-01-01 13:32:00', End='1970-01-01 20:58:30', Day='2020-04-15'),\n",
    "# dict(Start='1970-01-01 12:09:30', End='1970-01-01 15:32:00', Day='2020-04-16'),\n",
    "# dict(Start='1970-01-01 09:43:00', End='1970-01-01 14:53:30', Day='2020-04-17'),\n",
    "# dict(Start='1970-01-01 21:18:30', End='1970-01-01 23:59:59', Day='2020-04-17'),\n",
    "# dict(Start='1970-01-01 00:00:01', End='1970-01-01 05:27:30', Day='2020-04-18'),\n",
    "# dict(Start='1970-01-01 21:54:30', End='1970-01-01 23:59:59', Day='2020-04-18'),\n",
    "# dict(Start='1970-01-01 00:00:01', End='1970-01-01 07:20:00', Day='2020-04-19'),\n",
    "# dict(Start='1970-01-01 23:29:30', End='1970-01-01 23:59:59', Day='2020-04-19'),\n",
    "# dict(Start='1970-01-01 00:00:01', End='1970-01-01 08:54:30', Day='2020-04-20'),\n",
    "# dict(Start='1970-01-01 12:47:00', End='1970-01-01 14:21:30', Day='2020-04-20'),\n",
    "# dict(Start='1970-01-01 09:25:00', End='1970-01-01 17:22:30', Day='2020-04-21'),\n",
    "# dict(Start='1970-01-01 10:00:30', End='1970-01-01 15:23:30', Day='2020-04-22'),\n",
    "# dict(Start='1970-01-01 01:18:00', End='1970-01-01 12:05:00', Day='2020-04-23'),\n",
    "# dict(Start='1970-01-01 15:51:00', End='1970-01-01 18:16:30', Day='2020-04-23'),\n",
    "# dict(Start='1970-01-01 07:48:00', End='1970-01-01 14:26:00', Day='2020-04-24'),\n",
    "# dict(Start='1970-01-01 10:18:00', End='1970-01-01 18:10:30', Day='2020-04-25'),\n",
    "# dict(Start='1970-01-01 09:52:00', End='1970-01-01 17:39:30', Day='2020-04-26'),\n",
    "# dict(Start='1970-01-01 09:55:00', End='1970-01-01 16:10:30', Day='2020-04-27'),\n",
    "# dict(Start='1970-01-01 09:38:00', End='1970-01-01 17:38:00', Day='2020-04-28'),\n",
    "# dict(Start='1970-01-01 09:37:00', End='1970-01-01 15:29:30', Day='2020-04-29'),\n",
    "# dict(Start='1970-01-01 22:33:30', End='1970-01-01 23:59:59', Day='2020-04-29'),\n",
    "# dict(Start='1970-01-01 00:00:01', End='1970-01-01 05:43:00', Day='2020-04-30'),\n",
    "# dict(Start='1970-01-01 13:18:00', End='1970-01-01 19:15:30', Day='2020-04-30'),\n",
    "# dict(Start='1970-01-01 11:44:00', End='1970-01-01 21:13:30', Day='2020-05-01'),\n",
    "# dict(Start='1970-01-01 13:37:30', End='1970-01-01 21:10:30', Day='2020-05-02'),\n",
    "# dict(Start='1970-01-01 16:33:00', End='1970-01-01 23:59:59', Day='2020-05-03'),\n",
    "# dict(Start='1970-01-01 00:00:01', End='1970-01-01 05:33:30', Day='2020-05-04'),\n",
    "# dict(Start='1970-01-01 01:53:00', End='1970-01-01 10:58:30', Day='2020-05-05'),\n",
    "# dict(Start='1970-01-01 14:35:30', End='1970-01-01 18:24:30', Day='2020-05-05'),\n",
    "# dict(Start='1970-01-01 11:33:00', End='1970-01-01 18:43:30', Day='2020-05-06'),\n",
    "# dict(Start='1970-01-01 16:11:30', End='1970-01-01 23:59:59', Day='2020-05-07'),\n",
    "# dict(Start='1970-01-01 00:00:01', End='1970-01-01 05:24:30', Day='2020-05-08'),\n",
    "# dict(Start='1970-01-01 02:19:00', End='1970-01-01 12:14:00', Day='2020-05-09'),\n",
    "# dict(Start='1970-01-01 11:05:30', End='1970-01-01 18:37:30', Day='2020-05-10'),\n",
    "# dict(Start='1970-01-01 11:05:30', End='1970-01-01 23:59:59', Day='2020-05-11'),\n",
    "# dict(Start='1970-01-01 00:00:01', End='1970-01-01 04:03:30', Day='2020-05-12'),\n",
    "# dict(Start='1970-01-01 12:09:00', End='1970-01-01 17:43:30', Day='2020-05-12'),\n",
    "# dict(Start='1970-01-01 11:33:00', End='1970-01-01 20:14:30', Day='2020-05-13'),\n",
    "# dict(Start='1970-01-01 02:40:00', End='1970-01-01 07:09:30', Day='2020-05-14'),\n",
    "# dict(Start='1970-01-01 13:06:30', End='1970-01-01 18:36:30', Day='2020-05-14'),\n",
    "# dict(Start='1970-01-01 11:27:00', End='1970-01-01 14:27:00', Day='2020-05-15'),\n",
    "# dict(Start='1970-01-01 12:08:00', End='1970-01-01 23:59:59', Day='2020-05-16'),\n",
    "# dict(Start='1970-01-01 00:00:01', End='1970-01-01 02:09:30', Day='2020-05-17'),\n",
    "# dict(Start='1970-01-01 01:39:00', End='1970-01-01 07:58:30', Day='2020-05-18'),\n",
    "# dict(Start='1970-01-01 20:24:30', End='1970-01-01 23:59:59', Day='2020-05-18'),\n",
    "# dict(Start='1970-01-01 00:00:01', End='1970-01-01 09:25:30', Day='2020-05-19'),\n",
    "# dict(Start='1970-01-01 23:47:00', End='1970-01-01 23:59:59', Day='2020-05-19'),\n",
    "# dict(Start='1970-01-01 00:00:01', End='1970-01-01 10:20:00', Day='2020-05-20'),\n",
    "# dict(Start='1970-01-01 15:29:00', End='1970-01-01 17:36:00', Day='2020-05-20'),\n",
    "# dict(Start='1970-01-01 10:50:00', End='1970-01-01 17:44:30', Day='2020-05-21'),\n",
    "# dict(Start='1970-01-01 10:07:30', End='1970-01-01 14:32:00', Day='2020-05-22'),\n",
    "# dict(Start='1970-01-01 01:46:00', End='1970-01-01 10:46:30', Day='2020-05-23'),\n",
    "# dict(Start='1970-01-01 04:05:00', End='1970-01-01 15:41:30', Day='2020-05-24'),\n",
    "# dict(Start='1970-01-01 13:14:30', End='1970-01-01 20:01:30', Day='2020-05-25'),\n",
    "# dict(Start='1970-01-01 07:50:00', End='1970-01-01 17:01:30', Day='2020-05-26'),\n",
    "# dict(Start='1970-01-01 21:08:30', End='1970-01-01 23:59:59', Day='2020-05-26'),\n",
    "# dict(Start='1970-01-01 00:00:01', End='1970-01-01 11:21:30', Day='2020-05-27'),\n",
    "# dict(Start='1970-01-01 10:29:30', End='1970-01-01 16:17:30', Day='2020-05-28'),\n",
    "# dict(Start='1970-01-01 11:32:00', End='1970-01-01 18:04:00', Day='2020-05-29'),\n",
    "# dict(Start='1970-01-01 11:08:30', End='1970-01-01 17:30:00', Day='2020-05-30'),\n",
    "# dict(Start='1970-01-01 09:37:30', End='1970-01-01 15:42:30', Day='2020-05-31'),\n",
    "# dict(Start='1970-01-01 00:43:00', End='1970-01-01 03:09:30', Day='2020-06-01'),\n",
    "\n",
    "# dict(Start='1970-01-01 15:29:00', End='1970-01-01 23:52:30', Day='2020-06-01'),\n",
    "# dict(Start='1970-01-01 16:04:00', End='1970-01-01 22:12:30', Day='2020-06-02'),\n",
    "# dict(Start='1970-01-01 11:07:00', End='1970-01-01 18:47:30', Day='2020-06-03'),\n",
    "# dict(Start='1970-01-01 12:16:00', End='1970-01-01 23:59:59', Day='2020-06-04'),\n",
    "# dict(Start='1970-01-01 00:00:01', End='1970-01-01 01:51:30', Day='2020-06-05'),\n",
    "# dict(Start='1970-01-01 12:37:30', End='1970-01-01 18:44:30', Day='2020-06-05'),\n",
    "# dict(Start='1970-01-01 11:04:00', End='1970-01-01 18:36:30', Day='2020-06-06'),\n",
    "# dict(Start='1970-01-01 10:16:00', End='1970-01-01 18:13:30', Day='2020-06-07'),\n",
    "# dict(Start='1970-01-01 11:50:30', End='1970-01-01 20:35:00', Day='2020-06-08'),\n",
    "# dict(Start='1970-01-01 11:33:30', End='1970-01-01 18:18:30', Day='2020-06-09'),\n",
    "# dict(Start='1970-01-01 11:40:30', End='1970-01-01 22:07:30', Day='2020-06-10'),\n",
    "# dict(Start='1970-01-01 19:44:00', End='1970-01-01 23:59:59', Day='2020-06-11'),\n",
    "# dict(Start='1970-01-01 00:00:01', End='1970-01-01 09:03:30', Day='2020-06-12'),\n",
    "# dict(Start='1970-01-01 23:32:00', End='1970-01-01 23:59:59', Day='2020-06-12'),\n",
    "# dict(Start='1970-01-01 00:00:01', End='1970-01-01 09:11:30', Day='2020-06-13'),\n",
    "# dict(Start='1970-01-01 00:38:00', End='1970-01-01 07:19:30', Day='2020-06-14'),\n",
    "# dict(Start='1970-01-01 00:40:00', End='1970-01-01 08:39:00', Day='2020-06-15'),\n",
    "# dict(Start='1970-01-01 16:18:30', End='1970-01-01 23:59:59', Day='2020-06-15'),\n",
    "# dict(Start='1970-01-01 00:00:01', End='1970-01-01 06:28:30', Day='2020-06-16'),\n",
    "# dict(Start='1970-01-01 11:59:30', End='1970-01-01 14:47:30', Day='2020-06-16'),\n",
    "# dict(Start='1970-01-01 09:39:00', End='1970-01-01 17:31:30', Day='2020-06-17'),\n",
    "# dict(Start='1970-01-01 12:27:00', End='1970-01-01 20:55:30', Day='2020-06-18'),\n",
    "# dict(Start='1970-01-01 06:06:30', End='1970-01-01 11:27:00', Day='2020-06-19'),\n",
    "# dict(Start='1970-01-01 03:23:00', End='1970-01-01 11:37:30', Day='2020-06-20'),\n",
    "# dict(Start='1970-01-01 15:00:00', End='1970-01-01 18:33:00', Day='2020-06-20'),\n",
    "# dict(Start='1970-01-01 09:04:30', End='1970-01-01 13:40:00', Day='2020-06-21'),\n",
    "# dict(Start='1970-01-01 09:48:30', End='1970-01-01 16:11:00', Day='2020-06-22'),\n",
    "# dict(Start='1970-01-01 09:08:00', End='1970-01-01 16:42:30', Day='2020-06-23'),\n",
    "# dict(Start='1970-01-01 01:20:00', End='1970-01-01 07:29:30', Day='2020-06-24'),\n",
    "# dict(Start='1970-01-01 13:13:30', End='1970-01-01 20:16:30', Day='2020-06-24'),\n",
    "# dict(Start='1970-01-01 04:17:00', End='1970-01-01 16:17:30', Day='2020-06-25'),\n",
    "# dict(Start='1970-01-01 09:55:00', End='1970-01-01 17:00:00', Day='2020-06-26'),\n",
    "# dict(Start='1970-01-01 13:34:00', End='1970-01-01 22:06:30', Day='2020-06-27'),\n",
    "# dict(Start='1970-01-01 06:01:00', End='1970-01-01 16:15:30', Day='2020-06-28'),\n",
    "# dict(Start='1970-01-01 13:29:30', End='1970-01-01 21:06:00', Day='2020-06-29'),\n",
    "# dict(Start='1970-01-01 12:09:00', End='1970-01-01 21:14:30', Day='2020-06-30'),\n",
    "# dict(Start='1970-01-01 11:28:30', End='1970-01-01 18:43:30', Day='2020-07-01'),\n",
    "# dict(Start='1970-01-01 12:34:30', End='1970-01-01 21:14:30', Day='2020-07-02'),\n",
    "# dict(Start='1970-01-01 09:19:30', End='1970-01-01 18:13:30', Day='2020-07-03'),\n",
    "# dict(Start='1970-01-01 11:41:30', End='1970-01-01 18:41:30', Day='2020-07-04'),\n",
    "# dict(Start='1970-01-01 09:41:00', End='1970-01-01 18:39:30', Day='2020-07-05'),\n",
    "# dict(Start='1970-01-01 11:21:00', End='1970-01-01 18:43:30', Day='2020-07-06'),\n",
    "# dict(Start='1970-01-01 11:12:00', End='1970-01-01 22:34:30', Day='2020-07-07'),\n",
    "# dict(Start='1970-01-01 12:10:00', End='1970-01-01 18:40:30', Day='2020-07-08'),\n",
    "# dict(Start='1970-01-01 11:04:00', End='1970-01-01 18:38:30', Day='2020-07-09'),\n",
    "# dict(Start='1970-01-01 11:26:00', End='1970-01-01 23:08:30', Day='2020-07-10'),\n",
    "# dict(Start='1970-01-01 06:03:00', End='1970-01-01 10:17:30', Day='2020-07-11'),\n",
    "# dict(Start='1970-01-01 03:03:00', End='1970-01-01 09:51:00', Day='2020-07-12'),\n",
    "# dict(Start='1970-01-01 18:06:00', End='1970-01-01 23:59:59', Day='2020-07-12'),\n",
    "# dict(Start='1970-01-01 00:00:01', End='1970-01-01 02:17:30', Day='2020-07-13'),\n",
    "# dict(Start='1970-01-01 11:18:30', End='1970-01-01 18:12:30', Day='2020-07-13'),\n",
    "# dict(Start='1970-01-01 11:16:00', End='1970-01-01 21:09:30', Day='2020-07-14'),\n",
    "# dict(Start='1970-01-01 23:10:30', End='1970-01-01 23:59:59', Day='2020-07-15'),\n",
    "# dict(Start='1970-01-01 00:00:01', End='1970-01-01 06:51:00', Day='2020-07-16'),\n",
    "# dict(Start='1970-01-01 19:04:00', End='1970-01-01 23:59:59', Day='2020-07-16'),\n",
    "# dict(Start='1970-01-01 00:00:01', End='1970-01-01 04:30:30', Day='2020-07-17'),\n",
    "# dict(Start='1970-01-01 12:34:30', End='1970-01-01 19:32:30', Day='2020-07-17'),\n",
    "# dict(Start='1970-01-01 02:59:00', End='1970-01-01 07:00:30', Day='2020-07-18'),\n",
    "# dict(Start='1970-01-01 13:03:30', End='1970-01-01 18:10:30', Day='2020-07-18'),\n",
    "# dict(Start='1970-01-01 21:27:00', End='1970-01-01 23:59:59', Day='2020-07-19'),\n",
    "# dict(Start='1970-01-01 00:00:01', End='1970-01-01 09:39:00', Day='2020-07-20'),\n",
    "# dict(Start='1970-01-01 00:21:30', End='1970-01-01 07:37:30', Day='2020-07-21'),\n",
    "# dict(Start='1970-01-01 22:14:00', End='1970-01-01 23:59:59', Day='2020-07-21'),\n",
    "# dict(Start='1970-01-01 00:00:01', End='1970-01-01 08:13:00', Day='2020-07-22'),\n",
    "# dict(Start='1970-01-01 13:27:30', End='1970-01-01 16:57:30', Day='2020-07-22'),\n",
    "# dict(Start='1970-01-01 12:11:00', End='1970-01-01 18:39:30', Day='2020-07-23'),\n",
    "# dict(Start='1970-01-01 13:49:00', End='1970-01-01 23:59:59', Day='2020-07-24'),\n",
    "# dict(Start='1970-01-01 00:00:01', End='1970-01-01 06:52:30', Day='2020-07-25'),\n",
    "# dict(Start='1970-01-01 08:12:00', End='1970-01-01 15:56:30', Day='2020-07-26'),\n",
    "# dict(Start='1970-01-01 05:46:00', End='1970-01-01 15:37:00', Day='2020-07-27'),\n",
    "# dict(Start='1970-01-01 10:45:00', End='1970-01-01 17:32:30', Day='2020-07-28'),\n",
    "# dict(Start='1970-01-01 10:59:30', End='1970-01-01 17:20:30', Day='2020-07-29'),\n",
    "# dict(Start='1970-01-01 09:34:00', End='1970-01-01 16:42:30', Day='2020-07-30'),\n",
    "# dict(Start='1970-01-01 08:45:00', End='1970-01-01 15:19:00', Day='2020-07-31'),\n",
    "# dict(Start='1970-01-01 16:10:30', End='1970-01-01 18:04:30', Day='2020-07-31'),\n",
    "# dict(Start='1970-01-01 11:06:00', End='1970-01-01 17:50:30', Day='2020-08-01'),\n",
    "# dict(Start='1970-01-01 10:23:00', End='1970-01-01 17:31:30', Day='2020-08-02'),\n",
    "# dict(Start='1970-01-01 11:00:00', End='1970-01-01 16:15:30', Day='2020-08-03'),\n",
    "# dict(Start='1970-01-01 08:05:00', End='1970-01-01 17:59:30', Day='2020-08-04'),\n",
    "# dict(Start='1970-01-01 00:10:00', End='1970-01-01 06:24:30', Day='2020-08-05'),\n",
    "# dict(Start='1970-01-01 08:18:00', End='1970-01-01 21:09:00', Day='2020-08-06'),\n",
    "# dict(Start='1970-01-01 15:12:00', End='1970-01-01 22:34:30', Day='2020-08-07'),\n",
    "# dict(Start='1970-01-01 07:48:00', End='1970-01-01 16:01:30', Day='2020-08-08'),\n",
    "# dict(Start='1970-01-01 13:12:30', End='1970-01-01 21:09:30', Day='2020-08-09'),\n",
    "# dict(Start='1970-01-01 11:48:00', End='1970-01-01 23:09:00', Day='2020-08-10'),\n",
    "# dict(Start='1970-01-01 12:15:00', End='1970-01-01 18:34:30', Day='2020-08-11'),\n",
    "# dict(Start='1970-01-01 11:23:30', End='1970-01-01 18:40:00', Day='2020-08-12'),\n",
    "# dict(Start='1970-01-01 12:34:30', End='1970-01-01 21:13:30', Day='2020-08-13'),\n",
    "# dict(Start='1970-01-01 12:37:30', End='1970-01-01 22:54:00', Day='2020-08-14'),\n",
    "# dict(Start='1970-01-01 06:49:00', End='1970-01-01 10:44:30', Day='2020-08-15'),\n",
    "# dict(Start='1970-01-01 22:26:00', End='1970-01-01 23:59:59', Day='2020-08-15'),\n",
    "# dict(Start='1970-01-01 00:00:01', End='1970-01-01 03:04:00', Day='2020-08-16'),\n",
    "# dict(Start='1970-01-01 17:28:00', End='1970-01-01 23:59:59', Day='2020-08-16'),\n",
    "# dict(Start='1970-01-01 00:00:01', End='1970-01-01 02:54:30', Day='2020-08-17'),\n",
    "# dict(Start='1970-01-01 06:44:30', End='1970-01-01 11:42:30', Day='2020-08-17'),\n",
    "# dict(Start='1970-01-01 23:02:00', End='1970-01-01 23:59:59', Day='2020-08-17'),\n",
    "# dict(Start='1970-01-01 00:00:01', End='1970-01-01 05:24:30', Day='2020-08-18'),\n",
    "# dict(Start='1970-01-01 12:22:00', End='1970-01-01 15:22:30', Day='2020-08-18'),\n",
    "# dict(Start='1970-01-01 13:17:00', End='1970-01-01 23:59:59', Day='2020-08-19'),\n",
    "# dict(Start='1970-01-01 00:00:01', End='1970-01-01 03:11:00', Day='2020-08-20'),\n",
    "# dict(Start='1970-01-01 00:36:00', End='1970-01-01 05:43:30', Day='2020-08-21'),\n",
    "# dict(Start='1970-01-01 11:58:00', End='1970-01-01 13:06:00', Day='2020-08-21'),\n",
    "# dict(Start='1970-01-01 09:16:00', End='1970-01-01 15:52:30', Day='2020-08-22'),\n",
    "# dict(Start='1970-01-01 11:50:30', End='1970-01-01 18:21:30', Day='2020-08-23'),\n",
    "# dict(Start='1970-01-01 11:32:00', End='1970-01-01 18:31:30', Day='2020-08-24'),\n",
    "# dict(Start='1970-01-01 11:21:00', End='1970-01-01 17:09:30', Day='2020-08-25'),\n",
    "# dict(Start='1970-01-01 03:57:00', End='1970-01-01 09:30:00', Day='2020-08-26'),\n",
    "# dict(Start='1970-01-01 02:53:00', End='1970-01-01 13:24:00', Day='2020-08-27'),\n",
    "# dict(Start='1970-01-01 15:44:00', End='1970-01-01 18:01:30', Day='2020-08-27'),\n",
    "# dict(Start='1970-01-01 12:01:30', End='1970-01-01 18:30:00', Day='2020-08-28'),\n",
    "# dict(Start='1970-01-01 11:18:00', End='1970-01-01 18:00:30', Day='2020-08-29'),\n",
    "# dict(Start='1970-01-01 02:37:00', End='1970-01-01 09:34:30', Day='2020-08-30'),\n",
    "# dict(Start='1970-01-01 00:02:30', End='1970-01-01 12:20:30', Day='2020-08-31'),\n",
    "# dict(Start='1970-01-01 15:02:00', End='1970-01-01 19:14:30', Day='2020-08-31'),\n",
    "# dict(Start='1970-01-01 04:10:00', End='1970-01-01 11:37:00', Day='2020-09-01'),\n",
    "# dict(Start='1970-01-01 17:17:00', End='1970-01-01 20:51:00', Day='2020-09-01'),\n",
    "    \n",
    "# dict(Start='1970-01-01 09:42:00', End='1970-01-01 12:41:00', Day='2020-09-02'),\n",
    "# dict(Start='1970-01-01 18:21:30', End='1970-01-01 22:00:30', Day='2020-09-02'),\n",
    "# dict(Start='1970-01-01 15:06:30', End='1970-01-01 19:27:30', Day='2020-09-03'),\n",
    "# dict(Start='1970-01-01 06:20:00', End='1970-01-01 15:46:30', Day='2020-09-04'),\n",
    "# dict(Start='1970-01-01 11:33:00', End='1970-01-01 18:30:30', Day='2020-09-05'),\n",
    "# dict(Start='1970-01-01 11:04:30', End='1970-01-01 18:30:30', Day='2020-09-06'),\n",
    "# dict(Start='1970-01-01 13:05:00', End='1970-01-01 19:31:30', Day='2020-09-07'),\n",
    "# dict(Start='1970-01-01 01:56:00', End='1970-01-01 11:17:30', Day='2020-09-08'),\n",
    "# dict(Start='1970-01-01 11:33:00', End='1970-01-01 17:53:30', Day='2020-09-09'),\n",
    "# dict(Start='1970-01-01 10:51:00', End='1970-01-01 18:30:30', Day='2020-09-10'),\n",
    "# dict(Start='1970-01-01 13:31:00', End='1970-01-01 15:55:30', Day='2020-09-11'),\n",
    "# dict(Start='1970-01-01 18:25:30', End='1970-01-01 23:59:59', Day='2020-09-11'),\n",
    "# dict(Start='1970-01-01 00:00:01', End='1970-01-01 01:16:00', Day='2020-09-12'),\n",
    "# dict(Start='1970-01-01 12:13:30', End='1970-01-01 18:29:30', Day='2020-09-12'),\n",
    "# dict(Start='1970-01-01 17:59:00', End='1970-01-01 23:59:59', Day='2020-09-13'),\n",
    "# dict(Start='1970-01-01 00:00:01', End='1970-01-01 03:06:30', Day='2020-09-14'),\n",
    "# dict(Start='1970-01-01 19:43:30', End='1970-01-01 23:59:59', Day='2020-09-14'),\n",
    "# dict(Start='1970-01-01 00:00:01', End='1970-01-01 03:08:30', Day='2020-09-15'),\n",
    "# dict(Start='1970-01-01 14:53:30', End='1970-01-01 23:59:59', Day='2020-09-15'),\n",
    "# dict(Start='1970-01-01 00:00:01', End='1970-01-01 02:44:00', Day='2020-09-16'),\n",
    "# dict(Start='1970-01-01 16:33:30', End='1970-01-01 21:59:30', Day='2020-09-16'),\n",
    "# dict(Start='1970-01-01 10:28:00', End='1970-01-01 14:46:30', Day='2020-09-17'),\n",
    "# dict(Start='1970-01-01 10:28:30', End='1970-01-01 18:15:30', Day='2020-09-18'),\n",
    "# dict(Start='1970-01-01 10:58:00', End='1970-01-01 18:19:30', Day='2020-09-19'),\n",
    "# dict(Start='1970-01-01 10:13:00', End='1970-01-01 16:06:30', Day='2020-09-20'),\n",
    "# dict(Start='1970-01-01 23:49:30', End='1970-01-01 23:59:59', Day='2020-09-20'),\n",
    "# dict(Start='1970-01-01 00:00:01', End='1970-01-01 04:58:00', Day='2020-09-21'),\n",
    "# dict(Start='1970-01-01 20:36:00', End='1970-01-01 23:59:59', Day='2020-09-21'),\n",
    "# dict(Start='1970-01-01 00:00:01', End='1970-01-01 06:18:30', Day='2020-09-22'),\n",
    "# dict(Start='1970-01-01 23:11:30', End='1970-01-01 23:59:59', Day='2020-09-22'),\n",
    "# dict(Start='1970-01-01 00:00:01', End='1970-01-01 05:59:00', Day='2020-09-23'),\n",
    "# dict(Start='1970-01-01 17:01:00', End='1970-01-01 23:59:59', Day='2020-09-23'),\n",
    "# dict(Start='1970-01-01 00:00:01', End='1970-01-01 06:17:00', Day='2020-09-24'),\n",
    "# dict(Start='1970-01-01 15:44:30', End='1970-01-01 18:31:30', Day='2020-09-24'),\n",
    "# dict(Start='1970-01-01 10:15:30', End='1970-01-01 16:35:30', Day='2020-09-25'),\n",
    "# dict(Start='1970-01-01 11:05:00', End='1970-01-01 16:34:30', Day='2020-09-26'),\n",
    "# dict(Start='1970-01-01 21:55:00', End='1970-01-01 23:59:59', Day='2020-09-27'),\n",
    "# dict(Start='1970-01-01 00:00:01', End='1970-01-01 11:52:00', Day='2020-09-28'),\n",
    "# dict(Start='1970-01-01 00:44:00', End='1970-01-01 09:42:30', Day='2020-09-29'),\n",
    "# dict(Start='1970-01-01 01:22:00', End='1970-01-01 13:11:00', Day='2020-09-30'),\n",
    "# dict(Start='1970-01-01 09:57:00', End='1970-01-01 17:41:30', Day='2020-10-01'),\n",
    "# dict(Start='1970-01-01 10:09:00', End='1970-01-01 14:47:00', Day='2020-10-02'),\n",
    "# dict(Start='1970-01-01 08:29:00', End='1970-01-01 17:09:30', Day='2020-10-03'),\n",
    "# dict(Start='1970-01-01 23:48:00', End='1970-01-01 23:59:59', Day='2020-10-03'),\n",
    "# dict(Start='1970-01-01 00:00:01', End='1970-01-01 11:09:30', Day='2020-10-04'),\n",
    "# dict(Start='1970-01-01 10:11:00', End='1970-01-01 18:02:30', Day='2020-10-05'),\n",
    "# dict(Start='1970-01-01 10:51:30', End='1970-01-01 18:21:30', Day='2020-10-06'),\n",
    "# dict(Start='1970-01-01 09:35:00', End='1970-01-01 16:47:00', Day='2020-10-07'),\n",
    "# dict(Start='1970-01-01 12:19:00', End='1970-01-01 19:42:00', Day='2020-10-08'),\n",
    "# dict(Start='1970-01-01 11:29:00', End='1970-01-01 18:27:30', Day='2020-10-09'),\n",
    "# dict(Start='1970-01-01 12:07:30', End='1970-01-01 18:41:30', Day='2020-10-10'),\n",
    "# dict(Start='1970-01-01 13:23:00', End='1970-01-01 21:51:30', Day='2020-10-11'),\n",
    "# dict(Start='1970-01-01 18:52:00', End='1970-01-01 23:59:59', Day='2020-10-12'),\n",
    "# dict(Start='1970-01-01 00:00:01', End='1970-01-01 02:02:30', Day='2020-10-13'),\n",
    "# dict(Start='1970-01-01 15:28:00', End='1970-01-01 23:59:59', Day='2020-10-13'),\n",
    "# dict(Start='1970-01-01 00:00:01', End='1970-01-01 01:19:30', Day='2020-10-14'),\n",
    "# dict(Start='1970-01-01 09:07:00', End='1970-01-01 14:09:30', Day='2020-10-14'),\n",
    "# dict(Start='1970-01-01 11:52:00', End='1970-01-01 23:59:59', Day='2020-10-15'),\n",
    "# dict(Start='1970-01-01 00:00:01', End='1970-01-01 00:26:30', Day='2020-10-16'),\n",
    "# dict(Start='1970-01-01 10:08:00', End='1970-01-01 18:07:30', Day='2020-10-16'),\n",
    "# dict(Start='1970-01-01 11:04:30', End='1970-01-01 18:36:30', Day='2020-10-17'),\n",
    "# dict(Start='1970-01-01 10:08:30', End='1970-01-01 16:06:30', Day='2020-10-18'),\n",
    "# dict(Start='1970-01-01 00:01:30', End='1970-01-01 04:38:30', Day='2020-10-19'),\n",
    "# dict(Start='1970-01-01 22:36:00', End='1970-01-01 23:59:59', Day='2020-10-19'),\n",
    "# dict(Start='1970-01-01 00:00:01', End='1970-01-01 06:38:30', Day='2020-10-20'),\n",
    "# dict(Start='1970-01-01 08:46:00', End='1970-01-01 18:00:00', Day='2020-10-21'),\n",
    "# dict(Start='1970-01-01 11:58:00', End='1970-01-01 18:30:00', Day='2020-10-22'),\n",
    "# dict(Start='1970-01-01 10:41:00', End='1970-01-01 18:29:30', Day='2020-10-23'),\n",
    "# dict(Start='1970-01-01 12:02:00', End='1970-01-01 23:59:59', Day='2020-10-24'),\n",
    "# dict(Start='1970-01-01 00:00:01', End='1970-01-01 02:38:00', Day='2020-10-25'),\n",
    "# dict(Start='1970-01-01 12:26:30', End='1970-01-01 18:29:30', Day='2020-10-25'),\n",
    "# dict(Start='1970-01-01 10:30:00', End='1970-01-01 18:30:30', Day='2020-10-26'),\n",
    "# dict(Start='1970-01-01 14:38:30', End='1970-01-01 21:59:30', Day='2020-10-27'),\n",
    "# dict(Start='1970-01-01 10:50:00', End='1970-01-01 16:50:30', Day='2020-10-28'),\n",
    "# dict(Start='1970-01-01 22:20:00', End='1970-01-01 23:59:59', Day='2020-10-29'),\n",
    "# dict(Start='1970-01-01 00:00:01', End='1970-01-01 11:42:00', Day='2020-10-30'),\n",
    "# dict(Start='1970-01-01 23:37:00', End='1970-01-01 23:59:59', Day='2020-10-30'),\n",
    "# dict(Start='1970-01-01 00:00:01', End='1970-01-01 05:45:30', Day='2020-10-31'),\n",
    "# dict(Start='1970-01-01 23:04:00', End='1970-01-01 23:59:59', Day='2020-10-31'),\n",
    "# dict(Start='1970-01-01 00:00:01', End='1970-01-01 07:27:00', Day='2020-11-01'),\n",
    "# dict(Start='1970-01-01 22:20:30', End='1970-01-01 23:59:59', Day='2020-11-01'),\n",
    "# dict(Start='1970-01-01 00:00:01', End='1970-01-01 06:59:30', Day='2020-11-02'),\n",
    "# dict(Start='1970-01-01 21:34:30', End='1970-01-01 23:59:59', Day='2020-11-02'),\n",
    "# dict(Start='1970-01-01 00:00:01', End='1970-01-01 06:05:30', Day='2020-11-03'),\n",
    "# dict(Start='1970-01-01 10:43:00', End='1970-01-01 16:16:30', Day='2020-11-03'),\n",
    "# dict(Start='1970-01-01 10:15:30', End='1970-01-01 12:33:00', Day='2020-11-04'),\n",
    "# dict(Start='1970-01-01 10:08:00', End='1970-01-01 18:22:30', Day='2020-11-05'),\n",
    "# dict(Start='1970-01-01 12:32:00', End='1970-01-01 23:59:59', Day='2020-11-06'),\n",
    "# dict(Start='1970-01-01 00:00:01', End='1970-01-01 04:58:30', Day='2020-11-07'),\n",
    "# dict(Start='1970-01-01 02:24:30', End='1970-01-01 11:51:30', Day='2020-11-08'),\n",
    "# dict(Start='1970-01-01 23:59:00', End='1970-01-01 23:59:59', Day='2020-11-08'),\n",
    "# dict(Start='1970-01-01 00:00:01', End='1970-01-01 09:26:30', Day='2020-11-09'),\n",
    "# dict(Start='1970-01-01 12:45:30', End='1970-01-01 17:32:30', Day='2020-11-09'),\n",
    "# dict(Start='1970-01-01 10:46:00', End='1970-01-01 13:02:30', Day='2020-11-10'),\n",
    "# dict(Start='1970-01-01 06:57:30', End='1970-01-01 17:51:30', Day='2020-11-11'),\n",
    "# dict(Start='1970-01-01 10:16:00', End='1970-01-01 15:55:30', Day='2020-11-12'),\n",
    "# dict(Start='1970-01-01 11:11:00', End='1970-01-01 18:20:30', Day='2020-11-13'),\n",
    "# dict(Start='1970-01-01 10:51:00', End='1970-01-01 17:40:30', Day='2020-11-14'),\n",
    "# dict(Start='1970-01-01 09:12:30', End='1970-01-01 14:16:30', Day='2020-11-15'),\n",
    "# dict(Start='1970-01-01 08:12:30', End='1970-01-01 17:59:30', Day='2020-11-16'),\n",
    "# dict(Start='1970-01-01 10:47:00', End='1970-01-01 17:14:30', Day='2020-11-17'),\n",
    "# dict(Start='1970-01-01 11:10:30', End='1970-01-01 18:30:30', Day='2020-11-18'),\n",
    "# dict(Start='1970-01-01 12:28:30', End='1970-01-01 22:56:30', Day='2020-11-19'),\n",
    "# dict(Start='1970-01-01 13:35:00', End='1970-01-01 21:00:00', Day='2020-11-20'),\n",
    "# dict(Start='1970-01-01 12:15:30', End='1970-01-01 18:32:30', Day='2020-11-21'),\n",
    "# dict(Start='1970-01-01 09:52:00', End='1970-01-01 17:30:30', Day='2020-11-22'),\n",
    "# dict(Start='1970-01-01 01:18:00', End='1970-01-01 07:05:30', Day='2020-11-23'),\n",
    "# dict(Start='1970-01-01 22:30:00', End='1970-01-01 23:59:59', Day='2020-11-23'),\n",
    "# dict(Start='1970-01-01 00:00:01', End='1970-01-01 06:02:30', Day='2020-11-24'),\n",
    "# dict(Start='1970-01-01 14:03:00', End='1970-01-01 15:11:30', Day='2020-11-24'),\n",
    "# dict(Start='1970-01-01 20:35:00', End='1970-01-01 23:59:59', Day='2020-11-24'),\n",
    "# dict(Start='1970-01-01 00:00:01', End='1970-01-01 02:37:30', Day='2020-11-25'),\n",
    "# dict(Start='1970-01-01 11:38:30', End='1970-01-01 18:30:30', Day='2020-11-25'),\n",
    "# dict(Start='1970-01-01 11:10:30', End='1970-01-01 16:13:30', Day='2020-11-26'),\n",
    "# dict(Start='1970-01-01 00:01:00', End='1970-01-01 05:54:30', Day='2020-11-27'),\n",
    "# dict(Start='1970-01-01 19:07:00', End='1970-01-01 23:59:59', Day='2020-11-27'),\n",
    "# dict(Start='1970-01-01 00:00:01', End='1970-01-01 07:00:30', Day='2020-11-28'),\n",
    "# dict(Start='1970-01-01 12:05:00', End='1970-01-01 18:30:30', Day='2020-11-28'),\n",
    "# dict(Start='1970-01-01 11:41:00', End='1970-01-01 15:02:30', Day='2020-11-29'),\n",
    "# dict(Start='1970-01-01 09:40:00', End='1970-01-01 23:59:59', Day='2020-11-30'),\n",
    "# dict(Start='1970-01-01 00:00:01', End='1970-01-01 01:31:30', Day='2020-12-01'),\n",
    "# dict(Start='1970-01-01 13:58:00', End='1970-01-01 22:10:30', Day='2020-12-01'),\n",
    "    \n",
    "# dict(Start='1970-01-01 22:02:00', End='1970-01-01 23:59:59', Day='2020-12-02'),\n",
    "# dict(Start='1970-01-01 00:00:01', End='1970-01-01 08:01:00', Day='2020-12-03'),\n",
    "# dict(Start='1970-01-01 15:24:00', End='1970-01-01 23:59:59', Day='2020-12-03'),\n",
    "# dict(Start='1970-01-01 00:00:01', End='1970-01-01 04:44:00', Day='2020-12-04'),\n",
    "# dict(Start='1970-01-01 12:13:00', End='1970-01-01 17:59:30', Day='2020-12-04'),\n",
    "# dict(Start='1970-01-01 11:12:00', End='1970-01-01 15:13:30', Day='2020-12-05'),\n",
    "# dict(Start='1970-01-01 10:13:00', End='1970-01-01 15:10:30', Day='2020-12-06'),\n",
    "# dict(Start='1970-01-01 00:20:00', End='1970-01-01 06:26:30', Day='2020-12-07'),\n",
    "# dict(Start='1970-01-01 23:49:00', End='1970-01-01 23:59:59', Day='2020-12-07'),\n",
    "# dict(Start='1970-01-01 00:00:01', End='1970-01-01 12:42:30', Day='2020-12-08'),\n",
    "# dict(Start='1970-01-01 11:06:00', End='1970-01-01 18:25:30', Day='2020-12-09'),\n",
    "# dict(Start='1970-01-01 12:08:30', End='1970-01-01 17:25:30', Day='2020-12-10'),\n",
    "# dict(Start='1970-01-01 11:08:00', End='1970-01-01 19:44:30', Day='2020-12-11'),\n",
    "# dict(Start='1970-01-01 07:01:00', End='1970-01-01 10:44:30', Day='2020-12-12'),\n",
    "# dict(Start='1970-01-01 22:39:00', End='1970-01-01 23:59:59', Day='2020-12-12'),\n",
    "# dict(Start='1970-01-01 00:00:01', End='1970-01-01 10:53:30', Day='2020-12-13'),\n",
    "# dict(Start='1970-01-01 04:00:30', End='1970-01-01 15:38:30', Day='2020-12-14'),\n",
    "# dict(Start='1970-01-01 08:14:00', End='1970-01-01 14:24:30', Day='2020-12-15'),\n",
    "# dict(Start='1970-01-01 09:36:30', End='1970-01-01 17:59:30', Day='2020-12-16'),\n",
    "# dict(Start='1970-01-01 10:33:00', End='1970-01-01 17:59:30', Day='2020-12-17'),\n",
    "# dict(Start='1970-01-01 11:39:00', End='1970-01-01 18:29:30', Day='2020-12-18'),\n",
    "# dict(Start='1970-01-01 11:19:00', End='1970-01-01 21:28:30', Day='2020-12-19'),\n",
    "# dict(Start='1970-01-01 11:48:00', End='1970-01-01 16:01:30', Day='2020-12-20'),\n",
    "# dict(Start='1970-01-01 01:29:30', End='1970-01-01 05:41:30', Day='2020-12-21'),\n",
    "# dict(Start='1970-01-01 15:59:30', End='1970-01-01 22:57:30', Day='2020-12-21'),\n",
    "# dict(Start='1970-01-01 11:07:30', End='1970-01-01 21:31:30', Day='2020-12-22'),\n",
    "# dict(Start='1970-01-01 14:23:30', End='1970-01-01 23:59:59', Day='2020-12-23'),\n",
    "# dict(Start='1970-01-01 00:00:01', End='1970-01-01 00:17:30', Day='2020-12-24'),\n",
    "# dict(Start='1970-01-01 11:28:00', End='1970-01-01 18:00:30', Day='2020-12-24'),\n",
    "# dict(Start='1970-01-01 20:46:30', End='1970-01-01 23:59:59', Day='2020-12-25'),\n",
    "# dict(Start='1970-01-01 00:00:01', End='1970-01-01 06:41:30', Day='2020-12-26'),\n",
    "# dict(Start='1970-01-01 12:44:30', End='1970-01-01 18:29:30', Day='2020-12-26'),\n",
    "# dict(Start='1970-01-01 11:35:00', End='1970-01-01 20:13:30', Day='2020-12-27'),\n",
    "# dict(Start='1970-01-01 10:51:00', End='1970-01-01 18:29:30', Day='2020-12-28'),\n",
    "# dict(Start='1970-01-01 16:19:30', End='1970-01-01 23:59:59', Day='2020-12-29'),\n",
    "# dict(Start='1970-01-01 00:00:01', End='1970-01-01 02:30:30', Day='2020-12-30'),\n",
    "# dict(Start='1970-01-01 09:24:00', End='1970-01-01 18:09:00', Day='2020-12-31'),\n",
    "# dict(Start='1970-01-01 12:43:00', End='1970-01-01 18:30:30', Day='2021-01-01'),\n",
    "# ])\n",
    "\n",
    "# df"
   ]
  },
  {
   "cell_type": "markdown",
   "metadata": {},
   "source": [
    "# THE BETTER WAY TO MAKE THOSE"
   ]
  },
  {
   "cell_type": "code",
   "execution_count": null,
   "metadata": {},
   "outputs": [],
   "source": [
    "start = df['From']\n",
    "end = df['To']\n",
    "#activity = df['Activity type']\n",
    "df['Day'] = start.str[0:10]\n",
    "day = df['Day']"
   ]
  },
  {
   "cell_type": "code",
   "execution_count": 3,
   "metadata": {},
   "outputs": [
    {
     "ename": "NameError",
     "evalue": "name 'pd' is not defined",
     "output_type": "error",
     "traceback": [
      "\u001b[0;31m---------------------------------------------------------------------------\u001b[0m",
      "\u001b[0;31mNameError\u001b[0m                                 Traceback (most recent call last)",
      "\u001b[0;32m<ipython-input-3-1bbf85114e75>\u001b[0m in \u001b[0;36m<module>\u001b[0;34m\u001b[0m\n\u001b[0;32m----> 1\u001b[0;31m df = pd.DataFrame({\n\u001b[0m\u001b[1;32m      2\u001b[0m     \u001b[0;34m\"Start\"\u001b[0m\u001b[0;34m:\u001b[0m\u001b[0;34m[\u001b[0m\u001b[0mi\u001b[0m \u001b[0;32mfor\u001b[0m \u001b[0mi\u001b[0m \u001b[0;32min\u001b[0m \u001b[0mstart\u001b[0m\u001b[0;34m]\u001b[0m\u001b[0;34m,\u001b[0m\u001b[0;34m\u001b[0m\u001b[0;34m\u001b[0m\u001b[0m\n\u001b[1;32m      3\u001b[0m     \u001b[0;34m\"End\"\u001b[0m\u001b[0;34m:\u001b[0m\u001b[0;34m[\u001b[0m\u001b[0mi\u001b[0m \u001b[0;32mfor\u001b[0m \u001b[0mi\u001b[0m \u001b[0;32min\u001b[0m \u001b[0mend\u001b[0m\u001b[0;34m]\u001b[0m\u001b[0;34m,\u001b[0m\u001b[0;34m\u001b[0m\u001b[0;34m\u001b[0m\u001b[0m\n\u001b[1;32m      4\u001b[0m     \u001b[0;34m\"Day\"\u001b[0m\u001b[0;34m:\u001b[0m\u001b[0;34m[\u001b[0m\u001b[0mi\u001b[0m \u001b[0;32mfor\u001b[0m \u001b[0mi\u001b[0m \u001b[0;32min\u001b[0m \u001b[0mday\u001b[0m\u001b[0;34m]\u001b[0m\u001b[0;34m,\u001b[0m\u001b[0;34m\u001b[0m\u001b[0;34m\u001b[0m\u001b[0m\n\u001b[1;32m      5\u001b[0m     \u001b[0;34m\"Activity\"\u001b[0m\u001b[0;34m:\u001b[0m\u001b[0;34m[\u001b[0m\u001b[0mi\u001b[0m \u001b[0;32mfor\u001b[0m \u001b[0mi\u001b[0m \u001b[0;32min\u001b[0m \u001b[0mactivity\u001b[0m\u001b[0;34m]\u001b[0m\u001b[0;34m\u001b[0m\u001b[0;34m\u001b[0m\u001b[0m\n",
      "\u001b[0;31mNameError\u001b[0m: name 'pd' is not defined"
     ]
    }
   ],
   "source": [
    "# List comprehension\n",
    "df = pd.DataFrame({\n",
    "    \"Start\":[i for i in start],\n",
    "    \"End\":[i for i in end],\n",
    "    \"Day\":[i for i in day],\n",
    "    #\"Activity\":[i for i in activity]\n",
    "})\n",
    "df"
   ]
  },
  {
   "cell_type": "code",
   "execution_count": 945,
   "metadata": {},
   "outputs": [],
   "source": [
    "df.to_csv('data/sleep.csv', index=None, encoding='utf-8')"
   ]
  },
  {
   "cell_type": "code",
   "execution_count": null,
   "metadata": {},
   "outputs": [],
   "source": []
  },
  {
   "cell_type": "code",
   "execution_count": null,
   "metadata": {},
   "outputs": [],
   "source": []
  }
 ],
 "metadata": {
  "kernelspec": {
   "display_name": "Python 3 (ipykernel)",
   "language": "python",
   "name": "python3"
  },
  "language_info": {
   "codemirror_mode": {
    "name": "ipython",
    "version": 3
   },
   "file_extension": ".py",
   "mimetype": "text/x-python",
   "name": "python",
   "nbconvert_exporter": "python",
   "pygments_lexer": "ipython3",
   "version": "3.9.16"
  },
  "metadata": {
   "interpreter": {
    "hash": "31f2aee4e71d21fbe5cf8b01ff0e069b9275f58929596ceb00d14d90e3e16cd6"
   }
  }
 },
 "nbformat": 4,
 "nbformat_minor": 4
}
