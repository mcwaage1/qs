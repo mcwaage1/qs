{
 "cells": [
  {
   "cell_type": "code",
   "execution_count": 1,
   "metadata": {},
   "outputs": [
    {
     "data": {
      "image/png": "[encoded data removed]",
      "text/plain": [
       "<Figure size 432x288 with 1 Axes>"
      ]
     },
     "metadata": {
      "needs_background": "light"
     },
     "output_type": "display_data"
    }
   ],
   "source": [
    "# https://stackoverflow.com/questions/9997905/how-to-create-broken-vertical-bar-graphs-in-matplotlib\n",
    "# https://stackoverflow.com/questions/63714679/plotting-gannt-chart-using-timestamps\n",
    "\n",
    "import datetime as dt\n",
    "import numpy as np\n",
    "import matplotlib.pyplot as plt\n",
    "import matplotlib as mpl\n",
    "\n",
    "def main():\n",
    "    start, stop = dt.datetime(2020,1,1), dt.datetime(2020, 1, 8)\n",
    "\n",
    "    fig, ax = plt.subplots()\n",
    "    for color in ['blue', 'red', 'green']:\n",
    "        starts, stops = generate_data(start, stop)\n",
    "        plot_durations(starts, stops, ax, facecolor=color, alpha=0.5)\n",
    "    plt.show()\n",
    "\n",
    "def plot_durations(starts, stops, ax=None, **kwargs):\n",
    "    if ax is None:\n",
    "        ax = plt.gca()\n",
    "    # Make the default alignment center, unless specified otherwise\n",
    "    kwargs['align'] = kwargs.get('align', 'center')\n",
    "\n",
    "    # Convert things to matplotlib's internal date format...\n",
    "    starts, stops = mpl.dates.date2num(starts), mpl.dates.date2num(stops)\n",
    "\n",
    "    # Break things into start days and start times \n",
    "    start_times = starts % 1\n",
    "    start_days = starts - start_times\n",
    "    durations = stops - starts\n",
    "    start_times += int(starts[0]) # So that we have a valid date...\n",
    "\n",
    "    # Plot the bars\n",
    "    artist = ax.bar(start_days, durations, bottom=start_times, **kwargs)\n",
    "\n",
    "    # Tell matplotlib to treat the axes as dates...\n",
    "    ax.xaxis_date()\n",
    "    ax.yaxis_date()\n",
    "    ax.figure.autofmt_xdate()\n",
    "    return artist\n",
    "\n",
    "def generate_data(start, stop):\n",
    "    \"\"\"Generate some random data...\"\"\"\n",
    "    # Make a series of events 1 day apart\n",
    "    starts = mpl.dates.drange(start, stop, dt.timedelta(days=1))\n",
    "\n",
    "    # Vary the datetimes so that they occur at random times\n",
    "    # Remember, 1.0 is equivalent to 1 day in this case...\n",
    "    starts += np.random.random(starts.size)\n",
    "\n",
    "    # Make some random stopping times...\n",
    "    stops = starts + 0.2 * np.random.random(starts.size)\n",
    "\n",
    "    # Convert back to datetime objects...\n",
    "    return mpl.dates.num2date(starts), mpl.dates.num2date(stops)\n",
    "\n",
    "if __name__ == '__main__':\n",
    "    main()"
   ]
  },
  {
   "cell_type": "code",
   "execution_count": null,
   "metadata": {},
   "outputs": [],
   "source": []
  },
  {
   "cell_type": "code",
   "execution_count": null,
   "metadata": {},
   "outputs": [],
   "source": []
  }
 ],
 "metadata": {
  "kernelspec": {
   "display_name": "Python 3",
   "language": "python",
   "name": "python3"
  },
  "language_info": {
   "codemirror_mode": {
    "name": "ipython",
    "version": 3
   },
   "file_extension": ".py",
   "mimetype": "text/x-python",
   "name": "python",
   "nbconvert_exporter": "python",
   "pygments_lexer": "ipython3",
   "version": "3.8.5"
  }
 },
 "nbformat": 4,
 "nbformat_minor": 4
}
