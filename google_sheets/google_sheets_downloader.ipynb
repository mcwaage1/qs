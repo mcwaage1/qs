{
 "cells": [
  {
   "cell_type": "code",
   "execution_count": 1,
   "id": "52fd6ff5-6108-4d68-8aaf-133072fa2182",
   "metadata": {},
   "outputs": [],
   "source": [
    "# https://github.com/markwk/qs_ledger/blob/master/google_sheets/google_sheet_get_data_example.ipynb"
   ]
  },
  {
   "cell_type": "markdown",
   "id": "310fd56c-f13b-4e34-bc26-033d474ef62a",
   "metadata": {},
   "source": [
    "### Make a more in depth tutorial on how to connect to your google sheets, \n",
    "\n",
    "* https://developers.google.com/sheets/api/quickstart/python\n",
    "* https://developers.google.com/workspace/guides/create-credentials\n",
    "\n",
    "Remember, desktop app, not web"
   ]
  },
  {
   "cell_type": "code",
   "execution_count": 2,
   "id": "44aa3ca4-93a0-4893-9f67-88719c559d99",
   "metadata": {},
   "outputs": [],
   "source": [
    "from __future__ import print_function\n",
    "import pickle\n",
    "import os.path\n",
    "from googleapiclient.discovery import build\n",
    "from google_auth_oauthlib.flow import InstalledAppFlow\n",
    "from google.auth.transport.requests import Request\n",
    "\n",
    "from datetime import date, datetime as dt, timedelta as td\n",
    "import pandas as pd"
   ]
  },
  {
   "cell_type": "code",
   "execution_count": 3,
   "id": "cb4c129d-ce12-4e66-b58f-1c830128867d",
   "metadata": {},
   "outputs": [],
   "source": [
    "# If modifying these scopes, delete the file token.pickle.\n",
    "SCOPES = ['https://www.googleapis.com/auth/spreadsheets.readonly']"
   ]
  },
  {
   "cell_type": "markdown",
   "id": "da0de33f-426b-4486-9373-f3b95830515b",
   "metadata": {},
   "source": [
    "### The Sheet ID and target range (i.e. sheet name) of a sample spreadsheet.\n",
    "* Copy Sheet ID from URL of Targetted Sheet\n",
    "* Add ID to Configuration below as well as sheet name and/or range."
   ]
  },
  {
   "cell_type": "code",
   "execution_count": 4,
   "id": "e029b13c-c62b-4580-b7bd-eb5bf98cdc71",
   "metadata": {},
   "outputs": [],
   "source": [
    "# Configure to Your Specific Sheet \n",
    "\n",
    "# SAMPLE_SPREADSHEET_ID = '1BxiMVs0XRA5nFMdKvBdBZjgmUUqptlbs74OgvE2upms'\n",
    "# SAMPLE_RANGE_NAME = 'Class Data!A2:E'\n",
    "\n",
    "SPREADSHEET_ID = \"11JZUA0diTt4dlKDD_uSVLKkCT4E-QamC9I-weEzqsu6s\"\n",
    "RANGE_NAME = \"Form Responses 1\""
   ]
  },
  {
   "cell_type": "code",
   "execution_count": 6,
   "id": "bd0024f3-f06d-409a-b37b-d548bcabc650",
   "metadata": {},
   "outputs": [
    {
     "ename": "RefreshError",
     "evalue": "('invalid_grant: Bad Request', {'error': 'invalid_grant', 'error_description': 'Bad Request'})",
     "output_type": "error",
     "traceback": [
      "\u001b[0;31m---------------------------------------------------------------------------\u001b[0m",
      "\u001b[0;31mRefreshError\u001b[0m                              Traceback (most recent call last)",
      "Cell \u001b[0;32mIn[6], line 15\u001b[0m\n\u001b[1;32m     13\u001b[0m \u001b[38;5;28;01mif\u001b[39;00m \u001b[38;5;129;01mnot\u001b[39;00m creds \u001b[38;5;129;01mor\u001b[39;00m \u001b[38;5;129;01mnot\u001b[39;00m creds\u001b[38;5;241m.\u001b[39mvalid:\n\u001b[1;32m     14\u001b[0m     \u001b[38;5;28;01mif\u001b[39;00m creds \u001b[38;5;129;01mand\u001b[39;00m creds\u001b[38;5;241m.\u001b[39mexpired \u001b[38;5;129;01mand\u001b[39;00m creds\u001b[38;5;241m.\u001b[39mrefresh_token:\n\u001b[0;32m---> 15\u001b[0m         \u001b[43mcreds\u001b[49m\u001b[38;5;241;43m.\u001b[39;49m\u001b[43mrefresh\u001b[49m\u001b[43m(\u001b[49m\u001b[43mRequest\u001b[49m\u001b[43m(\u001b[49m\u001b[43m)\u001b[49m\u001b[43m)\u001b[49m\n\u001b[1;32m     16\u001b[0m     \u001b[38;5;28;01melse\u001b[39;00m:\n\u001b[1;32m     17\u001b[0m         flow \u001b[38;5;241m=\u001b[39m InstalledAppFlow\u001b[38;5;241m.\u001b[39mfrom_client_secrets_file(\u001b[38;5;124m'\u001b[39m\u001b[38;5;124mdata/credentials.json\u001b[39m\u001b[38;5;124m'\u001b[39m, SCOPES)\n",
      "File \u001b[0;32m~/qs/pycaret/lib/python3.9/site-packages/google/oauth2/credentials.py:335\u001b[0m, in \u001b[0;36mCredentials.refresh\u001b[0;34m(self, request)\u001b[0m\n\u001b[1;32m    317\u001b[0m \u001b[38;5;28;01mif\u001b[39;00m (\n\u001b[1;32m    318\u001b[0m     \u001b[38;5;28mself\u001b[39m\u001b[38;5;241m.\u001b[39m_refresh_token \u001b[38;5;129;01mis\u001b[39;00m \u001b[38;5;28;01mNone\u001b[39;00m\n\u001b[1;32m    319\u001b[0m     \u001b[38;5;129;01mor\u001b[39;00m \u001b[38;5;28mself\u001b[39m\u001b[38;5;241m.\u001b[39m_token_uri \u001b[38;5;129;01mis\u001b[39;00m \u001b[38;5;28;01mNone\u001b[39;00m\n\u001b[1;32m    320\u001b[0m     \u001b[38;5;129;01mor\u001b[39;00m \u001b[38;5;28mself\u001b[39m\u001b[38;5;241m.\u001b[39m_client_id \u001b[38;5;129;01mis\u001b[39;00m \u001b[38;5;28;01mNone\u001b[39;00m\n\u001b[1;32m    321\u001b[0m     \u001b[38;5;129;01mor\u001b[39;00m \u001b[38;5;28mself\u001b[39m\u001b[38;5;241m.\u001b[39m_client_secret \u001b[38;5;129;01mis\u001b[39;00m \u001b[38;5;28;01mNone\u001b[39;00m\n\u001b[1;32m    322\u001b[0m ):\n\u001b[1;32m    323\u001b[0m     \u001b[38;5;28;01mraise\u001b[39;00m exceptions\u001b[38;5;241m.\u001b[39mRefreshError(\n\u001b[1;32m    324\u001b[0m         \u001b[38;5;124m\"\u001b[39m\u001b[38;5;124mThe credentials do not contain the necessary fields need to \u001b[39m\u001b[38;5;124m\"\u001b[39m\n\u001b[1;32m    325\u001b[0m         \u001b[38;5;124m\"\u001b[39m\u001b[38;5;124mrefresh the access token. You must specify refresh_token, \u001b[39m\u001b[38;5;124m\"\u001b[39m\n\u001b[1;32m    326\u001b[0m         \u001b[38;5;124m\"\u001b[39m\u001b[38;5;124mtoken_uri, client_id, and client_secret.\u001b[39m\u001b[38;5;124m\"\u001b[39m\n\u001b[1;32m    327\u001b[0m     )\n\u001b[1;32m    329\u001b[0m (\n\u001b[1;32m    330\u001b[0m     access_token,\n\u001b[1;32m    331\u001b[0m     refresh_token,\n\u001b[1;32m    332\u001b[0m     expiry,\n\u001b[1;32m    333\u001b[0m     grant_response,\n\u001b[1;32m    334\u001b[0m     rapt_token,\n\u001b[0;32m--> 335\u001b[0m ) \u001b[38;5;241m=\u001b[39m \u001b[43mreauth\u001b[49m\u001b[38;5;241;43m.\u001b[39;49m\u001b[43mrefresh_grant\u001b[49m\u001b[43m(\u001b[49m\n\u001b[1;32m    336\u001b[0m \u001b[43m    \u001b[49m\u001b[43mrequest\u001b[49m\u001b[43m,\u001b[49m\n\u001b[1;32m    337\u001b[0m \u001b[43m    \u001b[49m\u001b[38;5;28;43mself\u001b[39;49m\u001b[38;5;241;43m.\u001b[39;49m\u001b[43m_token_uri\u001b[49m\u001b[43m,\u001b[49m\n\u001b[1;32m    338\u001b[0m \u001b[43m    \u001b[49m\u001b[38;5;28;43mself\u001b[39;49m\u001b[38;5;241;43m.\u001b[39;49m\u001b[43m_refresh_token\u001b[49m\u001b[43m,\u001b[49m\n\u001b[1;32m    339\u001b[0m \u001b[43m    \u001b[49m\u001b[38;5;28;43mself\u001b[39;49m\u001b[38;5;241;43m.\u001b[39;49m\u001b[43m_client_id\u001b[49m\u001b[43m,\u001b[49m\n\u001b[1;32m    340\u001b[0m \u001b[43m    \u001b[49m\u001b[38;5;28;43mself\u001b[39;49m\u001b[38;5;241;43m.\u001b[39;49m\u001b[43m_client_secret\u001b[49m\u001b[43m,\u001b[49m\n\u001b[1;32m    341\u001b[0m \u001b[43m    \u001b[49m\u001b[43mscopes\u001b[49m\u001b[38;5;241;43m=\u001b[39;49m\u001b[43mscopes\u001b[49m\u001b[43m,\u001b[49m\n\u001b[1;32m    342\u001b[0m \u001b[43m    \u001b[49m\u001b[43mrapt_token\u001b[49m\u001b[38;5;241;43m=\u001b[39;49m\u001b[38;5;28;43mself\u001b[39;49m\u001b[38;5;241;43m.\u001b[39;49m\u001b[43m_rapt_token\u001b[49m\u001b[43m,\u001b[49m\n\u001b[1;32m    343\u001b[0m \u001b[43m    \u001b[49m\u001b[43menable_reauth_refresh\u001b[49m\u001b[38;5;241;43m=\u001b[39;49m\u001b[38;5;28;43mself\u001b[39;49m\u001b[38;5;241;43m.\u001b[39;49m\u001b[43m_enable_reauth_refresh\u001b[49m\u001b[43m,\u001b[49m\n\u001b[1;32m    344\u001b[0m \u001b[43m\u001b[49m\u001b[43m)\u001b[49m\n\u001b[1;32m    346\u001b[0m \u001b[38;5;28mself\u001b[39m\u001b[38;5;241m.\u001b[39mtoken \u001b[38;5;241m=\u001b[39m access_token\n\u001b[1;32m    347\u001b[0m \u001b[38;5;28mself\u001b[39m\u001b[38;5;241m.\u001b[39mexpiry \u001b[38;5;241m=\u001b[39m expiry\n",
      "File \u001b[0;32m~/qs/pycaret/lib/python3.9/site-packages/google/oauth2/reauth.py:349\u001b[0m, in \u001b[0;36mrefresh_grant\u001b[0;34m(request, token_uri, refresh_token, client_id, client_secret, scopes, rapt_token, enable_reauth_refresh)\u001b[0m\n\u001b[1;32m    342\u001b[0m     (\n\u001b[1;32m    343\u001b[0m         response_status_ok,\n\u001b[1;32m    344\u001b[0m         response_data,\n\u001b[1;32m    345\u001b[0m         retryable_error,\n\u001b[1;32m    346\u001b[0m     ) \u001b[38;5;241m=\u001b[39m _client\u001b[38;5;241m.\u001b[39m_token_endpoint_request_no_throw(request, token_uri, body)\n\u001b[1;32m    348\u001b[0m \u001b[38;5;28;01mif\u001b[39;00m \u001b[38;5;129;01mnot\u001b[39;00m response_status_ok:\n\u001b[0;32m--> 349\u001b[0m     \u001b[43m_client\u001b[49m\u001b[38;5;241;43m.\u001b[39;49m\u001b[43m_handle_error_response\u001b[49m\u001b[43m(\u001b[49m\u001b[43mresponse_data\u001b[49m\u001b[43m,\u001b[49m\u001b[43m \u001b[49m\u001b[43mretryable_error\u001b[49m\u001b[43m)\u001b[49m\n\u001b[1;32m    350\u001b[0m \u001b[38;5;28;01mreturn\u001b[39;00m _client\u001b[38;5;241m.\u001b[39m_handle_refresh_grant_response(response_data, refresh_token) \u001b[38;5;241m+\u001b[39m (\n\u001b[1;32m    351\u001b[0m     rapt_token,\n\u001b[1;32m    352\u001b[0m )\n",
      "File \u001b[0;32m~/qs/pycaret/lib/python3.9/site-packages/google/oauth2/_client.py:69\u001b[0m, in \u001b[0;36m_handle_error_response\u001b[0;34m(response_data, retryable_error)\u001b[0m\n\u001b[1;32m     66\u001b[0m \u001b[38;5;28;01mexcept\u001b[39;00m (\u001b[38;5;167;01mKeyError\u001b[39;00m, \u001b[38;5;167;01mValueError\u001b[39;00m):\n\u001b[1;32m     67\u001b[0m     error_details \u001b[38;5;241m=\u001b[39m json\u001b[38;5;241m.\u001b[39mdumps(response_data)\n\u001b[0;32m---> 69\u001b[0m \u001b[38;5;28;01mraise\u001b[39;00m exceptions\u001b[38;5;241m.\u001b[39mRefreshError(\n\u001b[1;32m     70\u001b[0m     error_details, response_data, retryable\u001b[38;5;241m=\u001b[39mretryable_error\n\u001b[1;32m     71\u001b[0m )\n",
      "\u001b[0;31mRefreshError\u001b[0m: ('invalid_grant: Bad Request', {'error': 'invalid_grant', 'error_description': 'Bad Request'})"
     ]
    }
   ],
   "source": [
    "# https://stackoverflow.com/questions/11485271/google-oauth-2-authorization-error-redirect-uri-mismatch\n",
    "# Authentication\n",
    "creds = None\n",
    "\n",
    "# The file token.pickle stores the user's access and refresh tokens, and is\n",
    "# created automatically when the authorization flow completes for the first\n",
    "# time.\n",
    "\n",
    "if os.path.exists('data/token.pickle'):\n",
    "    with open('data/token.pickle', 'rb') as token:\n",
    "        creds = pickle.load(token)\n",
    "# If there are no (valid) credentials available, let the user log in.\n",
    "if not creds or not creds.valid:\n",
    "    if creds and creds.expired and creds.refresh_token:\n",
    "        creds.refresh(Request())\n",
    "    else:\n",
    "        flow = InstalledAppFlow.from_client_secrets_file('data/credentials.json', SCOPES)\n",
    "        creds = flow.run_local_server()\n",
    "    # Save the credentials for the next run\n",
    "    with open('token.pickle', 'wb') as token:\n",
    "        pickle.dump(creds, token)\n",
    "\n",
    "# build service\n",
    "service = build('sheets', 'v4', credentials=creds)"
   ]
  },
  {
   "cell_type": "code",
   "execution_count": 26,
   "id": "c45bce3d-b7d6-4972-900f-f4d14130591b",
   "metadata": {},
   "outputs": [],
   "source": [
    "# Get Data from Google Sheet and Return a List\n",
    "def get_gsheet_data(SPREADSHEET_ID, RANGE_NAME):\n",
    "    sheet = service.spreadsheets()\n",
    "    result = sheet.values().get(spreadsheetId=SPREADSHEET_ID, range=RANGE_NAME).execute()\n",
    "    values = result.get('values', [])\n",
    "    return values"
   ]
  },
  {
   "cell_type": "code",
   "execution_count": 27,
   "id": "37811bcb-4f35-4c8b-b675-acd608168bb9",
   "metadata": {},
   "outputs": [],
   "source": [
    "# get data\n",
    "data_list = get_gsheet_data(SPREADSHEET_ID, RANGE_NAME)\n",
    "# type(data) #list"
   ]
  },
  {
   "cell_type": "code",
   "execution_count": 28,
   "id": "21d2355c-d0d2-4591-b51d-a1b7ed316090",
   "metadata": {},
   "outputs": [],
   "source": [
    "# create data and frame and use first row as header\n",
    "data = pd.DataFrame(data_list)\n",
    "new_header = data.iloc[0] #grab the first row for the header\n",
    "data = data[1:] #take the data less the header row\n",
    "data.columns = new_header #set the header row as the df header"
   ]
  },
  {
   "cell_type": "code",
   "execution_count": 29,
   "id": "9f851477-d113-491c-850f-e31083710398",
   "metadata": {},
   "outputs": [
    {
     "data": {
      "text/html": [
       "<div>\n",
       "<style scoped>\n",
       "    .dataframe tbody tr th:only-of-type {\n",
       "        vertical-align: middle;\n",
       "    }\n",
       "\n",
       "    .dataframe tbody tr th {\n",
       "        vertical-align: top;\n",
       "    }\n",
       "\n",
       "    .dataframe thead th {\n",
       "        text-align: right;\n",
       "    }\n",
       "</style>\n",
       "<table border=\"1\" class=\"dataframe\">\n",
       "  <thead>\n",
       "    <tr style=\"text-align: right;\">\n",
       "      <th></th>\n",
       "      <th>Group</th>\n",
       "      <th>Activity type</th>\n",
       "      <th>Duration</th>\n",
       "      <th>From</th>\n",
       "      <th>To</th>\n",
       "      <th>Comment</th>\n",
       "    </tr>\n",
       "  </thead>\n",
       "  <tbody>\n",
       "    <tr>\n",
       "      <th>1</th>\n",
       "      <td></td>\n",
       "      <td>Sleeping</td>\n",
       "      <td>7:10:21</td>\n",
       "      <td>2021-12-31 22:33:38</td>\n",
       "      <td>2022-01-01 5:43:59</td>\n",
       "      <td>None</td>\n",
       "    </tr>\n",
       "    <tr>\n",
       "      <th>2</th>\n",
       "      <td></td>\n",
       "      <td>Grooming</td>\n",
       "      <td>0:02:21</td>\n",
       "      <td>2021-12-31 22:30:00</td>\n",
       "      <td>2021-12-31 22:32:21</td>\n",
       "      <td>None</td>\n",
       "    </tr>\n",
       "    <tr>\n",
       "      <th>3</th>\n",
       "      <td></td>\n",
       "      <td>Toilet</td>\n",
       "      <td>0:01:02</td>\n",
       "      <td>2021-12-31 22:28:58</td>\n",
       "      <td>2021-12-31 22:30:00</td>\n",
       "      <td>None</td>\n",
       "    </tr>\n",
       "    <tr>\n",
       "      <th>4</th>\n",
       "      <td></td>\n",
       "      <td>Eating</td>\n",
       "      <td>0:01:29</td>\n",
       "      <td>2021-12-31 18:32:06</td>\n",
       "      <td>2021-12-31 18:33:35</td>\n",
       "      <td>None</td>\n",
       "    </tr>\n",
       "    <tr>\n",
       "      <th>5</th>\n",
       "      <td>Computer</td>\n",
       "      <td>Internet</td>\n",
       "      <td>3:57:23</td>\n",
       "      <td>2021-12-31 18:31:31</td>\n",
       "      <td>2021-12-31 22:28:54</td>\n",
       "      <td>None</td>\n",
       "    </tr>\n",
       "    <tr>\n",
       "      <th>...</th>\n",
       "      <td>...</td>\n",
       "      <td>...</td>\n",
       "      <td>...</td>\n",
       "      <td>...</td>\n",
       "      <td>...</td>\n",
       "      <td>...</td>\n",
       "    </tr>\n",
       "    <tr>\n",
       "      <th>9473</th>\n",
       "      <td>Intimate</td>\n",
       "      <td>Sex</td>\n",
       "      <td>0:49:01</td>\n",
       "      <td>0.01</td>\n",
       "      <td>None</td>\n",
       "      <td>None</td>\n",
       "    </tr>\n",
       "    <tr>\n",
       "      <th>9474</th>\n",
       "      <td></td>\n",
       "      <td>Shopping</td>\n",
       "      <td>18:17:36</td>\n",
       "      <td>0.19</td>\n",
       "      <td>None</td>\n",
       "      <td>None</td>\n",
       "    </tr>\n",
       "    <tr>\n",
       "      <th>9475</th>\n",
       "      <td></td>\n",
       "      <td>Errands and Appointments</td>\n",
       "      <td>12:14:08</td>\n",
       "      <td>0.13</td>\n",
       "      <td>None</td>\n",
       "      <td>None</td>\n",
       "    </tr>\n",
       "    <tr>\n",
       "      <th>9476</th>\n",
       "      <td></td>\n",
       "      <td>Phone</td>\n",
       "      <td>3:11:40</td>\n",
       "      <td>0.03</td>\n",
       "      <td>None</td>\n",
       "      <td>None</td>\n",
       "    </tr>\n",
       "    <tr>\n",
       "      <th>9477</th>\n",
       "      <td></td>\n",
       "      <td>Drinking</td>\n",
       "      <td>2:56:01</td>\n",
       "      <td>0.03</td>\n",
       "      <td>None</td>\n",
       "      <td>None</td>\n",
       "    </tr>\n",
       "  </tbody>\n",
       "</table>\n",
       "<p>9477 rows × 6 columns</p>\n",
       "</div>"
      ],
      "text/plain": [
       "0        Group             Activity type  Duration                 From  \\\n",
       "1                               Sleeping   7:10:21  2021-12-31 22:33:38   \n",
       "2                               Grooming   0:02:21  2021-12-31 22:30:00   \n",
       "3                                 Toilet   0:01:02  2021-12-31 22:28:58   \n",
       "4                                 Eating   0:01:29  2021-12-31 18:32:06   \n",
       "5     Computer                  Internet   3:57:23  2021-12-31 18:31:31   \n",
       "...        ...                       ...       ...                  ...   \n",
       "9473  Intimate                       Sex   0:49:01                 0.01   \n",
       "9474                            Shopping  18:17:36                 0.19   \n",
       "9475            Errands and Appointments  12:14:08                 0.13   \n",
       "9476                               Phone   3:11:40                 0.03   \n",
       "9477                            Drinking   2:56:01                 0.03   \n",
       "\n",
       "0                      To Comment  \n",
       "1      2022-01-01 5:43:59    None  \n",
       "2     2021-12-31 22:32:21    None  \n",
       "3     2021-12-31 22:30:00    None  \n",
       "4     2021-12-31 18:33:35    None  \n",
       "5     2021-12-31 22:28:54    None  \n",
       "...                   ...     ...  \n",
       "9473                 None    None  \n",
       "9474                 None    None  \n",
       "9475                 None    None  \n",
       "9476                 None    None  \n",
       "9477                 None    None  \n",
       "\n",
       "[9477 rows x 6 columns]"
      ]
     },
     "execution_count": 29,
     "metadata": {},
     "output_type": "execute_result"
    }
   ],
   "source": [
    "data"
   ]
  },
  {
   "cell_type": "code",
   "execution_count": 35,
   "id": "f9015c8b-ee9a-423f-829f-67e1c255e973",
   "metadata": {},
   "outputs": [],
   "source": [
    "# export to csv\n",
    "data.to_csv(\"data/notes.csv\", index=False)"
   ]
  }
 ],
 "metadata": {
  "kernelspec": {
   "display_name": "Python 3 (ipykernel)",
   "language": "python",
   "name": "python3"
  },
  "language_info": {
   "codemirror_mode": {
    "name": "ipython",
    "version": 3
   },
   "file_extension": ".py",
   "mimetype": "text/x-python",
   "name": "python",
   "nbconvert_exporter": "python",
   "pygments_lexer": "ipython3",
   "version": "3.9.16"
  }
 },
 "nbformat": 4,
 "nbformat_minor": 5
}
