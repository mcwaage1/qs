{
 "cells": [
  {
   "cell_type": "code",
   "execution_count": 3,
   "metadata": {},
   "outputs": [],
   "source": [
    "import json\n",
    "\n",
    "with open(\"data/credentials.json\", \"r\") as file:\n",
    "    credentials = json.load(file)\n",
    "    goodreads_cr = credentials['goodreads']\n",
    "    user_id = goodreads_cr['USER_ID']\n",
    "    api_key = goodreads_cr['API_KEY']"
   ]
  },
  {
   "cell_type": "code",
   "execution_count": 1,
   "metadata": {},
   "outputs": [],
   "source": [
    "# Dependencies\n",
    "import urllib.parse\n",
    "import xmltodict\n",
    "from collections import OrderedDict\n",
    "\n",
    "import numpy as np, string, re, pytz\n",
    "import pandas as pd"
   ]
  },
  {
   "cell_type": "code",
   "execution_count": 2,
   "metadata": {},
   "outputs": [],
   "source": [
    "def get_books_url(api_key, user_id, page, per_page):\n",
    "    base_url = \"https://www.goodreads.com/review/list/\"\n",
    "    args = urllib.parse.urlencode({\n",
    "            \"key\" : api_key,\n",
    "            \"v\" : 2,\n",
    "            \"shelf\" : shelf_name,\n",
    "            \"page\" : page,\n",
    "            \"per_page\" : per_page\n",
    "        })\n",
    "    url = base_url + str(user_id) + \".xml?%s\" % (args)\n",
    "    return(url)\n",
    "\n",
    "def get_books_dict(**kwargs):\n",
    "\n",
    "    print(\"Collecting %s books via API for username \\\"%s\\\", be patient!\" % (kwargs[\"user_info\"][\"books_total\"], kwargs[\"user_info\"][\"user_name\"]))\n",
    "\n",
    "    books_collected, page, requests = 0, 1, [] # initialise variables\n",
    "\n",
    "    if \"per_page\" not in kwargs: kwargs[\"per_page\"] = 200\n",
    "\n",
    "    while books_collected < kwargs[\"user_info\"][\"books_total\"]:\n",
    "        books_url = get_books_url(kwargs[\"api_key\"], kwargs[\"user_id\"], page, kwargs[\"per_page\"])\n",
    "        books_data = urllib.request.urlopen(books_url).read()\n",
    "        books_dict = xmltodict.parse(books_data)\n",
    "        books_dict = books_dict[\"GoodreadsResponse\"][\"reviews\"][\"review\"]\n",
    "        requests.append(books_dict)\n",
    "        for item in books_dict:\n",
    "            books_collected = books_collected + 1\n",
    "        print(\"Books collected = %s/%s\" % (books_collected, kwargs[\"user_info\"][\"books_total\"]))\n",
    "        page = page + 1\n",
    "    print(\"Book collection complete\")\n",
    "    return(requests)\n",
    "\n",
    "def get_user_info_url(api_key, user_id):\n",
    "    base_url = \"https://www.goodreads.com/user/show/\"\n",
    "    args = urllib.parse.urlencode({\n",
    "            \"key\" : api_key\n",
    "        })\n",
    "    url = base_url + str(user_id) + \".xml?%s\" % (args)\n",
    "    return(url)\n",
    "\n",
    "def get_user_info(api_key, user_id):\n",
    "    user_info_url = get_user_info_url(api_key, user_id)\n",
    "    user_info_data = urllib.request.urlopen(user_info_url).read()\n",
    "    user_info_dict = xmltodict.parse(user_info_data)\n",
    "    books_total = int(user_info_dict[\"GoodreadsResponse\"][\"user\"][\"reviews_count\"][\"#text\"])\n",
    "    user_name = user_info_dict[\"GoodreadsResponse\"][\"user\"][\"user_name\"]\n",
    "    user_info = {\n",
    "        \"user_name\" : user_name,\n",
    "        \"books_total\" : books_total\n",
    "        }\n",
    "    return(user_info)\n",
    "\n",
    "def get_shelves(book):\n",
    "    return(book[\"shelves\"][\"shelf\"])\n",
    "\n",
    "def format_shelf_names(shelves):\n",
    "    # If one shelf, xmltodict reads in the tags as OrderedDict\n",
    "    if isinstance(shelves, OrderedDict):\n",
    "        return shelves[\"@name\"]\n",
    "    return(\", \".join(\n",
    "        shelf[\"@name\"] for shelf in shelves if \"@name\" in shelf\n",
    "    ))\n",
    "\n",
    "def get_author(review):\n",
    "    return(review[\"book\"][\"authors\"][\"author\"][\"name\"])\n",
    "\n",
    "def get_title(review):\n",
    "    return(review[\"book\"][\"title\"])\n",
    "\n",
    "def get_title_without_series(review):\n",
    "    return(review[\"book\"][\"title_without_series\"])\n",
    "\n",
    "def get_image_url(review):\n",
    "    return(review[\"book\"][\"image_url\"])\n",
    "\n",
    "def get_num_pages(review):\n",
    "    return(review[\"book\"][\"num_pages\"])\n",
    "\n",
    "def get_publication_year(review):\n",
    "    return(review[\"book\"][\"publication_year\"])\n",
    "\n",
    "def get_average_rating(review):\n",
    "    return(review[\"book\"][\"average_rating\"])"
   ]
  },
  {
   "cell_type": "code",
   "execution_count": 6,
   "metadata": {},
   "outputs": [
    {
     "data": {
      "text/plain": [
       "{'user_name': 'waagles', 'books_total': 995}"
      ]
     },
     "execution_count": 6,
     "metadata": {},
     "output_type": "execute_result"
    }
   ],
   "source": [
    "user_info = get_user_info(api_key, user_id)\n",
    "user_info"
   ]
  },
  {
   "cell_type": "code",
   "execution_count": 7,
   "metadata": {},
   "outputs": [
    {
     "name": "stdout",
     "output_type": "stream",
     "text": [
      "Collecting 995 books via API for username \"waagles\", be patient!\n",
      "Books collected = 200/995\n",
      "Books collected = 400/995\n",
      "Books collected = 600/995\n",
      "Books collected = 800/995\n",
      "Books collected = 995/995\n",
      "Book collection complete\n"
     ]
    }
   ],
   "source": [
    "# get user's books\n",
    "books_dict_list = get_books_dict(api_key = api_key, user_id = user_id, user_info = user_info)"
   ]
  },
  {
   "cell_type": "code",
   "execution_count": 8,
   "metadata": {},
   "outputs": [],
   "source": [
    "# combine books into df\n",
    "books_to_concat = []\n",
    "for item in books_dict_list:\n",
    "    books_to_concat.append(pd.DataFrame(item))\n",
    "\n",
    "books = pd.concat(books_to_concat)\n",
    "books.tail()"
   ]
  },
  {
   "cell_type": "code",
   "execution_count": 9,
   "metadata": {},
   "outputs": [],
   "source": [
    "# more processing and adding additional info\n",
    "shelves, authors, titles, titles_without_series, images_urls, nums_pages, publication_years, average_ratings = ([] for i in range(8))\n",
    "\n",
    "for item in books_dict_list:\n",
    "    for x in item:\n",
    "        shelves.append(format_shelf_names(get_shelves(x)))\n",
    "        authors.append(get_author(x))\n",
    "        titles.append(get_title(x))\n",
    "        titles_without_series.append(get_title_without_series(x))\n",
    "        images_urls.append(get_image_url(x))\n",
    "        nums_pages.append(get_num_pages(x))\n",
    "        publication_years.append(get_publication_year(x))\n",
    "        average_ratings.append(get_average_rating(x))\n",
    "        \n",
    "books[\"shelves\"] = shelves\n",
    "books[\"author\"] = authors\n",
    "books[\"title\"] = titles\n",
    "books[\"title_without_series\"] = titles_without_series\n",
    "books[\"image_url\"] = images_urls\n",
    "books[\"num_page\"] = nums_pages\n",
    "books[\"publication_year\"] = publication_years\n",
    "books[\"average_rating\"] = average_ratings\n",
    "\n",
    "# type addition\n",
    "books['started_at'] = pd.to_datetime(books['started_at'])\n",
    "books['read_at'] = pd.to_datetime(books['read_at'])\n",
    "books['date_added'] = pd.to_datetime(books['date_added'])\n",
    "books['date_updated'] = pd.to_datetime(books['date_updated'])\n",
    "\n",
    "books['rating'] = pd.to_numeric(books[\"rating\"])\n",
    "books['average_rating'] = pd.to_numeric(books[\"average_rating\"])\n",
    "books['read_count'] = pd.to_numeric(books[\"read_count\"])\n",
    "books[\"num_page\"] = pd.to_numeric(books[\"num_page\"])"
   ]
  },
  {
   "cell_type": "code",
   "execution_count": 10,
   "metadata": {},
   "outputs": [],
   "source": [
    "# this data is no longer needed so dropping it\n",
    "books.drop(['book'], axis=1, inplace=True)"
   ]
  },
  {
   "cell_type": "code",
   "execution_count": 11,
   "metadata": {},
   "outputs": [
    {
     "data": {
      "text/plain": [
       "995"
      ]
     },
     "execution_count": 11,
     "metadata": {},
     "output_type": "execute_result"
    }
   ],
   "source": [
    "# total books\n",
    "len(books)"
   ]
  },
  {
   "cell_type": "code",
   "execution_count": 69,
   "metadata": {},
   "outputs": [
    {
     "name": "stdout",
     "output_type": "stream",
     "text": [
      "books.csv created\n"
     ]
    }
   ],
   "source": [
    "books.to_csv(\"data/books.csv\", index = False)\n",
    "print(\"books.csv created\")"
   ]
  },
  {
   "cell_type": "code",
   "execution_count": 71,
   "metadata": {},
   "outputs": [],
   "source": [
    "books = pd.read_csv(\"data/books.csv\")"
   ]
  },
  {
   "cell_type": "code",
   "execution_count": 72,
   "metadata": {},
   "outputs": [],
   "source": [
    "books['started_at'] = books['started_at'].str.slice(start=0, stop=10, step=1)\n",
    "books['read_at'] = books['read_at'].str.slice(start=0, stop=10, step=1)\n",
    "books['date_added'] = books['date_added'].str.slice(start=0, stop=10, step=1)\n",
    "books['date_updated'] = books['date_updated'].str.slice(start=0, stop=10, step=1)"
   ]
  },
  {
   "cell_type": "code",
   "execution_count": 73,
   "metadata": {},
   "outputs": [],
   "source": [
    "books['started_at'] = pd.to_datetime(books['started_at'])\n",
    "books['read_at'] = pd.to_datetime(books['read_at'])\n",
    "books['date_added'] = pd.to_datetime(books['date_added'])\n",
    "books['date_updated'] = pd.to_datetime(books['date_updated'])"
   ]
  },
  {
   "cell_type": "code",
   "execution_count": 74,
   "metadata": {},
   "outputs": [],
   "source": [
    "books['rating'] = pd.to_numeric(books[\"rating\"])\n",
    "books['average_rating'] = pd.to_numeric(books[\"average_rating\"])\n",
    "books['read_count'] = pd.to_numeric(books[\"read_count\"])\n",
    "books[\"num_page\"] = pd.to_numeric(books[\"num_page\"])"
   ]
  },
  {
   "cell_type": "code",
   "execution_count": 79,
   "metadata": {},
   "outputs": [
    {
     "data": {
      "text/plain": [
       "\"\\nfrom IPython.display import display\\nwith pd.option_context('display.max_rows', 1000):\\n    display(books['read_at'])\\n\""
      ]
     },
     "execution_count": 79,
     "metadata": {},
     "output_type": "execute_result"
    }
   ],
   "source": [
    "'''\n",
    "from IPython.display import display\n",
    "with pd.option_context('display.max_rows', 1000):\n",
    "    display(books['read_at'])\n",
    "'''"
   ]
  },
  {
   "cell_type": "code",
   "execution_count": 75,
   "metadata": {},
   "outputs": [
    {
     "name": "stdout",
     "output_type": "stream",
     "text": [
      "<class 'pandas.core.frame.DataFrame'>\n",
      "RangeIndex: 995 entries, 0 to 994\n",
      "Data columns (total 25 columns):\n",
      " #   Column                Non-Null Count  Dtype         \n",
      "---  ------                --------------  -----         \n",
      " 0   id                    995 non-null    int64         \n",
      " 1   rating                995 non-null    int64         \n",
      " 2   votes                 995 non-null    int64         \n",
      " 3   spoiler_flag          995 non-null    bool          \n",
      " 4   spoilers_state        995 non-null    object        \n",
      " 5   shelves               995 non-null    object        \n",
      " 6   recommended_for       0 non-null      float64       \n",
      " 7   recommended_by        0 non-null      float64       \n",
      " 8   started_at            48 non-null     datetime64[ns]\n",
      " 9   read_at               105 non-null    datetime64[ns]\n",
      " 10  date_added            995 non-null    datetime64[ns]\n",
      " 11  date_updated          995 non-null    datetime64[ns]\n",
      " 12  read_count            995 non-null    int64         \n",
      " 13  body                  0 non-null      float64       \n",
      " 14  comments_count        995 non-null    int64         \n",
      " 15  url                   995 non-null    object        \n",
      " 16  link                  995 non-null    object        \n",
      " 17  owned                 995 non-null    int64         \n",
      " 18  author                995 non-null    object        \n",
      " 19  title                 995 non-null    object        \n",
      " 20  title_without_series  995 non-null    object        \n",
      " 21  image_url             995 non-null    object        \n",
      " 22  num_page              938 non-null    float64       \n",
      " 23  publication_year      913 non-null    float64       \n",
      " 24  average_rating        995 non-null    float64       \n",
      "dtypes: bool(1), datetime64[ns](4), float64(6), int64(6), object(8)\n",
      "memory usage: 187.7+ KB\n"
     ]
    }
   ],
   "source": [
    "books.info()"
   ]
  },
  {
   "cell_type": "code",
   "execution_count": 78,
   "metadata": {},
   "outputs": [
    {
     "name": "stdout",
     "output_type": "stream",
     "text": [
      "books.csv created\n"
     ]
    }
   ],
   "source": [
    "books.to_csv(\"data/books.csv\", index = False)\n",
    "print(\"books.csv created\")"
   ]
  },
  {
   "cell_type": "code",
   "execution_count": null,
   "metadata": {},
   "outputs": [],
   "source": []
  }
 ],
 "metadata": {
  "kernelspec": {
   "display_name": "Python 3",
   "language": "python",
   "name": "python3"
  },
  "language_info": {
   "codemirror_mode": {
    "name": "ipython",
    "version": 3
   },
   "file_extension": ".py",
   "mimetype": "text/x-python",
   "name": "python",
   "nbconvert_exporter": "python",
   "pygments_lexer": "ipython3",
   "version": "3.8.3"
  }
 },
 "nbformat": 4,
 "nbformat_minor": 4
}
